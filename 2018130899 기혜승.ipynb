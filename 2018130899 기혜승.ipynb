{
 "cells": [
  {
   "cell_type": "markdown",
   "metadata": {},
   "source": [
    "*All computer languages use 'if' and 'for'"
   ]
  },
  {
   "cell_type": "markdown",
   "metadata": {},
   "source": [
    "2018130899 영어영문학과 기혜승\n",
    "영어음성학 수업 내용 정리\n",
    "-Three kinds of phonetics:\n",
    "1) Articulatory Phonetics 조음:\n",
    "2) Acoustic Phonetics 음향:\n",
    "소리가 공기를 타고 움직인다.\n",
    "3) Auditory Phonetics 청각:\n",
    "The eardrum exists to amplify sound.\n",
    "-There are five speech organs (constrictors/articulators):\n",
    "Lips, tongue tip, tongue body, larynx (voicebox), velum (soft palate)\n",
    "-Three major processes in phonetics:\n",
    "1) phonation process (in larynx)\n",
    "2) oro-nasal process (in velum)\n",
    "3) articulatory process (in lip, tongue tip, tongue body)\n",
    "-The control of constrictors can be defined according to two criterias:\n",
    "1) constriction location (CL): where exactly?\n",
    "2) constriction degree (CD): how much exactly?\n",
    "English consonants and vowels (phonemes) can be identified when given the according constrictors, constriction location, and constriction degree.\n",
    "\tNeed to know how to apply in PRAAT program!\n",
    "\n",
    "-praat으로 아 소리 녹음하면 larynx가 떨리는 횟수?를 알 수 있음  녹음하고 확대\n",
    "\tpraat으로 다시 해보기>>>200 per sec 정도는 나와야 (duration 쟀을 때) woman’s voice\n",
    "-sine wave: 이를 결정짓는 게 pitch and magnitude.\n",
    "-결론부터: 세상에 존재하는 모든 시그널은 (모든 소리를 포함한) 다르게 생긴 사인 웨이브의 결합으로 표현된다.\n",
    "-1번째 사인 웨이브: slow한 것이 frequenc가 작은 것. 그래서 첫 번째 사인 웨이브는 저음이다 (frequenc가 낮다) 첫 번쨰는 1초에 100 번. 두 번쨰는 1초에 200번. 그렇게. magnitude는 첫 번째가 제일 크다.\n",
    "-하나하나는 simplex tone, 마지막은 complex tone. 심플렉스는 사인 웨이브, 콤플렉스는 사인 웨이브 x\n",
    "-Q. 왼쪽 그래프에서 x축은? 시간. 세로축은 그저 숫자값. (VALUE)\n",
    "-오른쪽 그래프들 명칭: SPECTRUM!!!!!!!!!!!!! (x축이 frequency, y축이 amplitude)\n",
    "-마지막에 도출된 복잡한 신호를 볼 때, 재일 크게 반복되는 부분은 (모자처럼 생긴 부분!)\n",
    "-**일반적으로 우리가 듣는 소리는 콤플렉스. 여기서보다 훨씬 복잡하게 나오고, 결국 spectrum의 x축이 꽉 차게 나온다. (ex. equalizer)\n",
    "-위의 심플에서 콤플렉스로 만드는 과정>>synthesis (합성)\n",
    "-아래의 콤플렉스에서 어떤 것들의 합으로 만들어져 있는지를 보는 것>>(spectral) analysis\n",
    "-/아/ /이/는 입모양에 따라서 달라지고, 성대에서 최초로 나오는 소리는 음의 높낮이만 다를 뿐, 소리 자체는 동일하다.\n",
    "-you just need a hose/tube from your intestines to your head. tube 직전에 나는 소리는 항상 똑같다. 이렇게 larynx에서 나는 항상 동일한 소리를 source라고 부르고, 이게 달라지는 과정을 filter라고 한다.\n",
    "-저 그래프(speech의 source)서 나오는 첫 번째 frequency는 모두에게 동일. F0=fundamental frequency. 점점 magnitude가 작아진다. 계속 곱하기 2 곱하기 3 이렇게 되는 걸 harmonics라고 부른다.\n",
    "-여자는 F0이 더 높기 때문에 harmonics 사이가 더 듬성듬성.\n",
    "-ex 시험문제: 10000hz까지 여자의 목소리가 더 뭐가 많을까, 남자의 목소리가 뭐가 더 많을까?\n",
    "-스펙트로그램에 따르면 low frequency에 갈수록 magnitude가 더 크고, vice versa.\n",
    "-pure tone 보다는 여러 Hz의 tone을 stere로 합친 것이 훨씬 사람 목소리와 유사하다 (정교하게 하면 사람 목소리랑 똑같이 할 수 있다.)\n",
    "그렇다면 이 소리는 sin wave를 합친 것일까? no. 동시에 들었지만 합쳐진 것은 아니다.\n",
    "-stereo<->mono\n",
    "-mono로 만든 것은 complex tone! stereo wasn’t complex because we didn’t actually combine the simplex tones, just heard it at the same time.\n",
    "-mono의 반복 주기는 F0과 일치!!!!!! 100Hz. 그리고 이 소리가 인지심리학적으로 어떤 소리랑 일치할까?\n",
    "-view and edit 보면 하나 솟아있고 낮게 되는 것  무한대로 가면 pulse 0000 pulse 0000 의 순서가 된다. 이걸 pulse train이라고 한다.\n",
    "-F1은 모음의 높낮이를 결정한다. height\n",
    "-F2는 앞뒤를 결정한다. (front and back)\n",
    "-한국어 아와 영어 아와 무엇이 다를까? the English form is lower and more back.\n",
    "-the VowelEditor will play the sound for as long as you click on it, and if you drag it it will become a 이중모음\n",
    "\n",
    "JUPYTER NOTEBOOK\n",
    "-기호=정보\n",
    "-print(a)는 a 출력\n",
    "-단어를 정보로 입력하려면 single or double quotation marks 안에 넣어야 한다.\n",
    "-예를 들어서 a에 해당하는 정보를 두 개 넣으면 가장 최근에 실행한 것만이 인정된다.\n"
   ]
  },
  {
   "cell_type": "code",
   "execution_count": 71,
   "metadata": {},
   "outputs": [
    {
     "name": "stdout",
     "output_type": "stream",
     "text": [
      "1\n",
      "2\n",
      "3\n",
      "4\n"
     ]
    }
   ],
   "source": [
    "#using 'for loop' no.1\n",
    "a=[1,2,3,4]\n",
    "#기본: for i in a: a 안에 있는 요소를 하나하나씩 i에다가 넣고 순서대로 실행해라:\n",
    "for i in a:\n",
    "    print(i)"
   ]
  },
  {
   "cell_type": "code",
   "execution_count": 69,
   "metadata": {},
   "outputs": [
    {
     "name": "stdout",
     "output_type": "stream",
     "text": [
      "1\n",
      "2\n",
      "3\n",
      "4\n"
     ]
    }
   ],
   "source": [
    "#using 'for loop' no.2\n",
    "a=[1,2,3,4]\n",
    "for i in range(4):\n",
    "    print(a[i])\n",
    "#range라는 함수=뒤의 숫자만큼의 index 만들어준다. 여기서느 0 1 2 3!"
   ]
  },
  {
   "cell_type": "code",
   "execution_count": 17,
   "metadata": {},
   "outputs": [
    {
     "name": "stdout",
     "output_type": "stream",
     "text": [
      "0\n",
      "1\n",
      "2\n",
      "3\n"
     ]
    }
   ],
   "source": [
    "#cf)\n",
    "a=[1,2,3,4]\n",
    "for i in range (4):\n",
    "    print(i)"
   ]
  },
  {
   "cell_type": "code",
   "execution_count": 15,
   "metadata": {},
   "outputs": [
    {
     "name": "stdout",
     "output_type": "stream",
     "text": [
      "1\n",
      "2\n",
      "3\n",
      "4\n",
      "5\n",
      "6\n",
      "7\n"
     ]
    }
   ],
   "source": [
    "a=[1,2,3,4,5,6,7]\n",
    "for i in range(len(a)):\n",
    "    print(a[i])"
   ]
  },
  {
   "cell_type": "code",
   "execution_count": 18,
   "metadata": {},
   "outputs": [
    {
     "name": "stdout",
     "output_type": "stream",
     "text": [
      "red\n",
      "green\n"
     ]
    }
   ],
   "source": [
    "a=['red', 'green', 'blue', 'purple']\n",
    "print(a[0])\n",
    "print(a[1])\n",
    "#등의 손가락노동을 하면 for loop을 쓰지 않아도 가능 (비효율적)"
   ]
  },
  {
   "cell_type": "code",
   "execution_count": 28,
   "metadata": {},
   "outputs": [
    {
     "name": "stdout",
     "output_type": "stream",
     "text": [
      "red\n",
      "green\n",
      "blue\n",
      "purple\n"
     ]
    }
   ],
   "source": [
    "a=['red', 'green', 'blue', 'purple']\n",
    "for s in a:\n",
    "    print(s)"
   ]
  },
  {
   "cell_type": "code",
   "execution_count": 29,
   "metadata": {},
   "outputs": [
    {
     "name": "stdout",
     "output_type": "stream",
     "text": [
      "red\n",
      "green\n",
      "blue\n",
      "purple\n"
     ]
    }
   ],
   "source": [
    "for s in range(len(a)):\n",
    "    print(a[s])"
   ]
  },
  {
   "cell_type": "code",
   "execution_count": 38,
   "metadata": {},
   "outputs": [
    {
     "name": "stdout",
     "output_type": "stream",
     "text": [
      "red\n",
      "green\n",
      "blue\n",
      "purple\n"
     ]
    }
   ],
   "source": [
    "b=[0.2, 0.3, 0.1, 0.4]\n",
    "#enumerate: 번호매기기. 0부터 시작. enumerate를 사용함으로써 a의 정보들이 각각 숫자와 짝지어져서 i와 s 두 개의 문자 사용 가능.\n",
    "for i, s in enumerate(a):\n",
    "    print(a[i])    "
   ]
  },
  {
   "cell_type": "code",
   "execution_count": 44,
   "metadata": {},
   "outputs": [
    {
     "ename": "SyntaxError",
     "evalue": "invalid syntax (<ipython-input-44-266dc4209b95>, line 1)",
     "output_type": "error",
     "traceback": [
      "\u001b[1;36m  File \u001b[1;32m\"<ipython-input-44-266dc4209b95>\"\u001b[1;36m, line \u001b[1;32m1\u001b[0m\n\u001b[1;33m    for i, s in enumerate(a)\u001b[0m\n\u001b[1;37m                            ^\u001b[0m\n\u001b[1;31mSyntaxError\u001b[0m\u001b[1;31m:\u001b[0m invalid syntax\n"
     ]
    }
   ],
   "source": [
    "for i, s in enumerate(a)\n",
    "    print(\"{}: {}%\".format(s, b[i]*100))\n",
    "    #double quotations 하고 그 사이에 원하는 변수 개수만큼 중괄호 완성시켜주면 된다. (순서대로 대입된다) check this part again"
   ]
  },
  {
   "cell_type": "code",
   "execution_count": 46,
   "metadata": {},
   "outputs": [
    {
     "name": "stdout",
     "output_type": "stream",
     "text": [
      "red: 20.0%\n",
      "green: 30.0%\n",
      "blue: 10.0%\n",
      "purple: 40.0%\n"
     ]
    }
   ],
   "source": [
    "for s, i in zip(a, b):\n",
    "    print(\"{}: {}%\".format(s, i*100))\n",
    "    #zip은 합치기"
   ]
  },
  {
   "cell_type": "code",
   "execution_count": 55,
   "metadata": {},
   "outputs": [
    {
     "name": "stdout",
     "output_type": "stream",
     "text": [
      "yay!\n",
      "let's go\n"
     ]
    }
   ],
   "source": [
    "a=0\n",
    "if a==0:\n",
    "    print(\"yay!\")\n",
    "    print(\"let's go\")\n",
    "#그냥 =면 assigning variables, ==이면 진짜 'equal'"
   ]
  },
  {
   "cell_type": "code",
   "execution_count": 54,
   "metadata": {},
   "outputs": [],
   "source": [
    "a=0\n",
    "if a!=0:\n",
    "    print(\"yay!\")\n",
    "#print 안 된다"
   ]
  },
  {
   "cell_type": "code",
   "execution_count": 57,
   "metadata": {},
   "outputs": [
    {
     "name": "stdout",
     "output_type": "stream",
     "text": [
      "yay!\n",
      "let's go\n"
     ]
    }
   ],
   "source": [
    "a=0\n",
    "if a>=0:\n",
    "    print(\"yay!\")\n",
    "    print(\"let's go\")"
   ]
  },
  {
   "cell_type": "code",
   "execution_count": 58,
   "metadata": {},
   "outputs": [
    {
     "name": "stdout",
     "output_type": "stream",
     "text": [
      "no\n"
     ]
    }
   ],
   "source": [
    "a=0\n",
    "if a!=0:\n",
    "    print(\"yay!\")\n",
    "    print(\"let's go\")\n",
    "else:\n",
    "    print(\"no\")"
   ]
  },
  {
   "cell_type": "code",
   "execution_count": 59,
   "metadata": {},
   "outputs": [
    {
     "name": "stdout",
     "output_type": "stream",
     "text": [
      "3\n",
      "4\n",
      "6\n",
      "8\n"
     ]
    }
   ],
   "source": [
    "#시험 무조건 나온다 (두 번 for loop..)\n",
    "for i in range(1,3): #1부터 2까지 만들어진다\n",
    "    for j in range(3,5):\n",
    "        print(i*j)"
   ]
  },
  {
   "cell_type": "code",
   "execution_count": 63,
   "metadata": {},
   "outputs": [
    {
     "name": "stdout",
     "output_type": "stream",
     "text": [
      "1\n",
      "3\n",
      "4\n",
      "2\n",
      "6\n",
      "8\n"
     ]
    }
   ],
   "source": [
    "#?????\n",
    "for i in range (1,3):\n",
    "    print(i)\n",
    "    for j in range (3, 5):\n",
    "        print(i*j)"
   ]
  },
  {
   "cell_type": "code",
   "execution_count": 62,
   "metadata": {},
   "outputs": [
    {
     "name": "stdout",
     "output_type": "stream",
     "text": [
      "4\n",
      "8\n"
     ]
    }
   ],
   "source": [
    "for i in range (1,3):\n",
    "    for j in range (3, 5):\n",
    "        if j>=4:\n",
    "            print(i*j)"
   ]
  },
  {
   "cell_type": "code",
   "execution_count": 66,
   "metadata": {},
   "outputs": [],
   "source": [
    "for i in range(1,3): #2번째 for가 인덴트 없어서 에러. 인덴트 만들어도 3보다 같거나 큰 i 없으므로 출력되는 것이 없다.\n",
    "    if i>=3:\n",
    "    for j in range (3, 5):\n",
    "            print (i*j)"
   ]
  },
  {
   "cell_type": "code",
   "execution_count": null,
   "metadata": {},
   "outputs": [],
   "source": []
  }
 ],
 "metadata": {
  "kernelspec": {
   "display_name": "Python 3",
   "language": "python",
   "name": "python3"
  },
  "language_info": {
   "codemirror_mode": {
    "name": "ipython",
    "version": 3
   },
   "file_extension": ".py",
   "mimetype": "text/x-python",
   "name": "python",
   "nbconvert_exporter": "python",
   "pygments_lexer": "ipython3",
   "version": "3.7.3"
  }
 },
 "nbformat": 4,
 "nbformat_minor": 2
}
