{
 "cells": [
  {
   "cell_type": "markdown",
   "metadata": {},
   "source": [
    "2018130899 영어영문학과 기혜승 영어음성학 수업 내용 정리\n",
    "\n",
    "-Three kinds of phonetics:\n",
    "1) Articulatory Phonetics 조음:\n",
    "2) Acoustic Phonetics 음향: 소리가 공기를 타고 움직인다.\n",
    "3) Auditory Phonetics 청각: The eardrum exists to amplify sound.\n",
    "\n",
    "-There are five speech organs (constrictors/articulators):\n",
    "Lips, tongue tip, tongue body, larynx (voicebox), velum (soft palate) \n",
    "\n",
    "-Three major processes in phonetics:\n",
    "1) phonation process (in larynx)\n",
    "2) oro-nasal process (in velum)\n",
    "3) articulatory process (in lip, tongue tip, tongue body)\n",
    "\n",
    "-The control of constrictors can be defined according to two criterias:\n",
    "1) constriction location (CL): where exactly?\n",
    "2) constriction degree (CD): how much exactly?\n",
    "English consonants and vowels (phonemes) can be identified when given the according constrictors, constriction location, and constriction degree.\n",
    "Need to know how to apply in PRAAT program!\n",
    "\n",
    "-praat으로 아 소리 녹음하면 larynx가 떨리는 횟수?를 알 수 있음\n",
    "녹음하고 확대\n",
    "praat으로 다시 해보기>>>200 per sec 정도는 나와야 (duration 쟀을 때) woman’s voice\n",
    "\n",
    "-sine wave: 이를 결정짓는 게 pitch and magnitude.\n",
    "\n",
    "-결론부터: 세상에 존재하는 모든 시그널은 (모든 소리를 포함한) 다르게 생긴 사인 웨이브의 결합으로 표현된다.\n",
    "\n",
    "-1번째 사인 웨이브: slow한 것이 frequenc가 작은 것. 그래서 첫 번째 사인 웨이브는 저음이다 (frequenc가 낮다) 첫 번쨰는 1초에 100 번. 두 번쨰는 1초에 200번. 그렇게. magnitude는 첫 번째가 제일 크다.\n",
    "\n",
    "-하나하나는 simplex tone, 마지막은 complex tone. 심플렉스는 사인 웨이브, 콤플렉스는 사인 웨이브 x\n",
    "\n",
    "-Q. 왼쪽 그래프에서 x축은? 시간. 세로축은 그저 숫자값. (VALUE)\n",
    "\n",
    "-오른쪽 그래프들 명칭: SPECTRUM!!!!!!!!!!!!! (x축이 frequency, y축이 amplitude)\n",
    "\n",
    "-마지막에 도출된 복잡한 신호를 볼 때, 재일 크게 반복되는 부분은 (모자처럼 생긴 부분!)\n",
    "\n",
    "-**일반적으로 우리가 듣는 소리는 콤플렉스. 여기서보다 훨씬 복잡하게 나오고, 결국 spectrum의 x축이 꽉 차게 나온다. (ex. equalizer)\n",
    "\n",
    "-위의 심플에서 콤플렉스로 만드는 과정>>synthesis (합성)\n",
    "\n",
    "-아래의 콤플렉스에서 어떤 것들의 합으로 만들어져 있는지를 보는 것>>(spectral) analysis\n",
    "\n",
    "-/아/ /이/는 입모양에 따라서 달라지고, 성대에서 최초로 나오는 소리는 음의 높낮이만 다를 뿐, 소리 자체는 동일하다.\n",
    "\n",
    "-you just need a hose/tube from your intestines to your head. tube 직전에 나는 소리는 항상 똑같다. 이렇게 larynx에서 나는 항상 동일한 소리를 source라고 부르고, 이게 달라지는 과정을 filter라고 한다.\n",
    "\n",
    "-저 그래프(speech의 source)서 나오는 첫 번째 frequency는 모두에게 동일. F0=fundamental frequency. 점점 magnitude가 작아진다. 계속 곱하기 2 곱하기 3 이렇게 되는 걸 harmonics라고 부른다.\n",
    "\n",
    "-여자는 F0이 더 높기 때문에 harmonics 사이가 더 듬성듬성.\n",
    "\n",
    "-ex 시험문제: 10000hz까지 여자의 목소리가 더 뭐가 많을까, 남자의 목소리가 뭐가 더 많을까?\n",
    "\n",
    "-스펙트로그램에 따르면 low frequency에 갈수록 magnitude가 더 크고, vice versa.\n",
    "\n",
    "-pure tone 보다는 여러 Hz의 tone을 stere로 합친 것이 훨씬 사람 목소리와 유사하다 (정교하게 하면 사람 목소리랑 똑같이 할 수 있다.) 그렇다면 이 소리는 sin wave를 합친 것일까? no. 동시에 들었지만 합쳐진 것은 아니다.\n",
    "\n",
    "-stereo<->mono -mono로 만든 것은 complex tone! stereo wasn’t complex because we didn’t actually combine the simplex tones, just heard it at the same time.\n",
    "\n",
    "-mono의 반복 주기는 F0과 일치!!!!!! 100Hz. 그리고 이 소리가 인지심리학적으로 어떤 소리랑 일치할까?\n",
    "\n",
    "-view and edit 보면 하나 솟아있고 낮게 되는 것  무한대로 가면 pulse 0000 pulse 0000 의 순서가 된다. 이걸 pulse train이라고 한다.\n",
    "\n",
    "-F1은 모음의 높낮이를 결정한다. height\n",
    "\n",
    "-F2는 앞뒤를 결정한다. (front and back)\n",
    "\n",
    "-한국어 아와 영어 아와 무엇이 다를까? the English form is lower and more back.\n",
    "\n",
    "-the VowelEditor will play the sound for as long as you click on it, and if you drag it it will become a 이중모음"
   ]
  },
  {
   "cell_type": "markdown",
   "metadata": {},
   "source": [
    "<<Lesson 1: Variables>>\n",
    "(HOW TO OPEN: anaconda prompt->'jupyter notebook' enter)\n",
    "\n",
    "왼쪽에는 껍데기, 오른쪽에는 알맹이.\n",
    "\n",
    "왼쪽에는 기호, 오른쪽에는 정보. *VARIABLE ASSIGNMENT*\n",
    "\n",
    "기호에 특정 정보가 할당된다는 것을 보여주기 위해 = 사용. (일반적인 의미의 = 아니다.)\n",
    "\n",
    "*Shift+Enter는 실행(Run)\n",
    "*DELETE CELL: Jupyter Notebook에서 cell 눌러 파란색으로 만든 후 x 누른다.\n",
    "\n",
    "#함수 print(a) = 'a라는 기호의 정보를 출력하라.'"
   ]
  },
  {
   "cell_type": "code",
   "execution_count": 7,
   "metadata": {},
   "outputs": [],
   "source": [
    "a=1"
   ]
  },
  {
   "cell_type": "code",
   "execution_count": 5,
   "metadata": {},
   "outputs": [
    {
     "name": "stdout",
     "output_type": "stream",
     "text": [
      "1\n"
     ]
    }
   ],
   "source": [
    "print(a)"
   ]
  },
  {
   "cell_type": "markdown",
   "metadata": {},
   "source": [
    "#a=1, a=2처럼 같은 정보에 이질적인 정보가 존재할 때는 마지막으로 실행한 것이 (in this case a=1) 함수에 적용된다."
   ]
  },
  {
   "cell_type": "code",
   "execution_count": 6,
   "metadata": {},
   "outputs": [],
   "source": [
    "a=2"
   ]
  },
  {
   "cell_type": "code",
   "execution_count": 9,
   "metadata": {},
   "outputs": [
    {
     "name": "stdout",
     "output_type": "stream",
     "text": [
      "1\n"
     ]
    }
   ],
   "source": [
    "print(a)"
   ]
  },
  {
   "cell_type": "markdown",
   "metadata": {},
   "source": [
    "#숫자가 아닌 문자/단어를 정보로 설정할 때는 string으로 만들어서 넣어야 한다.\n",
    "#str(string) = '   '"
   ]
  },
  {
   "cell_type": "code",
   "execution_count": 31,
   "metadata": {},
   "outputs": [],
   "source": [
    "b='love'"
   ]
  },
  {
   "cell_type": "code",
   "execution_count": 15,
   "metadata": {},
   "outputs": [
    {
     "name": "stdout",
     "output_type": "stream",
     "text": [
      "love\n"
     ]
    }
   ],
   "source": [
    "print(b)"
   ]
  },
  {
   "cell_type": "markdown",
   "metadata": {},
   "source": [
    "#숫자가 아닌 문자/단어를 기호로 설정할 때는 그냥 넣으면 된다."
   ]
  },
  {
   "cell_type": "code",
   "execution_count": 20,
   "metadata": {},
   "outputs": [],
   "source": [
    "love=2"
   ]
  },
  {
   "cell_type": "code",
   "execution_count": 29,
   "metadata": {},
   "outputs": [],
   "source": [
    "b=love"
   ]
  },
  {
   "cell_type": "code",
   "execution_count": 22,
   "metadata": {},
   "outputs": [
    {
     "name": "stdout",
     "output_type": "stream",
     "text": [
      "2\n"
     ]
    }
   ],
   "source": [
    "print(love)"
   ]
  },
  {
   "cell_type": "markdown",
   "metadata": {},
   "source": [
    "#기호에 정보 할당한 다음에 그 기호 중 하나 적으면 자동으로 print된다"
   ]
  },
  {
   "cell_type": "code",
   "execution_count": 25,
   "metadata": {},
   "outputs": [
    {
     "data": {
      "text/plain": [
       "3"
      ]
     },
     "execution_count": 25,
     "metadata": {},
     "output_type": "execute_result"
    }
   ],
   "source": [
    "a=1\n",
    "b=2\n",
    "c=3\n",
    "d=4\n",
    "c"
   ]
  },
  {
   "cell_type": "markdown",
   "metadata": {},
   "source": [
    "#enter 말고 semicolon(;)으로도 식(?) 분할 가능"
   ]
  },
  {
   "cell_type": "code",
   "execution_count": 39,
   "metadata": {},
   "outputs": [
    {
     "data": {
      "text/plain": [
       "2"
      ]
     },
     "execution_count": 39,
     "metadata": {},
     "output_type": "execute_result"
    }
   ],
   "source": [
    "a=1; b=2; c=3; b"
   ]
  },
  {
   "cell_type": "code",
   "execution_count": 40,
   "metadata": {},
   "outputs": [
    {
     "name": "stdout",
     "output_type": "stream",
     "text": [
      "1\n",
      "2\n",
      "3\n"
     ]
    }
   ],
   "source": [
    "print(a); print(b); print(c)"
   ]
  },
  {
   "cell_type": "markdown",
   "metadata": {},
   "source": [
    "#기호=문자/단어 string일 때 print와 그냥 실행하는 것은 다르다 (!)"
   ]
  },
  {
   "cell_type": "code",
   "execution_count": 90,
   "metadata": {},
   "outputs": [
    {
     "name": "stdout",
     "output_type": "stream",
     "text": [
      "love\n"
     ]
    },
    {
     "data": {
      "text/plain": [
       "'love'"
      ]
     },
     "execution_count": 90,
     "metadata": {},
     "output_type": "execute_result"
    }
   ],
   "source": [
    "b='love'\n",
    "print(b)\n",
    "b"
   ]
  },
  {
   "cell_type": "code",
   "execution_count": 37,
   "metadata": {},
   "outputs": [
    {
     "name": "stdout",
     "output_type": "stream",
     "text": [
      "[1, 2]\n"
     ]
    },
    {
     "data": {
      "text/plain": [
       "[1, 2]"
      ]
     },
     "execution_count": 37,
     "metadata": {},
     "output_type": "execute_result"
    }
   ],
   "source": [
    "#cf)\n",
    "c=[1, 2]\n",
    "print(c)\n",
    "c"
   ]
  },
  {
   "cell_type": "markdown",
   "metadata": {},
   "source": [
    "#함수 type(a) = 'a라는 기호의 종류를 출력하라.'\n",
    "#list= [    ]\n",
    "#int(integer) = 정수\n",
    "#float = 실수"
   ]
  },
  {
   "cell_type": "code",
   "execution_count": 41,
   "metadata": {},
   "outputs": [],
   "source": [
    "a=[1,2,3,5]"
   ]
  },
  {
   "cell_type": "code",
   "execution_count": 42,
   "metadata": {},
   "outputs": [
    {
     "data": {
      "text/plain": [
       "list"
      ]
     },
     "execution_count": 42,
     "metadata": {},
     "output_type": "execute_result"
    }
   ],
   "source": [
    "type(a)"
   ]
  },
  {
   "cell_type": "code",
   "execution_count": 43,
   "metadata": {},
   "outputs": [],
   "source": [
    "a=1"
   ]
  },
  {
   "cell_type": "code",
   "execution_count": 44,
   "metadata": {},
   "outputs": [
    {
     "data": {
      "text/plain": [
       "int"
      ]
     },
     "execution_count": 44,
     "metadata": {},
     "output_type": "execute_result"
    }
   ],
   "source": [
    "type(a)"
   ]
  },
  {
   "cell_type": "code",
   "execution_count": 45,
   "metadata": {},
   "outputs": [],
   "source": [
    "a=1.2"
   ]
  },
  {
   "cell_type": "code",
   "execution_count": 46,
   "metadata": {},
   "outputs": [
    {
     "data": {
      "text/plain": [
       "float"
      ]
     },
     "execution_count": 46,
     "metadata": {},
     "output_type": "execute_result"
    }
   ],
   "source": [
    "type(a)"
   ]
  },
  {
   "cell_type": "code",
   "execution_count": 47,
   "metadata": {},
   "outputs": [],
   "source": [
    "a='love'"
   ]
  },
  {
   "cell_type": "code",
   "execution_count": 48,
   "metadata": {},
   "outputs": [
    {
     "data": {
      "text/plain": [
       "str"
      ]
     },
     "execution_count": 48,
     "metadata": {},
     "output_type": "execute_result"
    }
   ],
   "source": [
    "type(a)"
   ]
  },
  {
   "cell_type": "code",
   "execution_count": 49,
   "metadata": {},
   "outputs": [],
   "source": [
    "a=[1,2,3,5,'love']"
   ]
  },
  {
   "cell_type": "code",
   "execution_count": 52,
   "metadata": {},
   "outputs": [
    {
     "data": {
      "text/plain": [
       "list"
      ]
     },
     "execution_count": 52,
     "metadata": {},
     "output_type": "execute_result"
    }
   ],
   "source": [
    "type(a)"
   ]
  },
  {
   "cell_type": "code",
   "execution_count": 53,
   "metadata": {},
   "outputs": [],
   "source": [
    "a=[1,'love',[1,'bye']]"
   ]
  },
  {
   "cell_type": "code",
   "execution_count": 54,
   "metadata": {},
   "outputs": [
    {
     "data": {
      "text/plain": [
       "list"
      ]
     },
     "execution_count": 54,
     "metadata": {},
     "output_type": "execute_result"
    }
   ],
   "source": [
    "type(a)"
   ]
  },
  {
   "cell_type": "markdown",
   "metadata": {},
   "source": [
    "#tuple=(   ) like a list but with 그냥 괄호, not 대괄호"
   ]
  },
  {
   "cell_type": "code",
   "execution_count": 55,
   "metadata": {},
   "outputs": [],
   "source": [
    "a=(1,'love',[1,'bye'])"
   ]
  },
  {
   "cell_type": "code",
   "execution_count": 56,
   "metadata": {},
   "outputs": [
    {
     "data": {
      "text/plain": [
       "tuple"
      ]
     },
     "execution_count": 56,
     "metadata": {},
     "output_type": "execute_result"
    }
   ],
   "source": [
    "type(a)"
   ]
  },
  {
   "cell_type": "markdown",
   "metadata": {},
   "source": [
    "#dict(dictionary)={'':} Uses indexes to access information. single, double quotations both possible.\n",
    "#dict와 str,list의 차이점: 단지 여러 항목을 가지는 것이 아니라 pair-wise로 묶을 수 있다"
   ]
  },
  {
   "cell_type": "code",
   "execution_count": 60,
   "metadata": {},
   "outputs": [],
   "source": [
    "a={'a':'apple', 'b':'banana', \"c\": 2014}"
   ]
  },
  {
   "cell_type": "code",
   "execution_count": 61,
   "metadata": {},
   "outputs": [
    {
     "data": {
      "text/plain": [
       "dict"
      ]
     },
     "execution_count": 61,
     "metadata": {},
     "output_type": "execute_result"
    }
   ],
   "source": [
    "type(a)"
   ]
  },
  {
   "cell_type": "markdown",
   "metadata": {},
   "source": [
    "#기호에 정보를 할당한 후에는 기호끼리 더하기, 곱하기도 가능\n",
    "#더하기 +\n",
    "#곱하기 *"
   ]
  },
  {
   "cell_type": "code",
   "execution_count": 63,
   "metadata": {},
   "outputs": [
    {
     "name": "stdout",
     "output_type": "stream",
     "text": [
      "2\n"
     ]
    }
   ],
   "source": [
    "a=1\n",
    "b=1\n",
    "c=a+b\n",
    "print(c)"
   ]
  },
  {
   "cell_type": "markdown",
   "metadata": {},
   "source": [
    "#컴퓨터에서는 1이 아니라 0부터 센다. 따라서 실제 첫 번째는 코딩에서 0번째, 두 번째는 코딩에서 1번째...\n",
    "#a[0]=list a에서 0번째 항목의 정보를 access해라."
   ]
  },
  {
   "cell_type": "code",
   "execution_count": 131,
   "metadata": {},
   "outputs": [
    {
     "name": "stdout",
     "output_type": "stream",
     "text": [
      "4\n",
      "6\n"
     ]
    }
   ],
   "source": [
    "a=[1,2]\n",
    "b=[3,4]\n",
    "c=a[0]+b[0]\n",
    "d=a[1]+b[1]\n",
    "print(c)\n",
    "print(d)"
   ]
  },
  {
   "cell_type": "markdown",
   "metadata": {},
   "source": [
    "#note the differences below."
   ]
  },
  {
   "cell_type": "code",
   "execution_count": 73,
   "metadata": {},
   "outputs": [
    {
     "data": {
      "text/plain": [
       "int"
      ]
     },
     "execution_count": 73,
     "metadata": {},
     "output_type": "execute_result"
    }
   ],
   "source": [
    "a=1; type(a)"
   ]
  },
  {
   "cell_type": "code",
   "execution_count": 74,
   "metadata": {},
   "outputs": [
    {
     "name": "stdout",
     "output_type": "stream",
     "text": [
      "<class 'int'>\n"
     ]
    }
   ],
   "source": [
    "a=1; print(type(a))"
   ]
  },
  {
   "cell_type": "markdown",
   "metadata": {},
   "source": [
    "#cont. notice how the type changes."
   ]
  },
  {
   "cell_type": "code",
   "execution_count": 77,
   "metadata": {},
   "outputs": [
    {
     "name": "stdout",
     "output_type": "stream",
     "text": [
      "<class 'float'>\n"
     ]
    }
   ],
   "source": [
    "a=1; a=float(a); print(type(a))"
   ]
  },
  {
   "cell_type": "code",
   "execution_count": 81,
   "metadata": {},
   "outputs": [
    {
     "name": "stdout",
     "output_type": "stream",
     "text": [
      "<class 'int'>\n"
     ]
    }
   ],
   "source": [
    "a=1.2; a=int(a); print(type(a))"
   ]
  },
  {
   "cell_type": "code",
   "execution_count": 80,
   "metadata": {},
   "outputs": [
    {
     "name": "stdout",
     "output_type": "stream",
     "text": [
      "1\n"
     ]
    }
   ],
   "source": [
    "a=1.2; a=int(a); print(a)"
   ]
  },
  {
   "cell_type": "code",
   "execution_count": 82,
   "metadata": {},
   "outputs": [
    {
     "name": "stdout",
     "output_type": "stream",
     "text": [
      "<class 'str'>\n",
      "2\n"
     ]
    }
   ],
   "source": [
    "a='123'; print(type(a)); print(a[1])"
   ]
  },
  {
   "cell_type": "markdown",
   "metadata": {},
   "source": [
    "#how to use indexes in a dictionary to access information\n",
    "#indexes can be str or int or..."
   ]
  },
  {
   "cell_type": "code",
   "execution_count": 95,
   "metadata": {},
   "outputs": [
    {
     "name": "stdout",
     "output_type": "stream",
     "text": [
      "<class 'dict'>\n",
      "apple\n"
     ]
    }
   ],
   "source": [
    "a={'a':'apple', 'b':'orange', 'c':2014}\n",
    "print(type(a))\n",
    "print(a[\"a\"])"
   ]
  },
  {
   "cell_type": "code",
   "execution_count": 98,
   "metadata": {},
   "outputs": [
    {
     "name": "stdout",
     "output_type": "stream",
     "text": [
      "<class 'dict'>\n",
      "apple\n"
     ]
    }
   ],
   "source": [
    "a={5.7:'apple',2:345,3:2014}\n",
    "print(type(a))\n",
    "print(a[5.7])"
   ]
  },
  {
   "cell_type": "markdown",
   "metadata": {},
   "source": [
    "#how to use element order in a list to access information"
   ]
  },
  {
   "cell_type": "code",
   "execution_count": 105,
   "metadata": {},
   "outputs": [
    {
     "name": "stdout",
     "output_type": "stream",
     "text": [
      "(1, 2, 3)\n"
     ]
    },
    {
     "data": {
      "text/plain": [
       "tuple"
      ]
     },
     "execution_count": 105,
     "metadata": {},
     "output_type": "execute_result"
    }
   ],
   "source": [
    "a=[(1,2,3), (3,8,0)]\n",
    "print(a[0])\n",
    "type(a[0])"
   ]
  },
  {
   "cell_type": "markdown",
   "metadata": {},
   "source": [
    "<<Lesson 2: String>>\n",
    "\n",
    "*str과 list의 각각의 정보를 access하는 방법은 완전히 동일하다: 앞서 list에 대한 설명에도 나온 것처럼 list a의 0번째 항목에 접근하려면 a[0]을 하면 된다. 마찬가지로 str에서도 0번째 항목(숫자/문자)에 접근하려면 a[0]을 하면 된다.\n",
    "\n",
    "#여러 개를 동시에 print할 때 print 이후의 괄호 안에 여러 개를 comma로 나눠 나열해도 된다 (see below)\n",
    "#by using colons(:), you can print out FROM a certain point TO a certain point. By leaving the space for a number index blank, you are printing out all the information that come before/after.\n",
    "**첫째 숫자부터 둘째 숫자 이.전.까.지. (remember everything is computer-numbered)\n",
    "\n",
    "**ex) a=[1,2,3,4]; print(a[1:3], a[1:], a[:3], a[:])\n",
    "     \n",
    "     ------------------------------------------------------\n",
    "     2 3\n",
    "     2 3 4\n",
    "     1 2 3 4\n",
    "     1 2 3 4\n",
    "     \n",
    "\n",
    "##순서 매.우. 헷갈리니까 주의해서 볼 것. 지금부터 모든 설명은 '컴퓨터상의 순서'로 설명한다.\n",
    "#왼쪽부터의 순서: 0부터 센다-->0번째=실제 1번째, 2번째=실제 3번째\n",
    "\n",
    " 0  1  2  3  4  5\n",
    " \n",
    "-6 -5 -4 -3 -2 -1\n",
    "#순서가 이렇게 된다.\n",
    "#오른쪽부터의 순서: -1부터 센다-->-1번째=오른쪽에서 1번째, -4번째=오른쪽에서 4번째"
   ]
  },
  {
   "cell_type": "code",
   "execution_count": 121,
   "metadata": {},
   "outputs": [
    {
     "name": "stdout",
     "output_type": "stream",
     "text": [
      "a f f a\n",
      "bc bcdef abc abcdef\n",
      "100 300 300 100\n",
      "[200] [200, 300] [100, 200] [100, 200, 300]\n"
     ]
    }
   ],
   "source": [
    "s='abcdef'\n",
    "n=[100,200,300]\n",
    "print(s[0], s[5], s[-1], s[-6])\n",
    "print(s[1:3],s[1:],s[:3],s[:])\n",
    "print(n[0],n[2],n[-1],n[-3])\n",
    "print(n[1:2],n[1:],n[:2],n[:])"
   ]
  },
  {
   "cell_type": "markdown",
   "metadata": {},
   "source": [
    "#len(length)=길이(수치로 나타낸다)"
   ]
  },
  {
   "cell_type": "code",
   "execution_count": 124,
   "metadata": {},
   "outputs": [
    {
     "data": {
      "text/plain": [
       "3"
      ]
     },
     "execution_count": 124,
     "metadata": {},
     "output_type": "execute_result"
    }
   ],
   "source": [
    "len(s); len(n)"
   ]
  },
  {
   "cell_type": "markdown",
   "metadata": {},
   "source": [
    "#colon을 사용해서 access한 정보도 더하기, 곱하기 가능."
   ]
  },
  {
   "cell_type": "code",
   "execution_count": 133,
   "metadata": {},
   "outputs": [
    {
     "data": {
      "text/plain": [
       "'bdefefefefefefefefefef'"
      ]
     },
     "execution_count": 133,
     "metadata": {},
     "output_type": "execute_result"
    }
   ],
   "source": [
    "s[1]+s[3]+s[4:]*10"
   ]
  },
  {
   "cell_type": "markdown",
   "metadata": {},
   "source": [
    "#곱하기는 교환법칙 성립 O. 더하기는 교환법칙 성립 X (적어도 문자에 있어서는. 숫자 더하는 것은 성립)."
   ]
  },
  {
   "cell_type": "code",
   "execution_count": 128,
   "metadata": {},
   "outputs": [
    {
     "data": {
      "text/plain": [
       "'efefefefefefefefefefdb'"
      ]
     },
     "execution_count": 128,
     "metadata": {},
     "output_type": "execute_result"
    }
   ],
   "source": [
    "10*s[4:]+s[3]+s[1]"
   ]
  },
  {
   "cell_type": "markdown",
   "metadata": {},
   "source": [
    "#문자 str를 모두 대문자 혹은 모두 소문자로 바꾸기"
   ]
  },
  {
   "cell_type": "code",
   "execution_count": 142,
   "metadata": {},
   "outputs": [],
   "source": [
    "s='abcDEF'"
   ]
  },
  {
   "cell_type": "code",
   "execution_count": 143,
   "metadata": {},
   "outputs": [
    {
     "data": {
      "text/plain": [
       "'ABCDEF'"
      ]
     },
     "execution_count": 143,
     "metadata": {},
     "output_type": "execute_result"
    }
   ],
   "source": [
    "s.upper()"
   ]
  },
  {
   "cell_type": "code",
   "execution_count": 144,
   "metadata": {},
   "outputs": [
    {
     "data": {
      "text/plain": [
       "'abcdef'"
      ]
     },
     "execution_count": 144,
     "metadata": {},
     "output_type": "execute_result"
    }
   ],
   "source": [
    "s.lower()"
   ]
  },
  {
   "cell_type": "markdown",
   "metadata": {},
   "source": [
    "#How to use 문자 str that are actually sentences (NLP: natural language processing)\n",
    "#mango, apple, kiwi... -> replace 'result' or really any other random symbol(기호)\n",
    "#s.find('   ') = '   ' 안에 있는 단어가 >>왼쪽부터<< (컴퓨터상*) 몇 번째부터 시작하는지 표시해라. (아래 같은 문장처럼 같은 단어가 두 개 이상 있으면 >>왼쪽에서 첫 번째로<< 나오는 단어를 찾는다)\n",
    "#s.rindex('   ) = '   ' 안에 있는 단어가 >>왼쪽부터<< (컴퓨터상*) 몇 번째부터 시작하는지 표시해라. (아래 같은 문장처럼 같은 단어가 두 개 이상 있으면 >>오른쪽에서 첫 번째로<< 나오는 단어를 찾는다) = right index"
   ]
  },
  {
   "cell_type": "code",
   "execution_count": 319,
   "metadata": {},
   "outputs": [],
   "source": [
    "s=' this is a house built this year.'"
   ]
  },
  {
   "cell_type": "code",
   "execution_count": 311,
   "metadata": {},
   "outputs": [
    {
     "data": {
      "text/plain": [
       "1"
      ]
     },
     "execution_count": 311,
     "metadata": {},
     "output_type": "execute_result"
    }
   ],
   "source": [
    "mango=s.find('this')\n",
    "mango"
   ]
  },
  {
   "cell_type": "code",
   "execution_count": 312,
   "metadata": {},
   "outputs": [
    {
     "data": {
      "text/plain": [
       "23"
      ]
     },
     "execution_count": 312,
     "metadata": {},
     "output_type": "execute_result"
    }
   ],
   "source": [
    "kiwi=s.rindex('this')\n",
    "kiwi"
   ]
  },
  {
   "cell_type": "code",
   "execution_count": 313,
   "metadata": {},
   "outputs": [
    {
     "data": {
      "text/plain": [
       "15"
      ]
     },
     "execution_count": 313,
     "metadata": {},
     "output_type": "execute_result"
    }
   ],
   "source": [
    "#cf) 같은 단어 세 개 이상인 경우: 오른쪽에서 첫 번째!\n",
    "y=' this i this u this'\n",
    "result=y.rindex('this')\n",
    "result"
   ]
  },
  {
   "cell_type": "markdown",
   "metadata": {},
   "source": [
    "#문자 sequence에서 특정 단어가 한 번만 등장한다면 find와 rindex 함수의 결과가 동일하다 (see below)"
   ]
  },
  {
   "cell_type": "code",
   "execution_count": 314,
   "metadata": {},
   "outputs": [
    {
     "data": {
      "text/plain": [
       "11"
      ]
     },
     "execution_count": 314,
     "metadata": {},
     "output_type": "execute_result"
    }
   ],
   "source": [
    "apple=s.find('house')\n",
    "apple"
   ]
  },
  {
   "cell_type": "code",
   "execution_count": 315,
   "metadata": {},
   "outputs": [
    {
     "data": {
      "text/plain": [
       "11"
      ]
     },
     "execution_count": 315,
     "metadata": {},
     "output_type": "execute_result"
    }
   ],
   "source": [
    "orange=s.rindex('house')\n",
    "orange"
   ]
  },
  {
   "cell_type": "markdown",
   "metadata": {},
   "source": [
    "#strip = a copy of a without leading or trailing whitespace"
   ]
  },
  {
   "cell_type": "code",
   "execution_count": 320,
   "metadata": {},
   "outputs": [
    {
     "data": {
      "text/plain": [
       "'this is a house built this year.'"
      ]
     },
     "execution_count": 320,
     "metadata": {},
     "output_type": "execute_result"
    }
   ],
   "source": [
    "t=s.strip()\n",
    "t"
   ]
  },
  {
   "cell_type": "markdown",
   "metadata": {},
   "source": [
    "#split = quotation marks 안에 있는 것이 있는 곳마다 쪼개서 list 생성(whitespace by default)"
   ]
  },
  {
   "cell_type": "code",
   "execution_count": 321,
   "metadata": {},
   "outputs": [
    {
     "data": {
      "text/plain": [
       "['this', 'is', 'a', 'house', 'built', 'this', 'year.']"
      ]
     },
     "execution_count": 321,
     "metadata": {},
     "output_type": "execute_result"
    }
   ],
   "source": [
    "rain=s.split()\n",
    "rain"
   ]
  },
  {
   "cell_type": "code",
   "execution_count": 324,
   "metadata": {},
   "outputs": [
    {
     "data": {
      "text/plain": [
       "['', 'this', 'is', 'a', 'house', 'built', 'this', 'year.']"
      ]
     },
     "execution_count": 324,
     "metadata": {},
     "output_type": "execute_result"
    }
   ],
   "source": [
    "#cf)?????\n",
    "rain=s.split(' ')\n",
    "rain"
   ]
  },
  {
   "cell_type": "code",
   "execution_count": 325,
   "metadata": {},
   "outputs": [
    {
     "data": {
      "text/plain": [
       "[' this is a house built this year.']"
      ]
     },
     "execution_count": 325,
     "metadata": {},
     "output_type": "execute_result"
    }
   ],
   "source": [
    "rain=s.split(',')\n",
    "rain"
   ]
  },
  {
   "cell_type": "code",
   "execution_count": 326,
   "metadata": {},
   "outputs": [
    {
     "data": {
      "text/plain": [
       "[' this is a house built this year', '']"
      ]
     },
     "execution_count": 326,
     "metadata": {},
     "output_type": "execute_result"
    }
   ],
   "source": [
    "rain=s.split('.')\n",
    "rain"
   ]
  },
  {
   "cell_type": "markdown",
   "metadata": {},
   "source": [
    "#' '.join(rain): quotation marks 안에 있는 것으로 괄호 안의 쪼개진 것을 잇는다."
   ]
  },
  {
   "cell_type": "code",
   "execution_count": 327,
   "metadata": {},
   "outputs": [
    {
     "data": {
      "text/plain": [
       "' this is a house built this year '"
      ]
     },
     "execution_count": 327,
     "metadata": {},
     "output_type": "execute_result"
    }
   ],
   "source": [
    "rain=' '.join(rain)\n",
    "rain"
   ]
  },
  {
   "cell_type": "markdown",
   "metadata": {},
   "source": [
    "#rain. replace('a','b'): rain이라는 문장 안에 있는 모든 a라는 단어를 모두 b로 바꾼다."
   ]
  },
  {
   "cell_type": "code",
   "execution_count": 328,
   "metadata": {},
   "outputs": [
    {
     "data": {
      "text/plain": [
       "' that is a house built that year '"
      ]
     },
     "execution_count": 328,
     "metadata": {},
     "output_type": "execute_result"
    }
   ],
   "source": [
    "rain=rain.replace('this','that')\n",
    "rain"
   ]
  },
  {
   "cell_type": "markdown",
   "metadata": {},
   "source": [
    "<<Lesson 3: Syntax>>\n",
    "\n",
    "Using the 'for loop'\n",
    "\n",
    "#기본:\n",
    "\n",
    "for i in a:\n",
    "\n",
    "(indent***)blahblahblah\n",
    "\n",
    "--> a 안에 있는 요소를 하나하나씩 i에다가 넣고 순서대로 실행해라."
   ]
  },
  {
   "cell_type": "code",
   "execution_count": 215,
   "metadata": {},
   "outputs": [
    {
     "name": "stdout",
     "output_type": "stream",
     "text": [
      "1\n",
      "2\n",
      "3\n",
      "4\n"
     ]
    }
   ],
   "source": [
    "##그대로 프린트하기 1번째##\n",
    "a=[1,2,3,4]\n",
    "for i in a:\n",
    "    print(i)"
   ]
  },
  {
   "cell_type": "markdown",
   "metadata": {},
   "source": [
    "#range(x)= x 개수만큼 index 만들어준다. (역시나 컴퓨터상 순서.) ex) range(4) --> 0 1 2 3."
   ]
  },
  {
   "cell_type": "code",
   "execution_count": 216,
   "metadata": {},
   "outputs": [
    {
     "name": "stdout",
     "output_type": "stream",
     "text": [
      "1\n",
      "2\n",
      "3\n",
      "4\n"
     ]
    }
   ],
   "source": [
    "##그대로 프린트하기 2번째##(개수를 알 때)\n",
    "a=[1,2,3,4]\n",
    "for i in range(4):\n",
    "    print(a[i])"
   ]
  },
  {
   "cell_type": "code",
   "execution_count": 211,
   "metadata": {},
   "outputs": [
    {
     "name": "stdout",
     "output_type": "stream",
     "text": [
      "0\n",
      "1\n",
      "2\n",
      "3\n"
     ]
    }
   ],
   "source": [
    "#cf)\n",
    "for i in range(4):\n",
    "    print(i)"
   ]
  },
  {
   "cell_type": "code",
   "execution_count": 218,
   "metadata": {},
   "outputs": [
    {
     "name": "stdout",
     "output_type": "stream",
     "text": [
      "1\n",
      "2\n",
      "3\n",
      "4\n"
     ]
    }
   ],
   "source": [
    "##그대로 프린트하기 3번째##(개수를 모를 때)\n",
    "a=[1,2,3,4]\n",
    "for i in range(len(a)):\n",
    "    print(a[i])"
   ]
  },
  {
   "cell_type": "code",
   "execution_count": 221,
   "metadata": {},
   "outputs": [
    {
     "name": "stdout",
     "output_type": "stream",
     "text": [
      "1\n",
      "2\n",
      "3\n",
      "4\n"
     ]
    }
   ],
   "source": [
    "##그대로 프린트하기 4번째##(노가다, 비효율적)\n",
    "a=[1,2,3,4]\n",
    "print(a[0])\n",
    "print(a[1])\n",
    "print(a[2])\n",
    "print(a[3])"
   ]
  },
  {
   "cell_type": "markdown",
   "metadata": {},
   "source": [
    "#in string"
   ]
  },
  {
   "cell_type": "code",
   "execution_count": 271,
   "metadata": {},
   "outputs": [
    {
     "name": "stdout",
     "output_type": "stream",
     "text": [
      "red\n",
      "green\n",
      "blue\n",
      "purple\n"
     ]
    }
   ],
   "source": [
    "#cf 1)\n",
    "b=['red','green','blue','purple']\n",
    "for s in b:\n",
    "    print(s)"
   ]
  },
  {
   "cell_type": "markdown",
   "metadata": {},
   "source": [
    "#enumerate(열거, 번호매기기-0부터 시작): list, tuple, string처럼 순서가 있는 것들을 입력으로 가지고, 자동적으로 index를 붙여줘서 두 가지 문자를 활용할 수 있다.\n",
    "ex. a=['breakfast', 'lunch', 'dinner']이라면\n",
    "\n",
    "for x, y in enumerate(a): >>>>x가 index, y가 a 속의 요소.\n",
    "\n",
    "    print(y, x+1)\n",
    "    \n",
    "----------------------\n",
    "breakfast 1\n",
    "\n",
    "lunch 2\n",
    "\n",
    "dinner 3"
   ]
  },
  {
   "cell_type": "code",
   "execution_count": 282,
   "metadata": {},
   "outputs": [
    {
     "name": "stdout",
     "output_type": "stream",
     "text": [
      "apple: 30.0%\n",
      "mango: 20.0%\n",
      "grape: 10.0%\n",
      "kiwi: 40.0%\n"
     ]
    }
   ],
   "source": [
    "a=['apple','mango','grape','kiwi']\n",
    "b=[0.3,0.2,0.1,0.4]\n",
    "for index, value in enumerate(a):\n",
    "    print(\"{}: {}%\".format(value, b[index]*100))"
   ]
  },
  {
   "cell_type": "markdown",
   "metadata": {},
   "source": [
    "#zip(합치기, 둘씩 묶기): '동일한 개수로 이루어진 자료를 묶어주는 함수'"
   ]
  },
  {
   "cell_type": "code",
   "execution_count": 284,
   "metadata": {},
   "outputs": [
    {
     "name": "stdout",
     "output_type": "stream",
     "text": [
      "apple: 30.0%\n",
      "mango: 20.0%\n",
      "grape: 10.0%\n",
      "kiwi: 40.0%\n"
     ]
    }
   ],
   "source": [
    "for a_, b_ in zip(a,b):\n",
    "    print(\"{}: {}%\".format(a_, b_*100))"
   ]
  },
  {
   "cell_type": "markdown",
   "metadata": {},
   "source": [
    "#if: 조건 달기\n",
    "\n",
    "= assigning variables\n",
    "\n",
    "== 같다\n",
    "\n",
    "!= 같지 않다"
   ]
  },
  {
   "cell_type": "code",
   "execution_count": 294,
   "metadata": {},
   "outputs": [
    {
     "name": "stdout",
     "output_type": "stream",
     "text": [
      "yay!\n",
      "let's go\n"
     ]
    }
   ],
   "source": [
    "a=0\n",
    "if a==0:\n",
    "    print(\"yay!\")\n",
    "    print(\"let's go\")"
   ]
  },
  {
   "cell_type": "code",
   "execution_count": 297,
   "metadata": {},
   "outputs": [
    {
     "name": "stdout",
     "output_type": "stream",
     "text": [
      "a is not no.1\n"
     ]
    }
   ],
   "source": [
    "if a!=1:\n",
    "    print(\"a is not no.1\")\n",
    "if a!=0:\n",
    "    print(\"a is not no.0\")"
   ]
  },
  {
   "cell_type": "markdown",
   "metadata": {},
   "source": [
    "#if에 해당하지 않는 것들은 else로 출력 결과 변경할 수 있다.\n",
    "#==,!= 말고도 >=, =<도 사용 가능"
   ]
  },
  {
   "cell_type": "code",
   "execution_count": 298,
   "metadata": {},
   "outputs": [
    {
     "name": "stdout",
     "output_type": "stream",
     "text": [
      "yay!\n",
      "let's go!\n"
     ]
    }
   ],
   "source": [
    "a=0\n",
    "if a>=0:\n",
    "    print(\"yay!\")\n",
    "    print(\"let's go!\")"
   ]
  },
  {
   "cell_type": "code",
   "execution_count": 299,
   "metadata": {},
   "outputs": [
    {
     "name": "stdout",
     "output_type": "stream",
     "text": [
      "not zero\n"
     ]
    }
   ],
   "source": [
    "a=0\n",
    "if a!=0:\n",
    "    print(\"yay!\")\n",
    "    print(\"let's go!\")\n",
    "else:\n",
    "    print(\"not zero\")"
   ]
  },
  {
   "cell_type": "markdown",
   "metadata": {},
   "source": [
    "#두 번 for loop"
   ]
  },
  {
   "cell_type": "code",
   "execution_count": 300,
   "metadata": {},
   "outputs": [
    {
     "name": "stdout",
     "output_type": "stream",
     "text": [
      "3\n",
      "4\n",
      "6\n",
      "8\n"
     ]
    }
   ],
   "source": [
    "for i in range(1,3):\n",
    "    for j in range(3,5):\n",
    "        print(i*j)"
   ]
  },
  {
   "cell_type": "code",
   "execution_count": 301,
   "metadata": {},
   "outputs": [
    {
     "name": "stdout",
     "output_type": "stream",
     "text": [
      "1\n",
      "3\n",
      "4\n",
      "2\n",
      "6\n",
      "8\n"
     ]
    }
   ],
   "source": [
    "#cf-print(i)를 하면 위와 달라진다.\n",
    "for i in range(1,3):\n",
    "    print(i)\n",
    "    for j in range(3,5):\n",
    "        print(i*j)"
   ]
  },
  {
   "cell_type": "code",
   "execution_count": 304,
   "metadata": {},
   "outputs": [
    {
     "name": "stdout",
     "output_type": "stream",
     "text": [
      "4\n",
      "8\n"
     ]
    }
   ],
   "source": [
    "for i in range(1,3):\n",
    "    for j in range(3,5):\n",
    "        if j>=4:\n",
    "            print(i*j)"
   ]
  },
  {
   "cell_type": "code",
   "execution_count": 307,
   "metadata": {},
   "outputs": [
    {
     "ename": "IndentationError",
     "evalue": "expected an indented block (<ipython-input-307-52ea4f7ac138>, line 3)",
     "output_type": "error",
     "traceback": [
      "\u001b[1;36m  File \u001b[1;32m\"<ipython-input-307-52ea4f7ac138>\"\u001b[1;36m, line \u001b[1;32m3\u001b[0m\n\u001b[1;33m    for j in range(3,5):\u001b[0m\n\u001b[1;37m      ^\u001b[0m\n\u001b[1;31mIndentationError\u001b[0m\u001b[1;31m:\u001b[0m expected an indented block\n"
     ]
    }
   ],
   "source": [
    "#cf) error. *항상 indent랑 colon 조심해라!! indent 만들어도 해당되는 게 없어서 출력 안 됨*\n",
    "for i in range(1,3):\n",
    "    if i>=3:\n",
    "    for j in range(3,5):\n",
    "        print(i*j)"
   ]
  },
  {
   "cell_type": "markdown",
   "metadata": {},
   "source": [
    "ADDITIONAL: for in - list"
   ]
  },
  {
   "cell_type": "code",
   "execution_count": 308,
   "metadata": {},
   "outputs": [
    {
     "name": "stdout",
     "output_type": "stream",
     "text": [
      "[2, 3, 4]\n"
     ]
    }
   ],
   "source": [
    "a=[1,2,3,4]\n",
    "b=[i for i in a if i>=2]\n",
    "print(b)"
   ]
  },
  {
   "cell_type": "code",
   "execution_count": 309,
   "metadata": {},
   "outputs": [
    {
     "name": "stdout",
     "output_type": "stream",
     "text": [
      "['blue', 'green', 'purple']\n"
     ]
    }
   ],
   "source": [
    "a=['red','blue','green','purple']\n",
    "b=[i for i in a if len(i)>=4]\n",
    "print(b)"
   ]
  },
  {
   "cell_type": "markdown",
   "metadata": {},
   "source": [
    "Q. colon을 사용해서 숫자를 print할 때 음의 정수를 넣어도 되는가??"
   ]
  }
 ],
 "metadata": {
  "kernelspec": {
   "display_name": "Python 3",
   "language": "python",
   "name": "python3"
  },
  "language_info": {
   "codemirror_mode": {
    "name": "ipython",
    "version": 3
   },
   "file_extension": ".py",
   "mimetype": "text/x-python",
   "name": "python",
   "nbconvert_exporter": "python",
   "pygments_lexer": "ipython3",
   "version": "3.7.3"
  }
 },
 "nbformat": 4,
 "nbformat_minor": 2
}
