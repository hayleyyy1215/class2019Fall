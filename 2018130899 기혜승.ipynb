{
 "cells": [
  {
   "cell_type": "markdown",
   "metadata": {},
   "source": [
    "2018130899 영어영문학과 기혜승 영어음성학 수업 내용 정리\n",
    "\n",
    "-Three kinds of phonetics:\n",
    "1) Articulatory Phonetics 조음:\n",
    "2) Acoustic Phonetics 음향: 소리가 공기를 타고 움직인다.\n",
    "3) Auditory Phonetics 청각: The eardrum exists to amplify sound.\n",
    "\n",
    "-There are five speech organs (constrictors/articulators):\n",
    "Lips, tongue tip, tongue body, larynx (voicebox), velum (soft palate) \n",
    "\n",
    "-Three major processes in phonetics:\n",
    "1) phonation process (in larynx)\n",
    "2) oro-nasal process (in velum)\n",
    "3) articulatory process (in lip, tongue tip, tongue body)\n",
    "\n",
    "-The control of constrictors can be defined according to two criterias:\n",
    "1) constriction location (CL): where exactly?\n",
    "2) constriction degree (CD): how much exactly?\n",
    "English consonants and vowels (phonemes) can be identified when given the according constrictors, constriction location, and constriction degree.\n",
    "Need to know how to apply in PRAAT program!\n",
    "\n",
    "-praat으로 아 소리 녹음하면 larynx가 떨리는 횟수?를 알 수 있음\n",
    "녹음하고 확대\n",
    "praat으로 다시 해보기>>>200 per sec 정도는 나와야 (duration 쟀을 때) woman’s voice\n",
    "\n",
    "-sine wave: 이를 결정짓는 게 pitch and magnitude.\n",
    "\n",
    "-결론부터: 세상에 존재하는 모든 시그널은 (모든 소리를 포함한) 다르게 생긴 사인 웨이브의 결합으로 표현된다.\n",
    "\n",
    "-1번째 사인 웨이브: slow한 것이 frequenc가 작은 것. 그래서 첫 번째 사인 웨이브는 저음이다 (frequenc가 낮다) 첫 번쨰는 1초에 100 번. 두 번쨰는 1초에 200번. 그렇게. magnitude는 첫 번째가 제일 크다.\n",
    "\n",
    "-하나하나는 simplex tone, 마지막은 complex tone. 심플렉스는 사인 웨이브, 콤플렉스는 사인 웨이브 x\n",
    "\n",
    "-Q. 왼쪽 그래프에서 x축은? 시간. 세로축은 그저 숫자값. (VALUE)\n",
    "\n",
    "-오른쪽 그래프들 명칭: SPECTRUM!!!!!!!!!!!!! (x축이 frequency, y축이 amplitude)\n",
    "\n",
    "-마지막에 도출된 복잡한 신호를 볼 때, 재일 크게 반복되는 부분은 (모자처럼 생긴 부분!)\n",
    "\n",
    "-**일반적으로 우리가 듣는 소리는 콤플렉스. 여기서보다 훨씬 복잡하게 나오고, 결국 spectrum의 x축이 꽉 차게 나온다. (ex. equalizer)\n",
    "\n",
    "-위의 심플에서 콤플렉스로 만드는 과정>>synthesis (합성)\n",
    "\n",
    "-아래의 콤플렉스에서 어떤 것들의 합으로 만들어져 있는지를 보는 것>>(spectral) analysis\n",
    "\n",
    "-/아/ /이/는 입모양에 따라서 달라지고, 성대에서 최초로 나오는 소리는 음의 높낮이만 다를 뿐, 소리 자체는 동일하다.\n",
    "\n",
    "-you just need a hose/tube from your intestines to your head. tube 직전에 나는 소리는 항상 똑같다. 이렇게 larynx에서 나는 항상 동일한 소리를 source라고 부르고, 이게 달라지는 과정을 filter라고 한다.\n",
    "\n",
    "-저 그래프(speech의 source)서 나오는 첫 번째 frequency는 모두에게 동일. F0=fundamental frequency. 점점 magnitude가 작아진다. 계속 곱하기 2 곱하기 3 이렇게 되는 걸 harmonics라고 부른다.\n",
    "\n",
    "-여자는 F0이 더 높기 때문에 harmonics 사이가 더 듬성듬성.\n",
    "\n",
    "-ex 시험문제: 10000hz까지 여자의 목소리가 더 뭐가 많을까, 남자의 목소리가 뭐가 더 많을까?\n",
    "\n",
    "-스펙트로그램에 따르면 low frequency에 갈수록 magnitude가 더 크고, vice versa.\n",
    "\n",
    "-pure tone 보다는 여러 Hz의 tone을 stere로 합친 것이 훨씬 사람 목소리와 유사하다 (정교하게 하면 사람 목소리랑 똑같이 할 수 있다.) 그렇다면 이 소리는 sin wave를 합친 것일까? no. 동시에 들었지만 합쳐진 것은 아니다.\n",
    "\n",
    "-stereo<->mono -mono로 만든 것은 complex tone! stereo wasn’t complex because we didn’t actually combine the simplex tones, just heard it at the same time.\n",
    "\n",
    "-mono의 반복 주기는 F0과 일치!!!!!! 100Hz. 그리고 이 소리가 인지심리학적으로 어떤 소리랑 일치할까?\n",
    "\n",
    "-view and edit 보면 하나 솟아있고 낮게 되는 것  무한대로 가면 pulse 0000 pulse 0000 의 순서가 된다. 이걸 pulse train이라고 한다.\n",
    "\n",
    "-F1은 모음의 높낮이를 결정한다. height\n",
    "\n",
    "-F2는 앞뒤를 결정한다. (front and back)\n",
    "\n",
    "-한국어 아와 영어 아와 무엇이 다를까? the English form is lower and more back.\n",
    "\n",
    "-the VowelEditor will play the sound for as long as you click on it, and if you drag it it will become a 이중모음"
   ]
  },
  {
   "cell_type": "markdown",
   "metadata": {},
   "source": [
    "<<Lesson 1: Variables>>\n",
    "(HOW TO OPEN: anaconda prompt->'jupyter notebook' enter)\n",
    "\n",
    "왼쪽에는 껍데기, 오른쪽에는 알맹이.\n",
    "\n",
    "왼쪽에는 기호, 오른쪽에는 정보. *VARIABLE ASSIGNMENT*\n",
    "\n",
    "기호에 특정 정보가 할당된다는 것을 보여주기 위해 = 사용. (일반적인 의미의 = 아니다.)\n",
    "\n",
    "*Shift+Enter는 실행(Run)\n",
    "*DELETE CELL: Jupyter Notebook에서 cell 눌러 파란색으로 만든 후 x 누른다.\n",
    "\n",
    "#함수 print(a) = 'a라는 기호의 정보를 출력하라.'"
   ]
  },
  {
   "cell_type": "code",
   "execution_count": 7,
   "metadata": {},
   "outputs": [],
   "source": [
    "a=1"
   ]
  },
  {
   "cell_type": "code",
   "execution_count": 5,
   "metadata": {},
   "outputs": [
    {
     "name": "stdout",
     "output_type": "stream",
     "text": [
      "1\n"
     ]
    }
   ],
   "source": [
    "print(a)"
   ]
  },
  {
   "cell_type": "markdown",
   "metadata": {},
   "source": [
    "#a=1, a=2처럼 같은 정보에 이질적인 정보가 존재할 때는 마지막으로 실행한 것이 (in this case a=1) 함수에 적용된다."
   ]
  },
  {
   "cell_type": "code",
   "execution_count": 6,
   "metadata": {},
   "outputs": [],
   "source": [
    "a=2"
   ]
  },
  {
   "cell_type": "code",
   "execution_count": 9,
   "metadata": {},
   "outputs": [
    {
     "name": "stdout",
     "output_type": "stream",
     "text": [
      "1\n"
     ]
    }
   ],
   "source": [
    "print(a)"
   ]
  },
  {
   "cell_type": "markdown",
   "metadata": {},
   "source": [
    "#숫자가 아닌 문자/단어를 정보로 설정할 때는 string으로 만들어서 넣어야 한다.\n",
    "#str(string) = '   '"
   ]
  },
  {
   "cell_type": "code",
   "execution_count": 31,
   "metadata": {},
   "outputs": [],
   "source": [
    "b='love'"
   ]
  },
  {
   "cell_type": "code",
   "execution_count": 15,
   "metadata": {},
   "outputs": [
    {
     "name": "stdout",
     "output_type": "stream",
     "text": [
      "love\n"
     ]
    }
   ],
   "source": [
    "print(b)"
   ]
  },
  {
   "cell_type": "markdown",
   "metadata": {},
   "source": [
    "#숫자가 아닌 문자/단어를 기호로 설정할 때는 그냥 넣으면 된다."
   ]
  },
  {
   "cell_type": "code",
   "execution_count": 20,
   "metadata": {},
   "outputs": [],
   "source": [
    "love=2"
   ]
  },
  {
   "cell_type": "code",
   "execution_count": 29,
   "metadata": {},
   "outputs": [],
   "source": [
    "b=love"
   ]
  },
  {
   "cell_type": "code",
   "execution_count": 22,
   "metadata": {},
   "outputs": [
    {
     "name": "stdout",
     "output_type": "stream",
     "text": [
      "2\n"
     ]
    }
   ],
   "source": [
    "print(love)"
   ]
  },
  {
   "cell_type": "markdown",
   "metadata": {},
   "source": [
    "#기호에 정보 할당한 다음에 그 기호 중 하나 적으면 자동으로 print된다"
   ]
  },
  {
   "cell_type": "code",
   "execution_count": 25,
   "metadata": {},
   "outputs": [
    {
     "data": {
      "text/plain": [
       "3"
      ]
     },
     "execution_count": 25,
     "metadata": {},
     "output_type": "execute_result"
    }
   ],
   "source": [
    "a=1\n",
    "b=2\n",
    "c=3\n",
    "d=4\n",
    "c"
   ]
  },
  {
   "cell_type": "markdown",
   "metadata": {},
   "source": [
    "#enter 말고 semicolon(;)으로도 식(?) 분할 가능"
   ]
  },
  {
   "cell_type": "code",
   "execution_count": 39,
   "metadata": {},
   "outputs": [
    {
     "data": {
      "text/plain": [
       "2"
      ]
     },
     "execution_count": 39,
     "metadata": {},
     "output_type": "execute_result"
    }
   ],
   "source": [
    "a=1; b=2; c=3; b"
   ]
  },
  {
   "cell_type": "code",
   "execution_count": 40,
   "metadata": {},
   "outputs": [
    {
     "name": "stdout",
     "output_type": "stream",
     "text": [
      "1\n",
      "2\n",
      "3\n"
     ]
    }
   ],
   "source": [
    "print(a); print(b); print(c)"
   ]
  },
  {
   "cell_type": "markdown",
   "metadata": {},
   "source": [
    "#기호=문자/단어 string일 때 print와 그냥 실행하는 것은 다르다 (!)"
   ]
  },
  {
   "cell_type": "code",
   "execution_count": 90,
   "metadata": {},
   "outputs": [
    {
     "name": "stdout",
     "output_type": "stream",
     "text": [
      "love\n"
     ]
    },
    {
     "data": {
      "text/plain": [
       "'love'"
      ]
     },
     "execution_count": 90,
     "metadata": {},
     "output_type": "execute_result"
    }
   ],
   "source": [
    "b='love'\n",
    "print(b)\n",
    "b"
   ]
  },
  {
   "cell_type": "code",
   "execution_count": 37,
   "metadata": {},
   "outputs": [
    {
     "name": "stdout",
     "output_type": "stream",
     "text": [
      "[1, 2]\n"
     ]
    },
    {
     "data": {
      "text/plain": [
       "[1, 2]"
      ]
     },
     "execution_count": 37,
     "metadata": {},
     "output_type": "execute_result"
    }
   ],
   "source": [
    "#cf)\n",
    "c=[1, 2]\n",
    "print(c)\n",
    "c"
   ]
  },
  {
   "cell_type": "markdown",
   "metadata": {},
   "source": [
    "#함수 type(a) = 'a라는 기호의 종류를 출력하라.'\n",
    "#list= [    ]\n",
    "#int(integer) = 정수\n",
    "#float = 실수"
   ]
  },
  {
   "cell_type": "code",
   "execution_count": 41,
   "metadata": {},
   "outputs": [],
   "source": [
    "a=[1,2,3,5]"
   ]
  },
  {
   "cell_type": "code",
   "execution_count": 42,
   "metadata": {},
   "outputs": [
    {
     "data": {
      "text/plain": [
       "list"
      ]
     },
     "execution_count": 42,
     "metadata": {},
     "output_type": "execute_result"
    }
   ],
   "source": [
    "type(a)"
   ]
  },
  {
   "cell_type": "code",
   "execution_count": 43,
   "metadata": {},
   "outputs": [],
   "source": [
    "a=1"
   ]
  },
  {
   "cell_type": "code",
   "execution_count": 44,
   "metadata": {},
   "outputs": [
    {
     "data": {
      "text/plain": [
       "int"
      ]
     },
     "execution_count": 44,
     "metadata": {},
     "output_type": "execute_result"
    }
   ],
   "source": [
    "type(a)"
   ]
  },
  {
   "cell_type": "code",
   "execution_count": 45,
   "metadata": {},
   "outputs": [],
   "source": [
    "a=1.2"
   ]
  },
  {
   "cell_type": "code",
   "execution_count": 46,
   "metadata": {},
   "outputs": [
    {
     "data": {
      "text/plain": [
       "float"
      ]
     },
     "execution_count": 46,
     "metadata": {},
     "output_type": "execute_result"
    }
   ],
   "source": [
    "type(a)"
   ]
  },
  {
   "cell_type": "code",
   "execution_count": 47,
   "metadata": {},
   "outputs": [],
   "source": [
    "a='love'"
   ]
  },
  {
   "cell_type": "code",
   "execution_count": 48,
   "metadata": {},
   "outputs": [
    {
     "data": {
      "text/plain": [
       "str"
      ]
     },
     "execution_count": 48,
     "metadata": {},
     "output_type": "execute_result"
    }
   ],
   "source": [
    "type(a)"
   ]
  },
  {
   "cell_type": "code",
   "execution_count": 49,
   "metadata": {},
   "outputs": [],
   "source": [
    "a=[1,2,3,5,'love']"
   ]
  },
  {
   "cell_type": "code",
   "execution_count": 52,
   "metadata": {},
   "outputs": [
    {
     "data": {
      "text/plain": [
       "list"
      ]
     },
     "execution_count": 52,
     "metadata": {},
     "output_type": "execute_result"
    }
   ],
   "source": [
    "type(a)"
   ]
  },
  {
   "cell_type": "code",
   "execution_count": 53,
   "metadata": {},
   "outputs": [],
   "source": [
    "a=[1,'love',[1,'bye']]"
   ]
  },
  {
   "cell_type": "code",
   "execution_count": 54,
   "metadata": {},
   "outputs": [
    {
     "data": {
      "text/plain": [
       "list"
      ]
     },
     "execution_count": 54,
     "metadata": {},
     "output_type": "execute_result"
    }
   ],
   "source": [
    "type(a)"
   ]
  },
  {
   "cell_type": "markdown",
   "metadata": {},
   "source": [
    "#tuple=(   ) like a list but with 그냥 괄호, not 대괄호"
   ]
  },
  {
   "cell_type": "code",
   "execution_count": 55,
   "metadata": {},
   "outputs": [],
   "source": [
    "a=(1,'love',[1,'bye'])"
   ]
  },
  {
   "cell_type": "code",
   "execution_count": 56,
   "metadata": {},
   "outputs": [
    {
     "data": {
      "text/plain": [
       "tuple"
      ]
     },
     "execution_count": 56,
     "metadata": {},
     "output_type": "execute_result"
    }
   ],
   "source": [
    "type(a)"
   ]
  },
  {
   "cell_type": "markdown",
   "metadata": {},
   "source": [
    "#dict(dictionary)={'':} Uses indexes to access information. single, double quotations both possible.\n",
    "#dict와 str,list의 차이점: 단지 여러 항목을 가지는 것이 아니라 pair-wise로 묶을 수 있다"
   ]
  },
  {
   "cell_type": "code",
   "execution_count": 60,
   "metadata": {},
   "outputs": [],
   "source": [
    "a={'a':'apple', 'b':'banana', \"c\": 2014}"
   ]
  },
  {
   "cell_type": "code",
   "execution_count": 61,
   "metadata": {},
   "outputs": [
    {
     "data": {
      "text/plain": [
       "dict"
      ]
     },
     "execution_count": 61,
     "metadata": {},
     "output_type": "execute_result"
    }
   ],
   "source": [
    "type(a)"
   ]
  },
  {
   "cell_type": "markdown",
   "metadata": {},
   "source": [
    "#기호에 정보를 할당한 후에는 기호끼리 더하기, 곱하기도 가능\n",
    "#더하기 +\n",
    "#곱하기 *"
   ]
  },
  {
   "cell_type": "code",
   "execution_count": 63,
   "metadata": {},
   "outputs": [
    {
     "name": "stdout",
     "output_type": "stream",
     "text": [
      "2\n"
     ]
    }
   ],
   "source": [
    "a=1\n",
    "b=1\n",
    "c=a+b\n",
    "print(c)"
   ]
  },
  {
   "cell_type": "markdown",
   "metadata": {},
   "source": [
    "#컴퓨터에서는 1이 아니라 0부터 센다. 따라서 실제 첫 번째는 코딩에서 0번째, 두 번째는 코딩에서 1번째...\n",
    "#a[0]=list a에서 0번째 항목의 정보를 access해라."
   ]
  },
  {
   "cell_type": "code",
   "execution_count": 131,
   "metadata": {},
   "outputs": [
    {
     "name": "stdout",
     "output_type": "stream",
     "text": [
      "4\n",
      "6\n"
     ]
    }
   ],
   "source": [
    "a=[1,2]\n",
    "b=[3,4]\n",
    "c=a[0]+b[0]\n",
    "d=a[1]+b[1]\n",
    "print(c)\n",
    "print(d)"
   ]
  },
  {
   "cell_type": "markdown",
   "metadata": {},
   "source": [
    "#note the differences below."
   ]
  },
  {
   "cell_type": "code",
   "execution_count": 73,
   "metadata": {},
   "outputs": [
    {
     "data": {
      "text/plain": [
       "int"
      ]
     },
     "execution_count": 73,
     "metadata": {},
     "output_type": "execute_result"
    }
   ],
   "source": [
    "a=1; type(a)"
   ]
  },
  {
   "cell_type": "code",
   "execution_count": 74,
   "metadata": {},
   "outputs": [
    {
     "name": "stdout",
     "output_type": "stream",
     "text": [
      "<class 'int'>\n"
     ]
    }
   ],
   "source": [
    "a=1; print(type(a))"
   ]
  },
  {
   "cell_type": "markdown",
   "metadata": {},
   "source": [
    "#cont. notice how the type changes."
   ]
  },
  {
   "cell_type": "code",
   "execution_count": 77,
   "metadata": {},
   "outputs": [
    {
     "name": "stdout",
     "output_type": "stream",
     "text": [
      "<class 'float'>\n"
     ]
    }
   ],
   "source": [
    "a=1; a=float(a); print(type(a))"
   ]
  },
  {
   "cell_type": "code",
   "execution_count": 81,
   "metadata": {},
   "outputs": [
    {
     "name": "stdout",
     "output_type": "stream",
     "text": [
      "<class 'int'>\n"
     ]
    }
   ],
   "source": [
    "a=1.2; a=int(a); print(type(a))"
   ]
  },
  {
   "cell_type": "code",
   "execution_count": 80,
   "metadata": {},
   "outputs": [
    {
     "name": "stdout",
     "output_type": "stream",
     "text": [
      "1\n"
     ]
    }
   ],
   "source": [
    "a=1.2; a=int(a); print(a)"
   ]
  },
  {
   "cell_type": "code",
   "execution_count": 82,
   "metadata": {},
   "outputs": [
    {
     "name": "stdout",
     "output_type": "stream",
     "text": [
      "<class 'str'>\n",
      "2\n"
     ]
    }
   ],
   "source": [
    "a='123'; print(type(a)); print(a[1])"
   ]
  },
  {
   "cell_type": "markdown",
   "metadata": {},
   "source": [
    "#how to use indexes in a dictionary to access information\n",
    "#indexes can be str or int or..."
   ]
  },
  {
   "cell_type": "code",
   "execution_count": 95,
   "metadata": {},
   "outputs": [
    {
     "name": "stdout",
     "output_type": "stream",
     "text": [
      "<class 'dict'>\n",
      "apple\n"
     ]
    }
   ],
   "source": [
    "a={'a':'apple', 'b':'orange', 'c':2014}\n",
    "print(type(a))\n",
    "print(a[\"a\"])"
   ]
  },
  {
   "cell_type": "code",
   "execution_count": 98,
   "metadata": {},
   "outputs": [
    {
     "name": "stdout",
     "output_type": "stream",
     "text": [
      "<class 'dict'>\n",
      "apple\n"
     ]
    }
   ],
   "source": [
    "a={5.7:'apple',2:345,3:2014}\n",
    "print(type(a))\n",
    "print(a[5.7])"
   ]
  },
  {
   "cell_type": "markdown",
   "metadata": {},
   "source": [
    "#how to use element order in a list to access information"
   ]
  },
  {
   "cell_type": "code",
   "execution_count": 105,
   "metadata": {},
   "outputs": [
    {
     "name": "stdout",
     "output_type": "stream",
     "text": [
      "(1, 2, 3)\n"
     ]
    },
    {
     "data": {
      "text/plain": [
       "tuple"
      ]
     },
     "execution_count": 105,
     "metadata": {},
     "output_type": "execute_result"
    }
   ],
   "source": [
    "a=[(1,2,3), (3,8,0)]\n",
    "print(a[0])\n",
    "type(a[0])"
   ]
  },
  {
   "cell_type": "markdown",
   "metadata": {},
   "source": [
    "<<Lesson 2: String>>\n",
    "\n",
    "*str과 list의 각각의 정보를 access하는 방법은 완전히 동일하다: 앞서 list에 대한 설명에도 나온 것처럼 list a의 0번째 항목에 접근하려면 a[0]을 하면 된다. 마찬가지로 str에서도 0번째 항목(숫자/문자)에 접근하려면 a[0]을 하면 된다.\n",
    "\n",
    "#여러 개를 동시에 print할 때 print 이후의 괄호 안에 여러 개를 comma로 나눠 나열해도 된다 (see below)\n",
    "#by using colons(:), you can print out FROM a certain point TO a certain point. By leaving the space for a number index blank, you are printing out all the information that come before/after.\n",
    "**첫째 숫자부터 둘째 숫자 이.전.까.지. (remember everything is computer-numbered)\n",
    "\n",
    "**ex) a=[1,2,3,4]; print(a[1:3], a[1:], a[:3], a[:])\n",
    "     \n",
    "     ------------------------------------------------------\n",
    "     2 3\n",
    "     2 3 4\n",
    "     1 2 3 4\n",
    "     1 2 3 4\n",
    "     \n",
    "\n",
    "##순서 매.우. 헷갈리니까 주의해서 볼 것. 지금부터 모든 설명은 '컴퓨터상의 순서'로 설명한다.\n",
    "#왼쪽부터의 순서: 0부터 센다-->0번째=실제 1번째, 2번째=실제 3번째\n",
    "\n",
    " 0  1  2  3  4  5\n",
    " \n",
    "-6 -5 -4 -3 -2 -1\n",
    "#순서가 이렇게 된다.\n",
    "#오른쪽부터의 순서: -1부터 센다-->-1번째=오른쪽에서 1번째, -4번째=오른쪽에서 4번째"
   ]
  },
  {
   "cell_type": "code",
   "execution_count": 121,
   "metadata": {},
   "outputs": [
    {
     "name": "stdout",
     "output_type": "stream",
     "text": [
      "a f f a\n",
      "bc bcdef abc abcdef\n",
      "100 300 300 100\n",
      "[200] [200, 300] [100, 200] [100, 200, 300]\n"
     ]
    }
   ],
   "source": [
    "s='abcdef'\n",
    "n=[100,200,300]\n",
    "print(s[0], s[5], s[-1], s[-6])\n",
    "print(s[1:3],s[1:],s[:3],s[:])\n",
    "print(n[0],n[2],n[-1],n[-3])\n",
    "print(n[1:2],n[1:],n[:2],n[:])"
   ]
  },
  {
   "cell_type": "markdown",
   "metadata": {},
   "source": [
    "#len(length)=길이(수치로 나타낸다)"
   ]
  },
  {
   "cell_type": "code",
   "execution_count": 124,
   "metadata": {},
   "outputs": [
    {
     "data": {
      "text/plain": [
       "3"
      ]
     },
     "execution_count": 124,
     "metadata": {},
     "output_type": "execute_result"
    }
   ],
   "source": [
    "len(s); len(n)"
   ]
  },
  {
   "cell_type": "markdown",
   "metadata": {},
   "source": [
    "#colon을 사용해서 access한 정보도 더하기, 곱하기 가능."
   ]
  },
  {
   "cell_type": "code",
   "execution_count": 133,
   "metadata": {},
   "outputs": [
    {
     "data": {
      "text/plain": [
       "'bdefefefefefefefefefef'"
      ]
     },
     "execution_count": 133,
     "metadata": {},
     "output_type": "execute_result"
    }
   ],
   "source": [
    "s[1]+s[3]+s[4:]*10"
   ]
  },
  {
   "cell_type": "markdown",
   "metadata": {},
   "source": [
    "#곱하기는 교환법칙 성립 O. 더하기는 교환법칙 성립 X (적어도 문자에 있어서는. 숫자 더하는 것은 성립)."
   ]
  },
  {
   "cell_type": "code",
   "execution_count": 128,
   "metadata": {},
   "outputs": [
    {
     "data": {
      "text/plain": [
       "'efefefefefefefefefefdb'"
      ]
     },
     "execution_count": 128,
     "metadata": {},
     "output_type": "execute_result"
    }
   ],
   "source": [
    "10*s[4:]+s[3]+s[1]"
   ]
  },
  {
   "cell_type": "markdown",
   "metadata": {},
   "source": [
    "#문자 str를 모두 대문자 혹은 모두 소문자로 바꾸기"
   ]
  },
  {
   "cell_type": "code",
   "execution_count": 142,
   "metadata": {},
   "outputs": [],
   "source": [
    "s='abcDEF'"
   ]
  },
  {
   "cell_type": "code",
   "execution_count": 143,
   "metadata": {},
   "outputs": [
    {
     "data": {
      "text/plain": [
       "'ABCDEF'"
      ]
     },
     "execution_count": 143,
     "metadata": {},
     "output_type": "execute_result"
    }
   ],
   "source": [
    "s.upper()"
   ]
  },
  {
   "cell_type": "code",
   "execution_count": 144,
   "metadata": {},
   "outputs": [
    {
     "data": {
      "text/plain": [
       "'abcdef'"
      ]
     },
     "execution_count": 144,
     "metadata": {},
     "output_type": "execute_result"
    }
   ],
   "source": [
    "s.lower()"
   ]
  },
  {
   "cell_type": "markdown",
   "metadata": {},
   "source": [
    "#How to use 문자 str that are actually sentences (NLP: natural language processing)\n",
    "#mango, apple, kiwi... -> replace 'result' or really any other random symbol(기호)\n",
    "#s.find('   ') = '   ' 안에 있는 단어가 >>왼쪽부터<< (컴퓨터상*) 몇 번째부터 시작하는지 표시해라. (아래 같은 문장처럼 같은 단어가 두 개 이상 있으면 >>왼쪽에서 첫 번째로<< 나오는 단어를 찾는다)\n",
    "#s.rindex('   ) = '   ' 안에 있는 단어가 >>왼쪽부터<< (컴퓨터상*) 몇 번째부터 시작하는지 표시해라. (아래 같은 문장처럼 같은 단어가 두 개 이상 있으면 >>오른쪽에서 첫 번째로<< 나오는 단어를 찾는다) = right index"
   ]
  },
  {
   "cell_type": "code",
   "execution_count": 319,
   "metadata": {},
   "outputs": [],
   "source": [
    "s=' this is a house built this year.'"
   ]
  },
  {
   "cell_type": "code",
   "execution_count": 311,
   "metadata": {},
   "outputs": [
    {
     "data": {
      "text/plain": [
       "1"
      ]
     },
     "execution_count": 311,
     "metadata": {},
     "output_type": "execute_result"
    }
   ],
   "source": [
    "mango=s.find('this')\n",
    "mango"
   ]
  },
  {
   "cell_type": "code",
   "execution_count": 312,
   "metadata": {},
   "outputs": [
    {
     "data": {
      "text/plain": [
       "23"
      ]
     },
     "execution_count": 312,
     "metadata": {},
     "output_type": "execute_result"
    }
   ],
   "source": [
    "kiwi=s.rindex('this')\n",
    "kiwi"
   ]
  },
  {
   "cell_type": "code",
   "execution_count": 313,
   "metadata": {},
   "outputs": [
    {
     "data": {
      "text/plain": [
       "15"
      ]
     },
     "execution_count": 313,
     "metadata": {},
     "output_type": "execute_result"
    }
   ],
   "source": [
    "#cf) 같은 단어 세 개 이상인 경우: 오른쪽에서 첫 번째!\n",
    "y=' this i this u this'\n",
    "result=y.rindex('this')\n",
    "result"
   ]
  },
  {
   "cell_type": "markdown",
   "metadata": {},
   "source": [
    "#문자 sequence에서 특정 단어가 한 번만 등장한다면 find와 rindex 함수의 결과가 동일하다 (see below)"
   ]
  },
  {
   "cell_type": "code",
   "execution_count": 314,
   "metadata": {},
   "outputs": [
    {
     "data": {
      "text/plain": [
       "11"
      ]
     },
     "execution_count": 314,
     "metadata": {},
     "output_type": "execute_result"
    }
   ],
   "source": [
    "apple=s.find('house')\n",
    "apple"
   ]
  },
  {
   "cell_type": "code",
   "execution_count": 315,
   "metadata": {},
   "outputs": [
    {
     "data": {
      "text/plain": [
       "11"
      ]
     },
     "execution_count": 315,
     "metadata": {},
     "output_type": "execute_result"
    }
   ],
   "source": [
    "orange=s.rindex('house')\n",
    "orange"
   ]
  },
  {
   "cell_type": "markdown",
   "metadata": {},
   "source": [
    "#strip = a copy of a without leading or trailing whitespace"
   ]
  },
  {
   "cell_type": "code",
   "execution_count": 320,
   "metadata": {},
   "outputs": [
    {
     "data": {
      "text/plain": [
       "'this is a house built this year.'"
      ]
     },
     "execution_count": 320,
     "metadata": {},
     "output_type": "execute_result"
    }
   ],
   "source": [
    "t=s.strip()\n",
    "t"
   ]
  },
  {
   "cell_type": "markdown",
   "metadata": {},
   "source": [
    "#split = quotation marks 안에 있는 것이 있는 곳마다 쪼개서 list 생성(whitespace by default)"
   ]
  },
  {
   "cell_type": "code",
   "execution_count": 321,
   "metadata": {},
   "outputs": [
    {
     "data": {
      "text/plain": [
       "['this', 'is', 'a', 'house', 'built', 'this', 'year.']"
      ]
     },
     "execution_count": 321,
     "metadata": {},
     "output_type": "execute_result"
    }
   ],
   "source": [
    "rain=s.split()\n",
    "rain"
   ]
  },
  {
   "cell_type": "code",
   "execution_count": 324,
   "metadata": {},
   "outputs": [
    {
     "data": {
      "text/plain": [
       "['', 'this', 'is', 'a', 'house', 'built', 'this', 'year.']"
      ]
     },
     "execution_count": 324,
     "metadata": {},
     "output_type": "execute_result"
    }
   ],
   "source": [
    "#cf)?????\n",
    "rain=s.split(' ')\n",
    "rain"
   ]
  },
  {
   "cell_type": "code",
   "execution_count": 325,
   "metadata": {},
   "outputs": [
    {
     "data": {
      "text/plain": [
       "[' this is a house built this year.']"
      ]
     },
     "execution_count": 325,
     "metadata": {},
     "output_type": "execute_result"
    }
   ],
   "source": [
    "rain=s.split(',')\n",
    "rain"
   ]
  },
  {
   "cell_type": "code",
   "execution_count": 326,
   "metadata": {},
   "outputs": [
    {
     "data": {
      "text/plain": [
       "[' this is a house built this year', '']"
      ]
     },
     "execution_count": 326,
     "metadata": {},
     "output_type": "execute_result"
    }
   ],
   "source": [
    "rain=s.split('.')\n",
    "rain"
   ]
  },
  {
   "cell_type": "markdown",
   "metadata": {},
   "source": [
    "#' '.join(rain): quotation marks 안에 있는 것으로 괄호 안의 쪼개진 것을 잇는다."
   ]
  },
  {
   "cell_type": "code",
   "execution_count": 327,
   "metadata": {},
   "outputs": [
    {
     "data": {
      "text/plain": [
       "' this is a house built this year '"
      ]
     },
     "execution_count": 327,
     "metadata": {},
     "output_type": "execute_result"
    }
   ],
   "source": [
    "rain=' '.join(rain)\n",
    "rain"
   ]
  },
  {
   "cell_type": "markdown",
   "metadata": {},
   "source": [
    "#rain. replace('a','b'): rain이라는 문장 안에 있는 모든 a라는 단어를 모두 b로 바꾼다."
   ]
  },
  {
   "cell_type": "code",
   "execution_count": 328,
   "metadata": {},
   "outputs": [
    {
     "data": {
      "text/plain": [
       "' that is a house built that year '"
      ]
     },
     "execution_count": 328,
     "metadata": {},
     "output_type": "execute_result"
    }
   ],
   "source": [
    "rain=rain.replace('this','that')\n",
    "rain"
   ]
  },
  {
   "cell_type": "markdown",
   "metadata": {},
   "source": [
    "<<Lesson 3: Syntax>>\n",
    "\n",
    "Using the 'for loop'\n",
    "\n",
    "#기본:\n",
    "\n",
    "for i in a:\n",
    "\n",
    "(indent***)blahblahblah\n",
    "\n",
    "--> a 안에 있는 요소를 하나하나씩 i에다가 넣고 순서대로 실행해라."
   ]
  },
  {
   "cell_type": "code",
   "execution_count": 215,
   "metadata": {},
   "outputs": [
    {
     "name": "stdout",
     "output_type": "stream",
     "text": [
      "1\n",
      "2\n",
      "3\n",
      "4\n"
     ]
    }
   ],
   "source": [
    "##그대로 프린트하기 1번째##\n",
    "a=[1,2,3,4]\n",
    "for i in a:\n",
    "    print(i)"
   ]
  },
  {
   "cell_type": "markdown",
   "metadata": {},
   "source": [
    "#range(x)= x 개수만큼 index 만들어준다. (역시나 컴퓨터상 순서.) ex) range(4) --> 0 1 2 3."
   ]
  },
  {
   "cell_type": "code",
   "execution_count": 216,
   "metadata": {},
   "outputs": [
    {
     "name": "stdout",
     "output_type": "stream",
     "text": [
      "1\n",
      "2\n",
      "3\n",
      "4\n"
     ]
    }
   ],
   "source": [
    "##그대로 프린트하기 2번째##(개수를 알 때)\n",
    "a=[1,2,3,4]\n",
    "for i in range(4):\n",
    "    print(a[i])"
   ]
  },
  {
   "cell_type": "code",
   "execution_count": 211,
   "metadata": {},
   "outputs": [
    {
     "name": "stdout",
     "output_type": "stream",
     "text": [
      "0\n",
      "1\n",
      "2\n",
      "3\n"
     ]
    }
   ],
   "source": [
    "#cf)\n",
    "for i in range(4):\n",
    "    print(i)"
   ]
  },
  {
   "cell_type": "code",
   "execution_count": 218,
   "metadata": {},
   "outputs": [
    {
     "name": "stdout",
     "output_type": "stream",
     "text": [
      "1\n",
      "2\n",
      "3\n",
      "4\n"
     ]
    }
   ],
   "source": [
    "##그대로 프린트하기 3번째##(개수를 모를 때)\n",
    "a=[1,2,3,4]\n",
    "for i in range(len(a)):\n",
    "    print(a[i])"
   ]
  },
  {
   "cell_type": "code",
   "execution_count": 221,
   "metadata": {},
   "outputs": [
    {
     "name": "stdout",
     "output_type": "stream",
     "text": [
      "1\n",
      "2\n",
      "3\n",
      "4\n"
     ]
    }
   ],
   "source": [
    "##그대로 프린트하기 4번째##(노가다, 비효율적)\n",
    "a=[1,2,3,4]\n",
    "print(a[0])\n",
    "print(a[1])\n",
    "print(a[2])\n",
    "print(a[3])"
   ]
  },
  {
   "cell_type": "markdown",
   "metadata": {},
   "source": [
    "#in string"
   ]
  },
  {
   "cell_type": "code",
   "execution_count": 271,
   "metadata": {},
   "outputs": [
    {
     "name": "stdout",
     "output_type": "stream",
     "text": [
      "red\n",
      "green\n",
      "blue\n",
      "purple\n"
     ]
    }
   ],
   "source": [
    "#cf 1)\n",
    "b=['red','green','blue','purple']\n",
    "for s in b:\n",
    "    print(s)"
   ]
  },
  {
   "cell_type": "markdown",
   "metadata": {},
   "source": [
    "#enumerate(열거, 번호매기기-0부터 시작): list, tuple, string처럼 순서가 있는 것들을 입력으로 가지고, 자동적으로 index를 붙여줘서 두 가지 문자를 활용할 수 있다.\n",
    "ex. a=['breakfast', 'lunch', 'dinner']이라면\n",
    "\n",
    "for x, y in enumerate(a): >>>>x가 index, y가 a 속의 요소.\n",
    "\n",
    "    print(y, x+1)\n",
    "    \n",
    "----------------------\n",
    "breakfast 1\n",
    "\n",
    "lunch 2\n",
    "\n",
    "dinner 3"
   ]
  },
  {
   "cell_type": "code",
   "execution_count": 282,
   "metadata": {},
   "outputs": [
    {
     "name": "stdout",
     "output_type": "stream",
     "text": [
      "apple: 30.0%\n",
      "mango: 20.0%\n",
      "grape: 10.0%\n",
      "kiwi: 40.0%\n"
     ]
    }
   ],
   "source": [
    "a=['apple','mango','grape','kiwi']\n",
    "b=[0.3,0.2,0.1,0.4]\n",
    "for index, value in enumerate(a):\n",
    "    print(\"{}: {}%\".format(value, b[index]*100))"
   ]
  },
  {
   "cell_type": "markdown",
   "metadata": {},
   "source": [
    "#zip(합치기, 둘씩 묶기): '동일한 개수로 이루어진 자료를 묶어주는 함수'"
   ]
  },
  {
   "cell_type": "code",
   "execution_count": 284,
   "metadata": {},
   "outputs": [
    {
     "name": "stdout",
     "output_type": "stream",
     "text": [
      "apple: 30.0%\n",
      "mango: 20.0%\n",
      "grape: 10.0%\n",
      "kiwi: 40.0%\n"
     ]
    }
   ],
   "source": [
    "for a_, b_ in zip(a,b):\n",
    "    print(\"{}: {}%\".format(a_, b_*100))"
   ]
  },
  {
   "cell_type": "markdown",
   "metadata": {},
   "source": [
    "#if: 조건 달기\n",
    "\n",
    "= assigning variables\n",
    "\n",
    "== 같다\n",
    "\n",
    "!= 같지 않다"
   ]
  },
  {
   "cell_type": "code",
   "execution_count": 294,
   "metadata": {},
   "outputs": [
    {
     "name": "stdout",
     "output_type": "stream",
     "text": [
      "yay!\n",
      "let's go\n"
     ]
    }
   ],
   "source": [
    "a=0\n",
    "if a==0:\n",
    "    print(\"yay!\")\n",
    "    print(\"let's go\")"
   ]
  },
  {
   "cell_type": "code",
   "execution_count": 297,
   "metadata": {},
   "outputs": [
    {
     "name": "stdout",
     "output_type": "stream",
     "text": [
      "a is not no.1\n"
     ]
    }
   ],
   "source": [
    "if a!=1:\n",
    "    print(\"a is not no.1\")\n",
    "if a!=0:\n",
    "    print(\"a is not no.0\")"
   ]
  },
  {
   "cell_type": "markdown",
   "metadata": {},
   "source": [
    "#if에 해당하지 않는 것들은 else로 출력 결과 변경할 수 있다.\n",
    "#==,!= 말고도 >=, =<도 사용 가능"
   ]
  },
  {
   "cell_type": "code",
   "execution_count": 298,
   "metadata": {},
   "outputs": [
    {
     "name": "stdout",
     "output_type": "stream",
     "text": [
      "yay!\n",
      "let's go!\n"
     ]
    }
   ],
   "source": [
    "a=0\n",
    "if a>=0:\n",
    "    print(\"yay!\")\n",
    "    print(\"let's go!\")"
   ]
  },
  {
   "cell_type": "code",
   "execution_count": 299,
   "metadata": {},
   "outputs": [
    {
     "name": "stdout",
     "output_type": "stream",
     "text": [
      "not zero\n"
     ]
    }
   ],
   "source": [
    "a=0\n",
    "if a!=0:\n",
    "    print(\"yay!\")\n",
    "    print(\"let's go!\")\n",
    "else:\n",
    "    print(\"not zero\")"
   ]
  },
  {
   "cell_type": "markdown",
   "metadata": {},
   "source": [
    "#두 번 for loop"
   ]
  },
  {
   "cell_type": "code",
   "execution_count": 300,
   "metadata": {},
   "outputs": [
    {
     "name": "stdout",
     "output_type": "stream",
     "text": [
      "3\n",
      "4\n",
      "6\n",
      "8\n"
     ]
    }
   ],
   "source": [
    "for i in range(1,3):\n",
    "    for j in range(3,5):\n",
    "        print(i*j)"
   ]
  },
  {
   "cell_type": "code",
   "execution_count": 301,
   "metadata": {},
   "outputs": [
    {
     "name": "stdout",
     "output_type": "stream",
     "text": [
      "1\n",
      "3\n",
      "4\n",
      "2\n",
      "6\n",
      "8\n"
     ]
    }
   ],
   "source": [
    "#cf-print(i)를 하면 위와 달라진다.\n",
    "for i in range(1,3):\n",
    "    print(i)\n",
    "    for j in range(3,5):\n",
    "        print(i*j)"
   ]
  },
  {
   "cell_type": "code",
   "execution_count": 304,
   "metadata": {},
   "outputs": [
    {
     "name": "stdout",
     "output_type": "stream",
     "text": [
      "4\n",
      "8\n"
     ]
    }
   ],
   "source": [
    "for i in range(1,3):\n",
    "    for j in range(3,5):\n",
    "        if j>=4:\n",
    "            print(i*j)"
   ]
  },
  {
   "cell_type": "code",
   "execution_count": 307,
   "metadata": {},
   "outputs": [
    {
     "ename": "IndentationError",
     "evalue": "expected an indented block (<ipython-input-307-52ea4f7ac138>, line 3)",
     "output_type": "error",
     "traceback": [
      "\u001b[1;36m  File \u001b[1;32m\"<ipython-input-307-52ea4f7ac138>\"\u001b[1;36m, line \u001b[1;32m3\u001b[0m\n\u001b[1;33m    for j in range(3,5):\u001b[0m\n\u001b[1;37m      ^\u001b[0m\n\u001b[1;31mIndentationError\u001b[0m\u001b[1;31m:\u001b[0m expected an indented block\n"
     ]
    }
   ],
   "source": [
    "#cf) error. *항상 indent랑 colon 조심해라!! indent 만들어도 해당되는 게 없어서 출력 안 됨*\n",
    "for i in range(1,3):\n",
    "    if i>=3:\n",
    "    for j in range(3,5):\n",
    "        print(i*j)"
   ]
  },
  {
   "cell_type": "markdown",
   "metadata": {},
   "source": [
    "ADDITIONAL: for in - list"
   ]
  },
  {
   "cell_type": "code",
   "execution_count": 308,
   "metadata": {},
   "outputs": [
    {
     "name": "stdout",
     "output_type": "stream",
     "text": [
      "[2, 3, 4]\n"
     ]
    }
   ],
   "source": [
    "a=[1,2,3,4]\n",
    "b=[i for i in a if i>=2]\n",
    "print(b)"
   ]
  },
  {
   "cell_type": "code",
   "execution_count": 309,
   "metadata": {},
   "outputs": [
    {
     "name": "stdout",
     "output_type": "stream",
     "text": [
      "['blue', 'green', 'purple']\n"
     ]
    }
   ],
   "source": [
    "a=['red','blue','green','purple']\n",
    "b=[i for i in a if len(i)>=4]\n",
    "print(b)"
   ]
  },
  {
   "cell_type": "markdown",
   "metadata": {},
   "source": [
    "NUMPY BASICS\n",
    "\n",
    "데이터: 수치화해놓아야 데이터라고 부를 수 있다.\n",
    "\n",
    "행렬: 같은 길이의 가로와 세로로, 직사각형 모양으로, 숫자를 배열해놓은 것\n",
    "\n",
    "ex. 이미지는 행렬이다.\n",
    "\n",
    "모든 데이터는 vector(숫자열)의 형태로 되어야 한다. (행렬의 형태 그 자체로는 벡터가 아니고, 한 줄씩 따와서 나열해야 한다.)\n",
    "\n",
    "ex. 이미지를 쭉 늘어놓은 것이 vector화 한 것\n",
    "\n",
    "동영상은 시간별로 세 장 (RGB)가 겹쳐져 있는 것. \n",
    "이미지는 2차원. (벡터)\n",
    "컬러사진 이미지는 3차원.\n",
    "영상은 4차원. (가로세로두께+시간까지 4차원)\n",
    "텍스트도 벡터화. (첫번째 단어=100000, 일곱번째 단어=0000001)\n",
    "\n",
    "\n",
    "What about sound(소리)?"
   ]
  },
  {
   "cell_type": "code",
   "execution_count": 1,
   "metadata": {},
   "outputs": [
    {
     "data": {
      "text/plain": [
       "[1, 3, 5, 2, 4, 6]"
      ]
     },
     "execution_count": 1,
     "metadata": {},
     "output_type": "execute_result"
    }
   ],
   "source": [
    "#library import 하기 (아나콘다 설치한 게 라이브러리 여러 개 설치한 것. library=many functions)\n",
    "#제일 중요한 library: numpy -- list 중에서도, 그 안에 숫자가 들어갈 때\n",
    "a=[1,3,5]\n",
    "b=[2,4,6]\n",
    "c= a+b\n",
    "c\n",
    "#list의 상태에서는 어떠한 수학적인 action이 취해지지 않는다. 여기서도 수치의 덧셈이 되지 않는다. 수학적 처리가 되지 않는다."
   ]
  },
  {
   "cell_type": "code",
   "execution_count": 10,
   "metadata": {},
   "outputs": [],
   "source": [
    "import numpy as np\n",
    "##import는 함수?"
   ]
  },
  {
   "cell_type": "code",
   "execution_count": 11,
   "metadata": {},
   "outputs": [],
   "source": [
    "A=np.array(a)\n",
    "B=np.array(b)\n",
    "#array: list를 mathematically operable한 상태로 변화시켜준다."
   ]
  },
  {
   "cell_type": "code",
   "execution_count": 12,
   "metadata": {},
   "outputs": [
    {
     "data": {
      "text/plain": [
       "array([ 3,  7, 11])"
      ]
     },
     "execution_count": 12,
     "metadata": {},
     "output_type": "execute_result"
    }
   ],
   "source": [
    "A+B"
   ]
  },
  {
   "cell_type": "code",
   "execution_count": 13,
   "metadata": {},
   "outputs": [
    {
     "data": {
      "text/plain": [
       "numpy.ndarray"
      ]
     },
     "execution_count": 13,
     "metadata": {},
     "output_type": "execute_result"
    }
   ],
   "source": [
    "type(A)\n",
    "#nd: n dimensional"
   ]
  },
  {
   "cell_type": "code",
   "execution_count": 14,
   "metadata": {},
   "outputs": [
    {
     "data": {
      "text/plain": [
       "array([[1, 2, 3],\n",
       "       [4, 5, 6]])"
      ]
     },
     "execution_count": 14,
     "metadata": {},
     "output_type": "execute_result"
    }
   ],
   "source": [
    "X=np.array([[1,2,3], [4,5,6]])\n",
    "X"
   ]
  },
  {
   "cell_type": "code",
   "execution_count": 16,
   "metadata": {},
   "outputs": [],
   "source": [
    "import numpy as np\n",
    "import matplotlib.pyplot as plt\n",
    "#=\n",
    "from matplotlib import pyplot as plt"
   ]
  },
  {
   "cell_type": "code",
   "execution_count": 17,
   "metadata": {},
   "outputs": [
    {
     "data": {
      "text/plain": [
       "array([[         0, 1072168960,          0],\n",
       "       [1072168960,          0,          0]])"
      ]
     },
     "execution_count": 17,
     "metadata": {},
     "output_type": "execute_result"
    }
   ],
   "source": [
    "np.empty([2,3], dtype='int')\n",
    "#2행x3열 직사각형 list로 만든 것. dtype=data type.\n",
    "#3개짜리 list가 두 개(행). 숫자는 랜덤"
   ]
  },
  {
   "cell_type": "code",
   "execution_count": 18,
   "metadata": {},
   "outputs": [
    {
     "data": {
      "text/plain": [
       "array([[0., 0., 0.],\n",
       "       [0., 0., 0.]])"
      ]
     },
     "execution_count": 18,
     "metadata": {},
     "output_type": "execute_result"
    }
   ],
   "source": [
    "np.zeros([2,3])\n",
    "#np라이브러리에서 zeros라는 함수를 불러온 것.\n",
    "#zeros: 2x3의 matrix 만들어내는데 모두 0으로 채워졌다."
   ]
  },
  {
   "cell_type": "code",
   "execution_count": 19,
   "metadata": {},
   "outputs": [
    {
     "data": {
      "text/plain": [
       "[[0, 0, 0], [0, 0, 0]]"
      ]
     },
     "execution_count": 19,
     "metadata": {},
     "output_type": "execute_result"
    }
   ],
   "source": [
    "[[0,0,0], [0,0,0]]\n",
    "#이건 (수치로서, 계산용으로서) 사용 불가한 list. 계산에 사용하려면 array로 만들어야 한다!"
   ]
  },
  {
   "cell_type": "code",
   "execution_count": 20,
   "metadata": {},
   "outputs": [
    {
     "data": {
      "text/plain": [
       "array([[0, 0, 0],\n",
       "       [0, 0, 0]])"
      ]
     },
     "execution_count": 20,
     "metadata": {},
     "output_type": "execute_result"
    }
   ],
   "source": [
    "np.array([[0,0,0], [0,0,0]])"
   ]
  },
  {
   "cell_type": "code",
   "execution_count": 21,
   "metadata": {},
   "outputs": [
    {
     "data": {
      "text/plain": [
       "array([[1., 1., 1.],\n",
       "       [1., 1., 1.]])"
      ]
     },
     "execution_count": 21,
     "metadata": {},
     "output_type": "execute_result"
    }
   ],
   "source": [
    "np.ones([2,3])\n",
    "#ones라는 함수는 default로 float이라는 data type을 가진다."
   ]
  },
  {
   "cell_type": "code",
   "execution_count": 22,
   "metadata": {},
   "outputs": [
    {
     "data": {
      "text/plain": [
       "array([[1., 1., 1.],\n",
       "       [1., 1., 1.]])"
      ]
     },
     "execution_count": 22,
     "metadata": {},
     "output_type": "execute_result"
    }
   ],
   "source": [
    "np.ones([2,3], dtype='int')\n",
    "np.ones([2,3], dtype='float64')\n",
    "#float64?: good-정확도를 높일 수 있다. 오류를 줄일 수 있다 (소수점 아래 몇 째자리까지 표현 가능), bad-메모리 많이 차지\n",
    "#일단 float은 32, 64 가능 (2의 제곱?)"
   ]
  },
  {
   "cell_type": "code",
   "execution_count": 23,
   "metadata": {},
   "outputs": [
    {
     "data": {
      "text/plain": [
       "array([0, 1, 2, 3, 4])"
      ]
     },
     "execution_count": 23,
     "metadata": {},
     "output_type": "execute_result"
    }
   ],
   "source": [
    "np.arange(5)\n",
    "#arange=array range (5미만-index 5개) (이상, 미만)"
   ]
  },
  {
   "cell_type": "code",
   "execution_count": 24,
   "metadata": {},
   "outputs": [
    {
     "data": {
      "text/plain": [
       "array([0., 2., 4., 6., 8.])"
      ]
     },
     "execution_count": 24,
     "metadata": {},
     "output_type": "execute_result"
    }
   ],
   "source": [
    "np.arange(0,10,2, dtype='float64')\n",
    "#np.arange(a,b,c): a 이상 b 미만 c만큼 띄어라 (increment)"
   ]
  },
  {
   "cell_type": "code",
   "execution_count": 25,
   "metadata": {},
   "outputs": [
    {
     "data": {
      "text/plain": [
       "array([ 0.,  2.,  4.,  6.,  8., 10.])"
      ]
     },
     "execution_count": 25,
     "metadata": {},
     "output_type": "execute_result"
    }
   ],
   "source": [
    "np.linspace(0,10,6)\n",
    "#linspace=linear space\n",
    "#np.linspace(a,b,c): a 이상 b 미만 6개의 숫자로 나눠라 (increments are EQUAL)"
   ]
  },
  {
   "cell_type": "code",
   "execution_count": 26,
   "metadata": {},
   "outputs": [
    {
     "data": {
      "text/plain": [
       "array([[[1, 2],\n",
       "        [3, 4],\n",
       "        [5, 6]],\n",
       "\n",
       "       [[1, 2],\n",
       "        [3, 4],\n",
       "        [5, 6]]])"
      ]
     },
     "execution_count": 26,
     "metadata": {},
     "output_type": "execute_result"
    }
   ],
   "source": [
    "X=np.array([[[1,2],[3,4],[5,6]], [[1,2],[3,4],[5,6]]])\n",
    "X\n",
    "#벡터는 1차원, matrix/행렬은 2차원, volume이 있는 직육면체는 3차원--> 대괄호의 개수가 차원의 수"
   ]
  },
  {
   "cell_type": "code",
   "execution_count": 27,
   "metadata": {},
   "outputs": [
    {
     "data": {
      "text/plain": [
       "3"
      ]
     },
     "execution_count": 27,
     "metadata": {},
     "output_type": "execute_result"
    }
   ],
   "source": [
    "X.ndim\n",
    "#차원의 개수 알려준다."
   ]
  },
  {
   "cell_type": "code",
   "execution_count": 28,
   "metadata": {},
   "outputs": [
    {
     "data": {
      "text/plain": [
       "(2, 3, 2)"
      ]
     },
     "execution_count": 28,
     "metadata": {},
     "output_type": "execute_result"
    }
   ],
   "source": [
    "X.shape\n",
    "#차원보다 더 구체적으로 나와있다. 숫자가 3개니까 3차원. - 제일 큰 괄호부터 생각해랴! (3차원, 2차원(행?), 1차원(열?))"
   ]
  },
  {
   "cell_type": "code",
   "execution_count": 29,
   "metadata": {},
   "outputs": [
    {
     "data": {
      "text/plain": [
       "dtype('int32')"
      ]
     },
     "execution_count": 29,
     "metadata": {},
     "output_type": "execute_result"
    }
   ],
   "source": [
    "X.dtype\n",
    "#similar to float64"
   ]
  },
  {
   "cell_type": "code",
   "execution_count": 30,
   "metadata": {},
   "outputs": [
    {
     "data": {
      "text/plain": [
       "array([[[1., 2.],\n",
       "        [3., 4.],\n",
       "        [5., 6.]],\n",
       "\n",
       "       [[1., 2.],\n",
       "        [3., 4.],\n",
       "        [5., 6.]]])"
      ]
     },
     "execution_count": 30,
     "metadata": {},
     "output_type": "execute_result"
    }
   ],
   "source": [
    "#type 바꿀 떄\n",
    "X.astype(np.float64)"
   ]
  },
  {
   "cell_type": "code",
   "execution_count": 31,
   "metadata": {},
   "outputs": [
    {
     "data": {
      "text/plain": [
       "array([[[0, 0],\n",
       "        [0, 0],\n",
       "        [0, 0]],\n",
       "\n",
       "       [[0, 0],\n",
       "        [0, 0],\n",
       "        [0, 0]]])"
      ]
     },
     "execution_count": 31,
     "metadata": {},
     "output_type": "execute_result"
    }
   ],
   "source": [
    "np.zeros_like(X)\n",
    "#똑같이 형태를 유지한 채 숫자를 다 0으로 교체."
   ]
  },
  {
   "cell_type": "code",
   "execution_count": 32,
   "metadata": {},
   "outputs": [
    {
     "data": {
      "text/plain": [
       "array([[[0, 0],\n",
       "        [0, 0],\n",
       "        [0, 0]],\n",
       "\n",
       "       [[0, 0],\n",
       "        [0, 0],\n",
       "        [0, 0]]])"
      ]
     },
     "execution_count": 32,
     "metadata": {},
     "output_type": "execute_result"
    }
   ],
   "source": [
    "X*0\n",
    "#위와 같게 나온다"
   ]
  },
  {
   "cell_type": "code",
   "execution_count": 33,
   "metadata": {},
   "outputs": [
    {
     "name": "stdout",
     "output_type": "stream",
     "text": [
      "[-0.41058062 -0.21078754  0.37838007 -1.20165593  0.0171923   1.23921586\n",
      "  0.31372776  0.55127622  1.07911643  1.32302962 -1.482432    0.84193565\n",
      "  1.46366661  1.44665932 -0.87997281  1.29555834 -0.8255908   0.04562227\n",
      " -1.04554277  2.06195887  1.03483577  0.70550672 -0.32913827 -0.44473537\n",
      "  0.00792598  0.03709933  1.06219814  1.09704356 -0.40814788 -0.44962296\n",
      " -1.36255589  0.1454532  -0.31196079 -1.04926381  2.36737936 -0.65008686\n",
      " -1.88138922 -0.64960399 -1.6742335  -0.25286293 -1.17052264  0.2792958\n",
      "  0.30415563  1.47123669  1.31810165 -0.51599734  1.11598975 -1.61751922\n",
      "  0.934619    1.2848276  -0.22582149  1.32204344 -0.22730844 -1.03244163\n",
      "  0.30590165 -0.3372491  -0.10246986 -0.345887    0.06984729 -0.42191165\n",
      " -0.73906314  0.66919198  1.78151932 -1.04068181 -0.61681326 -2.50845154\n",
      " -0.77904051 -0.66609458  1.57708017 -1.56382056 -0.99301168 -0.0685674\n",
      "  0.68677422 -2.23285753  0.40916934 -0.49769771  0.10180491  0.38069559\n",
      " -0.8387061  -0.67021944  0.69875378  0.87221756 -0.63000291  0.15288822\n",
      " -1.00085324 -1.03640717  0.06857646 -1.35364857  0.6410929  -0.63123756\n",
      "  1.3100272  -0.27493452 -0.57387788 -1.90027104 -0.11946701  0.11067522\n",
      " -0.76308634 -0.49194805 -0.13489235 -1.27602439]\n"
     ]
    }
   ],
   "source": [
    "data=np.random.normal(0,1,100)\n",
    "print(data)\n",
    "#(mean, standard deviation, 개수)\n",
    "#'normal distribution' = 정규분포 만들어라 (종 모양_으로 그래프가 나올 데이터 생성)\n",
    "#실행하기 싫을 때는 그 줄 앞에 % 붙이면 된다."
   ]
  },
  {
   "cell_type": "code",
   "execution_count": 34,
   "metadata": {},
   "outputs": [
    {
     "data": {
      "text/plain": [
       "1"
      ]
     },
     "execution_count": 34,
     "metadata": {},
     "output_type": "execute_result"
    }
   ],
   "source": [
    "data.ndim\n",
    "#대괄호가 하나밖에 없다."
   ]
  },
  {
   "cell_type": "code",
   "execution_count": 35,
   "metadata": {},
   "outputs": [
    {
     "data": {
      "text/plain": [
       "(100,)"
      ]
     },
     "execution_count": 35,
     "metadata": {},
     "output_type": "execute_result"
    }
   ],
   "source": [
    "data.shape"
   ]
  },
  {
   "cell_type": "code",
   "execution_count": 36,
   "metadata": {},
   "outputs": [
    {
     "name": "stdout",
     "output_type": "stream",
     "text": [
      "[ 1.23174716  1.96673809 -0.23258305  0.22814556 -1.26622904 -1.90175924\n",
      " -0.49033965  0.1899404  -0.16953414 -1.38367667  0.65802405 -0.05802123\n",
      "  1.23558343  0.64399569  0.33067626 -0.95512379  1.86388832 -0.58810392\n",
      " -0.74438818  1.04528302  0.87194677 -0.65654366  0.10346145  1.26811616\n",
      "  0.97019525 -0.95625415 -0.472647   -0.10215664 -0.48097835 -1.32171191\n",
      " -1.05190981 -0.00605741 -0.592193    1.31406406 -0.72271192 -0.98622044\n",
      " -1.99062779  1.42571615  0.88702078  1.85068961 -0.7457282   0.33241773\n",
      "  0.6180763   0.30051399  0.74126633  0.07125169 -0.91109451 -0.42394484\n",
      " -0.54582071  0.69764327 -0.62706317 -1.60750497  1.05597131 -1.23045666\n",
      "  0.37863432  0.8346738  -0.29026567 -0.52279286 -0.24817312  1.24770735\n",
      "  0.45505843  0.53688016  0.82710542  1.33900559 -0.40425468 -0.09877735\n",
      "  0.68278962 -0.11448188  2.13688197  0.71796649 -0.45943377 -0.32833748\n",
      "  0.21777086  1.114893    0.33086243  0.19707045  0.20403555  0.71659761\n",
      "  0.74763957 -0.61027954 -0.24988295  0.91742197  0.29865915  0.12019285\n",
      " -0.96091615 -0.08529209  1.93958046 -0.59505976  0.96279058  0.36740788\n",
      "  0.47049381 -0.64658303 -1.85213991 -0.53376039  1.52459479 -1.23055181\n",
      " -0.46169905  1.33153402 -0.55589815  1.14715952]\n"
     ]
    },
    {
     "data": {
      "image/png": "[encoded data removed]",
      "text/plain": [
       "<Figure size 432x288 with 1 Axes>"
      ]
     },
     "metadata": {
      "needs_background": "light"
     },
     "output_type": "display_data"
    }
   ],
   "source": [
    "data=np.random.normal(0,1,100)\n",
    "print(data)\n",
    "plt.hist(data, bins=10)\n",
    "plt.show()\n",
    "#hist=histogram\n",
    "#bin=바구니 (bin을 몇 개로 할 것이가? 결정)\n",
    "#왜 세로축이 정수로 나온다는 것..?"
   ]
  },
  {
   "cell_type": "code",
   "execution_count": 37,
   "metadata": {},
   "outputs": [
    {
     "data": {
      "text/plain": [
       "array([[[1., 1., 1., 1.],\n",
       "        [1., 1., 1., 1.],\n",
       "        [1., 1., 1., 1.]],\n",
       "\n",
       "       [[1., 1., 1., 1.],\n",
       "        [1., 1., 1., 1.],\n",
       "        [1., 1., 1., 1.]]])"
      ]
     },
     "execution_count": 37,
     "metadata": {},
     "output_type": "execute_result"
    }
   ],
   "source": [
    "X=np.ones([2,3,4])\n",
    "X"
   ]
  },
  {
   "cell_type": "code",
   "execution_count": 38,
   "metadata": {},
   "outputs": [
    {
     "data": {
      "text/plain": [
       "array([[[1., 1.],\n",
       "        [1., 1.],\n",
       "        [1., 1.]],\n",
       "\n",
       "       [[1., 1.],\n",
       "        [1., 1.],\n",
       "        [1., 1.]],\n",
       "\n",
       "       [[1., 1.],\n",
       "        [1., 1.],\n",
       "        [1., 1.]],\n",
       "\n",
       "       [[1., 1.],\n",
       "        [1., 1.],\n",
       "        [1., 1.]]])"
      ]
     },
     "execution_count": 38,
     "metadata": {},
     "output_type": "execute_result"
    }
   ],
   "source": [
    "#reshape는 매우 중요한 함수-->shape은 보여주는 것, reshape는 아예 바꿔버리는 것\n",
    "Y=X.reshape(-1,3,2)\n",
    "#reshape의 괄호 안의 수의 곱이 original X의 세 수의 곱이랑 같.아.야. 한다. 안 그럼 ERROR 뜬다.\n",
    "Y=X.reshape(-1,3,2)\n",
    "#-1 대신 4를 써도 되지만, '난 저 자리에 뭐가 들어가는 지 모르겠다=귀찮아서 계산 안 함'-> '-1' 대입하면 된다.\n",
    "Y"
   ]
  },
  {
   "cell_type": "code",
   "execution_count": 39,
   "metadata": {},
   "outputs": [
    {
     "data": {
      "text/plain": [
       "True"
      ]
     },
     "execution_count": 39,
     "metadata": {},
     "output_type": "execute_result"
    }
   ],
   "source": [
    "np.allclose(X.reshape(-1,3,2), Y)\n",
    "#두 개의 array 비교해서 똑같은지 아닌지 알려주는 것"
   ]
  },
  {
   "cell_type": "code",
   "execution_count": 40,
   "metadata": {},
   "outputs": [],
   "source": [
    "a=np.random.randint(0,10,[2,3])\n",
    "b=np.random.random([2,3])\n",
    "np.savez(\"test\", a, b)\n",
    "#np.savez는 컴퓨터에 만든 데이터를 저장해줌. *중요하다\n",
    "#ls 이 컴퓨터에서는 안 되니까 그냥 directory에서 저장되었는지 확인하면 된다. (ls는 확인용)"
   ]
  },
  {
   "cell_type": "code",
   "execution_count": 41,
   "metadata": {},
   "outputs": [],
   "source": [
    "del a, b\n",
    "#variable 지우기"
   ]
  },
  {
   "cell_type": "code",
   "execution_count": 42,
   "metadata": {},
   "outputs": [
    {
     "name": "stdout",
     "output_type": "stream",
     "text": [
      "A\t B\t X\t Y\t c\t data\t np\t plt\t \n"
     ]
    }
   ],
   "source": [
    "who"
   ]
  },
  {
   "cell_type": "code",
   "execution_count": 43,
   "metadata": {},
   "outputs": [],
   "source": [
    "#who = print all interactive variables"
   ]
  },
  {
   "cell_type": "code",
   "execution_count": 44,
   "metadata": {},
   "outputs": [
    {
     "data": {
      "text/plain": [
       "['arr_0', 'arr_1']"
      ]
     },
     "execution_count": 44,
     "metadata": {},
     "output_type": "execute_result"
    }
   ],
   "source": [
    "npzfiles=np.load(\"test.npz\")\n",
    "npzfiles.files"
   ]
  },
  {
   "cell_type": "code",
   "execution_count": 45,
   "metadata": {},
   "outputs": [
    {
     "data": {
      "text/plain": [
       "array([[6, 3, 6],\n",
       "       [3, 6, 9]])"
      ]
     },
     "execution_count": 45,
     "metadata": {},
     "output_type": "execute_result"
    }
   ],
   "source": [
    "npzfiles['arr_0']\n",
    "#이게 a 부른 것"
   ]
  },
  {
   "cell_type": "markdown",
   "metadata": {},
   "source": [
    "regression은 직접 해봐야 한다 (요약과제에 포함시키기) github에 regression.csv 파일 있다.\n",
    "-->엑셀에서도 불러지는 포맷, 텍스트 포맷, 제일 많이 쓸 포맷. 데이터를 파일로 남에게 전달하는 방법 중 하나\n",
    "\n",
    "loadtxt, savetxt"
   ]
  },
  {
   "cell_type": "code",
   "execution_count": 46,
   "metadata": {},
   "outputs": [],
   "source": [
    "arr=np.random.random([5,2,3])"
   ]
  },
  {
   "cell_type": "code",
   "execution_count": 47,
   "metadata": {},
   "outputs": [
    {
     "name": "stdout",
     "output_type": "stream",
     "text": [
      "<class 'numpy.ndarray'>\n",
      "5\n",
      "(5, 2, 3)\n",
      "3\n",
      "30\n",
      "float64\n"
     ]
    }
   ],
   "source": [
    "print(type(arr))\n",
    "#type은 numpy가 만들어낸 array 형식이다.\n",
    "print(len(arr))\n",
    "#Q. len 함수 사용할 때 말하는 len(길이)이 두께? 차원마다 어떻게 다른가? Size는?\n",
    "print(arr.shape)\n",
    "print(arr.ndim)\n",
    "print(arr.size)\n",
    "#size=숫자 곱한! 부피?\n",
    "print(arr.dtype)"
   ]
  },
  {
   "cell_type": "code",
   "execution_count": 48,
   "metadata": {},
   "outputs": [],
   "source": [
    "a=np.arange(1,5)\n",
    "b=np.arange(9,5,-1)"
   ]
  },
  {
   "cell_type": "code",
   "execution_count": 49,
   "metadata": {},
   "outputs": [
    {
     "name": "stdout",
     "output_type": "stream",
     "text": [
      "[-8 -6 -4 -2]\n",
      "[ 9 16 21 24]\n"
     ]
    }
   ],
   "source": [
    "print(a-b)\n",
    "print(a*b)\n",
    "#???"
   ]
  },
  {
   "cell_type": "code",
   "execution_count": 50,
   "metadata": {},
   "outputs": [
    {
     "name": "stdout",
     "output_type": "stream",
     "text": [
      "[[1 2 3]\n",
      " [4 5 6]\n",
      " [7 8 9]]\n",
      "[[9 8 7]\n",
      " [6 5 4]\n",
      " [3 2 1]]\n"
     ]
    }
   ],
   "source": [
    "a=np.arange(1,10).reshape(3,3)\n",
    "b=np.arange(9,0,-1).reshape(3,3)\n",
    "print(a)\n",
    "print(b)\n",
    "#'-1'이 reshape에 맞춰서 바뀌나?"
   ]
  },
  {
   "cell_type": "code",
   "execution_count": 51,
   "metadata": {},
   "outputs": [
    {
     "data": {
      "text/plain": [
       "array([[False, False, False],\n",
       "       [False,  True, False],\n",
       "       [False, False, False]])"
      ]
     },
     "execution_count": 51,
     "metadata": {},
     "output_type": "execute_result"
    }
   ],
   "source": [
    "a==b\n",
    "#두 array를 비교"
   ]
  },
  {
   "cell_type": "code",
   "execution_count": 52,
   "metadata": {},
   "outputs": [
    {
     "data": {
      "text/plain": [
       "array([[False, False, False],\n",
       "       [False, False,  True],\n",
       "       [ True,  True,  True]])"
      ]
     },
     "execution_count": 52,
     "metadata": {},
     "output_type": "execute_result"
    }
   ],
   "source": [
    "a>b\n",
    "#dimension과 size(??)가 같아야 비교 가능? - check again"
   ]
  },
  {
   "cell_type": "code",
   "execution_count": 53,
   "metadata": {},
   "outputs": [
    {
     "data": {
      "text/plain": [
       "array([[1, 2, 3],\n",
       "       [4, 5, 6],\n",
       "       [7, 8, 9]])"
      ]
     },
     "execution_count": 53,
     "metadata": {},
     "output_type": "execute_result"
    }
   ],
   "source": [
    "a"
   ]
  },
  {
   "cell_type": "code",
   "execution_count": 54,
   "metadata": {},
   "outputs": [
    {
     "data": {
      "text/plain": [
       "(45, 45)"
      ]
     },
     "execution_count": 54,
     "metadata": {},
     "output_type": "execute_result"
    }
   ],
   "source": [
    "a.sum(), np.sum(a)\n",
    "#a가 numpy가 만들어 낸 산물이기 때문데 .으로 나눌 수 있다. 첫 번째에서는 자기 자신을 입력하는 것이니까 괄호를 빈 상태로 나눠도 된다."
   ]
  },
  {
   "cell_type": "code",
   "execution_count": 55,
   "metadata": {},
   "outputs": [
    {
     "data": {
      "text/plain": [
       "(array([12, 15, 18]), array([12, 15, 18]))"
      ]
     },
     "execution_count": 55,
     "metadata": {},
     "output_type": "execute_result"
    }
   ],
   "source": [
    "a.sum(axis=0), np.sum(a, axis=0)\n",
    "#'첫 번째 차원의 관점에서 sum을 해라' 그 관점에서 collapse 시키는 것"
   ]
  },
  {
   "cell_type": "code",
   "execution_count": 56,
   "metadata": {},
   "outputs": [
    {
     "data": {
      "text/plain": [
       "array([[ 1,  2,  3,  4,  5,  6],\n",
       "       [ 7,  8,  9, 10, 11, 12],\n",
       "       [13, 14, 15, 16, 17, 18],\n",
       "       [19, 20, 21, 22, 23, 24]])"
      ]
     },
     "execution_count": 56,
     "metadata": {},
     "output_type": "execute_result"
    }
   ],
   "source": [
    "a=np.arange(1,25).reshape(4,6)\n",
    "#식 두 개 말고 그냥 바로 reshape가능\n",
    "a"
   ]
  },
  {
   "cell_type": "code",
   "execution_count": 57,
   "metadata": {},
   "outputs": [
    {
     "data": {
      "text/plain": [
       "array([[101, 102, 103, 104, 105, 106],\n",
       "       [107, 108, 109, 110, 111, 112],\n",
       "       [113, 114, 115, 116, 117, 118],\n",
       "       [119, 120, 121, 122, 123, 124]])"
      ]
     },
     "execution_count": 57,
     "metadata": {},
     "output_type": "execute_result"
    }
   ],
   "source": [
    "a+100"
   ]
  },
  {
   "cell_type": "code",
   "execution_count": 58,
   "metadata": {},
   "outputs": [
    {
     "data": {
      "text/plain": [
       "array([0, 1, 2, 3, 4, 5])"
      ]
     },
     "execution_count": 58,
     "metadata": {},
     "output_type": "execute_result"
    }
   ],
   "source": [
    "b=np.arange(6)\n",
    "b"
   ]
  },
  {
   "cell_type": "code",
   "execution_count": 59,
   "metadata": {},
   "outputs": [
    {
     "data": {
      "text/plain": [
       "array([[ 1,  3,  5,  7,  9, 11],\n",
       "       [ 7,  9, 11, 13, 15, 17],\n",
       "       [13, 15, 17, 19, 21, 23],\n",
       "       [19, 21, 23, 25, 27, 29]])"
      ]
     },
     "execution_count": 59,
     "metadata": {},
     "output_type": "execute_result"
    }
   ],
   "source": [
    "a+b"
   ]
  },
  {
   "cell_type": "code",
   "execution_count": 60,
   "metadata": {},
   "outputs": [
    {
     "data": {
      "text/plain": [
       "array([( 3.3  , 1.7  ), ( 4.4  , 2.76 ), ( 5.5  , 2.09 ), ( 6.71 , 3.19 ),\n",
       "       ( 6.93 , 1.694), ( 4.168, 1.573), ( 9.779, 3.366), ( 6.182, 2.596),\n",
       "       ( 7.59 , 2.53 ), ( 2.167, 1.221), ( 7.042, 2.827), (10.791, 3.465),\n",
       "       ( 5.313, 1.65 ), ( 7.997, 2.904), ( 5.654, 2.42 ), ( 9.27 , 2.94 ),\n",
       "       ( 3.1  , 1.3  )], dtype=[('X', '<f4'), ('Y', '<f4')])"
      ]
     },
     "execution_count": 60,
     "metadata": {},
     "output_type": "execute_result"
    }
   ],
   "source": [
    "data=np.loadtxt(\"regression.csv\", delimiter=',', skiprows=1, dtype={'names':(\"X\", \"Y\"), 'formats':('f','f')})\n",
    "#delimiter는 무엇으로 나눌건지, skiprows=z는 z번째 줄을 건너뛰어라\n",
    "data"
   ]
  },
  {
   "cell_type": "code",
   "execution_count": 61,
   "metadata": {},
   "outputs": [],
   "source": [
    "np.savetxt(\"regression_saved.csv\", data, delimiter=\",\")"
   ]
  },
  {
   "cell_type": "code",
   "execution_count": 62,
   "metadata": {},
   "outputs": [],
   "source": [
    "a = np.arange(1, 5)\n",
    "b = np.arange(9, 5, -1)"
   ]
  },
  {
   "cell_type": "code",
   "execution_count": 63,
   "metadata": {},
   "outputs": [
    {
     "name": "stdout",
     "output_type": "stream",
     "text": [
      "[1 2 3 4]\n",
      "[9 8 7 6]\n"
     ]
    }
   ],
   "source": [
    "print(a)\n",
    "print(b)"
   ]
  },
  {
   "cell_type": "code",
   "execution_count": 64,
   "metadata": {},
   "outputs": [],
   "source": [
    "a = np.matrix(a)\n",
    "b = np.matrix(b)\n",
    "#???"
   ]
  },
  {
   "cell_type": "markdown",
   "metadata": {},
   "source": [
    "THE END OF NUMPY\n",
    "\n",
    "next: SOUND. 예습?\n",
    "\n",
    "SOUND is continuous but on the computer, it is a dot. 1초에 얼마나 빽빽하게 담을지=sampling rate.\n",
    "\n",
    "sampling rate을 10000으로 하면 1초 동안 총 10000 개의 숫자를 담겠다는 얘기 (pitch-Hz: if it's per second.)"
   ]
  },
  {
   "cell_type": "code",
   "execution_count": null,
   "metadata": {},
   "outputs": [],
   "source": []
  }
 ],
 "metadata": {
  "kernelspec": {
   "display_name": "Python 3",
   "language": "python",
   "name": "python3"
  },
  "language_info": {
   "codemirror_mode": {
    "name": "ipython",
    "version": 3
   },
   "file_extension": ".py",
   "mimetype": "text/x-python",
   "name": "python",
   "nbconvert_exporter": "python",
   "pygments_lexer": "ipython3",
   "version": "3.7.3"
  }
 },
 "nbformat": 4,
 "nbformat_minor": 2
}
