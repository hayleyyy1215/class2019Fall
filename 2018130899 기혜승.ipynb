{
 "cells": [
  {
   "cell_type": "markdown",
   "metadata": {},
   "source": [
    "2018130899 영어영문학과 기혜승 영어음성학 수업 내용 정리\n",
    "\n",
    "-Three kinds of phonetics:\n",
    "1) Articulatory Phonetics 조음:\n",
    "2) Acoustic Phonetics 음향: 소리가 공기를 타고 움직인다.\n",
    "3) Auditory Phonetics 청각: The eardrum exists to amplify sound.\n",
    "\n",
    "-There are five speech organs (constrictors/articulators):\n",
    "Lips, tongue tip, tongue body, larynx (voicebox), velum (soft palate) \n",
    "\n",
    "-Three major processes in phonetics:\n",
    "1) phonation process (in larynx)\n",
    "2) oro-nasal process (in velum)\n",
    "3) articulatory process (in lip, tongue tip, tongue body)\n",
    "\n",
    "-The control of constrictors can be defined according to two criterias:\n",
    "1) constriction location (CL): where exactly?\n",
    "2) constriction degree (CD): how much exactly?\n",
    "English consonants and vowels (phonemes) can be identified when given the according constrictors, constriction location, and constriction degree.\n",
    "Need to know how to apply in PRAAT program!\n",
    "\n",
    "-praat으로 아 소리 녹음하면 larynx가 떨리는 횟수?를 알 수 있음\n",
    "녹음하고 확대\n",
    "praat으로 다시 해보기>>>200 per sec 정도는 나와야 (duration 쟀을 때) woman’s voice\n",
    "\n",
    "-sine wave: 이를 결정짓는 게 pitch and magnitude.\n",
    "\n",
    "-결론부터: 세상에 존재하는 모든 시그널은 (모든 소리를 포함한) 다르게 생긴 사인 웨이브의 결합으로 표현된다.\n",
    "\n",
    "-1번째 사인 웨이브: slow한 것이 frequenc가 작은 것. 그래서 첫 번째 사인 웨이브는 저음이다 (frequenc가 낮다) 첫 번쨰는 1초에 100 번. 두 번쨰는 1초에 200번. 그렇게. magnitude는 첫 번째가 제일 크다.\n",
    "\n",
    "-하나하나는 simplex tone, 마지막은 complex tone. 심플렉스는 사인 웨이브, 콤플렉스는 사인 웨이브 x\n",
    "\n",
    "-Q. 왼쪽 그래프에서 x축은? 시간. 세로축은 그저 숫자값. (VALUE)\n",
    "\n",
    "-오른쪽 그래프들 명칭: SPECTRUM!!!!!!!!!!!!! (x축이 frequency, y축이 amplitude)\n",
    "\n",
    "-마지막에 도출된 복잡한 신호를 볼 때, 재일 크게 반복되는 부분은 (모자처럼 생긴 부분!)\n",
    "\n",
    "-**일반적으로 우리가 듣는 소리는 콤플렉스. 여기서보다 훨씬 복잡하게 나오고, 결국 spectrum의 x축이 꽉 차게 나온다. (ex. equalizer)\n",
    "\n",
    "-위의 심플에서 콤플렉스로 만드는 과정>>synthesis (합성)\n",
    "\n",
    "-아래의 콤플렉스에서 어떤 것들의 합으로 만들어져 있는지를 보는 것>>(spectral) analysis\n",
    "\n",
    "-/아/ /이/는 입모양에 따라서 달라지고, 성대에서 최초로 나오는 소리는 음의 높낮이만 다를 뿐, 소리 자체는 동일하다.\n",
    "\n",
    "-you just need a hose/tube from your intestines to your head. tube 직전에 나는 소리는 항상 똑같다. 이렇게 larynx에서 나는 항상 동일한 소리를 source라고 부르고, 이게 달라지는 과정을 filter라고 한다.\n",
    "\n",
    "-저 그래프(speech의 source)서 나오는 첫 번째 frequency는 모두에게 동일. F0=fundamental frequency. 점점 magnitude가 작아진다. 계속 곱하기 2 곱하기 3 이렇게 되는 걸 harmonics라고 부른다.\n",
    "\n",
    "-여자는 F0이 더 높기 때문에 harmonics 사이가 더 듬성듬성.\n",
    "\n",
    "-ex 시험문제: 10000hz까지 여자의 목소리가 더 뭐가 많을까, 남자의 목소리가 뭐가 더 많을까?\n",
    "\n",
    "-스펙트로그램에 따르면 low frequency에 갈수록 magnitude가 더 크고, vice versa.\n",
    "\n",
    "-pure tone 보다는 여러 Hz의 tone을 stere로 합친 것이 훨씬 사람 목소리와 유사하다 (정교하게 하면 사람 목소리랑 똑같이 할 수 있다.) 그렇다면 이 소리는 sin wave를 합친 것일까? no. 동시에 들었지만 합쳐진 것은 아니다.\n",
    "\n",
    "-stereo<->mono -mono로 만든 것은 complex tone! stereo wasn’t complex because we didn’t actually combine the simplex tones, just heard it at the same time.\n",
    "\n",
    "-mono의 반복 주기는 F0과 일치!!!!!! 100Hz. 그리고 이 소리가 인지심리학적으로 어떤 소리랑 일치할까?\n",
    "\n",
    "-view and edit 보면 하나 솟아있고 낮게 되는 것  무한대로 가면 pulse 0000 pulse 0000 의 순서가 된다. 이걸 pulse train이라고 한다.\n",
    "\n",
    "-F1은 모음의 높낮이를 결정한다. height\n",
    "\n",
    "-F2는 앞뒤를 결정한다. (front and back)\n",
    "\n",
    "-한국어 아와 영어 아와 무엇이 다를까? the English form is lower and more back.\n",
    "\n",
    "-the VowelEditor will play the sound for as long as you click on it, and if you drag it it will become a 이중모음"
   ]
  },
  {
   "cell_type": "markdown",
   "metadata": {},
   "source": [
    "<<Lesson 1: Variables>>\n",
    "(HOW TO OPEN: anaconda prompt->'jupyter notebook' enter)\n",
    "\n",
    "왼쪽에는 껍데기, 오른쪽에는 알맹이.\n",
    "\n",
    "왼쪽에는 기호, 오른쪽에는 정보. *VARIABLE ASSIGNMENT*\n",
    "\n",
    "기호에 특정 정보가 할당된다는 것을 보여주기 위해 = 사용. (일반적인 의미의 = 아니다.)\n",
    "\n",
    "*Shift+Enter는 실행(Run)\n",
    "*DELETE CELL: Jupyter Notebook에서 cell 눌러 파란색으로 만든 후 x 누른다.\n",
    "\n",
    "#함수 print(a) = 'a라는 기호의 정보를 출력하라.'"
   ]
  },
  {
   "cell_type": "code",
   "execution_count": 7,
   "metadata": {},
   "outputs": [],
   "source": [
    "a=1"
   ]
  },
  {
   "cell_type": "code",
   "execution_count": 5,
   "metadata": {},
   "outputs": [
    {
     "name": "stdout",
     "output_type": "stream",
     "text": [
      "1\n"
     ]
    }
   ],
   "source": [
    "print(a)"
   ]
  },
  {
   "cell_type": "markdown",
   "metadata": {},
   "source": [
    "#a=1, a=2처럼 같은 정보에 이질적인 정보가 존재할 때는 마지막으로 실행한 것이 (in this case a=1) 함수에 적용된다."
   ]
  },
  {
   "cell_type": "code",
   "execution_count": 6,
   "metadata": {},
   "outputs": [],
   "source": [
    "a=2"
   ]
  },
  {
   "cell_type": "code",
   "execution_count": 9,
   "metadata": {},
   "outputs": [
    {
     "name": "stdout",
     "output_type": "stream",
     "text": [
      "1\n"
     ]
    }
   ],
   "source": [
    "print(a)"
   ]
  },
  {
   "cell_type": "markdown",
   "metadata": {},
   "source": [
    "#숫자가 아닌 문자/단어를 정보로 설정할 때는 string으로 만들어서 넣어야 한다.\n",
    "#str(string) = '   '"
   ]
  },
  {
   "cell_type": "code",
   "execution_count": 31,
   "metadata": {},
   "outputs": [],
   "source": [
    "b='love'"
   ]
  },
  {
   "cell_type": "code",
   "execution_count": 15,
   "metadata": {},
   "outputs": [
    {
     "name": "stdout",
     "output_type": "stream",
     "text": [
      "love\n"
     ]
    }
   ],
   "source": [
    "print(b)"
   ]
  },
  {
   "cell_type": "markdown",
   "metadata": {},
   "source": [
    "#숫자가 아닌 문자/단어를 기호로 설정할 때는 그냥 넣으면 된다."
   ]
  },
  {
   "cell_type": "code",
   "execution_count": 3,
   "metadata": {},
   "outputs": [],
   "source": [
    "love=2"
   ]
  },
  {
   "cell_type": "code",
   "execution_count": 4,
   "metadata": {},
   "outputs": [],
   "source": [
    "b=love"
   ]
  },
  {
   "cell_type": "code",
   "execution_count": 22,
   "metadata": {},
   "outputs": [
    {
     "name": "stdout",
     "output_type": "stream",
     "text": [
      "2\n"
     ]
    }
   ],
   "source": [
    "print(love)"
   ]
  },
  {
   "cell_type": "markdown",
   "metadata": {},
   "source": [
    "#기호에 정보 할당한 다음에 그 기호 중 하나 적으면 자동으로 print된다"
   ]
  },
  {
   "cell_type": "code",
   "execution_count": 25,
   "metadata": {},
   "outputs": [
    {
     "data": {
      "text/plain": [
       "3"
      ]
     },
     "execution_count": 25,
     "metadata": {},
     "output_type": "execute_result"
    }
   ],
   "source": [
    "a=1\n",
    "b=2\n",
    "c=3\n",
    "d=4\n",
    "c"
   ]
  },
  {
   "cell_type": "markdown",
   "metadata": {},
   "source": [
    "#enter 말고 semicolon(;)으로도 식(?) 분할 가능"
   ]
  },
  {
   "cell_type": "code",
   "execution_count": 39,
   "metadata": {},
   "outputs": [
    {
     "data": {
      "text/plain": [
       "2"
      ]
     },
     "execution_count": 39,
     "metadata": {},
     "output_type": "execute_result"
    }
   ],
   "source": [
    "a=1; b=2; c=3; b"
   ]
  },
  {
   "cell_type": "code",
   "execution_count": 40,
   "metadata": {},
   "outputs": [
    {
     "name": "stdout",
     "output_type": "stream",
     "text": [
      "1\n",
      "2\n",
      "3\n"
     ]
    }
   ],
   "source": [
    "print(a); print(b); print(c)"
   ]
  },
  {
   "cell_type": "markdown",
   "metadata": {},
   "source": [
    "#기호=문자/단어 string일 때 print와 그냥 실행하는 것은 다르다 (!)"
   ]
  },
  {
   "cell_type": "code",
   "execution_count": 90,
   "metadata": {},
   "outputs": [
    {
     "name": "stdout",
     "output_type": "stream",
     "text": [
      "love\n"
     ]
    },
    {
     "data": {
      "text/plain": [
       "'love'"
      ]
     },
     "execution_count": 90,
     "metadata": {},
     "output_type": "execute_result"
    }
   ],
   "source": [
    "b='love'\n",
    "print(b)\n",
    "b"
   ]
  },
  {
   "cell_type": "code",
   "execution_count": 37,
   "metadata": {},
   "outputs": [
    {
     "name": "stdout",
     "output_type": "stream",
     "text": [
      "[1, 2]\n"
     ]
    },
    {
     "data": {
      "text/plain": [
       "[1, 2]"
      ]
     },
     "execution_count": 37,
     "metadata": {},
     "output_type": "execute_result"
    }
   ],
   "source": [
    "#cf)\n",
    "c=[1, 2]\n",
    "print(c)\n",
    "c"
   ]
  },
  {
   "cell_type": "markdown",
   "metadata": {},
   "source": [
    "#함수 type(a) = 'a라는 기호의 종류를 출력하라.'\n",
    "#list= [    ]\n",
    "#int(integer) = 정수\n",
    "#float = 실수"
   ]
  },
  {
   "cell_type": "code",
   "execution_count": 41,
   "metadata": {},
   "outputs": [],
   "source": [
    "a=[1,2,3,5]"
   ]
  },
  {
   "cell_type": "code",
   "execution_count": 42,
   "metadata": {},
   "outputs": [
    {
     "data": {
      "text/plain": [
       "list"
      ]
     },
     "execution_count": 42,
     "metadata": {},
     "output_type": "execute_result"
    }
   ],
   "source": [
    "type(a)"
   ]
  },
  {
   "cell_type": "code",
   "execution_count": 43,
   "metadata": {},
   "outputs": [],
   "source": [
    "a=1"
   ]
  },
  {
   "cell_type": "code",
   "execution_count": 44,
   "metadata": {},
   "outputs": [
    {
     "data": {
      "text/plain": [
       "int"
      ]
     },
     "execution_count": 44,
     "metadata": {},
     "output_type": "execute_result"
    }
   ],
   "source": [
    "type(a)"
   ]
  },
  {
   "cell_type": "code",
   "execution_count": 45,
   "metadata": {},
   "outputs": [],
   "source": [
    "a=1.2"
   ]
  },
  {
   "cell_type": "code",
   "execution_count": 46,
   "metadata": {},
   "outputs": [
    {
     "data": {
      "text/plain": [
       "float"
      ]
     },
     "execution_count": 46,
     "metadata": {},
     "output_type": "execute_result"
    }
   ],
   "source": [
    "type(a)"
   ]
  },
  {
   "cell_type": "code",
   "execution_count": 47,
   "metadata": {},
   "outputs": [],
   "source": [
    "a='love'"
   ]
  },
  {
   "cell_type": "code",
   "execution_count": 48,
   "metadata": {},
   "outputs": [
    {
     "data": {
      "text/plain": [
       "str"
      ]
     },
     "execution_count": 48,
     "metadata": {},
     "output_type": "execute_result"
    }
   ],
   "source": [
    "type(a)"
   ]
  },
  {
   "cell_type": "code",
   "execution_count": 49,
   "metadata": {},
   "outputs": [],
   "source": [
    "a=[1,2,3,5,'love']"
   ]
  },
  {
   "cell_type": "code",
   "execution_count": 52,
   "metadata": {},
   "outputs": [
    {
     "data": {
      "text/plain": [
       "list"
      ]
     },
     "execution_count": 52,
     "metadata": {},
     "output_type": "execute_result"
    }
   ],
   "source": [
    "type(a)"
   ]
  },
  {
   "cell_type": "code",
   "execution_count": 53,
   "metadata": {},
   "outputs": [],
   "source": [
    "a=[1,'love',[1,'bye']]"
   ]
  },
  {
   "cell_type": "code",
   "execution_count": 54,
   "metadata": {},
   "outputs": [
    {
     "data": {
      "text/plain": [
       "list"
      ]
     },
     "execution_count": 54,
     "metadata": {},
     "output_type": "execute_result"
    }
   ],
   "source": [
    "type(a)"
   ]
  },
  {
   "cell_type": "markdown",
   "metadata": {},
   "source": [
    "#tuple=(   ) like a list but with 그냥 괄호, not 대괄호"
   ]
  },
  {
   "cell_type": "code",
   "execution_count": 55,
   "metadata": {},
   "outputs": [],
   "source": [
    "a=(1,'love',[1,'bye'])"
   ]
  },
  {
   "cell_type": "code",
   "execution_count": 56,
   "metadata": {},
   "outputs": [
    {
     "data": {
      "text/plain": [
       "tuple"
      ]
     },
     "execution_count": 56,
     "metadata": {},
     "output_type": "execute_result"
    }
   ],
   "source": [
    "type(a)"
   ]
  },
  {
   "cell_type": "markdown",
   "metadata": {},
   "source": [
    "#dict(dictionary)={'':} Uses indexes to access information. single, double quotations both possible.\n",
    "#dict와 str,list의 차이점: 단지 여러 항목을 가지는 것이 아니라 pair-wise로 묶을 수 있다"
   ]
  },
  {
   "cell_type": "code",
   "execution_count": 60,
   "metadata": {},
   "outputs": [],
   "source": [
    "a={'a':'apple', 'b':'banana', \"c\": 2014}"
   ]
  },
  {
   "cell_type": "code",
   "execution_count": 61,
   "metadata": {},
   "outputs": [
    {
     "data": {
      "text/plain": [
       "dict"
      ]
     },
     "execution_count": 61,
     "metadata": {},
     "output_type": "execute_result"
    }
   ],
   "source": [
    "type(a)"
   ]
  },
  {
   "cell_type": "markdown",
   "metadata": {},
   "source": [
    "#기호에 정보를 할당한 후에는 기호끼리 더하기, 곱하기도 가능\n",
    "#더하기 +\n",
    "#곱하기 *"
   ]
  },
  {
   "cell_type": "code",
   "execution_count": 63,
   "metadata": {},
   "outputs": [
    {
     "name": "stdout",
     "output_type": "stream",
     "text": [
      "2\n"
     ]
    }
   ],
   "source": [
    "a=1\n",
    "b=1\n",
    "c=a+b\n",
    "print(c)"
   ]
  },
  {
   "cell_type": "markdown",
   "metadata": {},
   "source": [
    "#컴퓨터에서는 1이 아니라 0부터 센다. 따라서 실제 첫 번째는 코딩에서 0번째, 두 번째는 코딩에서 1번째...\n",
    "#a[0]=list a에서 0번째 항목의 정보를 access해라."
   ]
  },
  {
   "cell_type": "code",
   "execution_count": 131,
   "metadata": {},
   "outputs": [
    {
     "name": "stdout",
     "output_type": "stream",
     "text": [
      "4\n",
      "6\n"
     ]
    }
   ],
   "source": [
    "a=[1,2]\n",
    "b=[3,4]\n",
    "c=a[0]+b[0]\n",
    "d=a[1]+b[1]\n",
    "print(c)\n",
    "print(d)"
   ]
  },
  {
   "cell_type": "markdown",
   "metadata": {},
   "source": [
    "#note the differences below."
   ]
  },
  {
   "cell_type": "code",
   "execution_count": 73,
   "metadata": {},
   "outputs": [
    {
     "data": {
      "text/plain": [
       "int"
      ]
     },
     "execution_count": 73,
     "metadata": {},
     "output_type": "execute_result"
    }
   ],
   "source": [
    "a=1; type(a)"
   ]
  },
  {
   "cell_type": "code",
   "execution_count": 74,
   "metadata": {},
   "outputs": [
    {
     "name": "stdout",
     "output_type": "stream",
     "text": [
      "<class 'int'>\n"
     ]
    }
   ],
   "source": [
    "a=1; print(type(a))"
   ]
  },
  {
   "cell_type": "markdown",
   "metadata": {},
   "source": [
    "#cont. notice how the type changes."
   ]
  },
  {
   "cell_type": "code",
   "execution_count": 77,
   "metadata": {},
   "outputs": [
    {
     "name": "stdout",
     "output_type": "stream",
     "text": [
      "<class 'float'>\n"
     ]
    }
   ],
   "source": [
    "a=1; a=float(a); print(type(a))"
   ]
  },
  {
   "cell_type": "code",
   "execution_count": 81,
   "metadata": {},
   "outputs": [
    {
     "name": "stdout",
     "output_type": "stream",
     "text": [
      "<class 'int'>\n"
     ]
    }
   ],
   "source": [
    "a=1.2; a=int(a); print(type(a))"
   ]
  },
  {
   "cell_type": "code",
   "execution_count": 80,
   "metadata": {},
   "outputs": [
    {
     "name": "stdout",
     "output_type": "stream",
     "text": [
      "1\n"
     ]
    }
   ],
   "source": [
    "a=1.2; a=int(a); print(a)"
   ]
  },
  {
   "cell_type": "code",
   "execution_count": 82,
   "metadata": {},
   "outputs": [
    {
     "name": "stdout",
     "output_type": "stream",
     "text": [
      "<class 'str'>\n",
      "2\n"
     ]
    }
   ],
   "source": [
    "a='123'; print(type(a)); print(a[1])"
   ]
  },
  {
   "cell_type": "markdown",
   "metadata": {},
   "source": [
    "#how to use indexes in a dictionary to access information\n",
    "#indexes can be str or int or..."
   ]
  },
  {
   "cell_type": "code",
   "execution_count": 95,
   "metadata": {},
   "outputs": [
    {
     "name": "stdout",
     "output_type": "stream",
     "text": [
      "<class 'dict'>\n",
      "apple\n"
     ]
    }
   ],
   "source": [
    "a={'a':'apple', 'b':'orange', 'c':2014}\n",
    "print(type(a))\n",
    "print(a[\"a\"])"
   ]
  },
  {
   "cell_type": "code",
   "execution_count": 98,
   "metadata": {},
   "outputs": [
    {
     "name": "stdout",
     "output_type": "stream",
     "text": [
      "<class 'dict'>\n",
      "apple\n"
     ]
    }
   ],
   "source": [
    "a={5.7:'apple',2:345,3:2014}\n",
    "print(type(a))\n",
    "print(a[5.7])"
   ]
  },
  {
   "cell_type": "markdown",
   "metadata": {},
   "source": [
    "#how to use element order in a list to access information"
   ]
  },
  {
   "cell_type": "code",
   "execution_count": 105,
   "metadata": {},
   "outputs": [
    {
     "name": "stdout",
     "output_type": "stream",
     "text": [
      "(1, 2, 3)\n"
     ]
    },
    {
     "data": {
      "text/plain": [
       "tuple"
      ]
     },
     "execution_count": 105,
     "metadata": {},
     "output_type": "execute_result"
    }
   ],
   "source": [
    "a=[(1,2,3), (3,8,0)]\n",
    "print(a[0])\n",
    "type(a[0])"
   ]
  },
  {
   "cell_type": "markdown",
   "metadata": {},
   "source": [
    "<<Lesson 2: String>>\n",
    "\n",
    "*str과 list의 각각의 정보를 access하는 방법은 완전히 동일하다: 앞서 list에 대한 설명에도 나온 것처럼 list a의 0번째 항목에 접근하려면 a[0]을 하면 된다. 마찬가지로 str에서도 0번째 항목(숫자/문자)에 접근하려면 a[0]을 하면 된다.\n",
    "\n",
    "#여러 개를 동시에 print할 때 print 이후의 괄호 안에 여러 개를 comma로 나눠 나열해도 된다 (see below)\n",
    "#by using colons(:), you can print out FROM a certain point TO a certain point. By leaving the space for a number index blank, you are printing out all the information that come before/after.\n",
    "**첫째 숫자부터 둘째 숫자 이.전.까.지. (remember everything is computer-numbered)\n",
    "\n",
    "**ex) a=[1,2,3,4]; print(a[1:3], a[1:], a[:3], a[:])\n",
    "     \n",
    "     ------------------------------------------------------\n",
    "     2 3\n",
    "     2 3 4\n",
    "     1 2 3 \n",
    "     1 2 3 4\n",
    "     \n",
    "\n",
    "##순서 매.우. 헷갈리니까 주의해서 볼 것. 지금부터 모든 설명은 '컴퓨터상의 순서'로 설명한다.\n",
    "#왼쪽부터의 순서: 0부터 센다-->0번째=실제 1번째, 2번째=실제 3번째\n",
    "\n",
    " 0  1  2  3  4  5\n",
    " \n",
    "-6 -5 -4 -3 -2 -1\n",
    "#순서가 이렇게 된다.\n",
    "#오른쪽부터의 순서: -1부터 센다-->-1번째=오른쪽에서 1번째, -4번째=오른쪽에서 4번째"
   ]
  },
  {
   "cell_type": "code",
   "execution_count": 121,
   "metadata": {},
   "outputs": [
    {
     "name": "stdout",
     "output_type": "stream",
     "text": [
      "a f f a\n",
      "bc bcdef abc abcdef\n",
      "100 300 300 100\n",
      "[200] [200, 300] [100, 200] [100, 200, 300]\n"
     ]
    }
   ],
   "source": [
    "s='abcdef'\n",
    "n=[100,200,300]\n",
    "print(s[0], s[5], s[-1], s[-6])\n",
    "print(s[1:3],s[1:],s[:3],s[:])\n",
    "print(n[0],n[2],n[-1],n[-3])\n",
    "print(n[1:2],n[1:],n[:2],n[:])"
   ]
  },
  {
   "cell_type": "markdown",
   "metadata": {},
   "source": [
    "#len(length)=길이(수치로 나타낸다)"
   ]
  },
  {
   "cell_type": "code",
   "execution_count": 124,
   "metadata": {},
   "outputs": [
    {
     "data": {
      "text/plain": [
       "3"
      ]
     },
     "execution_count": 124,
     "metadata": {},
     "output_type": "execute_result"
    }
   ],
   "source": [
    "len(s); len(n)"
   ]
  },
  {
   "cell_type": "markdown",
   "metadata": {},
   "source": [
    "#colon을 사용해서 access한 정보도 더하기, 곱하기 가능."
   ]
  },
  {
   "cell_type": "code",
   "execution_count": 133,
   "metadata": {},
   "outputs": [
    {
     "data": {
      "text/plain": [
       "'bdefefefefefefefefefef'"
      ]
     },
     "execution_count": 133,
     "metadata": {},
     "output_type": "execute_result"
    }
   ],
   "source": [
    "s[1]+s[3]+s[4:]*10"
   ]
  },
  {
   "cell_type": "markdown",
   "metadata": {},
   "source": [
    "#곱하기는 교환법칙 성립 O. 더하기는 교환법칙 성립 X (적어도 문자에 있어서는. 숫자 더하는 것은 성립)."
   ]
  },
  {
   "cell_type": "code",
   "execution_count": 128,
   "metadata": {},
   "outputs": [
    {
     "data": {
      "text/plain": [
       "'efefefefefefefefefefdb'"
      ]
     },
     "execution_count": 128,
     "metadata": {},
     "output_type": "execute_result"
    }
   ],
   "source": [
    "10*s[4:]+s[3]+s[1]"
   ]
  },
  {
   "cell_type": "markdown",
   "metadata": {},
   "source": [
    "#문자 str를 모두 대문자 혹은 모두 소문자로 바꾸기"
   ]
  },
  {
   "cell_type": "code",
   "execution_count": 142,
   "metadata": {},
   "outputs": [],
   "source": [
    "s='abcDEF'"
   ]
  },
  {
   "cell_type": "code",
   "execution_count": 143,
   "metadata": {},
   "outputs": [
    {
     "data": {
      "text/plain": [
       "'ABCDEF'"
      ]
     },
     "execution_count": 143,
     "metadata": {},
     "output_type": "execute_result"
    }
   ],
   "source": [
    "s.upper()"
   ]
  },
  {
   "cell_type": "code",
   "execution_count": 144,
   "metadata": {},
   "outputs": [
    {
     "data": {
      "text/plain": [
       "'abcdef'"
      ]
     },
     "execution_count": 144,
     "metadata": {},
     "output_type": "execute_result"
    }
   ],
   "source": [
    "s.lower()"
   ]
  },
  {
   "cell_type": "markdown",
   "metadata": {},
   "source": [
    "#How to use 문자 str that are actually sentences (NLP: natural language processing)\n",
    "#mango, apple, kiwi... -> replace 'result' or really any other random symbol(기호)\n",
    "#s.find('   ') = '   ' 안에 있는 단어가 >>왼쪽부터<< (컴퓨터상*) 몇 번째부터 시작하는지 표시해라. (아래 같은 문장처럼 같은 단어가 두 개 이상 있으면 >>왼쪽에서 첫 번째로<< 나오는 단어를 찾는다)\n",
    "#s.rindex('   ) = '   ' 안에 있는 단어가 >>왼쪽부터<< (컴퓨터상*) 몇 번째부터 시작하는지 표시해라. (아래 같은 문장처럼 같은 단어가 두 개 이상 있으면 >>오른쪽에서 첫 번째로<< 나오는 단어를 찾는다) = right index"
   ]
  },
  {
   "cell_type": "code",
   "execution_count": 319,
   "metadata": {},
   "outputs": [],
   "source": [
    "s=' this is a house built this year.'"
   ]
  },
  {
   "cell_type": "code",
   "execution_count": 311,
   "metadata": {},
   "outputs": [
    {
     "data": {
      "text/plain": [
       "1"
      ]
     },
     "execution_count": 311,
     "metadata": {},
     "output_type": "execute_result"
    }
   ],
   "source": [
    "mango=s.find('this')\n",
    "mango"
   ]
  },
  {
   "cell_type": "code",
   "execution_count": 312,
   "metadata": {},
   "outputs": [
    {
     "data": {
      "text/plain": [
       "23"
      ]
     },
     "execution_count": 312,
     "metadata": {},
     "output_type": "execute_result"
    }
   ],
   "source": [
    "kiwi=s.rindex('this')\n",
    "kiwi"
   ]
  },
  {
   "cell_type": "code",
   "execution_count": 313,
   "metadata": {},
   "outputs": [
    {
     "data": {
      "text/plain": [
       "15"
      ]
     },
     "execution_count": 313,
     "metadata": {},
     "output_type": "execute_result"
    }
   ],
   "source": [
    "#cf) 같은 단어 세 개 이상인 경우: 오른쪽에서 첫 번째!\n",
    "y=' this i this u this'\n",
    "result=y.rindex('this')\n",
    "result"
   ]
  },
  {
   "cell_type": "markdown",
   "metadata": {},
   "source": [
    "#문자 sequence에서 특정 단어가 한 번만 등장한다면 find와 rindex 함수의 결과가 동일하다 (see below)"
   ]
  },
  {
   "cell_type": "code",
   "execution_count": 314,
   "metadata": {},
   "outputs": [
    {
     "data": {
      "text/plain": [
       "11"
      ]
     },
     "execution_count": 314,
     "metadata": {},
     "output_type": "execute_result"
    }
   ],
   "source": [
    "apple=s.find('house')\n",
    "apple"
   ]
  },
  {
   "cell_type": "code",
   "execution_count": 315,
   "metadata": {},
   "outputs": [
    {
     "data": {
      "text/plain": [
       "11"
      ]
     },
     "execution_count": 315,
     "metadata": {},
     "output_type": "execute_result"
    }
   ],
   "source": [
    "orange=s.rindex('house')\n",
    "orange"
   ]
  },
  {
   "cell_type": "markdown",
   "metadata": {},
   "source": [
    "#strip = a copy of a without leading or trailing whitespace"
   ]
  },
  {
   "cell_type": "code",
   "execution_count": 320,
   "metadata": {},
   "outputs": [
    {
     "data": {
      "text/plain": [
       "'this is a house built this year.'"
      ]
     },
     "execution_count": 320,
     "metadata": {},
     "output_type": "execute_result"
    }
   ],
   "source": [
    "t=s.strip()\n",
    "t"
   ]
  },
  {
   "cell_type": "markdown",
   "metadata": {},
   "source": [
    "#split = quotation marks 안에 있는 것이 있는 곳마다 쪼개서 list 생성(whitespace by default)"
   ]
  },
  {
   "cell_type": "code",
   "execution_count": 321,
   "metadata": {},
   "outputs": [
    {
     "data": {
      "text/plain": [
       "['this', 'is', 'a', 'house', 'built', 'this', 'year.']"
      ]
     },
     "execution_count": 321,
     "metadata": {},
     "output_type": "execute_result"
    }
   ],
   "source": [
    "rain=s.split()\n",
    "rain"
   ]
  },
  {
   "cell_type": "code",
   "execution_count": 324,
   "metadata": {},
   "outputs": [
    {
     "data": {
      "text/plain": [
       "['', 'this', 'is', 'a', 'house', 'built', 'this', 'year.']"
      ]
     },
     "execution_count": 324,
     "metadata": {},
     "output_type": "execute_result"
    }
   ],
   "source": [
    "#cf)?????\n",
    "rain=s.split(' ')\n",
    "rain"
   ]
  },
  {
   "cell_type": "code",
   "execution_count": 325,
   "metadata": {},
   "outputs": [
    {
     "data": {
      "text/plain": [
       "[' this is a house built this year.']"
      ]
     },
     "execution_count": 325,
     "metadata": {},
     "output_type": "execute_result"
    }
   ],
   "source": [
    "rain=s.split(',')\n",
    "rain"
   ]
  },
  {
   "cell_type": "code",
   "execution_count": 326,
   "metadata": {},
   "outputs": [
    {
     "data": {
      "text/plain": [
       "[' this is a house built this year', '']"
      ]
     },
     "execution_count": 326,
     "metadata": {},
     "output_type": "execute_result"
    }
   ],
   "source": [
    "rain=s.split('.')\n",
    "rain"
   ]
  },
  {
   "cell_type": "markdown",
   "metadata": {},
   "source": [
    "#' '.join(rain): quotation marks 안에 있는 것으로 괄호 안의 쪼개진 것을 잇는다."
   ]
  },
  {
   "cell_type": "code",
   "execution_count": 327,
   "metadata": {},
   "outputs": [
    {
     "data": {
      "text/plain": [
       "' this is a house built this year '"
      ]
     },
     "execution_count": 327,
     "metadata": {},
     "output_type": "execute_result"
    }
   ],
   "source": [
    "rain=' '.join(rain)\n",
    "rain"
   ]
  },
  {
   "cell_type": "markdown",
   "metadata": {},
   "source": [
    "#rain. replace('a','b'): rain이라는 문장 안에 있는 모든 a라는 단어를 모두 b로 바꾼다."
   ]
  },
  {
   "cell_type": "code",
   "execution_count": 328,
   "metadata": {},
   "outputs": [
    {
     "data": {
      "text/plain": [
       "' that is a house built that year '"
      ]
     },
     "execution_count": 328,
     "metadata": {},
     "output_type": "execute_result"
    }
   ],
   "source": [
    "rain=rain.replace('this','that')\n",
    "rain"
   ]
  },
  {
   "cell_type": "markdown",
   "metadata": {},
   "source": [
    "<<Lesson 3: Syntax>>\n",
    "\n",
    "Using the 'for loop'\n",
    "\n",
    "#기본:\n",
    "\n",
    "for i in a:\n",
    "\n",
    "(indent***)blahblahblah\n",
    "\n",
    "--> a 안에 있는 요소를 하나하나씩 i에다가 넣고 순서대로 실행해라."
   ]
  },
  {
   "cell_type": "code",
   "execution_count": 215,
   "metadata": {},
   "outputs": [
    {
     "name": "stdout",
     "output_type": "stream",
     "text": [
      "1\n",
      "2\n",
      "3\n",
      "4\n"
     ]
    }
   ],
   "source": [
    "##그대로 프린트하기 1번째##\n",
    "a=[1,2,3,4]\n",
    "for i in a:\n",
    "    print(i)"
   ]
  },
  {
   "cell_type": "markdown",
   "metadata": {},
   "source": [
    "#range(x)= x 개수만큼 index 만들어준다. (역시나 컴퓨터상 순서.) ex) range(4) --> 0 1 2 3."
   ]
  },
  {
   "cell_type": "code",
   "execution_count": 216,
   "metadata": {},
   "outputs": [
    {
     "name": "stdout",
     "output_type": "stream",
     "text": [
      "1\n",
      "2\n",
      "3\n",
      "4\n"
     ]
    }
   ],
   "source": [
    "##그대로 프린트하기 2번째##(개수를 알 때)\n",
    "a=[1,2,3,4]\n",
    "for i in range(4):\n",
    "    print(a[i])"
   ]
  },
  {
   "cell_type": "code",
   "execution_count": 211,
   "metadata": {},
   "outputs": [
    {
     "name": "stdout",
     "output_type": "stream",
     "text": [
      "0\n",
      "1\n",
      "2\n",
      "3\n"
     ]
    }
   ],
   "source": [
    "#cf)\n",
    "for i in range(4):\n",
    "    print(i)"
   ]
  },
  {
   "cell_type": "code",
   "execution_count": 218,
   "metadata": {},
   "outputs": [
    {
     "name": "stdout",
     "output_type": "stream",
     "text": [
      "1\n",
      "2\n",
      "3\n",
      "4\n"
     ]
    }
   ],
   "source": [
    "##그대로 프린트하기 3번째##(개수를 모를 때)\n",
    "a=[1,2,3,4]\n",
    "for i in range(len(a)):\n",
    "    print(a[i])"
   ]
  },
  {
   "cell_type": "code",
   "execution_count": 221,
   "metadata": {},
   "outputs": [
    {
     "name": "stdout",
     "output_type": "stream",
     "text": [
      "1\n",
      "2\n",
      "3\n",
      "4\n"
     ]
    }
   ],
   "source": [
    "##그대로 프린트하기 4번째##(노가다, 비효율적)\n",
    "a=[1,2,3,4]\n",
    "print(a[0])\n",
    "print(a[1])\n",
    "print(a[2])\n",
    "print(a[3])"
   ]
  },
  {
   "cell_type": "markdown",
   "metadata": {},
   "source": [
    "#in string"
   ]
  },
  {
   "cell_type": "code",
   "execution_count": 271,
   "metadata": {},
   "outputs": [
    {
     "name": "stdout",
     "output_type": "stream",
     "text": [
      "red\n",
      "green\n",
      "blue\n",
      "purple\n"
     ]
    }
   ],
   "source": [
    "#cf 1)\n",
    "b=['red','green','blue','purple']\n",
    "for s in b:\n",
    "    print(s)"
   ]
  },
  {
   "cell_type": "markdown",
   "metadata": {},
   "source": [
    "#enumerate(열거, 번호매기기-0부터 시작): list, tuple, string처럼 순서가 있는 것들을 입력으로 가지고, 자동적으로 index를 붙여줘서 두 가지 문자를 활용할 수 있다.\n",
    "ex. a=['breakfast', 'lunch', 'dinner']이라면\n",
    "\n",
    "for x, y in enumerate(a): >>>>x가 index, y가 a 속의 요소.\n",
    "\n",
    "    print(y, x+1)\n",
    "    \n",
    "----------------------\n",
    "breakfast 1\n",
    "\n",
    "lunch 2\n",
    "\n",
    "dinner 3"
   ]
  },
  {
   "cell_type": "code",
   "execution_count": 282,
   "metadata": {},
   "outputs": [
    {
     "name": "stdout",
     "output_type": "stream",
     "text": [
      "apple: 30.0%\n",
      "mango: 20.0%\n",
      "grape: 10.0%\n",
      "kiwi: 40.0%\n"
     ]
    }
   ],
   "source": [
    "a=['apple','mango','grape','kiwi']\n",
    "b=[0.3,0.2,0.1,0.4]\n",
    "for index, value in enumerate(a):\n",
    "    print(\"{}: {}%\".format(value, b[index]*100))"
   ]
  },
  {
   "cell_type": "markdown",
   "metadata": {},
   "source": [
    "#zip(합치기, 둘씩 묶기): '동일한 개수로 이루어진 자료를 묶어주는 함수'"
   ]
  },
  {
   "cell_type": "code",
   "execution_count": 284,
   "metadata": {},
   "outputs": [
    {
     "name": "stdout",
     "output_type": "stream",
     "text": [
      "apple: 30.0%\n",
      "mango: 20.0%\n",
      "grape: 10.0%\n",
      "kiwi: 40.0%\n"
     ]
    }
   ],
   "source": [
    "for a_, b_ in zip(a,b):\n",
    "    print(\"{}: {}%\".format(a_, b_*100))"
   ]
  },
  {
   "cell_type": "markdown",
   "metadata": {},
   "source": [
    "#if: 조건 달기\n",
    "\n",
    "= assigning variables\n",
    "\n",
    "== 같다\n",
    "\n",
    "!= 같지 않다"
   ]
  },
  {
   "cell_type": "code",
   "execution_count": 294,
   "metadata": {},
   "outputs": [
    {
     "name": "stdout",
     "output_type": "stream",
     "text": [
      "yay!\n",
      "let's go\n"
     ]
    }
   ],
   "source": [
    "a=0\n",
    "if a==0:\n",
    "    print(\"yay!\")\n",
    "    print(\"let's go\")"
   ]
  },
  {
   "cell_type": "code",
   "execution_count": 297,
   "metadata": {},
   "outputs": [
    {
     "name": "stdout",
     "output_type": "stream",
     "text": [
      "a is not no.1\n"
     ]
    }
   ],
   "source": [
    "if a!=1:\n",
    "    print(\"a is not no.1\")\n",
    "if a!=0:\n",
    "    print(\"a is not no.0\")"
   ]
  },
  {
   "cell_type": "markdown",
   "metadata": {},
   "source": [
    "#if에 해당하지 않는 것들은 else로 출력 결과 변경할 수 있다.\n",
    "#==,!= 말고도 >=, =<도 사용 가능"
   ]
  },
  {
   "cell_type": "code",
   "execution_count": 298,
   "metadata": {},
   "outputs": [
    {
     "name": "stdout",
     "output_type": "stream",
     "text": [
      "yay!\n",
      "let's go!\n"
     ]
    }
   ],
   "source": [
    "a=0\n",
    "if a>=0:\n",
    "    print(\"yay!\")\n",
    "    print(\"let's go!\")"
   ]
  },
  {
   "cell_type": "code",
   "execution_count": 299,
   "metadata": {},
   "outputs": [
    {
     "name": "stdout",
     "output_type": "stream",
     "text": [
      "not zero\n"
     ]
    }
   ],
   "source": [
    "a=0\n",
    "if a!=0:\n",
    "    print(\"yay!\")\n",
    "    print(\"let's go!\")\n",
    "else:\n",
    "    print(\"not zero\")"
   ]
  },
  {
   "cell_type": "markdown",
   "metadata": {},
   "source": [
    "#두 번 for loop"
   ]
  },
  {
   "cell_type": "code",
   "execution_count": 300,
   "metadata": {},
   "outputs": [
    {
     "name": "stdout",
     "output_type": "stream",
     "text": [
      "3\n",
      "4\n",
      "6\n",
      "8\n"
     ]
    }
   ],
   "source": [
    "for i in range(1,3):\n",
    "    for j in range(3,5):\n",
    "        print(i*j)"
   ]
  },
  {
   "cell_type": "code",
   "execution_count": 301,
   "metadata": {},
   "outputs": [
    {
     "name": "stdout",
     "output_type": "stream",
     "text": [
      "1\n",
      "3\n",
      "4\n",
      "2\n",
      "6\n",
      "8\n"
     ]
    }
   ],
   "source": [
    "#cf-print(i)를 하면 위와 달라진다.\n",
    "for i in range(1,3):\n",
    "    print(i)\n",
    "    for j in range(3,5):\n",
    "        print(i*j)"
   ]
  },
  {
   "cell_type": "code",
   "execution_count": 304,
   "metadata": {},
   "outputs": [
    {
     "name": "stdout",
     "output_type": "stream",
     "text": [
      "4\n",
      "8\n"
     ]
    }
   ],
   "source": [
    "for i in range(1,3):\n",
    "    for j in range(3,5):\n",
    "        if j>=4:\n",
    "            print(i*j)"
   ]
  },
  {
   "cell_type": "code",
   "execution_count": 307,
   "metadata": {},
   "outputs": [
    {
     "ename": "IndentationError",
     "evalue": "expected an indented block (<ipython-input-307-52ea4f7ac138>, line 3)",
     "output_type": "error",
     "traceback": [
      "\u001b[1;36m  File \u001b[1;32m\"<ipython-input-307-52ea4f7ac138>\"\u001b[1;36m, line \u001b[1;32m3\u001b[0m\n\u001b[1;33m    for j in range(3,5):\u001b[0m\n\u001b[1;37m      ^\u001b[0m\n\u001b[1;31mIndentationError\u001b[0m\u001b[1;31m:\u001b[0m expected an indented block\n"
     ]
    }
   ],
   "source": [
    "#cf) error. *항상 indent랑 colon 조심해라!! indent 만들어도 해당되는 게 없어서 출력 안 됨*\n",
    "for i in range(1,3):\n",
    "    if i>=3:\n",
    "    for j in range(3,5):\n",
    "        print(i*j)"
   ]
  },
  {
   "cell_type": "markdown",
   "metadata": {},
   "source": [
    "ADDITIONAL: for in - list"
   ]
  },
  {
   "cell_type": "code",
   "execution_count": 308,
   "metadata": {},
   "outputs": [
    {
     "name": "stdout",
     "output_type": "stream",
     "text": [
      "[2, 3, 4]\n"
     ]
    }
   ],
   "source": [
    "a=[1,2,3,4]\n",
    "b=[i for i in a if i>=2]\n",
    "print(b)"
   ]
  },
  {
   "cell_type": "code",
   "execution_count": 309,
   "metadata": {},
   "outputs": [
    {
     "name": "stdout",
     "output_type": "stream",
     "text": [
      "['blue', 'green', 'purple']\n"
     ]
    }
   ],
   "source": [
    "a=['red','blue','green','purple']\n",
    "b=[i for i in a if len(i)>=4]\n",
    "print(b)"
   ]
  },
  {
   "cell_type": "markdown",
   "metadata": {},
   "source": [
    "NUMPY BASICS\n",
    "\n",
    "데이터: 수치화해놓아야 데이터라고 부를 수 있다.\n",
    "\n",
    "행렬(matrix): 같은 길이의 가로와 세로로, 직사각형 모양으로, 숫자를 배열해놓은 것\n",
    "\n",
    "ex. 이미지는 행렬이다.\n",
    "\n",
    "모든 데이터는 vector(숫자열)의 형태로 되어야 한다. (행렬의 형태 그 자체로는 벡터가 아니고, 한 줄씩 따와서 나열해야 한다.)\n",
    "\n",
    "ex. 이미지를 쭉 늘어놓은 것이 vector화 한 것\n",
    "\n",
    "동영상은 시간별로 세 장 (RGB)가 겹쳐져 있는 것. \n",
    "이미지는 2차원. (벡터)\n",
    "컬러사진 이미지는 3차원.\n",
    "영상은 4차원. (가로세로두께+시간까지 4차원)\n",
    "텍스트도 벡터화. (첫번째 단어=100000, 일곱번째 단어=0000001)\n",
    "\n",
    "\n",
    "What about sound(소리)?"
   ]
  },
  {
   "cell_type": "code",
   "execution_count": 5,
   "metadata": {},
   "outputs": [
    {
     "data": {
      "text/plain": [
       "[1, 3, 5, 2, 4, 6]"
      ]
     },
     "execution_count": 5,
     "metadata": {},
     "output_type": "execute_result"
    }
   ],
   "source": [
    "#library import 하기 (아나콘다 설치한 게 라이브러리 여러 개 설치한 것. library=many functions)\n",
    "#제일 중요한 library: numpy -- list 중에서도, 그 안에 숫자가 들어갈 때\n",
    "a=[1,3,5]\n",
    "b=[2,4,6]\n",
    "c= a+b\n",
    "c\n",
    "###list의 상태에서는 어떠한 수학적인 action이 취해지지 않는다. 여기서도 수치의 덧셈이 되지 않는다. 수학적 처리가 되지 않는다."
   ]
  },
  {
   "cell_type": "code",
   "execution_count": 2,
   "metadata": {},
   "outputs": [],
   "source": [
    "import numpy as np\n",
    "##import는 함수?"
   ]
  },
  {
   "cell_type": "code",
   "execution_count": 3,
   "metadata": {},
   "outputs": [
    {
     "ename": "NameError",
     "evalue": "name 'a' is not defined",
     "output_type": "error",
     "traceback": [
      "\u001b[1;31m---------------------------------------------------------------------------\u001b[0m",
      "\u001b[1;31mNameError\u001b[0m                                 Traceback (most recent call last)",
      "\u001b[1;32m<ipython-input-3-1019b2847643>\u001b[0m in \u001b[0;36m<module>\u001b[1;34m\u001b[0m\n\u001b[1;32m----> 1\u001b[1;33m \u001b[0mA\u001b[0m\u001b[1;33m=\u001b[0m\u001b[0mnp\u001b[0m\u001b[1;33m.\u001b[0m\u001b[0marray\u001b[0m\u001b[1;33m(\u001b[0m\u001b[0ma\u001b[0m\u001b[1;33m)\u001b[0m\u001b[1;33m\u001b[0m\u001b[1;33m\u001b[0m\u001b[0m\n\u001b[0m\u001b[0;32m      2\u001b[0m \u001b[0mB\u001b[0m\u001b[1;33m=\u001b[0m\u001b[0mnp\u001b[0m\u001b[1;33m.\u001b[0m\u001b[0marray\u001b[0m\u001b[1;33m(\u001b[0m\u001b[0mb\u001b[0m\u001b[1;33m)\u001b[0m\u001b[1;33m\u001b[0m\u001b[1;33m\u001b[0m\u001b[0m\n\u001b[0;32m      3\u001b[0m \u001b[1;31m#array: list를 mathematically operable한 상태로 변화시켜준다.\u001b[0m\u001b[1;33m\u001b[0m\u001b[1;33m\u001b[0m\u001b[1;33m\u001b[0m\u001b[0m\n",
      "\u001b[1;31mNameError\u001b[0m: name 'a' is not defined"
     ]
    }
   ],
   "source": [
    "A=np.array(a)\n",
    "B=np.array(b)\n",
    "#array: list를 mathematically operable한 상태로 변화시켜준다."
   ]
  },
  {
   "cell_type": "code",
   "execution_count": null,
   "metadata": {},
   "outputs": [],
   "source": [
    "A+B"
   ]
  },
  {
   "cell_type": "code",
   "execution_count": null,
   "metadata": {},
   "outputs": [],
   "source": [
    "type(A)\n",
    "#nd: n dimensional"
   ]
  },
  {
   "cell_type": "code",
   "execution_count": 4,
   "metadata": {},
   "outputs": [
    {
     "data": {
      "text/plain": [
       "array([[1, 2, 3],\n",
       "       [4, 5, 6]])"
      ]
     },
     "execution_count": 4,
     "metadata": {},
     "output_type": "execute_result"
    }
   ],
   "source": [
    "X=np.array([[1,2,3], [4,5,6]])\n",
    "X"
   ]
  },
  {
   "cell_type": "code",
   "execution_count": 24,
   "metadata": {},
   "outputs": [],
   "source": [
    "import numpy as np\n",
    "import matplotlib.pyplot as plt\n",
    "#=\n",
    "from matplotlib import pyplot as plt"
   ]
  },
  {
   "cell_type": "code",
   "execution_count": 25,
   "metadata": {},
   "outputs": [
    {
     "data": {
      "text/plain": [
       "array([[-1278182267,  1065743705,  1863627412],\n",
       "       [ 1072845562,           0,  1072168960]])"
      ]
     },
     "execution_count": 25,
     "metadata": {},
     "output_type": "execute_result"
    }
   ],
   "source": [
    "np.empty([2,3], dtype='int')\n",
    "#2행x3열 직사각형 list로 만든 것. dtype=data type.\n",
    "#3개짜리 list가 두 개(행). 숫자는 랜덤"
   ]
  },
  {
   "cell_type": "code",
   "execution_count": 26,
   "metadata": {},
   "outputs": [
    {
     "data": {
      "text/plain": [
       "array([[0., 0., 0.],\n",
       "       [0., 0., 0.]])"
      ]
     },
     "execution_count": 26,
     "metadata": {},
     "output_type": "execute_result"
    }
   ],
   "source": [
    "np.zeros([2,3])\n",
    "#np라이브러리에서 zeros라는 함수를 불러온 것.\n",
    "#zeros: 2x3의 matrix 만들어내는데 모두 0으로 채워졌다."
   ]
  },
  {
   "cell_type": "code",
   "execution_count": 27,
   "metadata": {},
   "outputs": [
    {
     "data": {
      "text/plain": [
       "[[0, 0, 0], [0, 0, 0]]"
      ]
     },
     "execution_count": 27,
     "metadata": {},
     "output_type": "execute_result"
    }
   ],
   "source": [
    "[[0,0,0], [0,0,0]]\n",
    "#이건 (수치로서, 계산용으로서) 사용 불가한 list. 계산에 사용하려면 array로 만들어야 한다!"
   ]
  },
  {
   "cell_type": "code",
   "execution_count": 28,
   "metadata": {},
   "outputs": [
    {
     "data": {
      "text/plain": [
       "array([[0, 0, 0],\n",
       "       [0, 0, 0]])"
      ]
     },
     "execution_count": 28,
     "metadata": {},
     "output_type": "execute_result"
    }
   ],
   "source": [
    "np.array([[0,0,0], [0,0,0]])"
   ]
  },
  {
   "cell_type": "code",
   "execution_count": 29,
   "metadata": {},
   "outputs": [
    {
     "data": {
      "text/plain": [
       "array([[1., 1., 1.],\n",
       "       [1., 1., 1.]])"
      ]
     },
     "execution_count": 29,
     "metadata": {},
     "output_type": "execute_result"
    }
   ],
   "source": [
    "np.ones([2,3])\n",
    "#ones라는 함수는 default로 float이라는 data type을 가진다."
   ]
  },
  {
   "cell_type": "code",
   "execution_count": 30,
   "metadata": {},
   "outputs": [
    {
     "data": {
      "text/plain": [
       "array([[1., 1., 1.],\n",
       "       [1., 1., 1.]])"
      ]
     },
     "execution_count": 30,
     "metadata": {},
     "output_type": "execute_result"
    }
   ],
   "source": [
    "np.ones([2,3], dtype='int')\n",
    "np.ones([2,3], dtype='float64')\n",
    "#float64?: good-정확도를 높일 수 있다. 오류를 줄일 수 있다 (소수점 아래 몇 째자리까지 표현 가능), bad-메모리 많이 차지\n",
    "#일단 float은 32, 64 가능 (2의 제곱?)"
   ]
  },
  {
   "cell_type": "code",
   "execution_count": 31,
   "metadata": {},
   "outputs": [
    {
     "data": {
      "text/plain": [
       "array([0, 1, 2, 3, 4])"
      ]
     },
     "execution_count": 31,
     "metadata": {},
     "output_type": "execute_result"
    }
   ],
   "source": [
    "np.arange(5)\n",
    "#arange=array range (5미만-index 5개) (이상, 미만)"
   ]
  },
  {
   "cell_type": "code",
   "execution_count": 32,
   "metadata": {},
   "outputs": [
    {
     "data": {
      "text/plain": [
       "array([0., 2., 4., 6., 8.])"
      ]
     },
     "execution_count": 32,
     "metadata": {},
     "output_type": "execute_result"
    }
   ],
   "source": [
    "np.arange(0,10,2, dtype='float64')\n",
    "#np.arange(a,b,c): a 이상 b 미만 c만큼 띄어라 (increment)"
   ]
  },
  {
   "cell_type": "code",
   "execution_count": 33,
   "metadata": {},
   "outputs": [
    {
     "data": {
      "text/plain": [
       "array([ 0.,  2.,  4.,  6.,  8., 10.])"
      ]
     },
     "execution_count": 33,
     "metadata": {},
     "output_type": "execute_result"
    }
   ],
   "source": [
    "np.linspace(0,10,6)\n",
    "#linspace=linear space\n",
    "#np.linspace(a,b,c): a 이상 b 미만 6개의 숫자로 나눠라 (increments are EQUAL)\n",
    "###미만 맞나?? 이하 아닌가?"
   ]
  },
  {
   "cell_type": "code",
   "execution_count": 34,
   "metadata": {},
   "outputs": [
    {
     "data": {
      "text/plain": [
       "array([[[1, 2],\n",
       "        [3, 4],\n",
       "        [5, 6]],\n",
       "\n",
       "       [[1, 2],\n",
       "        [3, 4],\n",
       "        [5, 6]]])"
      ]
     },
     "execution_count": 34,
     "metadata": {},
     "output_type": "execute_result"
    }
   ],
   "source": [
    "X=np.array([[[1,2],[3,4],[5,6]]\n",
    "            , [[1,2],[3,4],[5,6]]])\n",
    "X\n",
    "#벡터는 1차원, matrix/행렬은 2차원, volume이 있는 직육면체는 3차원--> >>>대괄호의 개수가 차원의 수<<<"
   ]
  },
  {
   "cell_type": "code",
   "execution_count": 35,
   "metadata": {},
   "outputs": [
    {
     "data": {
      "text/plain": [
       "3"
      ]
     },
     "execution_count": 35,
     "metadata": {},
     "output_type": "execute_result"
    }
   ],
   "source": [
    "X.ndim\n",
    "#차원의 개수 알려준다."
   ]
  },
  {
   "cell_type": "code",
   "execution_count": 36,
   "metadata": {},
   "outputs": [
    {
     "data": {
      "text/plain": [
       "(2, 3, 2)"
      ]
     },
     "execution_count": 36,
     "metadata": {},
     "output_type": "execute_result"
    }
   ],
   "source": [
    "\n",
    "X.shape\n",
    "#차원보다 더 구체적으로 나와있다. 숫자가 3개니까 3차원. - 제일 큰 괄호부터 생각해랴! (3차원, 2차원(행?), 1차원(열?))"
   ]
  },
  {
   "cell_type": "code",
   "execution_count": 37,
   "metadata": {},
   "outputs": [
    {
     "data": {
      "text/plain": [
       "dtype('int32')"
      ]
     },
     "execution_count": 37,
     "metadata": {},
     "output_type": "execute_result"
    }
   ],
   "source": [
    "X.dtype\n",
    "#similar to float64"
   ]
  },
  {
   "cell_type": "code",
   "execution_count": 38,
   "metadata": {},
   "outputs": [
    {
     "data": {
      "text/plain": [
       "array([[[1., 2.],\n",
       "        [3., 4.],\n",
       "        [5., 6.]],\n",
       "\n",
       "       [[1., 2.],\n",
       "        [3., 4.],\n",
       "        [5., 6.]]])"
      ]
     },
     "execution_count": 38,
     "metadata": {},
     "output_type": "execute_result"
    }
   ],
   "source": [
    "#type 바꿀 떄\n",
    "X.astype(np.float64)"
   ]
  },
  {
   "cell_type": "code",
   "execution_count": 39,
   "metadata": {},
   "outputs": [
    {
     "data": {
      "text/plain": [
       "array([[[0, 0],\n",
       "        [0, 0],\n",
       "        [0, 0]],\n",
       "\n",
       "       [[0, 0],\n",
       "        [0, 0],\n",
       "        [0, 0]]])"
      ]
     },
     "execution_count": 39,
     "metadata": {},
     "output_type": "execute_result"
    }
   ],
   "source": [
    "np.zeros_like(X)\n",
    "#똑같이 형태를 유지한 채 숫자를 다 0으로 교체."
   ]
  },
  {
   "cell_type": "code",
   "execution_count": 40,
   "metadata": {},
   "outputs": [
    {
     "data": {
      "text/plain": [
       "array([[[0, 0],\n",
       "        [0, 0],\n",
       "        [0, 0]],\n",
       "\n",
       "       [[0, 0],\n",
       "        [0, 0],\n",
       "        [0, 0]]])"
      ]
     },
     "execution_count": 40,
     "metadata": {},
     "output_type": "execute_result"
    }
   ],
   "source": [
    "X*0\n",
    "#위와 같게 나온다"
   ]
  },
  {
   "cell_type": "code",
   "execution_count": 41,
   "metadata": {},
   "outputs": [
    {
     "name": "stdout",
     "output_type": "stream",
     "text": [
      "[ 1.25613459  0.24917818 -0.49372087 -0.96043155  3.09932162 -0.75680399\n",
      "  0.88271125  0.66248006 -1.43932011 -0.90274951 -0.08822228  0.8124876\n",
      "  0.79757533  0.15222235  2.71957678  0.20726736  1.38209912 -0.13199512\n",
      " -1.3161896   1.5701508   0.1597449  -0.70609395 -3.09695194  1.3253228\n",
      "  0.13911774 -3.02127563  0.39039346  0.82636288  0.13886212 -0.11858027\n",
      "  0.38890913 -1.11549744  1.73280728 -1.64196764 -0.53397637  0.2121179\n",
      "  2.23356612  0.29266874 -1.09558855 -1.23537989 -2.01625425  0.62664848\n",
      " -0.73572485 -2.02762934  0.52079784 -1.30470563 -0.33449925  0.07183828\n",
      "  0.35718927  0.07284069  0.30183779  0.201146   -1.0367553   0.58768244\n",
      "  1.06320171 -0.61006043  0.16547319 -0.06958343 -0.14516764 -0.29824523\n",
      " -0.70936086  0.9880311  -0.60236286 -0.15419737  0.19660312 -0.20736725\n",
      " -1.48343395  0.22746431 -0.03011874  0.23349488  0.41469999  0.10201684\n",
      " -0.94308429 -0.67464108  0.40367889 -0.9483227  -0.31247148 -0.8254436\n",
      " -1.02388988  0.4035144   0.10247903 -0.45050802 -0.50835289 -0.33077783\n",
      "  1.04801058  0.96843565 -1.44466143  0.38053757 -0.04909881  0.26585907\n",
      "  1.12468694  0.43282623  0.74741302  0.73485689 -0.56371267  0.67290008\n",
      " -1.00658537 -0.28120264 -0.320217    0.47140253]\n"
     ]
    }
   ],
   "source": [
    "data=np.random.normal(0,1,100)\n",
    "print(data)\n",
    "#(mean, standard deviation, 개수)\n",
    "#'normal distribution' = 정규분포 만들어라 (종 모양_으로 그래프가 나올 데이터 생성)\n",
    "#실행하기 싫을 때는 그 줄 앞에 % 붙이면 된다."
   ]
  },
  {
   "cell_type": "code",
   "execution_count": 42,
   "metadata": {},
   "outputs": [
    {
     "data": {
      "text/plain": [
       "1"
      ]
     },
     "execution_count": 42,
     "metadata": {},
     "output_type": "execute_result"
    }
   ],
   "source": [
    "data.ndim\n",
    "#대괄호가 하나밖에 없다."
   ]
  },
  {
   "cell_type": "code",
   "execution_count": 43,
   "metadata": {},
   "outputs": [
    {
     "data": {
      "text/plain": [
       "(100,)"
      ]
     },
     "execution_count": 43,
     "metadata": {},
     "output_type": "execute_result"
    }
   ],
   "source": [
    "data.shape"
   ]
  },
  {
   "cell_type": "code",
   "execution_count": 44,
   "metadata": {},
   "outputs": [
    {
     "name": "stdout",
     "output_type": "stream",
     "text": [
      "[ 0.74017827  0.76313226  0.10792495  1.00290889 -0.32842995 -0.92682752\n",
      " -0.73552503  0.94452806 -1.88525971 -0.54596823  1.50165318  0.0743055\n",
      " -1.54029761 -0.59948685 -0.71340357 -1.89533716 -0.20916106 -0.85137231\n",
      " -0.01501456  1.11407349  1.22658729  0.80171055  0.24792203  0.5588982\n",
      "  0.52275733  1.0131597   0.07676344  1.48913312  0.5144151   1.90384888\n",
      " -0.87857021  0.24301566 -0.05951486  1.48046808  0.38574417  0.95519354\n",
      " -0.91790657  0.89495175  0.19838814 -0.29806079 -1.1768986  -0.58971886\n",
      "  0.31872606  1.61243793  0.68716079  0.06805679  0.61460773 -1.19635713\n",
      "  0.82732134  0.46539637  0.69328767  0.32052331 -1.38069721 -0.66301557\n",
      "  0.41211638  2.1900529  -1.09534081  0.54119827 -0.94089763  0.61375679\n",
      "  0.28940601  0.84977146  0.35757513  0.69419947  1.92764326 -1.10447924\n",
      " -1.26853673 -0.52568562 -0.43625025 -0.3291153  -1.7238553  -0.22498946\n",
      " -0.37836814  1.99470022  0.05234328  1.0417521   0.3592314   1.33998283\n",
      " -0.77940872  0.63490132 -0.5163691   0.50824742  0.98459471 -1.59608546\n",
      " -0.40205008  1.75774411 -0.94454937  0.97183304 -0.37197428 -0.16899645\n",
      "  2.04985537  0.18700472 -0.39479915  0.41148257 -0.54950458  0.77095798\n",
      "  0.36339164 -0.56444338  1.94179093 -0.5612032 ]\n"
     ]
    }
   ],
   "source": [
    "data=np.random.normal(0,1,100)\n",
    "print(data)\n",
    "plt.hist(data, bins=10)\n",
    "plt.show()\n",
    "#hist=histogram\n",
    "#bin=바구니 (bin을 몇 개로 할 것이가? 결정)\n",
    "#왜 세로축이 정수로 나온다는 것..?"
   ]
  },
  {
   "cell_type": "code",
   "execution_count": 45,
   "metadata": {},
   "outputs": [
    {
     "data": {
      "text/plain": [
       "array([[[1., 1., 1., 1.],\n",
       "        [1., 1., 1., 1.],\n",
       "        [1., 1., 1., 1.]],\n",
       "\n",
       "       [[1., 1., 1., 1.],\n",
       "        [1., 1., 1., 1.],\n",
       "        [1., 1., 1., 1.]]])"
      ]
     },
     "execution_count": 45,
     "metadata": {},
     "output_type": "execute_result"
    }
   ],
   "source": [
    "X=np.ones([2,3,4])\n",
    "X"
   ]
  },
  {
   "cell_type": "code",
   "execution_count": 46,
   "metadata": {},
   "outputs": [
    {
     "data": {
      "text/plain": [
       "array([[[1., 1.],\n",
       "        [1., 1.],\n",
       "        [1., 1.]],\n",
       "\n",
       "       [[1., 1.],\n",
       "        [1., 1.],\n",
       "        [1., 1.]],\n",
       "\n",
       "       [[1., 1.],\n",
       "        [1., 1.],\n",
       "        [1., 1.]],\n",
       "\n",
       "       [[1., 1.],\n",
       "        [1., 1.],\n",
       "        [1., 1.]]])"
      ]
     },
     "execution_count": 46,
     "metadata": {},
     "output_type": "execute_result"
    }
   ],
   "source": [
    "#reshape는 매우 중요한 함수-->shape은 보여주는 것, reshape는 아예 바꿔버리는 것\n",
    "Y=X.reshape(-1,3,2)\n",
    "#reshape의 괄호 안의 수의 곱이 original X의 세 수의 곱이랑 같.아.야. 한다. 안 그럼 ERROR 뜬다.\n",
    "Y=X.reshape(-1,3,2)\n",
    "#-1 대신 4를 써도 되지만, '난 저 자리에 뭐가 들어가는 지 모르겠다=귀찮아서 계산 안 함'-> '-1' 대입하면 된다.\n",
    "Y"
   ]
  },
  {
   "cell_type": "code",
   "execution_count": 47,
   "metadata": {},
   "outputs": [
    {
     "data": {
      "text/plain": [
       "True"
      ]
     },
     "execution_count": 47,
     "metadata": {},
     "output_type": "execute_result"
    }
   ],
   "source": [
    "np.allclose(X.reshape(-1,3,2), Y)\n",
    "#두 개의 array 비교해서 똑같은지 아닌지 알려주는 것"
   ]
  },
  {
   "cell_type": "code",
   "execution_count": 48,
   "metadata": {},
   "outputs": [],
   "source": [
    "a=np.random.randint(0,10,[2,3])\n",
    "b=np.random.random([2,3])\n",
    "np.savez(\"test\", a, b)\n",
    "#np.savez는 컴퓨터에 만든 데이터를 저장해줌. *중요하다\n",
    "#ls 이 컴퓨터에서는 안 되니까 그냥 directory에서 저장되었는지 확인하면 된다. (ls는 확인용)"
   ]
  },
  {
   "cell_type": "code",
   "execution_count": 49,
   "metadata": {},
   "outputs": [],
   "source": [
    "del a, b\n",
    "#variable 지우기"
   ]
  },
  {
   "cell_type": "code",
   "execution_count": 50,
   "metadata": {},
   "outputs": [
    {
     "name": "stdout",
     "output_type": "stream",
     "text": [
      "Axes3D\t X\t Y\t amp\t ax\t c\t data\t dur\t fig\t \n",
      "freq\t ipd\t lfilter\t make_axes_locatable\t np\t plt\t s\t sr\t t\t \n",
      "theta\t \n"
     ]
    }
   ],
   "source": [
    "who"
   ]
  },
  {
   "cell_type": "code",
   "execution_count": 51,
   "metadata": {},
   "outputs": [],
   "source": [
    "#who = print all interactive variables"
   ]
  },
  {
   "cell_type": "code",
   "execution_count": 52,
   "metadata": {},
   "outputs": [
    {
     "data": {
      "text/plain": [
       "['arr_0', 'arr_1']"
      ]
     },
     "execution_count": 52,
     "metadata": {},
     "output_type": "execute_result"
    }
   ],
   "source": [
    "npzfiles=np.load(\"test.npz\")\n",
    "npzfiles.files"
   ]
  },
  {
   "cell_type": "code",
   "execution_count": 53,
   "metadata": {},
   "outputs": [
    {
     "data": {
      "text/plain": [
       "array([[6, 4, 1],\n",
       "       [8, 4, 9]])"
      ]
     },
     "execution_count": 53,
     "metadata": {},
     "output_type": "execute_result"
    }
   ],
   "source": [
    "npzfiles['arr_0']\n",
    "#이게 a 부른 것"
   ]
  },
  {
   "cell_type": "markdown",
   "metadata": {},
   "source": [
    "regression은 직접 해봐야 한다 (요약과제에 포함시키기) github에 regression.csv 파일 있다.\n",
    "-->엑셀에서도 불러지는 포맷, 텍스트 포맷, 제일 많이 쓸 포맷. 데이터를 파일로 남에게 전달하는 방법 중 하나\n",
    "\n",
    "loadtxt, savetxt"
   ]
  },
  {
   "cell_type": "code",
   "execution_count": 54,
   "metadata": {},
   "outputs": [],
   "source": [
    "arr=np.random.random([5,2,3])"
   ]
  },
  {
   "cell_type": "code",
   "execution_count": 55,
   "metadata": {},
   "outputs": [
    {
     "name": "stdout",
     "output_type": "stream",
     "text": [
      "<class 'numpy.ndarray'>\n",
      "5\n",
      "(5, 2, 3)\n",
      "3\n",
      "30\n",
      "float64\n"
     ]
    }
   ],
   "source": [
    "print(type(arr))\n",
    "#type은 numpy가 만들어낸 array 형식이다.\n",
    "print(len(arr))\n",
    "#Q. len 함수 사용할 때 말하는 len(길이)이 두께? 차원마다 어떻게 다른가? Size는?\n",
    "print(arr.shape)\n",
    "print(arr.ndim)\n",
    "print(arr.size)\n",
    "#size=숫자 곱한! 부피?\n",
    "print(arr.dtype)"
   ]
  },
  {
   "cell_type": "code",
   "execution_count": 56,
   "metadata": {},
   "outputs": [],
   "source": [
    "a=np.arange(1,5)\n",
    "b=np.arange(9,5,-1)\n",
    "#arange(array range)는 어차피 숫자열이니까 세 번째 숫자는 또 다른 차원이 아니라 increment! 따라서 여기서 b는 (-1)씩 늘어난다는 뜻.\n",
    "#the default increment is 1. (+1)"
   ]
  },
  {
   "cell_type": "code",
   "execution_count": 57,
   "metadata": {},
   "outputs": [
    {
     "name": "stdout",
     "output_type": "stream",
     "text": [
      "[-8 -6 -4 -2]\n",
      "[ 9 16 21 24]\n"
     ]
    }
   ],
   "source": [
    "print(a-b)\n",
    "print(a*b)"
   ]
  },
  {
   "cell_type": "code",
   "execution_count": 58,
   "metadata": {},
   "outputs": [
    {
     "name": "stdout",
     "output_type": "stream",
     "text": [
      "[[1 2 3]\n",
      " [4 5 6]\n",
      " [7 8 9]]\n",
      "[[9 8 7]\n",
      " [6 5 4]\n",
      " [3 2 1]]\n"
     ]
    }
   ],
   "source": [
    "a=np.arange(1,10).reshape(3,3)\n",
    "b=np.arange(9,0,-1).reshape(3,3)\n",
    "print(a)\n",
    "print(b)"
   ]
  },
  {
   "cell_type": "code",
   "execution_count": 59,
   "metadata": {},
   "outputs": [
    {
     "data": {
      "text/plain": [
       "array([[False, False, False],\n",
       "       [False,  True, False],\n",
       "       [False, False, False]])"
      ]
     },
     "execution_count": 59,
     "metadata": {},
     "output_type": "execute_result"
    }
   ],
   "source": [
    "a==b\n",
    "#두 array를 비교"
   ]
  },
  {
   "cell_type": "code",
   "execution_count": 60,
   "metadata": {},
   "outputs": [
    {
     "data": {
      "text/plain": [
       "array([[False, False, False],\n",
       "       [False, False,  True],\n",
       "       [ True,  True,  True]])"
      ]
     },
     "execution_count": 60,
     "metadata": {},
     "output_type": "execute_result"
    }
   ],
   "source": [
    "a>b"
   ]
  },
  {
   "cell_type": "code",
   "execution_count": 61,
   "metadata": {},
   "outputs": [
    {
     "data": {
      "text/plain": [
       "array([[1, 2, 3],\n",
       "       [4, 5, 6],\n",
       "       [7, 8, 9]])"
      ]
     },
     "execution_count": 61,
     "metadata": {},
     "output_type": "execute_result"
    }
   ],
   "source": [
    "a"
   ]
  },
  {
   "cell_type": "code",
   "execution_count": 62,
   "metadata": {},
   "outputs": [
    {
     "data": {
      "text/plain": [
       "(45, 45)"
      ]
     },
     "execution_count": 62,
     "metadata": {},
     "output_type": "execute_result"
    }
   ],
   "source": [
    "a.sum(), np.sum(a)\n",
    "#a가 numpy가 만들어 낸 산물이기 때문데 .으로 나눌 수 있다. 첫 번째에서는 자기 자신을 입력하는 것이니까 괄호를 빈 상태로 나눠도 된다."
   ]
  },
  {
   "cell_type": "code",
   "execution_count": 63,
   "metadata": {},
   "outputs": [
    {
     "data": {
      "text/plain": [
       "(array([12, 15, 18]), array([12, 15, 18]))"
      ]
     },
     "execution_count": 63,
     "metadata": {},
     "output_type": "execute_result"
    }
   ],
   "source": [
    "a.sum(axis=0), np.sum(a, axis=0)\n",
    "#'첫 번째 차원의 관점에서 sum을 해라' 그 관점에서 collapse 시키는 것"
   ]
  },
  {
   "cell_type": "code",
   "execution_count": 64,
   "metadata": {},
   "outputs": [
    {
     "data": {
      "text/plain": [
       "array([[ 1,  2,  3,  4,  5,  6],\n",
       "       [ 7,  8,  9, 10, 11, 12],\n",
       "       [13, 14, 15, 16, 17, 18],\n",
       "       [19, 20, 21, 22, 23, 24]])"
      ]
     },
     "execution_count": 64,
     "metadata": {},
     "output_type": "execute_result"
    }
   ],
   "source": [
    "a=np.arange(1,25).reshape(4,6)\n",
    "#식 두 개 말고 그냥 바로 reshape가능\n",
    "a"
   ]
  },
  {
   "cell_type": "code",
   "execution_count": 65,
   "metadata": {},
   "outputs": [
    {
     "data": {
      "text/plain": [
       "array([[101, 102, 103, 104, 105, 106],\n",
       "       [107, 108, 109, 110, 111, 112],\n",
       "       [113, 114, 115, 116, 117, 118],\n",
       "       [119, 120, 121, 122, 123, 124]])"
      ]
     },
     "execution_count": 65,
     "metadata": {},
     "output_type": "execute_result"
    }
   ],
   "source": [
    "a+100"
   ]
  },
  {
   "cell_type": "code",
   "execution_count": 66,
   "metadata": {},
   "outputs": [
    {
     "data": {
      "text/plain": [
       "array([0, 1, 2, 3, 4, 5])"
      ]
     },
     "execution_count": 66,
     "metadata": {},
     "output_type": "execute_result"
    }
   ],
   "source": [
    "b=np.arange(6)\n",
    "b"
   ]
  },
  {
   "cell_type": "code",
   "execution_count": 67,
   "metadata": {},
   "outputs": [
    {
     "data": {
      "text/plain": [
       "array([[ 1,  3,  5,  7,  9, 11],\n",
       "       [ 7,  9, 11, 13, 15, 17],\n",
       "       [13, 15, 17, 19, 21, 23],\n",
       "       [19, 21, 23, 25, 27, 29]])"
      ]
     },
     "execution_count": 67,
     "metadata": {},
     "output_type": "execute_result"
    }
   ],
   "source": [
    "a+b"
   ]
  },
  {
   "cell_type": "code",
   "execution_count": 68,
   "metadata": {},
   "outputs": [
    {
     "data": {
      "text/plain": [
       "array([( 3.3  , 1.7  ), ( 4.4  , 2.76 ), ( 5.5  , 2.09 ), ( 6.71 , 3.19 ),\n",
       "       ( 6.93 , 1.694), ( 4.168, 1.573), ( 9.779, 3.366), ( 6.182, 2.596),\n",
       "       ( 7.59 , 2.53 ), ( 2.167, 1.221), ( 7.042, 2.827), (10.791, 3.465),\n",
       "       ( 5.313, 1.65 ), ( 7.997, 2.904), ( 5.654, 2.42 ), ( 9.27 , 2.94 ),\n",
       "       ( 3.1  , 1.3  )], dtype=[('X', '<f4'), ('Y', '<f4')])"
      ]
     },
     "execution_count": 68,
     "metadata": {},
     "output_type": "execute_result"
    }
   ],
   "source": [
    "data=np.loadtxt(\"regression.csv\", delimiter=',', skiprows=1, dtype={'names':(\"X\", \"Y\"), 'formats':('f','f')})\n",
    "#delimiter는 무엇으로 나눌건지, skiprows=z는 z번째 줄을 건너뛰어라\n",
    "data"
   ]
  },
  {
   "cell_type": "code",
   "execution_count": 69,
   "metadata": {},
   "outputs": [],
   "source": [
    "np.savetxt(\"regression_saved.csv\", data, delimiter=\",\")"
   ]
  },
  {
   "cell_type": "code",
   "execution_count": 70,
   "metadata": {},
   "outputs": [],
   "source": [
    "a = np.arange(1, 5)\n",
    "b = np.arange(9, 5, -1)"
   ]
  },
  {
   "cell_type": "code",
   "execution_count": 71,
   "metadata": {},
   "outputs": [
    {
     "name": "stdout",
     "output_type": "stream",
     "text": [
      "[1 2 3 4]\n",
      "[9 8 7 6]\n"
     ]
    }
   ],
   "source": [
    "print(a)\n",
    "print(b)"
   ]
  },
  {
   "cell_type": "code",
   "execution_count": 72,
   "metadata": {},
   "outputs": [],
   "source": [
    "a = np.matrix(a)\n",
    "b = np.matrix(b)"
   ]
  },
  {
   "cell_type": "code",
   "execution_count": 73,
   "metadata": {},
   "outputs": [
    {
     "name": "stdout",
     "output_type": "stream",
     "text": [
      "[[1 2 3 4]]\n",
      "[[9 8 7 6]]\n"
     ]
    }
   ],
   "source": [
    "print(a)\n",
    "print(b)\n",
    "#array였던 a와 b를 matrix로 바꿨기 때문에 괄호(차원)가 두 개 생겼다."
   ]
  },
  {
   "cell_type": "markdown",
   "metadata": {},
   "source": [
    "THE END OF NUMPY\n",
    "\n",
    "next: SOUND. 예습?\n",
    "\n",
    "SOUND is continuous but on the computer, it is a dot. 1초에 얼마나 빽빽하게 담을지=sampling rate.\n",
    "\n",
    "sampling rate을 10000으로 하면 1초 동안 총 10000 개의 숫자를 담겠다는 얘기 (pitch-Hz: if it's per second.)\n",
    "\n",
    ">>>>SOUND<<<<"
   ]
  },
  {
   "cell_type": "markdown",
   "metadata": {},
   "source": [
    "sinusoidal sounds.\n",
    "\n",
    "what makes sinusoidal sounds are 'phasors'. (such as functions sin, cos)\n",
    "\n",
    "*Sudden Math Lesson.\n",
    "    \n",
    "pi = 3.14....\n",
    "\n",
    "RADIANS: 0 ~ 2pi = 6.xxxx..\n",
    "\n",
    "DEGREES: 0 ~ 360 degrees\n",
    "\n",
    "0 corresponds with 0 degrees.\n",
    "\n",
    "2pi corresponds with 360 degrees. (so basically, pi is 180 degrees)\n",
    "\n",
    "+720 degrees=4pi=2pi*\n",
    "\n",
    "**the input for sin, cos functions etc. is RADIANS (not degrees)\n",
    "\n",
    "SEE ACTUAL PAPERS!!\n",
    "\n",
    "\n",
    "\n",
    "PHASOR"
   ]
  },
  {
   "cell_type": "code",
   "execution_count": 74,
   "metadata": {},
   "outputs": [],
   "source": [
    "#importing libraries\n",
    "from matplotlib import pyplot as plt   #library used for plotting\n",
    "from mpl_toolkits.mplot3d import Axes3D   #3D graph (I think)\n",
    "from mpl_toolkits.axes_grid1 import make_axes_locatable\n",
    "import IPython.display as ipd\n",
    "import numpy as np\n",
    "%matplotlib notebook\n",
    "from scipy.signal import lfilter"
   ]
  },
  {
   "cell_type": "code",
   "execution_count": 75,
   "metadata": {},
   "outputs": [],
   "source": [
    "# parameter setting. 여러 가지 변수들과 그에 해당하는 정보들을 설정.\n",
    "amp = 1          # range [0.0, 1.0] \n",
    "sr = 10000       # sampling rate, Hz. 음질의 해상도 정도를 결정하는 것. 10000이면 1초에 10000개의 숫자로 표현하겠다는 뜻.\n",
    "dur = 0.5        # in seconds\n",
    "freq = 400.0     # sine frequency, Hz. 1초에 태극 문양이 몇 번 들어가는가? 100번. 남자 목소리의 frequency와 유사."
   ]
  },
  {
   "cell_type": "code",
   "execution_count": 76,
   "metadata": {},
   "outputs": [
    {
     "ename": "SyntaxError",
     "evalue": "invalid syntax (<ipython-input-76-90b6ffbe09cb>, line 2)",
     "output_type": "error",
     "traceback": [
      "\u001b[1;36m  File \u001b[1;32m\"<ipython-input-76-90b6ffbe09cb>\"\u001b[1;36m, line \u001b[1;32m2\u001b[0m\n\u001b[1;33m    t 0.0001 0.0002 0.0003 ..... 0.5000 #우리가 만들고자 하는 time\u001b[0m\n\u001b[1;37m           ^\u001b[0m\n\u001b[1;31mSyntaxError\u001b[0m\u001b[1;31m:\u001b[0m invalid syntax\n"
     ]
    }
   ],
   "source": [
    "#time: sin, cos, Euler 함수들은 각도값을 받아들인다. 그러나 각도값만 있어서는 실체의 소리를 알기 어렵다. (sound needs time)\n",
    "t 0.0001 0.0002 0.0003 ..... 0.5000 #우리가 만들고자 하는 time\n",
    "#이런 식으로 만들면 끝도 없다. duration이 0에서 0.5까지 하면 된다. Sampling Rate에 따라서는 1초동안 10000개 들어가야 한다."
   ]
  },
  {
   "cell_type": "code",
   "execution_count": 77,
   "metadata": {},
   "outputs": [
    {
     "data": {
      "text/plain": [
       "array([0., 1., 2., 3., 4., 5., 6.])"
      ]
     },
     "execution_count": 77,
     "metadata": {},
     "output_type": "execute_result"
    }
   ],
   "source": [
    "#여기서 sin 함수에 들어갈 각도 theta이 벡터를 만드는 것이다. (0부터 2pi까지)\n",
    "#단위는 radian\n",
    "theta = np.arange(0, 2*np.pi)\n",
    "theta\n",
    "#default increment in 1, increment를 작게 할수록 그래프의 density가 증가. 즉 더 빽빽하게 할 수 있다!"
   ]
  },
  {
   "cell_type": "code",
   "execution_count": 78,
   "metadata": {},
   "outputs": [
    {
     "data": {
      "text/plain": [
       "array([ 0.        ,  0.84147098,  0.90929743,  0.14112001, -0.7568025 ,\n",
       "       -0.95892427, -0.2794155 ])"
      ]
     },
     "execution_count": 78,
     "metadata": {},
     "output_type": "execute_result"
    }
   ],
   "source": [
    "s = np.sin(theta)\n",
    "s"
   ]
  },
  {
   "cell_type": "code",
   "execution_count": 79,
   "metadata": {},
   "outputs": [
    {
     "data": {
      "application/javascript": [
       "/* Put everything inside the global mpl namespace */\n",
       "window.mpl = {};\n",
       "\n",
       "\n",
       "mpl.get_websocket_type = function() {\n",
       "    if (typeof(WebSocket) !== 'undefined') {\n",
       "        return WebSocket;\n",
       "    } else if (typeof(MozWebSocket) !== 'undefined') {\n",
       "        return MozWebSocket;\n",
       "    } else {\n",
       "        alert('Your browser does not have WebSocket support. ' +\n",
       "              'Please try Chrome, Safari or Firefox ≥ 6. ' +\n",
       "              'Firefox 4 and 5 are also supported but you ' +\n",
       "              'have to enable WebSockets in about:config.');\n",
       "    };\n",
       "}\n",
       "\n",
       "mpl.figure = function(figure_id, websocket, ondownload, parent_element) {\n",
       "    this.id = figure_id;\n",
       "\n",
       "    this.ws = websocket;\n",
       "\n",
       "    this.supports_binary = (this.ws.binaryType != undefined);\n",
       "\n",
       "    if (!this.supports_binary) {\n",
       "        var warnings = document.getElementById(\"mpl-warnings\");\n",
       "        if (warnings) {\n",
       "            warnings.style.display = 'block';\n",
       "            warnings.textContent = (\n",
       "                \"This browser does not support binary websocket messages. \" +\n",
       "                    \"Performance may be slow.\");\n",
       "        }\n",
       "    }\n",
       "\n",
       "    this.imageObj = new Image();\n",
       "\n",
       "    this.context = undefined;\n",
       "    this.message = undefined;\n",
       "    this.canvas = undefined;\n",
       "    this.rubberband_canvas = undefined;\n",
       "    this.rubberband_context = undefined;\n",
       "    this.format_dropdown = undefined;\n",
       "\n",
       "    this.image_mode = 'full';\n",
       "\n",
       "    this.root = $('<div/>');\n",
       "    this._root_extra_style(this.root)\n",
       "    this.root.attr('style', 'display: inline-block');\n",
       "\n",
       "    $(parent_element).append(this.root);\n",
       "\n",
       "    this._init_header(this);\n",
       "    this._init_canvas(this);\n",
       "    this._init_toolbar(this);\n",
       "\n",
       "    var fig = this;\n",
       "\n",
       "    this.waiting = false;\n",
       "\n",
       "    this.ws.onopen =  function () {\n",
       "            fig.send_message(\"supports_binary\", {value: fig.supports_binary});\n",
       "            fig.send_message(\"send_image_mode\", {});\n",
       "            if (mpl.ratio != 1) {\n",
       "                fig.send_message(\"set_dpi_ratio\", {'dpi_ratio': mpl.ratio});\n",
       "            }\n",
       "            fig.send_message(\"refresh\", {});\n",
       "        }\n",
       "\n",
       "    this.imageObj.onload = function() {\n",
       "            if (fig.image_mode == 'full') {\n",
       "                // Full images could contain transparency (where diff images\n",
       "                // almost always do), so we need to clear the canvas so that\n",
       "                // there is no ghosting.\n",
       "                fig.context.clearRect(0, 0, fig.canvas.width, fig.canvas.height);\n",
       "            }\n",
       "            fig.context.drawImage(fig.imageObj, 0, 0);\n",
       "        };\n",
       "\n",
       "    this.imageObj.onunload = function() {\n",
       "        fig.ws.close();\n",
       "    }\n",
       "\n",
       "    this.ws.onmessage = this._make_on_message_function(this);\n",
       "\n",
       "    this.ondownload = ondownload;\n",
       "}\n",
       "\n",
       "mpl.figure.prototype._init_header = function() {\n",
       "    var titlebar = $(\n",
       "        '<div class=\"ui-dialog-titlebar ui-widget-header ui-corner-all ' +\n",
       "        'ui-helper-clearfix\"/>');\n",
       "    var titletext = $(\n",
       "        '<div class=\"ui-dialog-title\" style=\"width: 100%; ' +\n",
       "        'text-align: center; padding: 3px;\"/>');\n",
       "    titlebar.append(titletext)\n",
       "    this.root.append(titlebar);\n",
       "    this.header = titletext[0];\n",
       "}\n",
       "\n",
       "\n",
       "\n",
       "mpl.figure.prototype._canvas_extra_style = function(canvas_div) {\n",
       "\n",
       "}\n",
       "\n",
       "\n",
       "mpl.figure.prototype._root_extra_style = function(canvas_div) {\n",
       "\n",
       "}\n",
       "\n",
       "mpl.figure.prototype._init_canvas = function() {\n",
       "    var fig = this;\n",
       "\n",
       "    var canvas_div = $('<div/>');\n",
       "\n",
       "    canvas_div.attr('style', 'position: relative; clear: both; outline: 0');\n",
       "\n",
       "    function canvas_keyboard_event(event) {\n",
       "        return fig.key_event(event, event['data']);\n",
       "    }\n",
       "\n",
       "    canvas_div.keydown('key_press', canvas_keyboard_event);\n",
       "    canvas_div.keyup('key_release', canvas_keyboard_event);\n",
       "    this.canvas_div = canvas_div\n",
       "    this._canvas_extra_style(canvas_div)\n",
       "    this.root.append(canvas_div);\n",
       "\n",
       "    var canvas = $('<canvas/>');\n",
       "    canvas.addClass('mpl-canvas');\n",
       "    canvas.attr('style', \"left: 0; top: 0; z-index: 0; outline: 0\")\n",
       "\n",
       "    this.canvas = canvas[0];\n",
       "    this.context = canvas[0].getContext(\"2d\");\n",
       "\n",
       "    var backingStore = this.context.backingStorePixelRatio ||\n",
       "\tthis.context.webkitBackingStorePixelRatio ||\n",
       "\tthis.context.mozBackingStorePixelRatio ||\n",
       "\tthis.context.msBackingStorePixelRatio ||\n",
       "\tthis.context.oBackingStorePixelRatio ||\n",
       "\tthis.context.backingStorePixelRatio || 1;\n",
       "\n",
       "    mpl.ratio = (window.devicePixelRatio || 1) / backingStore;\n",
       "\n",
       "    var rubberband = $('<canvas/>');\n",
       "    rubberband.attr('style', \"position: absolute; left: 0; top: 0; z-index: 1;\")\n",
       "\n",
       "    var pass_mouse_events = true;\n",
       "\n",
       "    canvas_div.resizable({\n",
       "        start: function(event, ui) {\n",
       "            pass_mouse_events = false;\n",
       "        },\n",
       "        resize: function(event, ui) {\n",
       "            fig.request_resize(ui.size.width, ui.size.height);\n",
       "        },\n",
       "        stop: function(event, ui) {\n",
       "            pass_mouse_events = true;\n",
       "            fig.request_resize(ui.size.width, ui.size.height);\n",
       "        },\n",
       "    });\n",
       "\n",
       "    function mouse_event_fn(event) {\n",
       "        if (pass_mouse_events)\n",
       "            return fig.mouse_event(event, event['data']);\n",
       "    }\n",
       "\n",
       "    rubberband.mousedown('button_press', mouse_event_fn);\n",
       "    rubberband.mouseup('button_release', mouse_event_fn);\n",
       "    // Throttle sequential mouse events to 1 every 20ms.\n",
       "    rubberband.mousemove('motion_notify', mouse_event_fn);\n",
       "\n",
       "    rubberband.mouseenter('figure_enter', mouse_event_fn);\n",
       "    rubberband.mouseleave('figure_leave', mouse_event_fn);\n",
       "\n",
       "    canvas_div.on(\"wheel\", function (event) {\n",
       "        event = event.originalEvent;\n",
       "        event['data'] = 'scroll'\n",
       "        if (event.deltaY < 0) {\n",
       "            event.step = 1;\n",
       "        } else {\n",
       "            event.step = -1;\n",
       "        }\n",
       "        mouse_event_fn(event);\n",
       "    });\n",
       "\n",
       "    canvas_div.append(canvas);\n",
       "    canvas_div.append(rubberband);\n",
       "\n",
       "    this.rubberband = rubberband;\n",
       "    this.rubberband_canvas = rubberband[0];\n",
       "    this.rubberband_context = rubberband[0].getContext(\"2d\");\n",
       "    this.rubberband_context.strokeStyle = \"#000000\";\n",
       "\n",
       "    this._resize_canvas = function(width, height) {\n",
       "        // Keep the size of the canvas, canvas container, and rubber band\n",
       "        // canvas in synch.\n",
       "        canvas_div.css('width', width)\n",
       "        canvas_div.css('height', height)\n",
       "\n",
       "        canvas.attr('width', width * mpl.ratio);\n",
       "        canvas.attr('height', height * mpl.ratio);\n",
       "        canvas.attr('style', 'width: ' + width + 'px; height: ' + height + 'px;');\n",
       "\n",
       "        rubberband.attr('width', width);\n",
       "        rubberband.attr('height', height);\n",
       "    }\n",
       "\n",
       "    // Set the figure to an initial 600x600px, this will subsequently be updated\n",
       "    // upon first draw.\n",
       "    this._resize_canvas(600, 600);\n",
       "\n",
       "    // Disable right mouse context menu.\n",
       "    $(this.rubberband_canvas).bind(\"contextmenu\",function(e){\n",
       "        return false;\n",
       "    });\n",
       "\n",
       "    function set_focus () {\n",
       "        canvas.focus();\n",
       "        canvas_div.focus();\n",
       "    }\n",
       "\n",
       "    window.setTimeout(set_focus, 100);\n",
       "}\n",
       "\n",
       "mpl.figure.prototype._init_toolbar = function() {\n",
       "    var fig = this;\n",
       "\n",
       "    var nav_element = $('<div/>');\n",
       "    nav_element.attr('style', 'width: 100%');\n",
       "    this.root.append(nav_element);\n",
       "\n",
       "    // Define a callback function for later on.\n",
       "    function toolbar_event(event) {\n",
       "        return fig.toolbar_button_onclick(event['data']);\n",
       "    }\n",
       "    function toolbar_mouse_event(event) {\n",
       "        return fig.toolbar_button_onmouseover(event['data']);\n",
       "    }\n",
       "\n",
       "    for(var toolbar_ind in mpl.toolbar_items) {\n",
       "        var name = mpl.toolbar_items[toolbar_ind][0];\n",
       "        var tooltip = mpl.toolbar_items[toolbar_ind][1];\n",
       "        var image = mpl.toolbar_items[toolbar_ind][2];\n",
       "        var method_name = mpl.toolbar_items[toolbar_ind][3];\n",
       "\n",
       "        if (!name) {\n",
       "            // put a spacer in here.\n",
       "            continue;\n",
       "        }\n",
       "        var button = $('<button/>');\n",
       "        button.addClass('ui-button ui-widget ui-state-default ui-corner-all ' +\n",
       "                        'ui-button-icon-only');\n",
       "        button.attr('role', 'button');\n",
       "        button.attr('aria-disabled', 'false');\n",
       "        button.click(method_name, toolbar_event);\n",
       "        button.mouseover(tooltip, toolbar_mouse_event);\n",
       "\n",
       "        var icon_img = $('<span/>');\n",
       "        icon_img.addClass('ui-button-icon-primary ui-icon');\n",
       "        icon_img.addClass(image);\n",
       "        icon_img.addClass('ui-corner-all');\n",
       "\n",
       "        var tooltip_span = $('<span/>');\n",
       "        tooltip_span.addClass('ui-button-text');\n",
       "        tooltip_span.html(tooltip);\n",
       "\n",
       "        button.append(icon_img);\n",
       "        button.append(tooltip_span);\n",
       "\n",
       "        nav_element.append(button);\n",
       "    }\n",
       "\n",
       "    var fmt_picker_span = $('<span/>');\n",
       "\n",
       "    var fmt_picker = $('<select/>');\n",
       "    fmt_picker.addClass('mpl-toolbar-option ui-widget ui-widget-content');\n",
       "    fmt_picker_span.append(fmt_picker);\n",
       "    nav_element.append(fmt_picker_span);\n",
       "    this.format_dropdown = fmt_picker[0];\n",
       "\n",
       "    for (var ind in mpl.extensions) {\n",
       "        var fmt = mpl.extensions[ind];\n",
       "        var option = $(\n",
       "            '<option/>', {selected: fmt === mpl.default_extension}).html(fmt);\n",
       "        fmt_picker.append(option);\n",
       "    }\n",
       "\n",
       "    // Add hover states to the ui-buttons\n",
       "    $( \".ui-button\" ).hover(\n",
       "        function() { $(this).addClass(\"ui-state-hover\");},\n",
       "        function() { $(this).removeClass(\"ui-state-hover\");}\n",
       "    );\n",
       "\n",
       "    var status_bar = $('<span class=\"mpl-message\"/>');\n",
       "    nav_element.append(status_bar);\n",
       "    this.message = status_bar[0];\n",
       "}\n",
       "\n",
       "mpl.figure.prototype.request_resize = function(x_pixels, y_pixels) {\n",
       "    // Request matplotlib to resize the figure. Matplotlib will then trigger a resize in the client,\n",
       "    // which will in turn request a refresh of the image.\n",
       "    this.send_message('resize', {'width': x_pixels, 'height': y_pixels});\n",
       "}\n",
       "\n",
       "mpl.figure.prototype.send_message = function(type, properties) {\n",
       "    properties['type'] = type;\n",
       "    properties['figure_id'] = this.id;\n",
       "    this.ws.send(JSON.stringify(properties));\n",
       "}\n",
       "\n",
       "mpl.figure.prototype.send_draw_message = function() {\n",
       "    if (!this.waiting) {\n",
       "        this.waiting = true;\n",
       "        this.ws.send(JSON.stringify({type: \"draw\", figure_id: this.id}));\n",
       "    }\n",
       "}\n",
       "\n",
       "\n",
       "mpl.figure.prototype.handle_save = function(fig, msg) {\n",
       "    var format_dropdown = fig.format_dropdown;\n",
       "    var format = format_dropdown.options[format_dropdown.selectedIndex].value;\n",
       "    fig.ondownload(fig, format);\n",
       "}\n",
       "\n",
       "\n",
       "mpl.figure.prototype.handle_resize = function(fig, msg) {\n",
       "    var size = msg['size'];\n",
       "    if (size[0] != fig.canvas.width || size[1] != fig.canvas.height) {\n",
       "        fig._resize_canvas(size[0], size[1]);\n",
       "        fig.send_message(\"refresh\", {});\n",
       "    };\n",
       "}\n",
       "\n",
       "mpl.figure.prototype.handle_rubberband = function(fig, msg) {\n",
       "    var x0 = msg['x0'] / mpl.ratio;\n",
       "    var y0 = (fig.canvas.height - msg['y0']) / mpl.ratio;\n",
       "    var x1 = msg['x1'] / mpl.ratio;\n",
       "    var y1 = (fig.canvas.height - msg['y1']) / mpl.ratio;\n",
       "    x0 = Math.floor(x0) + 0.5;\n",
       "    y0 = Math.floor(y0) + 0.5;\n",
       "    x1 = Math.floor(x1) + 0.5;\n",
       "    y1 = Math.floor(y1) + 0.5;\n",
       "    var min_x = Math.min(x0, x1);\n",
       "    var min_y = Math.min(y0, y1);\n",
       "    var width = Math.abs(x1 - x0);\n",
       "    var height = Math.abs(y1 - y0);\n",
       "\n",
       "    fig.rubberband_context.clearRect(\n",
       "        0, 0, fig.canvas.width, fig.canvas.height);\n",
       "\n",
       "    fig.rubberband_context.strokeRect(min_x, min_y, width, height);\n",
       "}\n",
       "\n",
       "mpl.figure.prototype.handle_figure_label = function(fig, msg) {\n",
       "    // Updates the figure title.\n",
       "    fig.header.textContent = msg['label'];\n",
       "}\n",
       "\n",
       "mpl.figure.prototype.handle_cursor = function(fig, msg) {\n",
       "    var cursor = msg['cursor'];\n",
       "    switch(cursor)\n",
       "    {\n",
       "    case 0:\n",
       "        cursor = 'pointer';\n",
       "        break;\n",
       "    case 1:\n",
       "        cursor = 'default';\n",
       "        break;\n",
       "    case 2:\n",
       "        cursor = 'crosshair';\n",
       "        break;\n",
       "    case 3:\n",
       "        cursor = 'move';\n",
       "        break;\n",
       "    }\n",
       "    fig.rubberband_canvas.style.cursor = cursor;\n",
       "}\n",
       "\n",
       "mpl.figure.prototype.handle_message = function(fig, msg) {\n",
       "    fig.message.textContent = msg['message'];\n",
       "}\n",
       "\n",
       "mpl.figure.prototype.handle_draw = function(fig, msg) {\n",
       "    // Request the server to send over a new figure.\n",
       "    fig.send_draw_message();\n",
       "}\n",
       "\n",
       "mpl.figure.prototype.handle_image_mode = function(fig, msg) {\n",
       "    fig.image_mode = msg['mode'];\n",
       "}\n",
       "\n",
       "mpl.figure.prototype.updated_canvas_event = function() {\n",
       "    // Called whenever the canvas gets updated.\n",
       "    this.send_message(\"ack\", {});\n",
       "}\n",
       "\n",
       "// A function to construct a web socket function for onmessage handling.\n",
       "// Called in the figure constructor.\n",
       "mpl.figure.prototype._make_on_message_function = function(fig) {\n",
       "    return function socket_on_message(evt) {\n",
       "        if (evt.data instanceof Blob) {\n",
       "            /* FIXME: We get \"Resource interpreted as Image but\n",
       "             * transferred with MIME type text/plain:\" errors on\n",
       "             * Chrome.  But how to set the MIME type?  It doesn't seem\n",
       "             * to be part of the websocket stream */\n",
       "            evt.data.type = \"image/png\";\n",
       "\n",
       "            /* Free the memory for the previous frames */\n",
       "            if (fig.imageObj.src) {\n",
       "                (window.URL || window.webkitURL).revokeObjectURL(\n",
       "                    fig.imageObj.src);\n",
       "            }\n",
       "\n",
       "            fig.imageObj.src = (window.URL || window.webkitURL).createObjectURL(\n",
       "                evt.data);\n",
       "            fig.updated_canvas_event();\n",
       "            fig.waiting = false;\n",
       "            return;\n",
       "        }\n",
       "        else if (typeof evt.data === 'string' && evt.data.slice(0, 21) == \"data:image/png;base64\") {\n",
       "            fig.imageObj.src = evt.data;\n",
       "            fig.updated_canvas_event();\n",
       "            fig.waiting = false;\n",
       "            return;\n",
       "        }\n",
       "\n",
       "        var msg = JSON.parse(evt.data);\n",
       "        var msg_type = msg['type'];\n",
       "\n",
       "        // Call the  \"handle_{type}\" callback, which takes\n",
       "        // the figure and JSON message as its only arguments.\n",
       "        try {\n",
       "            var callback = fig[\"handle_\" + msg_type];\n",
       "        } catch (e) {\n",
       "            console.log(\"No handler for the '\" + msg_type + \"' message type: \", msg);\n",
       "            return;\n",
       "        }\n",
       "\n",
       "        if (callback) {\n",
       "            try {\n",
       "                // console.log(\"Handling '\" + msg_type + \"' message: \", msg);\n",
       "                callback(fig, msg);\n",
       "            } catch (e) {\n",
       "                console.log(\"Exception inside the 'handler_\" + msg_type + \"' callback:\", e, e.stack, msg);\n",
       "            }\n",
       "        }\n",
       "    };\n",
       "}\n",
       "\n",
       "// from http://stackoverflow.com/questions/1114465/getting-mouse-location-in-canvas\n",
       "mpl.findpos = function(e) {\n",
       "    //this section is from http://www.quirksmode.org/js/events_properties.html\n",
       "    var targ;\n",
       "    if (!e)\n",
       "        e = window.event;\n",
       "    if (e.target)\n",
       "        targ = e.target;\n",
       "    else if (e.srcElement)\n",
       "        targ = e.srcElement;\n",
       "    if (targ.nodeType == 3) // defeat Safari bug\n",
       "        targ = targ.parentNode;\n",
       "\n",
       "    // jQuery normalizes the pageX and pageY\n",
       "    // pageX,Y are the mouse positions relative to the document\n",
       "    // offset() returns the position of the element relative to the document\n",
       "    var x = e.pageX - $(targ).offset().left;\n",
       "    var y = e.pageY - $(targ).offset().top;\n",
       "\n",
       "    return {\"x\": x, \"y\": y};\n",
       "};\n",
       "\n",
       "/*\n",
       " * return a copy of an object with only non-object keys\n",
       " * we need this to avoid circular references\n",
       " * http://stackoverflow.com/a/24161582/3208463\n",
       " */\n",
       "function simpleKeys (original) {\n",
       "  return Object.keys(original).reduce(function (obj, key) {\n",
       "    if (typeof original[key] !== 'object')\n",
       "        obj[key] = original[key]\n",
       "    return obj;\n",
       "  }, {});\n",
       "}\n",
       "\n",
       "mpl.figure.prototype.mouse_event = function(event, name) {\n",
       "    var canvas_pos = mpl.findpos(event)\n",
       "\n",
       "    if (name === 'button_press')\n",
       "    {\n",
       "        this.canvas.focus();\n",
       "        this.canvas_div.focus();\n",
       "    }\n",
       "\n",
       "    var x = canvas_pos.x * mpl.ratio;\n",
       "    var y = canvas_pos.y * mpl.ratio;\n",
       "\n",
       "    this.send_message(name, {x: x, y: y, button: event.button,\n",
       "                             step: event.step,\n",
       "                             guiEvent: simpleKeys(event)});\n",
       "\n",
       "    /* This prevents the web browser from automatically changing to\n",
       "     * the text insertion cursor when the button is pressed.  We want\n",
       "     * to control all of the cursor setting manually through the\n",
       "     * 'cursor' event from matplotlib */\n",
       "    event.preventDefault();\n",
       "    return false;\n",
       "}\n",
       "\n",
       "mpl.figure.prototype._key_event_extra = function(event, name) {\n",
       "    // Handle any extra behaviour associated with a key event\n",
       "}\n",
       "\n",
       "mpl.figure.prototype.key_event = function(event, name) {\n",
       "\n",
       "    // Prevent repeat events\n",
       "    if (name == 'key_press')\n",
       "    {\n",
       "        if (event.which === this._key)\n",
       "            return;\n",
       "        else\n",
       "            this._key = event.which;\n",
       "    }\n",
       "    if (name == 'key_release')\n",
       "        this._key = null;\n",
       "\n",
       "    var value = '';\n",
       "    if (event.ctrlKey && event.which != 17)\n",
       "        value += \"ctrl+\";\n",
       "    if (event.altKey && event.which != 18)\n",
       "        value += \"alt+\";\n",
       "    if (event.shiftKey && event.which != 16)\n",
       "        value += \"shift+\";\n",
       "\n",
       "    value += 'k';\n",
       "    value += event.which.toString();\n",
       "\n",
       "    this._key_event_extra(event, name);\n",
       "\n",
       "    this.send_message(name, {key: value,\n",
       "                             guiEvent: simpleKeys(event)});\n",
       "    return false;\n",
       "}\n",
       "\n",
       "mpl.figure.prototype.toolbar_button_onclick = function(name) {\n",
       "    if (name == 'download') {\n",
       "        this.handle_save(this, null);\n",
       "    } else {\n",
       "        this.send_message(\"toolbar_button\", {name: name});\n",
       "    }\n",
       "};\n",
       "\n",
       "mpl.figure.prototype.toolbar_button_onmouseover = function(tooltip) {\n",
       "    this.message.textContent = tooltip;\n",
       "};\n",
       "mpl.toolbar_items = [[\"Home\", \"Reset original view\", \"fa fa-home icon-home\", \"home\"], [\"Back\", \"Back to previous view\", \"fa fa-arrow-left icon-arrow-left\", \"back\"], [\"Forward\", \"Forward to next view\", \"fa fa-arrow-right icon-arrow-right\", \"forward\"], [\"\", \"\", \"\", \"\"], [\"Pan\", \"Pan axes with left mouse, zoom with right\", \"fa fa-arrows icon-move\", \"pan\"], [\"Zoom\", \"Zoom to rectangle\", \"fa fa-square-o icon-check-empty\", \"zoom\"], [\"\", \"\", \"\", \"\"], [\"Download\", \"Download plot\", \"fa fa-floppy-o icon-save\", \"download\"]];\n",
       "\n",
       "mpl.extensions = [\"eps\", \"jpeg\", \"pdf\", \"png\", \"ps\", \"raw\", \"svg\", \"tif\"];\n",
       "\n",
       "mpl.default_extension = \"png\";var comm_websocket_adapter = function(comm) {\n",
       "    // Create a \"websocket\"-like object which calls the given IPython comm\n",
       "    // object with the appropriate methods. Currently this is a non binary\n",
       "    // socket, so there is still some room for performance tuning.\n",
       "    var ws = {};\n",
       "\n",
       "    ws.close = function() {\n",
       "        comm.close()\n",
       "    };\n",
       "    ws.send = function(m) {\n",
       "        //console.log('sending', m);\n",
       "        comm.send(m);\n",
       "    };\n",
       "    // Register the callback with on_msg.\n",
       "    comm.on_msg(function(msg) {\n",
       "        //console.log('receiving', msg['content']['data'], msg);\n",
       "        // Pass the mpl event to the overridden (by mpl) onmessage function.\n",
       "        ws.onmessage(msg['content']['data'])\n",
       "    });\n",
       "    return ws;\n",
       "}\n",
       "\n",
       "mpl.mpl_figure_comm = function(comm, msg) {\n",
       "    // This is the function which gets called when the mpl process\n",
       "    // starts-up an IPython Comm through the \"matplotlib\" channel.\n",
       "\n",
       "    var id = msg.content.data.id;\n",
       "    // Get hold of the div created by the display call when the Comm\n",
       "    // socket was opened in Python.\n",
       "    var element = $(\"#\" + id);\n",
       "    var ws_proxy = comm_websocket_adapter(comm)\n",
       "\n",
       "    function ondownload(figure, format) {\n",
       "        window.open(figure.imageObj.src);\n",
       "    }\n",
       "\n",
       "    var fig = new mpl.figure(id, ws_proxy,\n",
       "                           ondownload,\n",
       "                           element.get(0));\n",
       "\n",
       "    // Call onopen now - mpl needs it, as it is assuming we've passed it a real\n",
       "    // web socket which is closed, not our websocket->open comm proxy.\n",
       "    ws_proxy.onopen();\n",
       "\n",
       "    fig.parent_element = element.get(0);\n",
       "    fig.cell_info = mpl.find_output_cell(\"<div id='\" + id + \"'></div>\");\n",
       "    if (!fig.cell_info) {\n",
       "        console.error(\"Failed to find cell for figure\", id, fig);\n",
       "        return;\n",
       "    }\n",
       "\n",
       "    var output_index = fig.cell_info[2]\n",
       "    var cell = fig.cell_info[0];\n",
       "\n",
       "};\n",
       "\n",
       "mpl.figure.prototype.handle_close = function(fig, msg) {\n",
       "    var width = fig.canvas.width/mpl.ratio\n",
       "    fig.root.unbind('remove')\n",
       "\n",
       "    // Update the output cell to use the data from the current canvas.\n",
       "    fig.push_to_output();\n",
       "    var dataURL = fig.canvas.toDataURL();\n",
       "    // Re-enable the keyboard manager in IPython - without this line, in FF,\n",
       "    // the notebook keyboard shortcuts fail.\n",
       "    IPython.keyboard_manager.enable()\n",
       "    $(fig.parent_element).html('<img src=\"' + dataURL + '\" width=\"' + width + '\">');\n",
       "    fig.close_ws(fig, msg);\n",
       "}\n",
       "\n",
       "mpl.figure.prototype.close_ws = function(fig, msg){\n",
       "    fig.send_message('closing', msg);\n",
       "    // fig.ws.close()\n",
       "}\n",
       "\n",
       "mpl.figure.prototype.push_to_output = function(remove_interactive) {\n",
       "    // Turn the data on the canvas into data in the output cell.\n",
       "    var width = this.canvas.width/mpl.ratio\n",
       "    var dataURL = this.canvas.toDataURL();\n",
       "    this.cell_info[1]['text/html'] = '<img src=\"' + dataURL + '\" width=\"' + width + '\">';\n",
       "}\n",
       "\n",
       "mpl.figure.prototype.updated_canvas_event = function() {\n",
       "    // Tell IPython that the notebook contents must change.\n",
       "    IPython.notebook.set_dirty(true);\n",
       "    this.send_message(\"ack\", {});\n",
       "    var fig = this;\n",
       "    // Wait a second, then push the new image to the DOM so\n",
       "    // that it is saved nicely (might be nice to debounce this).\n",
       "    setTimeout(function () { fig.push_to_output() }, 1000);\n",
       "}\n",
       "\n",
       "mpl.figure.prototype._init_toolbar = function() {\n",
       "    var fig = this;\n",
       "\n",
       "    var nav_element = $('<div/>');\n",
       "    nav_element.attr('style', 'width: 100%');\n",
       "    this.root.append(nav_element);\n",
       "\n",
       "    // Define a callback function for later on.\n",
       "    function toolbar_event(event) {\n",
       "        return fig.toolbar_button_onclick(event['data']);\n",
       "    }\n",
       "    function toolbar_mouse_event(event) {\n",
       "        return fig.toolbar_button_onmouseover(event['data']);\n",
       "    }\n",
       "\n",
       "    for(var toolbar_ind in mpl.toolbar_items){\n",
       "        var name = mpl.toolbar_items[toolbar_ind][0];\n",
       "        var tooltip = mpl.toolbar_items[toolbar_ind][1];\n",
       "        var image = mpl.toolbar_items[toolbar_ind][2];\n",
       "        var method_name = mpl.toolbar_items[toolbar_ind][3];\n",
       "\n",
       "        if (!name) { continue; };\n",
       "\n",
       "        var button = $('<button class=\"btn btn-default\" href=\"#\" title=\"' + name + '\"><i class=\"fa ' + image + ' fa-lg\"></i></button>');\n",
       "        button.click(method_name, toolbar_event);\n",
       "        button.mouseover(tooltip, toolbar_mouse_event);\n",
       "        nav_element.append(button);\n",
       "    }\n",
       "\n",
       "    // Add the status bar.\n",
       "    var status_bar = $('<span class=\"mpl-message\" style=\"text-align:right; float: right;\"/>');\n",
       "    nav_element.append(status_bar);\n",
       "    this.message = status_bar[0];\n",
       "\n",
       "    // Add the close button to the window.\n",
       "    var buttongrp = $('<div class=\"btn-group inline pull-right\"></div>');\n",
       "    var button = $('<button class=\"btn btn-mini btn-primary\" href=\"#\" title=\"Stop Interaction\"><i class=\"fa fa-power-off icon-remove icon-large\"></i></button>');\n",
       "    button.click(function (evt) { fig.handle_close(fig, {}); } );\n",
       "    button.mouseover('Stop Interaction', toolbar_mouse_event);\n",
       "    buttongrp.append(button);\n",
       "    var titlebar = this.root.find($('.ui-dialog-titlebar'));\n",
       "    titlebar.prepend(buttongrp);\n",
       "}\n",
       "\n",
       "mpl.figure.prototype._root_extra_style = function(el){\n",
       "    var fig = this\n",
       "    el.on(\"remove\", function(){\n",
       "\tfig.close_ws(fig, {});\n",
       "    });\n",
       "}\n",
       "\n",
       "mpl.figure.prototype._canvas_extra_style = function(el){\n",
       "    // this is important to make the div 'focusable\n",
       "    el.attr('tabindex', 0)\n",
       "    // reach out to IPython and tell the keyboard manager to turn it's self\n",
       "    // off when our div gets focus\n",
       "\n",
       "    // location in version 3\n",
       "    if (IPython.notebook.keyboard_manager) {\n",
       "        IPython.notebook.keyboard_manager.register_events(el);\n",
       "    }\n",
       "    else {\n",
       "        // location in version 2\n",
       "        IPython.keyboard_manager.register_events(el);\n",
       "    }\n",
       "\n",
       "}\n",
       "\n",
       "mpl.figure.prototype._key_event_extra = function(event, name) {\n",
       "    var manager = IPython.notebook.keyboard_manager;\n",
       "    if (!manager)\n",
       "        manager = IPython.keyboard_manager;\n",
       "\n",
       "    // Check for shift+enter\n",
       "    if (event.shiftKey && event.which == 13) {\n",
       "        this.canvas_div.blur();\n",
       "        event.shiftKey = false;\n",
       "        // Send a \"J\" for go to next cell\n",
       "        event.which = 74;\n",
       "        event.keyCode = 74;\n",
       "        manager.command_mode();\n",
       "        manager.handle_keydown(event);\n",
       "    }\n",
       "}\n",
       "\n",
       "mpl.figure.prototype.handle_save = function(fig, msg) {\n",
       "    fig.ondownload(fig, null);\n",
       "}\n",
       "\n",
       "\n",
       "mpl.find_output_cell = function(html_output) {\n",
       "    // Return the cell and output element which can be found *uniquely* in the notebook.\n",
       "    // Note - this is a bit hacky, but it is done because the \"notebook_saving.Notebook\"\n",
       "    // IPython event is triggered only after the cells have been serialised, which for\n",
       "    // our purposes (turning an active figure into a static one), is too late.\n",
       "    var cells = IPython.notebook.get_cells();\n",
       "    var ncells = cells.length;\n",
       "    for (var i=0; i<ncells; i++) {\n",
       "        var cell = cells[i];\n",
       "        if (cell.cell_type === 'code'){\n",
       "            for (var j=0; j<cell.output_area.outputs.length; j++) {\n",
       "                var data = cell.output_area.outputs[j];\n",
       "                if (data.data) {\n",
       "                    // IPython >= 3 moved mimebundle to data attribute of output\n",
       "                    data = data.data;\n",
       "                }\n",
       "                if (data['text/html'] == html_output) {\n",
       "                    return [cell, data, j];\n",
       "                }\n",
       "            }\n",
       "        }\n",
       "    }\n",
       "}\n",
       "\n",
       "// Register the function which deals with the matplotlib target/channel.\n",
       "// The kernel may be null if the page has been refreshed.\n",
       "if (IPython.notebook.kernel != null) {\n",
       "    IPython.notebook.kernel.comm_manager.register_target('matplotlib', mpl.mpl_figure_comm);\n",
       "}\n"
      ],
      "text/plain": [
       "<IPython.core.display.Javascript object>"
      ]
     },
     "metadata": {},
     "output_type": "display_data"
    },
    {
     "data": {
      "text/html": [
       "<img src=\"data:image/png;base64,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\" width=\"639.2025602824718\">"
      ],
      "text/plain": [
       "<IPython.core.display.HTML object>"
      ]
     },
     "metadata": {},
     "output_type": "display_data"
    },
    {
     "data": {
      "text/plain": [
       "[<matplotlib.lines.Line2D at 0x2a9e1215588>]"
      ]
     },
     "execution_count": 79,
     "metadata": {},
     "output_type": "execute_result"
    }
   ],
   "source": [
    "fig = plt.figure()   #fig는 함수이다\n",
    "ax = fig.add_subplot(221)\n",
    "#화면을 2x2로 나누는데 이 subplot을 첫 번째로 놓는다.\n",
    "ax.plot(theta, s, '.')\n",
    "ax = fig.add_subplot(222)\n",
    "ax.plot(theta, s, '.')\n",
    "ax = fig.add_subplot(223)\n",
    "ax.plot(theta, s, '.')\n",
    "ax = fig.add_subplot(224)\n",
    "ax.plot(theta, s, '.')\n",
    "#밑의 전체가 fig. 즉 이 화면 전체가 fig, 4개의 subplot이 있다고 생각하면 된다. s는 function 즉 sine의 결과값. y축은 sin 함수의 결과.\n",
    "#but it's too sparse!"
   ]
  },
  {
   "cell_type": "code",
   "execution_count": 83,
   "metadata": {},
   "outputs": [
    {
     "data": {
      "text/plain": [
       "array([0. , 0.1, 0.2, 0.3, 0.4, 0.5, 0.6, 0.7, 0.8, 0.9, 1. , 1.1, 1.2,\n",
       "       1.3, 1.4, 1.5, 1.6, 1.7, 1.8, 1.9, 2. , 2.1, 2.2, 2.3, 2.4, 2.5,\n",
       "       2.6, 2.7, 2.8, 2.9, 3. , 3.1, 3.2, 3.3, 3.4, 3.5, 3.6, 3.7, 3.8,\n",
       "       3.9, 4. , 4.1, 4.2, 4.3, 4.4, 4.5, 4.6, 4.7, 4.8, 4.9, 5. , 5.1,\n",
       "       5.2, 5.3, 5.4, 5.5, 5.6, 5.7, 5.8, 5.9, 6. , 6.1, 6.2])"
      ]
     },
     "execution_count": 83,
     "metadata": {},
     "output_type": "execute_result"
    }
   ],
   "source": [
    "theta = np.arange(0, 2*np.pi, 0.1)\n",
    "theta\n",
    "#2pi인 이유는 2pi가 360도이기 때문에 이렇게 하면 sin wave가 하나씩 나오는 것이다. 10pi로 하면 360x5번 도는 것이고, 태극문양도 5번 나온다."
   ]
  },
  {
   "cell_type": "code",
   "execution_count": 84,
   "metadata": {},
   "outputs": [
    {
     "data": {
      "text/plain": [
       "array([ 0.        ,  0.09983342,  0.19866933,  0.29552021,  0.38941834,\n",
       "        0.47942554,  0.56464247,  0.64421769,  0.71735609,  0.78332691,\n",
       "        0.84147098,  0.89120736,  0.93203909,  0.96355819,  0.98544973,\n",
       "        0.99749499,  0.9995736 ,  0.99166481,  0.97384763,  0.94630009,\n",
       "        0.90929743,  0.86320937,  0.8084964 ,  0.74570521,  0.67546318,\n",
       "        0.59847214,  0.51550137,  0.42737988,  0.33498815,  0.23924933,\n",
       "        0.14112001,  0.04158066, -0.05837414, -0.15774569, -0.2555411 ,\n",
       "       -0.35078323, -0.44252044, -0.52983614, -0.61185789, -0.68776616,\n",
       "       -0.7568025 , -0.81827711, -0.87157577, -0.91616594, -0.95160207,\n",
       "       -0.97753012, -0.993691  , -0.99992326, -0.99616461, -0.98245261,\n",
       "       -0.95892427, -0.92581468, -0.88345466, -0.83226744, -0.77276449,\n",
       "       -0.70554033, -0.63126664, -0.55068554, -0.46460218, -0.37387666,\n",
       "       -0.2794155 , -0.1821625 , -0.0830894 ])"
      ]
     },
     "execution_count": 84,
     "metadata": {},
     "output_type": "execute_result"
    }
   ],
   "source": [
    "s = np.sin(theta)\n",
    "s"
   ]
  },
  {
   "cell_type": "code",
   "execution_count": 85,
   "metadata": {},
   "outputs": [
    {
     "data": {
      "application/javascript": [
       "/* Put everything inside the global mpl namespace */\n",
       "window.mpl = {};\n",
       "\n",
       "\n",
       "mpl.get_websocket_type = function() {\n",
       "    if (typeof(WebSocket) !== 'undefined') {\n",
       "        return WebSocket;\n",
       "    } else if (typeof(MozWebSocket) !== 'undefined') {\n",
       "        return MozWebSocket;\n",
       "    } else {\n",
       "        alert('Your browser does not have WebSocket support. ' +\n",
       "              'Please try Chrome, Safari or Firefox ≥ 6. ' +\n",
       "              'Firefox 4 and 5 are also supported but you ' +\n",
       "              'have to enable WebSockets in about:config.');\n",
       "    };\n",
       "}\n",
       "\n",
       "mpl.figure = function(figure_id, websocket, ondownload, parent_element) {\n",
       "    this.id = figure_id;\n",
       "\n",
       "    this.ws = websocket;\n",
       "\n",
       "    this.supports_binary = (this.ws.binaryType != undefined);\n",
       "\n",
       "    if (!this.supports_binary) {\n",
       "        var warnings = document.getElementById(\"mpl-warnings\");\n",
       "        if (warnings) {\n",
       "            warnings.style.display = 'block';\n",
       "            warnings.textContent = (\n",
       "                \"This browser does not support binary websocket messages. \" +\n",
       "                    \"Performance may be slow.\");\n",
       "        }\n",
       "    }\n",
       "\n",
       "    this.imageObj = new Image();\n",
       "\n",
       "    this.context = undefined;\n",
       "    this.message = undefined;\n",
       "    this.canvas = undefined;\n",
       "    this.rubberband_canvas = undefined;\n",
       "    this.rubberband_context = undefined;\n",
       "    this.format_dropdown = undefined;\n",
       "\n",
       "    this.image_mode = 'full';\n",
       "\n",
       "    this.root = $('<div/>');\n",
       "    this._root_extra_style(this.root)\n",
       "    this.root.attr('style', 'display: inline-block');\n",
       "\n",
       "    $(parent_element).append(this.root);\n",
       "\n",
       "    this._init_header(this);\n",
       "    this._init_canvas(this);\n",
       "    this._init_toolbar(this);\n",
       "\n",
       "    var fig = this;\n",
       "\n",
       "    this.waiting = false;\n",
       "\n",
       "    this.ws.onopen =  function () {\n",
       "            fig.send_message(\"supports_binary\", {value: fig.supports_binary});\n",
       "            fig.send_message(\"send_image_mode\", {});\n",
       "            if (mpl.ratio != 1) {\n",
       "                fig.send_message(\"set_dpi_ratio\", {'dpi_ratio': mpl.ratio});\n",
       "            }\n",
       "            fig.send_message(\"refresh\", {});\n",
       "        }\n",
       "\n",
       "    this.imageObj.onload = function() {\n",
       "            if (fig.image_mode == 'full') {\n",
       "                // Full images could contain transparency (where diff images\n",
       "                // almost always do), so we need to clear the canvas so that\n",
       "                // there is no ghosting.\n",
       "                fig.context.clearRect(0, 0, fig.canvas.width, fig.canvas.height);\n",
       "            }\n",
       "            fig.context.drawImage(fig.imageObj, 0, 0);\n",
       "        };\n",
       "\n",
       "    this.imageObj.onunload = function() {\n",
       "        fig.ws.close();\n",
       "    }\n",
       "\n",
       "    this.ws.onmessage = this._make_on_message_function(this);\n",
       "\n",
       "    this.ondownload = ondownload;\n",
       "}\n",
       "\n",
       "mpl.figure.prototype._init_header = function() {\n",
       "    var titlebar = $(\n",
       "        '<div class=\"ui-dialog-titlebar ui-widget-header ui-corner-all ' +\n",
       "        'ui-helper-clearfix\"/>');\n",
       "    var titletext = $(\n",
       "        '<div class=\"ui-dialog-title\" style=\"width: 100%; ' +\n",
       "        'text-align: center; padding: 3px;\"/>');\n",
       "    titlebar.append(titletext)\n",
       "    this.root.append(titlebar);\n",
       "    this.header = titletext[0];\n",
       "}\n",
       "\n",
       "\n",
       "\n",
       "mpl.figure.prototype._canvas_extra_style = function(canvas_div) {\n",
       "\n",
       "}\n",
       "\n",
       "\n",
       "mpl.figure.prototype._root_extra_style = function(canvas_div) {\n",
       "\n",
       "}\n",
       "\n",
       "mpl.figure.prototype._init_canvas = function() {\n",
       "    var fig = this;\n",
       "\n",
       "    var canvas_div = $('<div/>');\n",
       "\n",
       "    canvas_div.attr('style', 'position: relative; clear: both; outline: 0');\n",
       "\n",
       "    function canvas_keyboard_event(event) {\n",
       "        return fig.key_event(event, event['data']);\n",
       "    }\n",
       "\n",
       "    canvas_div.keydown('key_press', canvas_keyboard_event);\n",
       "    canvas_div.keyup('key_release', canvas_keyboard_event);\n",
       "    this.canvas_div = canvas_div\n",
       "    this._canvas_extra_style(canvas_div)\n",
       "    this.root.append(canvas_div);\n",
       "\n",
       "    var canvas = $('<canvas/>');\n",
       "    canvas.addClass('mpl-canvas');\n",
       "    canvas.attr('style', \"left: 0; top: 0; z-index: 0; outline: 0\")\n",
       "\n",
       "    this.canvas = canvas[0];\n",
       "    this.context = canvas[0].getContext(\"2d\");\n",
       "\n",
       "    var backingStore = this.context.backingStorePixelRatio ||\n",
       "\tthis.context.webkitBackingStorePixelRatio ||\n",
       "\tthis.context.mozBackingStorePixelRatio ||\n",
       "\tthis.context.msBackingStorePixelRatio ||\n",
       "\tthis.context.oBackingStorePixelRatio ||\n",
       "\tthis.context.backingStorePixelRatio || 1;\n",
       "\n",
       "    mpl.ratio = (window.devicePixelRatio || 1) / backingStore;\n",
       "\n",
       "    var rubberband = $('<canvas/>');\n",
       "    rubberband.attr('style', \"position: absolute; left: 0; top: 0; z-index: 1;\")\n",
       "\n",
       "    var pass_mouse_events = true;\n",
       "\n",
       "    canvas_div.resizable({\n",
       "        start: function(event, ui) {\n",
       "            pass_mouse_events = false;\n",
       "        },\n",
       "        resize: function(event, ui) {\n",
       "            fig.request_resize(ui.size.width, ui.size.height);\n",
       "        },\n",
       "        stop: function(event, ui) {\n",
       "            pass_mouse_events = true;\n",
       "            fig.request_resize(ui.size.width, ui.size.height);\n",
       "        },\n",
       "    });\n",
       "\n",
       "    function mouse_event_fn(event) {\n",
       "        if (pass_mouse_events)\n",
       "            return fig.mouse_event(event, event['data']);\n",
       "    }\n",
       "\n",
       "    rubberband.mousedown('button_press', mouse_event_fn);\n",
       "    rubberband.mouseup('button_release', mouse_event_fn);\n",
       "    // Throttle sequential mouse events to 1 every 20ms.\n",
       "    rubberband.mousemove('motion_notify', mouse_event_fn);\n",
       "\n",
       "    rubberband.mouseenter('figure_enter', mouse_event_fn);\n",
       "    rubberband.mouseleave('figure_leave', mouse_event_fn);\n",
       "\n",
       "    canvas_div.on(\"wheel\", function (event) {\n",
       "        event = event.originalEvent;\n",
       "        event['data'] = 'scroll'\n",
       "        if (event.deltaY < 0) {\n",
       "            event.step = 1;\n",
       "        } else {\n",
       "            event.step = -1;\n",
       "        }\n",
       "        mouse_event_fn(event);\n",
       "    });\n",
       "\n",
       "    canvas_div.append(canvas);\n",
       "    canvas_div.append(rubberband);\n",
       "\n",
       "    this.rubberband = rubberband;\n",
       "    this.rubberband_canvas = rubberband[0];\n",
       "    this.rubberband_context = rubberband[0].getContext(\"2d\");\n",
       "    this.rubberband_context.strokeStyle = \"#000000\";\n",
       "\n",
       "    this._resize_canvas = function(width, height) {\n",
       "        // Keep the size of the canvas, canvas container, and rubber band\n",
       "        // canvas in synch.\n",
       "        canvas_div.css('width', width)\n",
       "        canvas_div.css('height', height)\n",
       "\n",
       "        canvas.attr('width', width * mpl.ratio);\n",
       "        canvas.attr('height', height * mpl.ratio);\n",
       "        canvas.attr('style', 'width: ' + width + 'px; height: ' + height + 'px;');\n",
       "\n",
       "        rubberband.attr('width', width);\n",
       "        rubberband.attr('height', height);\n",
       "    }\n",
       "\n",
       "    // Set the figure to an initial 600x600px, this will subsequently be updated\n",
       "    // upon first draw.\n",
       "    this._resize_canvas(600, 600);\n",
       "\n",
       "    // Disable right mouse context menu.\n",
       "    $(this.rubberband_canvas).bind(\"contextmenu\",function(e){\n",
       "        return false;\n",
       "    });\n",
       "\n",
       "    function set_focus () {\n",
       "        canvas.focus();\n",
       "        canvas_div.focus();\n",
       "    }\n",
       "\n",
       "    window.setTimeout(set_focus, 100);\n",
       "}\n",
       "\n",
       "mpl.figure.prototype._init_toolbar = function() {\n",
       "    var fig = this;\n",
       "\n",
       "    var nav_element = $('<div/>');\n",
       "    nav_element.attr('style', 'width: 100%');\n",
       "    this.root.append(nav_element);\n",
       "\n",
       "    // Define a callback function for later on.\n",
       "    function toolbar_event(event) {\n",
       "        return fig.toolbar_button_onclick(event['data']);\n",
       "    }\n",
       "    function toolbar_mouse_event(event) {\n",
       "        return fig.toolbar_button_onmouseover(event['data']);\n",
       "    }\n",
       "\n",
       "    for(var toolbar_ind in mpl.toolbar_items) {\n",
       "        var name = mpl.toolbar_items[toolbar_ind][0];\n",
       "        var tooltip = mpl.toolbar_items[toolbar_ind][1];\n",
       "        var image = mpl.toolbar_items[toolbar_ind][2];\n",
       "        var method_name = mpl.toolbar_items[toolbar_ind][3];\n",
       "\n",
       "        if (!name) {\n",
       "            // put a spacer in here.\n",
       "            continue;\n",
       "        }\n",
       "        var button = $('<button/>');\n",
       "        button.addClass('ui-button ui-widget ui-state-default ui-corner-all ' +\n",
       "                        'ui-button-icon-only');\n",
       "        button.attr('role', 'button');\n",
       "        button.attr('aria-disabled', 'false');\n",
       "        button.click(method_name, toolbar_event);\n",
       "        button.mouseover(tooltip, toolbar_mouse_event);\n",
       "\n",
       "        var icon_img = $('<span/>');\n",
       "        icon_img.addClass('ui-button-icon-primary ui-icon');\n",
       "        icon_img.addClass(image);\n",
       "        icon_img.addClass('ui-corner-all');\n",
       "\n",
       "        var tooltip_span = $('<span/>');\n",
       "        tooltip_span.addClass('ui-button-text');\n",
       "        tooltip_span.html(tooltip);\n",
       "\n",
       "        button.append(icon_img);\n",
       "        button.append(tooltip_span);\n",
       "\n",
       "        nav_element.append(button);\n",
       "    }\n",
       "\n",
       "    var fmt_picker_span = $('<span/>');\n",
       "\n",
       "    var fmt_picker = $('<select/>');\n",
       "    fmt_picker.addClass('mpl-toolbar-option ui-widget ui-widget-content');\n",
       "    fmt_picker_span.append(fmt_picker);\n",
       "    nav_element.append(fmt_picker_span);\n",
       "    this.format_dropdown = fmt_picker[0];\n",
       "\n",
       "    for (var ind in mpl.extensions) {\n",
       "        var fmt = mpl.extensions[ind];\n",
       "        var option = $(\n",
       "            '<option/>', {selected: fmt === mpl.default_extension}).html(fmt);\n",
       "        fmt_picker.append(option);\n",
       "    }\n",
       "\n",
       "    // Add hover states to the ui-buttons\n",
       "    $( \".ui-button\" ).hover(\n",
       "        function() { $(this).addClass(\"ui-state-hover\");},\n",
       "        function() { $(this).removeClass(\"ui-state-hover\");}\n",
       "    );\n",
       "\n",
       "    var status_bar = $('<span class=\"mpl-message\"/>');\n",
       "    nav_element.append(status_bar);\n",
       "    this.message = status_bar[0];\n",
       "}\n",
       "\n",
       "mpl.figure.prototype.request_resize = function(x_pixels, y_pixels) {\n",
       "    // Request matplotlib to resize the figure. Matplotlib will then trigger a resize in the client,\n",
       "    // which will in turn request a refresh of the image.\n",
       "    this.send_message('resize', {'width': x_pixels, 'height': y_pixels});\n",
       "}\n",
       "\n",
       "mpl.figure.prototype.send_message = function(type, properties) {\n",
       "    properties['type'] = type;\n",
       "    properties['figure_id'] = this.id;\n",
       "    this.ws.send(JSON.stringify(properties));\n",
       "}\n",
       "\n",
       "mpl.figure.prototype.send_draw_message = function() {\n",
       "    if (!this.waiting) {\n",
       "        this.waiting = true;\n",
       "        this.ws.send(JSON.stringify({type: \"draw\", figure_id: this.id}));\n",
       "    }\n",
       "}\n",
       "\n",
       "\n",
       "mpl.figure.prototype.handle_save = function(fig, msg) {\n",
       "    var format_dropdown = fig.format_dropdown;\n",
       "    var format = format_dropdown.options[format_dropdown.selectedIndex].value;\n",
       "    fig.ondownload(fig, format);\n",
       "}\n",
       "\n",
       "\n",
       "mpl.figure.prototype.handle_resize = function(fig, msg) {\n",
       "    var size = msg['size'];\n",
       "    if (size[0] != fig.canvas.width || size[1] != fig.canvas.height) {\n",
       "        fig._resize_canvas(size[0], size[1]);\n",
       "        fig.send_message(\"refresh\", {});\n",
       "    };\n",
       "}\n",
       "\n",
       "mpl.figure.prototype.handle_rubberband = function(fig, msg) {\n",
       "    var x0 = msg['x0'] / mpl.ratio;\n",
       "    var y0 = (fig.canvas.height - msg['y0']) / mpl.ratio;\n",
       "    var x1 = msg['x1'] / mpl.ratio;\n",
       "    var y1 = (fig.canvas.height - msg['y1']) / mpl.ratio;\n",
       "    x0 = Math.floor(x0) + 0.5;\n",
       "    y0 = Math.floor(y0) + 0.5;\n",
       "    x1 = Math.floor(x1) + 0.5;\n",
       "    y1 = Math.floor(y1) + 0.5;\n",
       "    var min_x = Math.min(x0, x1);\n",
       "    var min_y = Math.min(y0, y1);\n",
       "    var width = Math.abs(x1 - x0);\n",
       "    var height = Math.abs(y1 - y0);\n",
       "\n",
       "    fig.rubberband_context.clearRect(\n",
       "        0, 0, fig.canvas.width, fig.canvas.height);\n",
       "\n",
       "    fig.rubberband_context.strokeRect(min_x, min_y, width, height);\n",
       "}\n",
       "\n",
       "mpl.figure.prototype.handle_figure_label = function(fig, msg) {\n",
       "    // Updates the figure title.\n",
       "    fig.header.textContent = msg['label'];\n",
       "}\n",
       "\n",
       "mpl.figure.prototype.handle_cursor = function(fig, msg) {\n",
       "    var cursor = msg['cursor'];\n",
       "    switch(cursor)\n",
       "    {\n",
       "    case 0:\n",
       "        cursor = 'pointer';\n",
       "        break;\n",
       "    case 1:\n",
       "        cursor = 'default';\n",
       "        break;\n",
       "    case 2:\n",
       "        cursor = 'crosshair';\n",
       "        break;\n",
       "    case 3:\n",
       "        cursor = 'move';\n",
       "        break;\n",
       "    }\n",
       "    fig.rubberband_canvas.style.cursor = cursor;\n",
       "}\n",
       "\n",
       "mpl.figure.prototype.handle_message = function(fig, msg) {\n",
       "    fig.message.textContent = msg['message'];\n",
       "}\n",
       "\n",
       "mpl.figure.prototype.handle_draw = function(fig, msg) {\n",
       "    // Request the server to send over a new figure.\n",
       "    fig.send_draw_message();\n",
       "}\n",
       "\n",
       "mpl.figure.prototype.handle_image_mode = function(fig, msg) {\n",
       "    fig.image_mode = msg['mode'];\n",
       "}\n",
       "\n",
       "mpl.figure.prototype.updated_canvas_event = function() {\n",
       "    // Called whenever the canvas gets updated.\n",
       "    this.send_message(\"ack\", {});\n",
       "}\n",
       "\n",
       "// A function to construct a web socket function for onmessage handling.\n",
       "// Called in the figure constructor.\n",
       "mpl.figure.prototype._make_on_message_function = function(fig) {\n",
       "    return function socket_on_message(evt) {\n",
       "        if (evt.data instanceof Blob) {\n",
       "            /* FIXME: We get \"Resource interpreted as Image but\n",
       "             * transferred with MIME type text/plain:\" errors on\n",
       "             * Chrome.  But how to set the MIME type?  It doesn't seem\n",
       "             * to be part of the websocket stream */\n",
       "            evt.data.type = \"image/png\";\n",
       "\n",
       "            /* Free the memory for the previous frames */\n",
       "            if (fig.imageObj.src) {\n",
       "                (window.URL || window.webkitURL).revokeObjectURL(\n",
       "                    fig.imageObj.src);\n",
       "            }\n",
       "\n",
       "            fig.imageObj.src = (window.URL || window.webkitURL).createObjectURL(\n",
       "                evt.data);\n",
       "            fig.updated_canvas_event();\n",
       "            fig.waiting = false;\n",
       "            return;\n",
       "        }\n",
       "        else if (typeof evt.data === 'string' && evt.data.slice(0, 21) == \"data:image/png;base64\") {\n",
       "            fig.imageObj.src = evt.data;\n",
       "            fig.updated_canvas_event();\n",
       "            fig.waiting = false;\n",
       "            return;\n",
       "        }\n",
       "\n",
       "        var msg = JSON.parse(evt.data);\n",
       "        var msg_type = msg['type'];\n",
       "\n",
       "        // Call the  \"handle_{type}\" callback, which takes\n",
       "        // the figure and JSON message as its only arguments.\n",
       "        try {\n",
       "            var callback = fig[\"handle_\" + msg_type];\n",
       "        } catch (e) {\n",
       "            console.log(\"No handler for the '\" + msg_type + \"' message type: \", msg);\n",
       "            return;\n",
       "        }\n",
       "\n",
       "        if (callback) {\n",
       "            try {\n",
       "                // console.log(\"Handling '\" + msg_type + \"' message: \", msg);\n",
       "                callback(fig, msg);\n",
       "            } catch (e) {\n",
       "                console.log(\"Exception inside the 'handler_\" + msg_type + \"' callback:\", e, e.stack, msg);\n",
       "            }\n",
       "        }\n",
       "    };\n",
       "}\n",
       "\n",
       "// from http://stackoverflow.com/questions/1114465/getting-mouse-location-in-canvas\n",
       "mpl.findpos = function(e) {\n",
       "    //this section is from http://www.quirksmode.org/js/events_properties.html\n",
       "    var targ;\n",
       "    if (!e)\n",
       "        e = window.event;\n",
       "    if (e.target)\n",
       "        targ = e.target;\n",
       "    else if (e.srcElement)\n",
       "        targ = e.srcElement;\n",
       "    if (targ.nodeType == 3) // defeat Safari bug\n",
       "        targ = targ.parentNode;\n",
       "\n",
       "    // jQuery normalizes the pageX and pageY\n",
       "    // pageX,Y are the mouse positions relative to the document\n",
       "    // offset() returns the position of the element relative to the document\n",
       "    var x = e.pageX - $(targ).offset().left;\n",
       "    var y = e.pageY - $(targ).offset().top;\n",
       "\n",
       "    return {\"x\": x, \"y\": y};\n",
       "};\n",
       "\n",
       "/*\n",
       " * return a copy of an object with only non-object keys\n",
       " * we need this to avoid circular references\n",
       " * http://stackoverflow.com/a/24161582/3208463\n",
       " */\n",
       "function simpleKeys (original) {\n",
       "  return Object.keys(original).reduce(function (obj, key) {\n",
       "    if (typeof original[key] !== 'object')\n",
       "        obj[key] = original[key]\n",
       "    return obj;\n",
       "  }, {});\n",
       "}\n",
       "\n",
       "mpl.figure.prototype.mouse_event = function(event, name) {\n",
       "    var canvas_pos = mpl.findpos(event)\n",
       "\n",
       "    if (name === 'button_press')\n",
       "    {\n",
       "        this.canvas.focus();\n",
       "        this.canvas_div.focus();\n",
       "    }\n",
       "\n",
       "    var x = canvas_pos.x * mpl.ratio;\n",
       "    var y = canvas_pos.y * mpl.ratio;\n",
       "\n",
       "    this.send_message(name, {x: x, y: y, button: event.button,\n",
       "                             step: event.step,\n",
       "                             guiEvent: simpleKeys(event)});\n",
       "\n",
       "    /* This prevents the web browser from automatically changing to\n",
       "     * the text insertion cursor when the button is pressed.  We want\n",
       "     * to control all of the cursor setting manually through the\n",
       "     * 'cursor' event from matplotlib */\n",
       "    event.preventDefault();\n",
       "    return false;\n",
       "}\n",
       "\n",
       "mpl.figure.prototype._key_event_extra = function(event, name) {\n",
       "    // Handle any extra behaviour associated with a key event\n",
       "}\n",
       "\n",
       "mpl.figure.prototype.key_event = function(event, name) {\n",
       "\n",
       "    // Prevent repeat events\n",
       "    if (name == 'key_press')\n",
       "    {\n",
       "        if (event.which === this._key)\n",
       "            return;\n",
       "        else\n",
       "            this._key = event.which;\n",
       "    }\n",
       "    if (name == 'key_release')\n",
       "        this._key = null;\n",
       "\n",
       "    var value = '';\n",
       "    if (event.ctrlKey && event.which != 17)\n",
       "        value += \"ctrl+\";\n",
       "    if (event.altKey && event.which != 18)\n",
       "        value += \"alt+\";\n",
       "    if (event.shiftKey && event.which != 16)\n",
       "        value += \"shift+\";\n",
       "\n",
       "    value += 'k';\n",
       "    value += event.which.toString();\n",
       "\n",
       "    this._key_event_extra(event, name);\n",
       "\n",
       "    this.send_message(name, {key: value,\n",
       "                             guiEvent: simpleKeys(event)});\n",
       "    return false;\n",
       "}\n",
       "\n",
       "mpl.figure.prototype.toolbar_button_onclick = function(name) {\n",
       "    if (name == 'download') {\n",
       "        this.handle_save(this, null);\n",
       "    } else {\n",
       "        this.send_message(\"toolbar_button\", {name: name});\n",
       "    }\n",
       "};\n",
       "\n",
       "mpl.figure.prototype.toolbar_button_onmouseover = function(tooltip) {\n",
       "    this.message.textContent = tooltip;\n",
       "};\n",
       "mpl.toolbar_items = [[\"Home\", \"Reset original view\", \"fa fa-home icon-home\", \"home\"], [\"Back\", \"Back to previous view\", \"fa fa-arrow-left icon-arrow-left\", \"back\"], [\"Forward\", \"Forward to next view\", \"fa fa-arrow-right icon-arrow-right\", \"forward\"], [\"\", \"\", \"\", \"\"], [\"Pan\", \"Pan axes with left mouse, zoom with right\", \"fa fa-arrows icon-move\", \"pan\"], [\"Zoom\", \"Zoom to rectangle\", \"fa fa-square-o icon-check-empty\", \"zoom\"], [\"\", \"\", \"\", \"\"], [\"Download\", \"Download plot\", \"fa fa-floppy-o icon-save\", \"download\"]];\n",
       "\n",
       "mpl.extensions = [\"eps\", \"jpeg\", \"pdf\", \"png\", \"ps\", \"raw\", \"svg\", \"tif\"];\n",
       "\n",
       "mpl.default_extension = \"png\";var comm_websocket_adapter = function(comm) {\n",
       "    // Create a \"websocket\"-like object which calls the given IPython comm\n",
       "    // object with the appropriate methods. Currently this is a non binary\n",
       "    // socket, so there is still some room for performance tuning.\n",
       "    var ws = {};\n",
       "\n",
       "    ws.close = function() {\n",
       "        comm.close()\n",
       "    };\n",
       "    ws.send = function(m) {\n",
       "        //console.log('sending', m);\n",
       "        comm.send(m);\n",
       "    };\n",
       "    // Register the callback with on_msg.\n",
       "    comm.on_msg(function(msg) {\n",
       "        //console.log('receiving', msg['content']['data'], msg);\n",
       "        // Pass the mpl event to the overridden (by mpl) onmessage function.\n",
       "        ws.onmessage(msg['content']['data'])\n",
       "    });\n",
       "    return ws;\n",
       "}\n",
       "\n",
       "mpl.mpl_figure_comm = function(comm, msg) {\n",
       "    // This is the function which gets called when the mpl process\n",
       "    // starts-up an IPython Comm through the \"matplotlib\" channel.\n",
       "\n",
       "    var id = msg.content.data.id;\n",
       "    // Get hold of the div created by the display call when the Comm\n",
       "    // socket was opened in Python.\n",
       "    var element = $(\"#\" + id);\n",
       "    var ws_proxy = comm_websocket_adapter(comm)\n",
       "\n",
       "    function ondownload(figure, format) {\n",
       "        window.open(figure.imageObj.src);\n",
       "    }\n",
       "\n",
       "    var fig = new mpl.figure(id, ws_proxy,\n",
       "                           ondownload,\n",
       "                           element.get(0));\n",
       "\n",
       "    // Call onopen now - mpl needs it, as it is assuming we've passed it a real\n",
       "    // web socket which is closed, not our websocket->open comm proxy.\n",
       "    ws_proxy.onopen();\n",
       "\n",
       "    fig.parent_element = element.get(0);\n",
       "    fig.cell_info = mpl.find_output_cell(\"<div id='\" + id + \"'></div>\");\n",
       "    if (!fig.cell_info) {\n",
       "        console.error(\"Failed to find cell for figure\", id, fig);\n",
       "        return;\n",
       "    }\n",
       "\n",
       "    var output_index = fig.cell_info[2]\n",
       "    var cell = fig.cell_info[0];\n",
       "\n",
       "};\n",
       "\n",
       "mpl.figure.prototype.handle_close = function(fig, msg) {\n",
       "    var width = fig.canvas.width/mpl.ratio\n",
       "    fig.root.unbind('remove')\n",
       "\n",
       "    // Update the output cell to use the data from the current canvas.\n",
       "    fig.push_to_output();\n",
       "    var dataURL = fig.canvas.toDataURL();\n",
       "    // Re-enable the keyboard manager in IPython - without this line, in FF,\n",
       "    // the notebook keyboard shortcuts fail.\n",
       "    IPython.keyboard_manager.enable()\n",
       "    $(fig.parent_element).html('<img src=\"' + dataURL + '\" width=\"' + width + '\">');\n",
       "    fig.close_ws(fig, msg);\n",
       "}\n",
       "\n",
       "mpl.figure.prototype.close_ws = function(fig, msg){\n",
       "    fig.send_message('closing', msg);\n",
       "    // fig.ws.close()\n",
       "}\n",
       "\n",
       "mpl.figure.prototype.push_to_output = function(remove_interactive) {\n",
       "    // Turn the data on the canvas into data in the output cell.\n",
       "    var width = this.canvas.width/mpl.ratio\n",
       "    var dataURL = this.canvas.toDataURL();\n",
       "    this.cell_info[1]['text/html'] = '<img src=\"' + dataURL + '\" width=\"' + width + '\">';\n",
       "}\n",
       "\n",
       "mpl.figure.prototype.updated_canvas_event = function() {\n",
       "    // Tell IPython that the notebook contents must change.\n",
       "    IPython.notebook.set_dirty(true);\n",
       "    this.send_message(\"ack\", {});\n",
       "    var fig = this;\n",
       "    // Wait a second, then push the new image to the DOM so\n",
       "    // that it is saved nicely (might be nice to debounce this).\n",
       "    setTimeout(function () { fig.push_to_output() }, 1000);\n",
       "}\n",
       "\n",
       "mpl.figure.prototype._init_toolbar = function() {\n",
       "    var fig = this;\n",
       "\n",
       "    var nav_element = $('<div/>');\n",
       "    nav_element.attr('style', 'width: 100%');\n",
       "    this.root.append(nav_element);\n",
       "\n",
       "    // Define a callback function for later on.\n",
       "    function toolbar_event(event) {\n",
       "        return fig.toolbar_button_onclick(event['data']);\n",
       "    }\n",
       "    function toolbar_mouse_event(event) {\n",
       "        return fig.toolbar_button_onmouseover(event['data']);\n",
       "    }\n",
       "\n",
       "    for(var toolbar_ind in mpl.toolbar_items){\n",
       "        var name = mpl.toolbar_items[toolbar_ind][0];\n",
       "        var tooltip = mpl.toolbar_items[toolbar_ind][1];\n",
       "        var image = mpl.toolbar_items[toolbar_ind][2];\n",
       "        var method_name = mpl.toolbar_items[toolbar_ind][3];\n",
       "\n",
       "        if (!name) { continue; };\n",
       "\n",
       "        var button = $('<button class=\"btn btn-default\" href=\"#\" title=\"' + name + '\"><i class=\"fa ' + image + ' fa-lg\"></i></button>');\n",
       "        button.click(method_name, toolbar_event);\n",
       "        button.mouseover(tooltip, toolbar_mouse_event);\n",
       "        nav_element.append(button);\n",
       "    }\n",
       "\n",
       "    // Add the status bar.\n",
       "    var status_bar = $('<span class=\"mpl-message\" style=\"text-align:right; float: right;\"/>');\n",
       "    nav_element.append(status_bar);\n",
       "    this.message = status_bar[0];\n",
       "\n",
       "    // Add the close button to the window.\n",
       "    var buttongrp = $('<div class=\"btn-group inline pull-right\"></div>');\n",
       "    var button = $('<button class=\"btn btn-mini btn-primary\" href=\"#\" title=\"Stop Interaction\"><i class=\"fa fa-power-off icon-remove icon-large\"></i></button>');\n",
       "    button.click(function (evt) { fig.handle_close(fig, {}); } );\n",
       "    button.mouseover('Stop Interaction', toolbar_mouse_event);\n",
       "    buttongrp.append(button);\n",
       "    var titlebar = this.root.find($('.ui-dialog-titlebar'));\n",
       "    titlebar.prepend(buttongrp);\n",
       "}\n",
       "\n",
       "mpl.figure.prototype._root_extra_style = function(el){\n",
       "    var fig = this\n",
       "    el.on(\"remove\", function(){\n",
       "\tfig.close_ws(fig, {});\n",
       "    });\n",
       "}\n",
       "\n",
       "mpl.figure.prototype._canvas_extra_style = function(el){\n",
       "    // this is important to make the div 'focusable\n",
       "    el.attr('tabindex', 0)\n",
       "    // reach out to IPython and tell the keyboard manager to turn it's self\n",
       "    // off when our div gets focus\n",
       "\n",
       "    // location in version 3\n",
       "    if (IPython.notebook.keyboard_manager) {\n",
       "        IPython.notebook.keyboard_manager.register_events(el);\n",
       "    }\n",
       "    else {\n",
       "        // location in version 2\n",
       "        IPython.keyboard_manager.register_events(el);\n",
       "    }\n",
       "\n",
       "}\n",
       "\n",
       "mpl.figure.prototype._key_event_extra = function(event, name) {\n",
       "    var manager = IPython.notebook.keyboard_manager;\n",
       "    if (!manager)\n",
       "        manager = IPython.keyboard_manager;\n",
       "\n",
       "    // Check for shift+enter\n",
       "    if (event.shiftKey && event.which == 13) {\n",
       "        this.canvas_div.blur();\n",
       "        event.shiftKey = false;\n",
       "        // Send a \"J\" for go to next cell\n",
       "        event.which = 74;\n",
       "        event.keyCode = 74;\n",
       "        manager.command_mode();\n",
       "        manager.handle_keydown(event);\n",
       "    }\n",
       "}\n",
       "\n",
       "mpl.figure.prototype.handle_save = function(fig, msg) {\n",
       "    fig.ondownload(fig, null);\n",
       "}\n",
       "\n",
       "\n",
       "mpl.find_output_cell = function(html_output) {\n",
       "    // Return the cell and output element which can be found *uniquely* in the notebook.\n",
       "    // Note - this is a bit hacky, but it is done because the \"notebook_saving.Notebook\"\n",
       "    // IPython event is triggered only after the cells have been serialised, which for\n",
       "    // our purposes (turning an active figure into a static one), is too late.\n",
       "    var cells = IPython.notebook.get_cells();\n",
       "    var ncells = cells.length;\n",
       "    for (var i=0; i<ncells; i++) {\n",
       "        var cell = cells[i];\n",
       "        if (cell.cell_type === 'code'){\n",
       "            for (var j=0; j<cell.output_area.outputs.length; j++) {\n",
       "                var data = cell.output_area.outputs[j];\n",
       "                if (data.data) {\n",
       "                    // IPython >= 3 moved mimebundle to data attribute of output\n",
       "                    data = data.data;\n",
       "                }\n",
       "                if (data['text/html'] == html_output) {\n",
       "                    return [cell, data, j];\n",
       "                }\n",
       "            }\n",
       "        }\n",
       "    }\n",
       "}\n",
       "\n",
       "// Register the function which deals with the matplotlib target/channel.\n",
       "// The kernel may be null if the page has been refreshed.\n",
       "if (IPython.notebook.kernel != null) {\n",
       "    IPython.notebook.kernel.comm_manager.register_target('matplotlib', mpl.mpl_figure_comm);\n",
       "}\n"
      ],
      "text/plain": [
       "<IPython.core.display.Javascript object>"
      ]
     },
     "metadata": {},
     "output_type": "display_data"
    },
    {
     "data": {
      "text/html": [
       "<img src=\"data:image/png;base64,iVBORw0KGgoAAAANSUhEUgAAAx8AAAJXCAYAAADy2OkQAAAAAXNSR0IArs4c6QAAAARnQU1BAACxjwv8YQUAAE+DSURBVHhe7d0LeBTl2f/xO+EUICIqBxNEoIYibUAbqFIEoVjkICgVK1hTwdZXoCIqKn8pWEEO4glqBAkVqmi0UKSCYlVAtCIqFCJKeElJ0CAQFPDwIgLhlH/uJ8+a3bBJdpPNZHf2+7muuWbmntlsWCPML88pprCIAAAAAEA1i7V7AAAAAKhWhA8AAAAAjiB8AAAAAHAE4QMAAACAIwgfAAAAABxB+AAAAADgCMIHAAAAAEcQPgAAAAA4gvABAAAAwBGEDwAAAACOIHwAAAAAcAThAwAAAIAjCB8AAAAAHEH4AAAAAOAIwgcAAAAARxA+AAAAADiC8AEAAADAEYQPAAAAAI4gfAAAAABwBOEDAAAAgCMIHwAAAAAcQfgAAAAA4AjCBwAAAABHED4AAAAAOILwAQAAAMARhA8AAAAAjiB8AAAAAHAE4QMAAACAIwgfAAAAABxB+AAAAADgCMIHAAAAAEcQPgAAAAA4gvABAAAAwBGEDwAAAACOIHwAAAAAcAThAwAAAIAjCB8AAAAAHEH4AAAAAOAIwgcAAAAARxA+AAAAADiC8AEAAADAEYQPAAAAAI4gfAAAAABwBOEDAAAAgCMIHwAAAAAcQfgAAAAA4AjCBwAAAABHED4AAAAAOILwAQAAAMARhA8AAAAAjiB8AAAAAHAE4QMAAACAIwgfAAAAABxB+AAAAADgCMIHAAAAAEcQPgAAAAA4gvABAAAAwBGEDwAAAACOIHwAAAAAcAThAwAAAIAjCB8AAAAAHEH4AAAAAOAIwgcAAAAARxA+AAAAADiC8AEAAADAEYQPAAAAAI4gfAAAAABwBOEDAAAAgCMIHwAAAAAcEVNYxB6jhh04cEDefPNNad26tdSvX99WAQAAEC6OHDkieXl50qdPH2nSpImtIlCEjzDywgsvSGpqqj0DAABAuMrIyJAbb7zRniFQhI8wsm7dOunWrZv5YW7fvr2tAgAAIFxs27bN/LL4vffek8suu8xWESjCRxjJzMyUTp06yaZNmyQlJcVWAQAAEC54XqsaBpwDAAAAcAThAwAAAIAjCB8AAAAAHEH4AAAAAOAIwgcAAAAARxA+AAAAADiC8AEAAADAEYQPAAAAAI4gfAAAAABwBOEDAAAAgCMIHwAAAAAcQfgAAAAA4AhXhY9Dhw7JpEmTZODAgZKQkCAxMTEyfPhwezUwWVlZ0r9/f2nUqJHZ9Fhr/gRzLwAAABDtXBU+Dhw4IJMnT5ZNmzZJ586dbTVwOTk50q1bN9m8ebPcf//9MmXKFNm+fbt0797dXPMWzL0AAAAAXBY+tLVj9+7dkp+fLy+//LKtBm78+PGm9WTlypVy7733yh133CHvvvuunDx5Uv70pz/Zu4oFcy8AAAAAl4WPevXqSYsWLexZcDRIvPrqq9KrVy9JTk62VZHExEQZPHiwuab3qGDuBSLVG1l7ZUDaWmk38XWz1/PSArkHAADAgwHn1pYtW+TYsWNy6aWX2koJrRUUFPwwniOYe4FIpCFiZEamZOUflIITp8xez73DRSD3AAAAeCN8WNpVS2nrRWme2p49e8w+mHvLsnfvXsnMzPTZtm3bZq8CNWv2mlx75Mu7Hsg9SsMIrSMAAEARPqzDhw+bvXbdKi0uLs7sjxw5YvbB3FuWefPmSadOnXy21NRUexWoPoGEgZx9/rsN5u4vqQdyj35tWkcAAIAH4cNq0KCB2WuXqdKOHj1q9vXr1zf7YO4ty4gRI8ysXN5bRkaGvQpUj0DDQNtm8fbIV1LTknog9wTaOgIAAKID4cPydJfydKny5ql5BrMHc29ZdGaulJQUn619+/b2KlA9Ag0Do3sl2SNf3vVA7gmkdURp+KFrFgAA7kf4sDp06CB169aV9evX20oJrek1z8xWwdwLhJNAw0Df5ARJT02R5MRGElcn1uz1XOsegdwTSOtIoK0xAAAg8kVl+Dh+/LhkZ2ebQd8e8fHxMmDAAFmzZo1s3brVVotbMpYuXWqu6T0qmHuBcBJIGPDQELFiTHfJntLP7L1DhUdF9wTSOkLXLAAAoofrwsfs2bNl6tSpMn36dHP+ySefmHPd9FjpTFTaxUkXCvSmr2nYsKH07t1bHnvsMUlLS5MePXpITEzMD1/PI5h7AadU1H0pkDAQShpGKmodCbQ1BgAARL6YwiL22BVat24tO3futGe+nnnmGRk+fLjk5eVJmzZtZNiwYfLss8/aq8U0oIwbN07WrVtnzrt16yYPP/ywdOzY0Zx7C+beQOh0uzrrlQ4+1zEgQDA83ZdKK/2wr/dpq4I+3GuLhwaP0i0WTtKQpF2tStOgoq0pAACEE57XqsZ14SOS8cOMqojUh/hAQxMAAOGA57WqYcA54BKR2n0pkK5ZqqIuZQAAIPwRPgCXCGYwebjRoFHewHVP6wgzYgEAENkIH4BLOD2Y3EnMiAUAgDsQPoAIUVG3o0C7L0UiZsQCAMAdCB9ABAi021FF3ZciVSR3KQMAACUIH0AEiPZuR27uUgYAQDQhfAARINq7Hbm5SxkAANGE8AFEALodubdLGQAA0YTwAUQAuh0FpqJB+QAAoGYRPoAIQLejigU6KB8AANQcwgcQIeh2VD7WAgEAIPwRPgC4AmuBAAAQ/ggfQBhgrELVMSgfAIDwR/gAahhjFUKDQfkAAIQ/wgdQwxirEBoMygcAIPwRPoAaxliF0GFQPgAA4Y3wAdQwxioAAIBoQfgAahhjFQAAQLQgfAA1jLEKzmJmMQAAag7hAwgDjFVwBjOLAQBQswgfAKIGM4sBAFCzCB8AogYziwEAULMIH0A1Y4xB+GBmMQAAahbhA6hGjDEIL8wsBgBAzSJ8ANWIMQbhhZnFAACoWYQPoBoxxiD8MLMYAAA1h/ABVCPGGAAAAJQgfADViDEGAAAAJQgfQDVijAEAAEAJwgdQzRhjEHmYHhkAgOpB+AAAL0yPDABA9SF8AIAXpkcGAKD6ED4AwAvTIwMAUH0IHwDghemRAQCoPoQPoAoYmOw+TI8MAED1IXwAlcTAZHdiemQAAKoP4QOoJAYmuxfTIwMAUD0IH0AlMTAZAAAgOK4KHydPnpQZM2ZIUlKS1KtXz+z1XOvlycvLk5iYmDK3OnXq2DuLDR8+3O99uu3evdveBbdjYDIAAEBwXBU+br/9dhk/frx06tRJ5syZI7169TLnY8aMsXf417RpU3n++edP26ZPn26u9+vXz+xLW7hw4WmvOfvss+1VuB0DkwEAAIITU1jEHke0LVu2yEUXXSTXX3+9LFq0yFZF7r77bpk1a5Z8/PHH0qFDB1sNzNSpU+X++++XpUuXyrXXXmurxS0fGjyOHz8utWvXttWqy8zMNMFp06ZNkpKSYqsIZzq4XMd4aFcrbfHQ4MH4AAAA3IvntapxTcuHBg7NUaVbOfRc696BJFDPPfecnHPOOTJgwABb8aVf9+DBg3Lq1ClbQbRhYDIAAEDgXBM+Nm7cKLGxsdK5c2dbKdaqVStp3ry5SafBeP/99yUnJ0duuOEGqVu3rq360mBy5plnSnx8vAwePFh27NhhrwBwO9Z4AQAgeK4JH/n5+dKkSRO/QSExMVH27NljzwKj3arUsGHDzN7bueeeK2PHjpX09HR56aWX5LbbbpPXXntNunTpIjt37rR3lW/v3r2m2c5727Ztm70KIJyxxgsAAJXjmjEfF1xwgRmD8fnnn9tKia5du8q+ffskNzew9RcKCgpMwGjRooVkZWXZavlWrVolV155pQkrzz77rK2WbdKkSTJ58mR75os+hEB405YODRyl6YKE2v0OAOBejPmoGte0fDRo0MCEBn+OHj0q9evXt2cVW758uXz77bd+Wz3K0rt3b/MDuHLlSlsp34gRI8wPrfeWkZFhrwIIZ6zxAgBA5bgmfGjXqgMHDsixY8dspYR2ydJWjEBpl6tatWpJamqqrQRGx5fo9xCIhIQEE1a8t/bt29urAMIZa7wAAFA5rgkf2vyls07pwHNvOgbjyy+/NNcD8cUXX8ibb75pulBpQAiGduvSwe0A3I01XgAAqBzXhI8hQ4aYFcbT0tJspZiea12vKx0Xkp2dbQZ8+/PCCy+YFdF1LQ9/vv/+e7/duxYvXmzWGrnqqqtsBZGO2YxQFp1SOT01xYzxiKsTa/Z6zlTLAACUzzUDztXIkSNl3rx5JmjoGIz169fL008/bcZX6MxUKi8vT9q0aVPmwPCOHTvKrl27TAtIvXr1bLXE5s2bTcAYNGiQtG3b1syu9cEHH8iLL74oLVu2NO9Z2dYPBjCFD89sRqXxgAkAQHTjea1qXNPyoWbPni3Tpk2TDRs2yKhRo2T16tXmXOuB+Oijj0zrxdChQ/0GD6WzYPXs2dPMbjVx4kS56667TPjQxQy1yxfdrtxBVy33p6w6AAAAKuaqlo9IR5IOH9rVStdvKE272Ohq5gAAIDrxvFY1rmr5AEKF2YwAAABCj/AB+MFsRgAAAKFH+AD8YDYjAACA0CN8AGXQoLFiTHczxkP3BA8AAICqIXwAAAAAcAThAwCqCQtVAgDgi/ABANXAs1BlVv5BM22z7vWcAAIAiGaEDwCoBixUCQDA6QgfAFANcvYdske+cvf7rwMAEA0IHwBQDVioEgCA0xE+AKAasFAlAACnI3wAQDVgoUoAAE5H+EBUYgpUOIGFKgEA8EX4QNRhClQAAICaQfhA1GEKVAAAgJpB+EDUYQpUAACAmkH4QNRhClQAAICaQfhA1GEKVAAAgJpB+EDUYQpUAACAmkH4QFRiClQAAADnET4AAAAAOILwAQA1iAUvAQDRhPABADWEBS8BANGG8AEANYQFLwEA0YbwAQA1hAUvAQDRhvABADWEBS8BANGG8AEANYQFLwEA0YbwAQA1hAUvAQDRhvAB12HqUkQSFrwEAEQTwgdchalLAQAAwhfhA67C1KUAAADhi/ABV2HqUgAAgPBF+ICrMHUpAABA+CJ8wFWYuhQAACB8ET7gKkxdCgAAEL4IH3Adpi4FAAAIT4QPAAAAAI4gfAAAAABwBOEDAAAAgCNcFT5OnjwpM2bMkKSkJKlXr57Z67nWKzJ8+HCJiYnxu+3evdveVSIrK0v69+8vjRo1Mpseaw0AqoOu0j8gba20m/i62bNqPwAgErkqfNx+++0yfvx46dSpk8yZM0d69eplzseMGWPvqNjChQvl+eef99nOPvtse7VYTk6OdOvWTTZv3iz333+/TJkyRbZv3y7du3c31wAglDRojMzIlKz8g1Jw4pTZ6zkBBAAQaWIKi9jjiLZlyxa56KKL5Prrr5dFixbZqsjdd98ts2bNko8//lg6dOhgq6fTlg8NHsePH5fatWvbqn/XXXedLFu2zISP5ORkU8vPz5cLL7xQ+vTpI0uWLDG1YGVmZprgtGnTJklJSbFVANFOWzo0cJSmU0nrjG4AAOfwvFY1rmn50MChOap0K4eea907kJRH7z148KCcOnXKVnwdOnRIXn31VdOq4gkeKjExUQYPHmyu6T0AECo5+/z/nZK7n79rAACRxTXhY+PGjRIbGyudO3e2lWKtWrWS5s2bm3QaiHPOOUfOPPNMiY+PN2Fix44d9koxbWE5duyYXHrppbZSQmsFBQWM/QAQUm2bxdsjX0lN/dcBAAhXrgkf2u2pSZMmUrduXVspoa0Se/bssWf+nXvuuTJ27FhJT0+Xl156SW677TZ57bXXpEuXLrJz5057V/H7KP2apXlqFb2X2rt3r2m28962bdtmrwJAidG9kuyRr7LqAACEK9eEj8OHD5sZrvyJi4uTI0eO2DP/dFasxx9/XH7729+aFo9HH33UdKE6cOCAPPDAA/au4vdR/t5L30dV9F5q3rx5pr+g95aammqvAkAJXaU/PTXFjPGIqxNr9nrO6v0AgEjjmvDRoEED0+XJn6NHj0r9+vXtWeB69+5tBhKtXLnSVorfR/l7L30fFch7jRgxwnQF894yMjLsVZSF6UYRrTRo6ODy7Cn9zJ7gAQCIRK4JH9rlSVspdDxGadpVqkWLFvYsODpmRL+uh6drlaf7lTdPLZD3SkhIMMHGe2vfvr29Cn+YbhQAACCyuSZ8aLclnaFKB5570/EaX375pbleGbm5uWbAuodO16vjStavX28rJbSm17xnwULozF6Ta498lVUHAABAeHFN+BgyZIhZjTwtLc1Wium51vW60nU8srOzzYBvj++//95vN6rFixeb2a2uuuoqWxEzC9aAAQNkzZo1snXrVlstbvVYunSpuab3IPSYbhQAACCyuSZ86AKDt956qwkMQ4cOlQULFpjzmTNnmn3Hjh3NfToTlXZv0pXPPXRV8h/96Edmhqu//OUv8tRTT8nvfvc7M/hcu11NnjzZ3lls+vTp0rBhQzMm5LHHHjMBp0ePHibk6DVUD6YbBQAAiGyuCR9q9uzZMm3aNNmwYYOMGjVKVq9ebc61Xh6dZrdnz56yatUqmThxotx1113ywQcfmAUKtRuXd7cr1a5dO1m7dq0JNBpMJkyYIElJSaam11A9mG4UAAAgssUU6pLeCAss118xHVyuYzy0q5W2eGjwYNYfAADgFJ7XqsZVLR9wP6YbBQAAiFyEDwAAAACOIHwAAAAAcAThAwAAAIAjCB8A4BI6IcOAtLXSbuLrZs/q/wCAcEP4AAAX0KAxMiNTsvIPSsGJU2av5wQQAEA4IXwAgAvoFNT+lFUHAKAmED4AwAVy9h2yR750TRwAAMIF4QMAXKBts3h75EsX4wQAIFwQPgDABXS1f3/KqgMAUBMIHwDgArraf3pqiiQnNpK4OrFmr+daBwAgXBA+AMAlNGisGNNdsqf0M3uCBwAg3BA+EDZYowAAAMDdCB8IC6xRAAAA4H6ED4QF1igAAABwP8IHwgJrFAAAALgf4QNhgTUKAAAA3I/wgbDAGgUAAADuR/hAWGCNAgAAAPcjfCBssEYBAACAuxE+AAAAADiC8AEAAADAEYQPAAAAAI4gfAAAAABwBOEDAKLIG1l7ZUDaWmk38XWz13MAAJxC+ACAKKFBY2RGpmTlH5SCE6fMXs8JIAAApxA+ACBKzF6Ta498lVUHACDUCB8AECVy9h2yR75y9/uvAwAQaoQPAIgSbZvF2yNfSU391wEACDXCBwBEidG9kuyRr7LqAACEGuEDAKJE3+QESU9NkeTERhJXJ9bs9VzrAAA4gfABAFFEg8aKMd0le0o/syd4AACcRPhAtWNdAQAAACjCB6oV6woAAADAg/CBasW6AgAAAPAgfKBasa4AAAAAPAgfqFasKwAAAAAPwgeqFesKAAAAwMNV4ePkyZMyY8YMSUpKknr16pm9nmu9PEeOHJH09HTp37+/tGzZUho0aCA/+clPZNy4cfLtt9/au0oMHz5cYmJi/G67d++2d0GxrgAAAAA8YgqL2OOI98c//lHmzp0r119/vfTu3Vs2bNggTz/9tKnPmTPH3nW67Oxsad++vXTv3l369u0rzZo1k02bNsn8+fOldevW5rhRo0b27uLwsXDhQrPFxvrmt2uvvdaEl8rIzMyUTp06mfdLSUmxVQAAAIQLnteqxjXhY8uWLXLRRReZ4LFo0SJbFbn77rtl1qxZ8vHHH0uHDh1s1ddXX31lWiz09d7+9re/yR/+8Ad5/PHHZezYsbZaEj6OHz8utWvXttWq44cZAAAgvPG8VjWu6XalgUNz1JgxY2ylmJ5r3TuQlHbOOeecFjzUddddZ/Zbt241+9L06x48eFBOnTplKwAAAADK4prwsXHjRtMFqnPnzrZSrFWrVtK8eXOTToO1d2/xQnjaDcsfDS1nnnmmxMfHy+DBg2XHjh32CgAAAIDSXBM+8vPzpUmTJlK3bl1bKZGYmCh79uyxZ4GbNm2aGUR+ww032Eqxc88913TD0kHqL730ktx2223y2muvSZcuXWTnzp32rvJpsNFmO+9t27Zt9ioAAADgPq4Z83HBBReYMRiff/65rZTo2rWr7Nu3T3JzA19Ve8GCBXLLLbfIPffcI48++qitlm3VqlVy5ZVXyrBhw+TZZ5+11bJNmjRJJk+ebM980YcQQE16I2uvzF6TaxYJ1bV6dGpsZqgDgGKM+aga17R86AxTBQUF9szX0aNHpX79+vasYsuXL5eRI0fKwIEDzVS9gdDZtfQHcOXKlbZSvhEjRpgfWu8tIyPDXgWAmqHBY2RGpmTlH5SCE6fMXs+1DgBAVbkmfGjXqgMHDsixY8dspYR2yWrRooU9K5+GhyFDhphpd//xj39IrVq17JWK6fgS/R4CkZCQYMKK96bT/QJATdIWD3/KqgMAEAzXhA9t/tJZp3TguTcdg/Hll1+a6xV59913ZdCgQWbmq1deeUXi4uLslcBoty4d3A4AkUq7WvmTu99/HQCAYLgmfGhrhQ4OT0tLs5Vieq51va50XIguKuiZycpDFyQcMGCAWRX9jTfeMDNY+fP999/77d61ePFis9bIVVddZSsAEHl0jIc/SU391wEACIarVjjXcRrz5s0zQUPHYKxfv96scK7jK3RmKpWXlydt2rTxGRiurSM/+9nP5LvvvjNjPEq3Xui5fj21efNmEzC0haRt27Zmdq0PPvhAXnzxRWnZsqV5z8q2fjCACUBN84z5KC09NYVB5wBQhOe1qnFV+Dhx4oQ88sgjMn/+fLNi+XnnnWdmrBo3btwPK5H7Cx/vvPOO/PKXvzTH/vTo0cPco7744guzavp//vMfM5ZEW1I0dOjg9AkTJpjpfiuLH2YA4cAz25V2tdIWD2a7AoASPK9VjavCR6TjhxkAACC88bxWNa4Z84Gaob8hHZC2VtpNfN3smY4TAAAAZSF8oNI8fcNZDwAAAACBIHyg0lgPAAAAAMEgfKDSWA8AAAAAwSB8oNJYDwAAAADBIHyg0nT6TX/KqgMAACC6ET5QaTrvvy48lpzYSOLqxJo9C5EBAACgLIQPVIkGjRVjukv2lH5mT/AAAABAWQgfAAAAABxB+AAAAADgCMIHAAAAAEcQPgAAAAA4gvABAAjaG1l7ZUDaWmk38XWz13MAACpC+AAABEWDxsiMTMnKPygFJ06ZvZ4TQAAAFSF8AACCMntNrj3yVVYdAAAPwgcAICg5+w7ZI1+5+/3XAQDwIHwAAILStlm8PfKV1NR/HQAAD8IHACAoo3sl2SNfZdUBAPAgfAAAgtI3OUHSU1MkObGRxNWJNXs91zoAAOUhfAAAgqZBY8WY7pI9pZ/ZEzwAAIEgfAAAAABwBOEDZWIRMQAAAIQS4QN+sYgYAAAAQo3wAb9YRAwAAAChVqXwsX37dpk7d65MnjxZPvvsM1MrKCiQTz/91OwRuVhEDAAAAKFWqfBRWFgoo0ePlp/85Cdy2223yYMPPvhD+Dh+/LhcfPHFMmfOHHOOyMQiYgAAAAi1SoWPWbNmyVNPPSV33XWXrFq1yoQRj/j4eBk0aJAsX77cVhCJWEQMAAAAoVap8PH000/LkCFD5NFHHzWtHKV16NBBcnJy7BkiEYuIAQAAINQqFT60i9Uvf/lLe3a6s846S77++mt7hkjFImIAAAAIpUqFj0aNGsk333xjz06nrR5Nmza1ZwAAAABQyfDRs2dPee655+TkyZO2UmLfvn2yYMEC6d27t60AAAAAQCXDx6RJk+Tzzz+Xyy67TF588UVTW7dunTzyyCNmDMiJEydkwoQJpg4AAAAAqlLhQ6fY1Vmuvv/+e7njjjtM7YEHHpD77rtPGjduLCtXrpQLLrjA1AEAAABAVSp8qC5dusiWLVvk448/lsWLF8vf//532bhxo2zdulUuueQSexcAIFq9kbVXBqStlXYTXzd7PQcARLdKhw8PnVb3N7/5jZl6NyUlRWJiYuwVAEC00qAxMiNTsvIPSsGJU2av5wQQAIhuVQ4fAACUNntNrj3yVVYdABAdKhU+YmNjpVatWhVuAIDolLPvkD3ylbvffx0AEB0qFT7+/Oc/n7bp7FZDhw6V+vXrS6dOnUwNABCd2jaLt0e+kpr6rwMAokNMYRF7HBJ5eXlmMPqcOXNk8ODBtopAZGZmmuC2adMmM34GACKVZ8xHaempKdI3OcGeAUDk4XmtakI+5qN169YyatQomTx5sq04Rxc9nDFjhiQlJUm9evXMXs/9LYboT1ZWlvTv39+s4K6bHmvNn2DuBYBoowFDg0ZyYiOJqxNr9gQPAEC1DDhv1qyZ5OTk2DPn3H777TJ+/HiTRrXlpVevXuZ8zJgx9o6y6ffbrVs32bx5s9x///0yZcoU2b59u3Tv3v20P0sw9wJAtNKgsWJMd8me0s/sCR4AgJB3uyooKJArrrhC9u7dKzt27LDV6qdrjlx00UVy/fXXy6JFi2xV5O6775ZZs2aZ9Uh0WuCyXHfddbJs2TITKJKTk00tPz9fLrzwQunTp48sWbLE1FQw9waDZjwAAIDwxvNa1VSq5eP3v/+93+3Xv/61tGrVSt5//30ZN26cvdsZGjg0R5Vu5dBzrXsHktIOHTokr776qmkp8YQJlZiYaMat6DW9RwVzbzhj8S8AAAA4rVLhY82aNfL222/7bO+88458/vnn0rNnT3M+YsQIe7czdHV1nQK4c+fOtlJMw1Dz5s1NOi2LtpocO3ZMLr30UlspoTVtzfGM5wjm3nDF4l8AAACoCZUKHzqj1Weffeazffrpp+YBX1sYevToYe90jnZ7atKkidStW9dWSmirxJ49e+zZ6fS1Su8rzVPzvD6Ye8uj3dK02c5727Ztm71avVj8CwAAADWhWgac14TDhw+bGa78iYuLkyNHjtiz0+lrlb/X62uV5/XB3FueefPmmf6C3ltqaqq9Wr1Y/AsAAAA1wTXho0GDBqbLkz9Hjx41ix+WRV+r/L1eX6s8rw/m3vJotzRtKfLeMjIy7NXqxeJfAAAAqAkBhQ8dS1GrVq2gttq1a9tXO0O7PB04cMCMxyhNu0q1aNHCnp3O013K06XKm6fmeX0w95YnISHBzJDgvbVv395erV6jeyXZI19l1QEAAIBQCGiq3UmTJklMTIw9C9wDDzxgj6rfn/70J3nooYdk3bp10rVrV1sV2blzp1n4UK9PmzbNVn3p7FTnnHOOGauycuVKWy128803y4svvihfffWVxMfHB3VvsJycuk0Hl+sYD+1qpS0eGjyYgx8AAKB8Tj6vuVHI1/moKbqOx89+9rMy1/nQNTk6duwox48fN+uPnHnmmab1wUOnyV2+fLn5Oj/96U9NTVsydO2O3r17y9KlS01NBXNvMPhhBgAACG88r1WNa8Z86AKDt956qyxevFiGDh0qCxYsMOczZ840ew0eSmei0u5NuvK5t+nTp0vDhg1NeHjsscckLS3NtG5oi49e8xbMvQAAAACKVSl8nDhxwqxp8d5778m777572ua02bNnm65VGzZskFGjRsnq1avNudYr0q5dO1m7dq0JKZMnT5YJEyZIUlKSqek1b8HcCwAAAKBYpbtd6TgQ7c5U3mreJ0+etEcIBM14AAAA4Y3ntaqpVMvHE088IQ8++KAZ+7Bw4ULR/DJjxgx56qmnzLgH/Q9RejA2AAAAgOhWqfDx17/+VQYOHCh/+9vfpF+/fqamCVDXrti4caN899138uGHH5o6AABl0Zn3BqStlXYTXzd7PQcAuFelwsenn34qffr0Mce6pofyrK+hC+wNGzbMBBMAAMqiQWNkRqZk5R+UghOnzF7PCSAA4F6VCh8605NnPMcZZ5xhAsgXX3xhzpWug7F3L/94AADKpmsN+VNWHQAQ+SoVPnRmp+zsbHOswaNDhw4/rG2h4z9efvllOf/88805AAD+5OzzP2GJLn4KAHCnSoWPvn37ypIlS8yCfWrs2LHy2muvmVDStm1befPNN+X222831wAA8Kdts3h75Cupqf86ACDyVSp86LoW27Zt+2G8R2pqqlncT9e90FXGn3/+ebntttvMNQAA/BndK8ke+SqrDgClMWlF5KlU+Bg3bpzk5eVJbGzJy3/zm9/IP//5T9MicuONN9oqAAD+9U1OkPTUFElObCRxdWLNXs+1DgAVYdKKyFSp8KErhl9yySVmNe8pU6bIjh077BUAAAKnQWPFmO6SPaWf2RM8AASKSSsiU6XCx+7du+Xxxx+Xxo0bywMPPCA//vGP5Re/+IXMmTNH9u/fb+8CAAAAqgeTVkSmSoWP5s2by5133inr16+XnJwcE0D+7//+zwwyb9GihfTv319efPFFezcAAAAQWkxaEZkqFT68XXDBBfLnP/9Z/vd//1c2bdokd9xxh6xbt05uuukmewcAAAAQWkxaEZmqHD48du3aJatWrZKVK1fKd999JzExMfYKAAAAEFpMWhGZqhQ+vvnmG/nrX/8qPXr0kDZt2sh9991nZsB65JFHzGxYAAAAQHVh0orIU6nw8Y9//EOuueYaSUhIkJEjR8rnn39upt/NysqSjz76SO655x4z9gMAAAAAPCoVPoYOHWrGddx8883y7rvvymeffSbTp0+Xn/zkJ/YOAAAAAPBVqfCxbNky+eKLL2Tu3LnSrVs3WwUAAACAslUqfFx99dVSu3ZtewYAAAAAFavSgHMAAAAACBThAwAAAIAjCB8AAAAAHEH4AAAAAOAIwgcAIKy9kbVXBqStlXYTXzd7PQcARCbCBwAgbGnQGJmRKVn5B6XgxCmz13MCCABEJsIHACBszV6Ta498lVUHAIQ3wgcAIGzl7Dtkj3zl7vdfBwCEN8IHACBstW0Wb498JTX1XwcAhDfCBwAgbI3ulWSPfJVVB+AeTDbhToQPAEDY6pucIOmpKZKc2Eji6sSavZ5rHYB7MdmEexE+AABhTYPGijHdJXtKP7MneADux2QT7kX4AAAAQFhhsgn3InwAAAAgrDDZhHsRPgAAABBWmGzCvQgfAAAACCtMNuFehA8AAACEHSabcCfCBwAAAABHED4AAAAAOILwAQAAAMARrgsfWVlZ0r9/f2nUqJHZ9Fhrgdi0aZPceeed0rFjRznjjDPk3HPPlSuuuEJWr15t7yiRl5cnMTExfrdbbrnF3gUAAADAw1XhIycnR7p16yabN2+W+++/X6ZMmSLbt2+X7t27m2sVefTRR+WFF16Qrl27yuOPPy7jxo2Tffv2Se/evWXu3Ln2Ll/XXHONPP/88z4b4QMAAAA4XUxhEXsc8a677jpZtmyZCR/Jycmmlp+fLxdeeKH06dNHlixZYmplef/99yUlJUXi4uJsReTIkSNy8cUXy/79+00QqV27tqlry0ebNm1kwoQJMnXqVFOrqszMTOnUqZNpgdHvAwAAAOGF57WqcU3Lx6FDh+TVV1+VXr16/RA8VGJiogwePNhc03vKoy0e3sFD1a9fXwYMGCDffPON7N2711Z9aUDRDQAAAEDZXBM+tmzZIseOHZNLL73UVkporaCgIOCxH6Vp64m2eJx99tm2UuKJJ56QBg0amK1t27YyZ84cewUAAACAN9eEDw0ISls6SvPU9uzZY/bByM7Oln/+859mbEfDhg1tteiDi401g9EfeugheeWVVyQ9PV0aN24so0ePlnvvvdfeVTZtRdFmO+9t27Zt9ioAIBhvZO2VAWlrpd3E181ezwEA4Scsw8fJkydl9+7dAW0HDhwwrzl8+LDZ16tXz+y9ebpSBds16uDBg6bLVnx8vMyaNctWi51//vlmFiwNGwMHDpQRI0bIhx9+KJdffrnMnDlTduzYYe/0b968eaa/oPeWmppqrwIAAqVBY2RGpmTlH5SCE6fMXs8JIAAQfsIyfOzatUtatmwZ0DZ06FDzGu32pLR7VWlHjx41ex2/ESgNKhoqPv30U3n55ZfNe1WkVq1acs8998ipU6fkrbfeslX/NKzoQCXvLSMjw14FAARq9ppce+SrrDoAoOaEZfho1qyZeeAPZHvwwQfNazxdqzzdr7x5ai1atDD7iujYkV//+tfywQcfmBmytDUjUK1atTJ7T4tMWRISEswMCd5b+/bt7VUAQKBy9vmfTCR3f/mTjAAAnBeW4UNbMQYNGhTQpjNUqQ4dOkjdunVl/fr15tyb1vSa9yxYZTlx4oRcf/31smrVKnnuuefMTFfByM0t/k1b8+bNzR4AUL3aNou3R76SmvqvAwBqjmsGnOu4DA0Ka9aska1bt9pqcavH0qVLzTW9x0MHfOtg8uPHj9uKmO5SN910kyxfvtwMIPd06fLn66+/tkcltKuWrvlRp04dufLKK20VAFCdRvdKske+yqoDqHlMEhG9XLXI4H//+1+55JJLzKxUY8eONa0dTz75pFkccMOGDdKuXTt7p8jw4cNl4cKF8tlnn0nr1q1NTV+jA8t79Ojhd5VyXenc06Jx7bXXmkHuXbp0kfPOO8+EHP16OkZEZ8C67777zH3BYNEaAKgcfXDRMR7a1UpbPDR49E1OsFcBhBPPJBGlpaemRMT/tzyvVY2rwof65JNPZNy4cbJu3Tpz3q1bN3n44YelY8eO5tzDX/jo2bOn/Pvf/zbH/rz99tvmHrVgwQLzeg082gqirSr6A3jHHXfI1Vdfbe4JFj/MAADA7bSlQ2elKy05sZGsGNPdnoUvnteqxnXhI5LxwwwAANxOu1rptNilxdWJlewp/exZ+OJ5rWpcM+YDAAAA4Y9JIqIb4QMAAACOYZKI6Eb4AAAAgGN0ULkOLtcxHtrVSveRMtgcVUf4AAAAgKM0aOjgch3joXuCR/QgfAAAAABwBOEDAAAAgCMIHwAAAAAcQfgAAAAA4AjCBwAAAABHED4AAAAAOILwAQAAAMARhA8AQFR4I2uvDEhbK+0mvm72eg4AcBbhAwDgeho0RmZkSlb+QSk4ccrs9ZwAAgDOInwAAFxv9ppce+SrrDoAoHoQPgAArpez75A98pW7338dAFA9CB8AANdr2yzeHvlKauq/DqDyGF+F8hA+AACuN7pXkj3yVVYdQOUwvgoVIXwAAFyvb3KCpKemSHJiI4mrE2v2eq51AKHD+CpUhPABAIgKGjRWjOku2VP6mT3BAwg9xlehIoQPAAAAhATjq1ARwgcAAABCgvFVqAjhAwAAACHB+CpUhPABAACAkGF8FcpD+AAAAADgCMIHAAAAAEcQPgAAAAA4gvABAAAAwBGEDwAAAACOIHwAAAAAcAThAwAAAIAjCB8AAFhvZO2VAWlrpd3E181ezwEAoUP4AACgiAaNkRmZkpV/UApOnDJ7PSeAAEDoED4AACgye02uPfJVVh0AEDzCBwAARXL2HbJHvnL3+68DAIJH+AAAoEjbZvH2yFdSU/91AEDwCB8AABQZ3SvJHvkqqw5EGyZkQCgQPgAAKNI3OUHSU1MkObGRxNWJNXs91zoQ7ZiQAaFC+AAAwNKgsWJMd8me0s/sCR5AMSZkQKgQPgAAAFAuJmRAqLgufGRlZUn//v2lUaNGZtNjrQUiLy9PYmJi/G633HKLvavEyZMnZcaMGZKUlCT16tUzez3XOgAAgFswIQNCxVXhIycnR7p16yabN2+W+++/X6ZMmSLbt2+X7t27m2uBuuaaa+T555/32fyFj9tvv13Gjx8vnTp1kjlz5kivXr3M+ZgxY+wdAAAAkY8JGRAqMYVF7HHEu+6662TZsmUmfCQnJ5tafn6+XHjhhdKnTx9ZsmSJqZVFWz7atGkjEyZMkKlTp9qqf1u2bJGLLrpIrr/+elm0aJGtitx9990ya9Ys+fjjj6VDhw62GpjMzEwTZDZt2iQpKSm2CgAAUPN0cLmO8dCuVtriocEjGsdF8bxWNa5p+Th06JC8+uqrpvXBEzxUYmKiDB482FzTewJ15MgRs5VFA4fmttKtHHqude9AAgAAEOmYkAGh4JrwoS0Rx44dk0svvdRWSmitoKAg4LEfTzzxhDRo0MBsbdu2NV2qStu4caPExsZK586dbaVYq1atpHnz5iYNAwAAACjhmvCh3auUtnSU5qnt2bPH7MuiYeKKK66Qhx56SF555RVJT0+Xxo0by+jRo+Xee++1dxXT92vSpInUrVvXVkro+1X0Xnv37jXNdt7btm3b7FUAAADAfcIyfOhsUbt37w5oO3DggHnN4cOHzV5nnSotLi7O7MvrRqXOP/98Wb16tQkbAwcOlBEjRsiHH34ol19+ucycOVN27Nhh7yx+P3/vpfT9KnqvefPmmf6C3ltqaqq9CgAAALhPWIaPXbt2ScuWLQPahg4dal6jXaSUdq8q7ejRo2Zfv359sw9GrVq15J577pFTp07JW2+9ZavF7+fvvZS+X0XvpcFGu2Z5bxkZGfYqAAAA4D5hGT6aNWsmL7/8ckDbgw8+aF7j6Vrl6X7lzVNr0aKF2QdLx3EoTyuL0vfTcx1nUpq+X0XvlZCQYGZI8N7at29vrwIAAADuE5bhQ1sVBg0aFNDWtWtX8xqd1lbHX6xfv96ce9OaXvOeBSsYubm5Zq8DyT20m5S2hujAc287d+6UL7/80lwHALiTTjk6IG2ttJv4utnrOQCgYq4ZcB4fHy8DBgyQNWvWyNatW221uBVi6dKl5pre46EDvrOzs+X48eO2IvL111/boxI6dkPX/KhTp45ceeWVtioyZMgQs/J5WlqarRTTc63rdQCA+2jQGJmRKVn5B6XgxCmz13MCCABUzDXhQ02fPl0aNmwovXv3lscee8wEgR49epgwoNe86Urk2s3Je1YqXcW8b9++MmnSJJk/f77p0qWtJR999JE51jEmHrrA4K233iqLFy82404WLFhgznVguu47duxo7wQAuIkusuZPWXUAQAlXhY927drJ2rVrzYP/5MmTzUrlSUlJpqbXKnLVVVeZWazmzp0ro0aNMiuVt27dWpYvXy733XefvavE7NmzZdq0abJhwwZzv86UpedaBwC4U84+/wvW6qrPAIDyxRTqctwICyzXDwDhT8d4aFer0pITG5lVnwG4G89rVeOqlg8AAKrb6F5J9shXWXUgEjCJApxC+AAAIAh9kxMkPTXFtHTE1Yk1ez3XOhCJmEQBTiJ8AAAQJA0a2sUqe0o/syd4IJIxiQKcRPgAAACIYkyiACcRPgAAAKJY22Yl66B5S2rqvw5UBeEDAAAgijGJApxE+AAAAIhiTKIAJxE+AAAAohyTKMAphA8AAAAAjiB8AAAAAHAE4QMAAACAIwgfAAAAABxB+AAAoBq8kbVXBqStlXYTXzd7PQeAaEf4AAAgxDRojMzIlKz8g1Jw4pTZ6zkBBEC0I3wAABBis9fk2iNfZdUBIFoQPgAACLGcfYfska/c/f7rABAtCB8AAIRY22bx9shXUlP/dQCIFoQPAABCbHSvJHvkq6w6UJ2Y/ADhhPABAECI9U1OkPTUFElObCRxdWLNXs+1DjiJyQ8QbggfAABUAw0aK8Z0l+wp/cye4IGawOQHCDeEDwAAAJdi8gOEG8IHAACASzH5AcIN4QMAAMClmPwA4YbwAQAA4FJMfoBwQ/gAAABwMSY/QDghfAAAAABwBOEDAAAAgCMIHwAAAAAcQfgAAKCG6CrTA9LWSruJr5s9q04DcDvCBwAANUCDxsiMTMnKPygFJ06ZvZ4TQAC4GeEDAIAaMHtNrj3yVVYdANyA8AEAQA3I2XfIHvnK3e+/DgBuQPgAAKAGtG0Wb498JTX1Xwf8YdwQIg3hAwCAGjC6V5I98lVWHSiNcUOIRIQPAABqgK4ynZ6aIsmJjSSuTqzZ6zmrTyNQjBtCJCJ8AABQQzRorBjTXbKn9DN7ggeCwbghRCLCBwAAQARi3BAiEeEDAAAgAjFuCJGI8AEAABCBGDeESOS68JGVlSX9+/eXRo0amU2PtRaI4cOHS0xMTJnbtGnT7J0ieXl5fu/R7ZZbbrF3AQAAVB/GDSHSxBQWsccRLycnR37+859LgwYN5K677pK6devKk08+KV999ZVs2LBB2rZta+/074MPPpAdO3bYsxJPPPGEbNy4UTZt2iQpKSmmpuGjTZs2cs0118h1111nah5JSUnSpUsXexa4zMxM6dSpk8/7AAAAIHzwvFY1rgofGgKWLVsmmzdvluTkZFPLz8+XCy+8UPr06SNLliwxtWAcPnxYzj33XGndurV88skntloSPiZMmCBTp0611arhhxkAACC88bxWNa7pdnXo0CF59dVXpVevXj8ED5WYmCiDBw821/SeYL388svy3XffybBhw2zldEeOHDEbAAAAgLK5Jnxs2bJFjh07JpdeeqmtlNBaQUFBwGM/vC1cuFBq164tqamptuJLu2RpNy/dtFvXnDlz7BUAAKpOV6sekLZW2k183exZvRpAJHNN+NDuVUpbOkrz1Pbs2WP2gdL733rrLdNlq3nz5rZaLDY2Vq644gp56KGH5JVXXpH09HRp3LixjB49Wu699157V9n27t1rmu28t23bttmrAAAUB4+RGZmSlX9QCk6cMns9J4AAiFRhGT5Onjwpu3fvDmg7cOCAeY2OzVD16tUze29xcXFmH2zXqOeff15OnTplZsEq7fzzz5fVq1ebsDFw4EAZMWKEfPjhh3L55ZfLzJkz/Q5c9zZv3jzTX9B7K6t1BQAQnWavybVHvsqqA0C4C8vwsWvXLmnZsmVA29ChQ81rtNuT0u5VpR09etTs69evb/aBeu655+Sss84y4SIQtWrVknvuuccEFm0xKY+GFR2o5L1lZGTYqwAAiOTs8z9WMXd/8GMYEXnocgc3Csvw0axZMzPQO5DtwQcfNK/xdK3ydL/y5qm1aNHC7APxn//8x3SDuuGGG/y2ppSlVatWZu9pkSlLQkKCmSHBe2vfvr29CgCASNtm8fbIV1JT/3W4B13u4FZhGT60FWPQoEEBbV27djWv6dChg1nXY/369ebcm9b0mvcsWBXRgeaqvFmu/MnNLW4KLz1GBACAYI3ulWSPfJVVh3vQ5Q5u5ZoB5/Hx8TJgwABZs2aNbN261VaLWz2WLl1qruk9HjrgOzs7W44fP24rJXTWrEWLFpmWiEsuucRWfX399df2qISOKdE1P+rUqSNXXnmlrQIAUDm6WnV6aookJzaSuDqxZq/nrGLtfnS5g1u5Jnyo6dOnS8OGDaV3797y2GOPSVpamvTo0UNiYmLMNW/jx4834cLfDFgrVqwwq6KX1+pxyy23SN++fWXSpEkyf/580/1LW1Y++ugjc6zjUQAAqCoNGivGdJfsKf3MnuARHehyB7dyVfho166drF27Vjp27CiTJ082q48nJSWZml4LlHa50ql0f/e739nK6a666iozw9bcuXNl1KhRMmvWLLMK+vLly+W+++6zdwEAAASPLndwq5jCIvYYNYzl+gEAgIcOLtcxHtrVSls8NHjQ8lXzeF6rGle1fAAAALgFXe7gRoQPAAAAAI4gfAAAAABwBOEDAIAIx0rYACIF4QMAgAjGStgAIgnhAwCACMZK2AAiCeEDAIAIxkrYkYmucohWhA8AACIYK2FHHrrKIZoRPgAAiGCshB156CqHaEb4AAAggunCc+mpKZKc2Eji6sSavZ6zIF34oqscohnhAwCACMdK2JGFrnKIZoQPAAAAB9FVDtGM8AEAAOAgusohmhE+AAAAHEZXOUQrwgcAAFGAdSUAhAPCBwAALse6EgDCBeEDAACXY10JAOGC8AEAgMuxroSz6OIGlI3wAQCAy7GuhHPo4gaUj/ABAIDLsa6Ec+jiBpSP8AEAgMuxroRz6OIGlI/wAQBAFGBdCWfQxQ0oH+EDAAAgROjiBpSP8AEAAAxmaao6urgB5SN8AAAAZmkKIbq4AWUjfAAAAGZpChCtQ0DVED4AAACzNAWA1iGg6ggfAACAWZoCQOsQUHWEDwAAwCxNAaB1CKg6wgcAAGCWpgDQOgRUHeEDAAAYzNJUPlqHgKojfAAAgIBF82xPtA4BVRdTWMQeo4ZlZmZKp06dZNOmTZKSkmKrAACEB89sT6W55QFc/3w6eFzHdmgXK23RIFigNJ7XqoaWDwAAEBA3z/bkCVZMowtUL8IHAAAIiJtne2IaXcAZhA8AABAQN8/2xDS6gDMIHwAAICCBzvakXZUibVA60+gCziB8AACAgAQy21O4jp2oKBAxjS7gDFeFj5UrV8qtt95qZiCoW7euxMTESF5enr0amJMnT8qMGTMkKSlJ6tWrZ/Z6rvXSgrkXAAA30KBR3log4Th2IpBAFEiwAlB1rgofL774oixcuNCEjnbt2tlqcG6//XYZP368CTBz5syRXr16mfMxY8bYO0oEcy8AANEgHMdOBBqIKgpWAKrOVeFj2rRpcvDgQdm4caNcc801thq4LVu2SHp6ugwZMkQWL14st9xyi/z1r3+VsWPHyty5c811j2DuBQAgWgQ6dqKiblDBqOhrMZgcCB+uCh8tWrQw3Z8qa9GiRaJrLpZuudBzret1j2DuBQAgWgQydkLDQSDjQioKFSqQr8VgciB8MODci7aYxMbGSufOnW2lWKtWraR58+ZmJUuPYO4FACBaBDJ2IpBuUIGEChXI12IwORA+CB9e8vPzpUmTJmawemmJiYmyZ88eexbcvf7s3bvXLM/vvW3bts1eBQAgclU0diKQblCBhAoVyNcKJBABcEZYhg+dLWr37t0BbQcOHLCvqrrDhw+X2W0rLi5Ojhw5Ys+Cu9efefPmmYHq3ltqaqq9CgCAewXSDSrQcRqBdqmqKBABcEZYho9du3ZJy5YtA9qGDh1qX1V1DRo0kIKCAnvm6+jRo1K/fn17Fty9/owYMcJ0zfLeMjIy7FUAANwrkG5QgYYKulQBkSUsw0ezZs3k5ZdfDmh78MEH7auqTrtLaUvKsWPHbKWEdrPSAe0ewdzrT0JCgqSkpPhs7du3t1cBAHCvQLpBBRoqAvlaAMJHWIYPbVUYNGhQQFvXrl3tq6pOuz6dOnXKDCb3tnPnTvnyyy/NdY9g7gUAAL40HJTXDSqYUFHR1wIQPqJ2wLkO+M7Ozpbjx4/bipg1O3SBwrS0NFsppuda1+sewdwLAACCR6gA3MdV4eOTTz6RqVOnmu29994ztdmzZ5tz3XvTlci1m5P3rFQXXXSR3HrrrWbRQB1LsmDBAnM+c+ZMs+/YsaO9M7h7AQAAAIjEFOqKeC7x7LPPys0332zPfOn6G3l5efZMZPjw4bJw4UL57LPPpHXr1rYqcuLECXnkkUdk/vz5Zjat8847z6xePm7cOKldu7a9q1gw9wZCp9vV7lo6+FzHgAAAACC88LxWNa4KH5GOH2YAAIDwxvNa1UTtmA8AAAAAziJ8AAAAAHAE4QMAAACAIwgfAAAAABxB+AAAAADgCMIHAAAAAEcQPgAAAAA4gvABAAAAwBGEDwAAAACOIHwAAAAAcAThAwAAAIAjCB8AAAAAHBFTWMQeo4atW7dOunXrJhkZGdK+fXtbBQAAQLjYtm2bpKamynvvvSeXXXaZrSJQhI8w8sILL5gfZgAAAIQ3/WXxjTfeaM8QKMJHGDlw4IC8+eab0rp1a6lfv76tVh9PcqelpfrxWTuHz9o5fNbO4bN2Dp+1cyL1sz5y5Ijk5eVJnz59pEmTJraKQBE+olhmZqZ06tRJNm3aJCkpKbaK6sBn7Rw+a+fwWTuHz9o5fNbO4bOOTgw4BwAAAOAIwgcAAAAARxA+AAAAADii1qQi9hhRKD4+Xnr27ClnnHGGraC68Fk7h8/aOXzWzuGzdg6ftXP4rKMPA84BAAAAOIJuVwAAAAAcQfgAAAAA4AjCBwAAAABHED4AAAAAOILwAQAAAMARhI8odPLkSZkxY4YkJSVJvXr1zF7PtY7QOXTokOhM1gMHDpSEhASJiYmR4cOH26sIpU2bNsmdd94pHTt2NNM1nnvuuXLFFVfI6tWr7R0Ilf/+978ydOhQadu2rZkis1GjRnLxxRfLX/7yFykoKLB3oTqsWbPG/D2iW25urq0iFPLy8n74bEtvt9xyi70LoZKfny+33nqrnHfeeeY5RPeDBw+WgwcP2jvgZky1G4X++Mc/yty5c+X666+X3r17y4YNG+Tpp5829Tlz5ti7UFX6j1mbNm1M8OjUqZOsWLFChg0bJs8++6y9A6GiD8NvvfWW+ccrJSXFBL9nnnlGsrKy5KmnnpJRo0bZO1FV+jnrLyu6dOliHhj0lxbr1q2Tv//973LVVVfJq6++au9EKB07dkwuuugi2bVrl3z//feSk5NjfnGE0PD8fX3NNdfIddddZ6vF9HPWn3eERnZ2tvTo0cP84kL/TUxMTJR9+/bJe++9J/Pnzze/PIK7ET6izJYtW8w/YBo8Fi1aZKsid999t8yaNUs+/vhj6dChg62iKvS3wAcOHJAWLVrIiRMnpE6dOoSPavL++++b0BEXF2crIkeOHDG/kd+/f7/5h6127dr2CqrD6NGjzS8v9MGiXbt2topQeeihh0zr0m9/+1uzJ3yElid8TJgwQaZOnWqrCDV95Pz5z39uWpTeeecdadiwob2CaEK3qyijgUP/5x8zZoytFNNzrXsHElSNNiVr8ED169q1q0/wUPXr15cBAwbIN998I3v37rVVVJfWrVub/bfffmv2CJ2dO3eaB2JtcTrzzDNtFdVFf3GhG0JPuw5qN1ntkqzBQz/n48eP26uIFoSPKLNx40aJjY2Vzp0720qxVq1aSfPmzc1fCoBbaL9ibfE4++yzbQWhcvjwYdOypw/GS5YskUceecR0n9BxNwgt/eWQfq6MGat+TzzxhDRo0MBsOq6Jrsih9eabb5q9fr7alU33+oujnj17mp4XiA6EjyijD2NNmjSRunXr2koJfXDYs2ePPQMim3b/+ec//2n6cNO0H3oaNpo2bWpaPLQb549+9CN5/fXXTYsTQkfHiuk2e/Zs01UF1UN/KaeTVGj3tldeeUXS09OlcePGpjvhvffea+9CVW3fvt3s9e8M7Rmgv7iYOXOm6RKuAeTzzz831+FuhI8oo7+t1O5A/uhvH2hqhhvojCk6+FxnY9KxTAi9m266SVatWmW6ao4YMcI8GH/99df2KkJB/z7WVg+dbUknrUD1Of/8883seBo2dIZC/Zn+8MMP5fLLLzcPxzt27LB3oip0MhClY0+XLl1qBvffcccdsmzZMtNlUz9ruB/hI8poE2dZ02EePXqU31oi4ukDmz48fPrpp/Lyyy9Ly5Yt7RWEkrZ0/OpXv5IhQ4aY3xLrbzKvvPJK2bZtm70DVTVt2jTzQKZ7OK9WrVpyzz33yKlTp8wsb6g6zzPG7373O7P36N69u+n+vXbtWluBmxE+oox2rdJ+2jptY2naJYsB0ohk+nP961//Wj744APTnK+/tYQzdBYmHTiakZFhK6gK/fv4scceM2shaADRdT1087QuafcUDdioXvpArPTfTVSdPoMoHWNamk6xqxOEwP0IH1FGm+71tzg68NybDhr98ssvadpHxNLpjPW379oV6LnnnjMzXcE5ni6bPDyEhk4Pra3UDz/8sBn47NmefPJJc13HJzC4v/p5FnP097CM4Ok0u8rf+FKt6TgyuB/hI8poFwntm52WlmYrxfRc63odiDQaqHUMwvLly00XIF10ENVDH4r90cUc1SWXXGL2qBpdc0Jb70pvv/nNb8x1DSG0MoWOv/FKGqh1imNdo0m7FKLqdAIQ7Xq1YMECs0Cpx7/+9S/ZvXu39OnTx1bgZiwyGIVGjhwp8+bNM0FDVzhfv369WeFcB9jpgxtCR2eo0S4T+nD8wAMPyM9+9jO59tprzbWrr76a31yGyNixY83Acl01VwfnlqY/5/zmMjS0W9tXX31lZqbR8TT6863TZ2qfeF1vRRcO04c1VA9dH2Hy5MksMhhi+veyTsjiWblfu70tXLjQdG3TGbDuu+8+eyeq6vHHHzdjafTvax1wrp+1TnHsme7/rLPOsnfCtTR8ILocP368cNq0aYVt2rQpLHpIMHs91zpCq1WrVhru/W7PPPOMvQtVVfSPmN/P2LO9/fbb9k5U1aJFiwr79u1bmJiYaP7+iI+PL+zUqVPhww8/XHjkyBF7F6rLAw88YH6mi8KHrSAU5s+fX9i9e/fCZs2aFdauXbuwcePGhb169Spcvny5vQOhpP/+dezYsbBevXqFTZo0KRw2bFhhUQixV+F2tHwAAAAAcARjPgAAAAA4gvABAAAAwBGEDwAAAACOIHwAAAAAcAThAwAAAIAjCB8AAAAAHEH4AAAAAOAIwgcAAAAARxA+AAAAADiC8AEAAADAEYQPAHDQ8OHDJSYmRk6cOGEr4a9169bm+44kzz77rPmc8/LybKX4s9c/CwCg5hA+ACDEMjMzZdKkST4PvtXtb3/7m/zlL3+xZwAAhCfCBwCEmIaPyZMnuyZ8/Pe//5Wnn37ankUu/TPonwUAUHMIHwCActWrV0/q1Kljz6rPd999Z4+qh/4Z9M8CAKg5hA8ACCHtbvU///M/5viXv/ylGXegm45B8Pb111+bMQhnnXWWnHHGGTJkyBD55ptv7NUSn3/+ufzhD3+QxMREqVu3rrRp00YmTJggBQUF9o7iMRnr1q2TnTt3/vB+unnMnDlTevToIc2aNTMP30lJSXL//ffLsWPH7B3lKz3mQ1t09OtPnDhRli5dKh06dJC4uDj58Y9/LP/4xz/sXeXzjH3ZvXu3/Pa3v5VzzjlHzj//fHNN/xy33367/PSnP5X4+Hizde/eXV5//XVzvbSXXnpJOnbsaL6HCy64QGbNmiWFhYX2agl/Yz4WLlwoffr0+eHz1e9B3/vgwYP2jmLvvPOO+X7nz58v6enp5jPUz/Liiy+Wt99+295V7OTJk/LII4+Y779hw4bSuHFj8xnpZw4A0S6m6C/o0/+GBgBUyieffCJpaWmyYMEC+dOf/iTt27c39a5du8qPfvQj8wCsD7ydO3eWVq1ayRVXXCHZ2dkyZ84cueGGG+T5558396tPP/1UfvGLX5iHYk8A+c9//iPPPPOMeWBesWKFeSBetmyZ/L//9/9MoNEHb4/U1FSzT0hIMPfrA3CDBg3kvffek0WLFsmNN94ozz33nLmnPPrA3rNnzx8ClIYPDUGdOnWS/Px8GTVqlHnA1m5NW7dulW3btpkgUh7P55CcnGwCg35/+sCvfw4NExpsrrnmGvOZaV0/l6ysLFm1apX5zDyWLFligtuFF14ov//9700omzdvnjRp0kQ++ugj+eyzz34IHPqeGiK8u8Ppn0GDREpKigmC2mVOP98uXbrIv//9b3tXcfjQMKn/3f7v//7P/PfQ/y7a1U1DowYmfb3SAKrd7oYNG2b+u2vIy8nJkU2bNpnPHgCimoYPAEDoFD2E6y91Ct9++21bKVH0QGqujR492laK3XHHHYW1atUqLHqwtZXCwv79+xcWBZTColBhK8WefPJJ8zXeeOMNWyksvOyyy8y9/hw6dMgelSh6QC4sCi6Fu3fvtpWy6dfV79uj6IHevH9RkCkseui21cLCL774orDogbzw3nvvtZWyeT6Hm2++2VZKfP/99/aoxNGjRwuLAkbhlVdeaSuFhSdOnChs0aJFYcuWLX0+tz179hSeccYZ5uvr9+qh71n6M/L32RSFLPPa999/31YKzX9LrRUFQJ/3Kgo4pl4UHm2lsPDiiy8u7Nevnz0DAHij2xUA1ICi8GGPimm3KO2uo79BV99++60UhQsZPHiwqR84cOCHregB3NyzevVqs6+Idv1R+nX06+rX0N/iF/0bYH4bX1lXX331D12lVPPmzU0LxI4dO2ylYmPGjLFHJbR1xqModMhXX31lxoNo64u2/Hhs3LhRioKGjBgxQho1amSrYlqItCtXIDyfzalTp0yLhn42l19+ual5v5fHTTfd5PNe2u1Kz73/zNoKpC1A2lIDAPBF+ACAGlB67IGny452nVLbt283D8Q6XqNp06Y+W7t27cw9+/btM/uKvPnmm6b7T/369c376NfQsKM0jFRW6T+D0q/v+TMEQrtclXb8+HH585//bL6+fs/ahUq/Zx1r4f39apcqpYGnNE93t4ps2LBBevfu/cPYDH0f7eql/H02gfyZp06dKocPHzbd3LRL16233ir/+te/7FUAiG6EDwCoAbVq1bJHvrQ1QmnwUCNHjjTjHPxt48aNM/eU58MPP5SrrrrKHD/55JNmnIi+1jN+w/M+lVHRnyEQGi5Ku/POO80DvH7fL774omkB0u9ZWzO8v7bnWMe9lBbI96CtTNoCpONWdID4K6+8Yt5H30/5+2wC+TNfdtllZryOjqv51a9+JW+99Zb5s/Tv39+0PgFANCN8AECI+XsYDpa2COjX0YdafYD1t+lsSh5lvefixYvNFLP6AKzdk/QhWF977rnn2jvCjwYO7d7kGYSvg9H1ey4dBjwtFDrAvTQdxF8RHaivLRSvvfaameFq4MCB5n38tW4EyzODmbbWaJcsHUivs3WtWbPG3gEA0YnwAQAhplPDKn9T5wZKu/9odyCdjcrfw7WOhfCeDlbf0183If1NfWxsrM+Du/72/dFHH7Vn4Ue/59ItF7o4oIYFbzrzlI7v0NmtvD8LbcnQAFMRTytG6feaMWOGPaocHTdSmo4NUTp+BQCiGeEDAEJMH4q1JeKhhx4y07Zq9xvP+IRgzJ07V84880zz9fQ38/qQrWNAtAWjRYsWZryCx89//nMzYPqOO+4wD976nkqnqz1y5IiZnlZbEh577DEzjWxVglF1GzRokGRkZMgf//hHM33v+PHj5dJLLz1tHIeGB/08du3aZf5M+mebPn26OdaxFhXp27evWRtEu0PplLk6RbIGvo8//tjeUTn6fernPm3aNLPy/AMPPGD+++k6K57JAgAgWhE+ACDEtMuUPujrb7l1wUHtOuS9ZkSgtFuRrjuh61foWA19gNWHa63psee36eqee+75YZ0QXd9Dj5Uuzvf3v//ddC/Se3QdEB2ToC0q4UqDgAaP5cuXm9mwdAyGBi+dXas07dqkXcu0dUcXX9RFAHXMiH4+FdGAop+rzlalr50yZYoJdTpAvyrGjh1rWj/0s9Y1UHQ9E/3edfzN2Wefbe8CgOjEIoMAAAAAHEHLBwAAAABHED4AAAAAOILwAQAAAMARhA8AAAAAjiB8AAAAAHAE4QMAAACAIwgfAAAAABxB+AAAAADgCMIHAAAAAEcQPgAAAAA4gvABAAAAwBGEDwAAAACOIHwAAAAAcAThAwAAAIADRP4/Xa7ZIk8s9NkAAAAASUVORK5CYII=\" width=\"639.2025602824718\">"
      ],
      "text/plain": [
       "<IPython.core.display.HTML object>"
      ]
     },
     "metadata": {},
     "output_type": "display_data"
    },
    {
     "data": {
      "text/plain": [
       "Text(0, 0.5, 'value')"
      ]
     },
     "execution_count": 85,
     "metadata": {},
     "output_type": "execute_result"
    }
   ],
   "source": [
    "fig = plt.figure()\n",
    "ax = fig.add_subplot(111)\n",
    "ax.plot(theta, s, '.')   #'.' 대신 '-' 쓰면 선으로 나타나고, 안 쓰면 선으로 나타난다. default is line.\n",
    "ax.set_xlabel('theta in radians')   #x축\n",
    "ax.set_ylabel('value')   #y축 (단위?)"
   ]
  },
  {
   "cell_type": "code",
   "execution_count": 86,
   "metadata": {},
   "outputs": [],
   "source": [
    "#x축에서 equidistant(?)하지만 y축에서는 equidistant(등거리)하지 않다. (x간의 거리는 equidistant하지만 y끼리는 equidistant하지 않다)\n",
    "#cf) it it's linear (line-선형-함수 x와의 관계가 1차함수식.-선처럼 생겼다-sin graph는 선이 아니기 때문에 equidistant하지 않고\n",
    "#so it's non-linear)\n",
    "#y=ax+b 제외하고 나머지는 all non-linear. ex. y=log x, y= sin x, etc.\n",
    "##THE GRAPH ABOVE DOESN'T HAVE THE CONCEPT OF SOUND. WE DO NOT KNOW WHETHER IT IS ONE SECOND OR ONE YEAR. THEREFORE WE NEED TO\n",
    "#'HYPOTHESIZE'. 'THINK OF THIS MUCH AS ONE SECOND' --> THEREFORE, TO CREATE SOUND YOU NEED \"TIME\" ---> WHY WE CREATE THE VARIABLE 'time'"
   ]
  },
  {
   "cell_type": "markdown",
   "metadata": {},
   "source": [
    "////////////////////////////////////"
   ]
  },
  {
   "cell_type": "code",
   "execution_count": 87,
   "metadata": {},
   "outputs": [],
   "source": [
    "#generate time: sampling rate, duration time 있으면 time generation 가능! (아직 frequency, amplitude 관여 x)\n",
    "#(1, sr) 이렇게 하면 sampling rate만큼의 time tick(?)을 만드는 것이다.\n",
    "#this isn't time itself. it's just giving time an index.\n",
    "#방금 1에서 5000까지 만든 것! (두 번째 숫자 미.만.이.니.까)  #마지막 숫자를 배제시키는 arange라는 함수의 특성을 고려하여 +1한다.\n",
    "t = np.arange(1, sr*dur+1)/sr\n",
    "#1부터 5000까지 만들어지고 10000으로 나눈 것. 만분의 1....만분의 5000.\n",
    "#now create theta WITH time. "
   ]
  },
  {
   "cell_type": "code",
   "execution_count": 88,
   "metadata": {},
   "outputs": [
    {
     "data": {
      "text/plain": [
       "array([1.000e-04, 2.000e-04, 3.000e-04, ..., 4.998e-01, 4.999e-01,\n",
       "       5.000e-01])"
      ]
     },
     "execution_count": 88,
     "metadata": {},
     "output_type": "execute_result"
    }
   ],
   "source": [
    "t\n",
    "#알 수 없는 이유로 e-04는 1/10000이다.\n",
    "#아 e-04가 e의 (-4)승이라는건가...? (probably right)"
   ]
  },
  {
   "cell_type": "code",
   "execution_count": 89,
   "metadata": {},
   "outputs": [],
   "source": [
    "#theta에 들어가는 값을 phase라고 한다.\n",
    "#generate phase\n",
    "theta = t * 2*np.pi * freq #np.pi는 np안에서 정의된 수 (pi?)\n",
    "#frequency 빼면 '1초에 한 바퀴 도는 것을 만들어라'\n",
    "#freq 추가하면 몇 바퀴 도는지 알려주는 것\n",
    "#frequency: 총 몇 바퀴를 돌아야 하는가?\n",
    "#time을 먼저 만들고 frequency 더해준, complex한 개념이 바로 theta"
   ]
  },
  {
   "cell_type": "code",
   "execution_count": 90,
   "metadata": {},
   "outputs": [],
   "source": [
    "#generate signal by cosine-phasor\n",
    "s = np.sin(theta)\n",
    "#we have theta, time, s. how do we plot this?"
   ]
  },
  {
   "cell_type": "code",
   "execution_count": 91,
   "metadata": {},
   "outputs": [],
   "source": [
    "##theta와 time의 벡터의 개수는 동.일.하.다."
   ]
  },
  {
   "cell_type": "code",
   "execution_count": 92,
   "metadata": {
    "scrolled": true
   },
   "outputs": [
    {
     "data": {
      "application/javascript": [
       "/* Put everything inside the global mpl namespace */\n",
       "window.mpl = {};\n",
       "\n",
       "\n",
       "mpl.get_websocket_type = function() {\n",
       "    if (typeof(WebSocket) !== 'undefined') {\n",
       "        return WebSocket;\n",
       "    } else if (typeof(MozWebSocket) !== 'undefined') {\n",
       "        return MozWebSocket;\n",
       "    } else {\n",
       "        alert('Your browser does not have WebSocket support. ' +\n",
       "              'Please try Chrome, Safari or Firefox ≥ 6. ' +\n",
       "              'Firefox 4 and 5 are also supported but you ' +\n",
       "              'have to enable WebSockets in about:config.');\n",
       "    };\n",
       "}\n",
       "\n",
       "mpl.figure = function(figure_id, websocket, ondownload, parent_element) {\n",
       "    this.id = figure_id;\n",
       "\n",
       "    this.ws = websocket;\n",
       "\n",
       "    this.supports_binary = (this.ws.binaryType != undefined);\n",
       "\n",
       "    if (!this.supports_binary) {\n",
       "        var warnings = document.getElementById(\"mpl-warnings\");\n",
       "        if (warnings) {\n",
       "            warnings.style.display = 'block';\n",
       "            warnings.textContent = (\n",
       "                \"This browser does not support binary websocket messages. \" +\n",
       "                    \"Performance may be slow.\");\n",
       "        }\n",
       "    }\n",
       "\n",
       "    this.imageObj = new Image();\n",
       "\n",
       "    this.context = undefined;\n",
       "    this.message = undefined;\n",
       "    this.canvas = undefined;\n",
       "    this.rubberband_canvas = undefined;\n",
       "    this.rubberband_context = undefined;\n",
       "    this.format_dropdown = undefined;\n",
       "\n",
       "    this.image_mode = 'full';\n",
       "\n",
       "    this.root = $('<div/>');\n",
       "    this._root_extra_style(this.root)\n",
       "    this.root.attr('style', 'display: inline-block');\n",
       "\n",
       "    $(parent_element).append(this.root);\n",
       "\n",
       "    this._init_header(this);\n",
       "    this._init_canvas(this);\n",
       "    this._init_toolbar(this);\n",
       "\n",
       "    var fig = this;\n",
       "\n",
       "    this.waiting = false;\n",
       "\n",
       "    this.ws.onopen =  function () {\n",
       "            fig.send_message(\"supports_binary\", {value: fig.supports_binary});\n",
       "            fig.send_message(\"send_image_mode\", {});\n",
       "            if (mpl.ratio != 1) {\n",
       "                fig.send_message(\"set_dpi_ratio\", {'dpi_ratio': mpl.ratio});\n",
       "            }\n",
       "            fig.send_message(\"refresh\", {});\n",
       "        }\n",
       "\n",
       "    this.imageObj.onload = function() {\n",
       "            if (fig.image_mode == 'full') {\n",
       "                // Full images could contain transparency (where diff images\n",
       "                // almost always do), so we need to clear the canvas so that\n",
       "                // there is no ghosting.\n",
       "                fig.context.clearRect(0, 0, fig.canvas.width, fig.canvas.height);\n",
       "            }\n",
       "            fig.context.drawImage(fig.imageObj, 0, 0);\n",
       "        };\n",
       "\n",
       "    this.imageObj.onunload = function() {\n",
       "        fig.ws.close();\n",
       "    }\n",
       "\n",
       "    this.ws.onmessage = this._make_on_message_function(this);\n",
       "\n",
       "    this.ondownload = ondownload;\n",
       "}\n",
       "\n",
       "mpl.figure.prototype._init_header = function() {\n",
       "    var titlebar = $(\n",
       "        '<div class=\"ui-dialog-titlebar ui-widget-header ui-corner-all ' +\n",
       "        'ui-helper-clearfix\"/>');\n",
       "    var titletext = $(\n",
       "        '<div class=\"ui-dialog-title\" style=\"width: 100%; ' +\n",
       "        'text-align: center; padding: 3px;\"/>');\n",
       "    titlebar.append(titletext)\n",
       "    this.root.append(titlebar);\n",
       "    this.header = titletext[0];\n",
       "}\n",
       "\n",
       "\n",
       "\n",
       "mpl.figure.prototype._canvas_extra_style = function(canvas_div) {\n",
       "\n",
       "}\n",
       "\n",
       "\n",
       "mpl.figure.prototype._root_extra_style = function(canvas_div) {\n",
       "\n",
       "}\n",
       "\n",
       "mpl.figure.prototype._init_canvas = function() {\n",
       "    var fig = this;\n",
       "\n",
       "    var canvas_div = $('<div/>');\n",
       "\n",
       "    canvas_div.attr('style', 'position: relative; clear: both; outline: 0');\n",
       "\n",
       "    function canvas_keyboard_event(event) {\n",
       "        return fig.key_event(event, event['data']);\n",
       "    }\n",
       "\n",
       "    canvas_div.keydown('key_press', canvas_keyboard_event);\n",
       "    canvas_div.keyup('key_release', canvas_keyboard_event);\n",
       "    this.canvas_div = canvas_div\n",
       "    this._canvas_extra_style(canvas_div)\n",
       "    this.root.append(canvas_div);\n",
       "\n",
       "    var canvas = $('<canvas/>');\n",
       "    canvas.addClass('mpl-canvas');\n",
       "    canvas.attr('style', \"left: 0; top: 0; z-index: 0; outline: 0\")\n",
       "\n",
       "    this.canvas = canvas[0];\n",
       "    this.context = canvas[0].getContext(\"2d\");\n",
       "\n",
       "    var backingStore = this.context.backingStorePixelRatio ||\n",
       "\tthis.context.webkitBackingStorePixelRatio ||\n",
       "\tthis.context.mozBackingStorePixelRatio ||\n",
       "\tthis.context.msBackingStorePixelRatio ||\n",
       "\tthis.context.oBackingStorePixelRatio ||\n",
       "\tthis.context.backingStorePixelRatio || 1;\n",
       "\n",
       "    mpl.ratio = (window.devicePixelRatio || 1) / backingStore;\n",
       "\n",
       "    var rubberband = $('<canvas/>');\n",
       "    rubberband.attr('style', \"position: absolute; left: 0; top: 0; z-index: 1;\")\n",
       "\n",
       "    var pass_mouse_events = true;\n",
       "\n",
       "    canvas_div.resizable({\n",
       "        start: function(event, ui) {\n",
       "            pass_mouse_events = false;\n",
       "        },\n",
       "        resize: function(event, ui) {\n",
       "            fig.request_resize(ui.size.width, ui.size.height);\n",
       "        },\n",
       "        stop: function(event, ui) {\n",
       "            pass_mouse_events = true;\n",
       "            fig.request_resize(ui.size.width, ui.size.height);\n",
       "        },\n",
       "    });\n",
       "\n",
       "    function mouse_event_fn(event) {\n",
       "        if (pass_mouse_events)\n",
       "            return fig.mouse_event(event, event['data']);\n",
       "    }\n",
       "\n",
       "    rubberband.mousedown('button_press', mouse_event_fn);\n",
       "    rubberband.mouseup('button_release', mouse_event_fn);\n",
       "    // Throttle sequential mouse events to 1 every 20ms.\n",
       "    rubberband.mousemove('motion_notify', mouse_event_fn);\n",
       "\n",
       "    rubberband.mouseenter('figure_enter', mouse_event_fn);\n",
       "    rubberband.mouseleave('figure_leave', mouse_event_fn);\n",
       "\n",
       "    canvas_div.on(\"wheel\", function (event) {\n",
       "        event = event.originalEvent;\n",
       "        event['data'] = 'scroll'\n",
       "        if (event.deltaY < 0) {\n",
       "            event.step = 1;\n",
       "        } else {\n",
       "            event.step = -1;\n",
       "        }\n",
       "        mouse_event_fn(event);\n",
       "    });\n",
       "\n",
       "    canvas_div.append(canvas);\n",
       "    canvas_div.append(rubberband);\n",
       "\n",
       "    this.rubberband = rubberband;\n",
       "    this.rubberband_canvas = rubberband[0];\n",
       "    this.rubberband_context = rubberband[0].getContext(\"2d\");\n",
       "    this.rubberband_context.strokeStyle = \"#000000\";\n",
       "\n",
       "    this._resize_canvas = function(width, height) {\n",
       "        // Keep the size of the canvas, canvas container, and rubber band\n",
       "        // canvas in synch.\n",
       "        canvas_div.css('width', width)\n",
       "        canvas_div.css('height', height)\n",
       "\n",
       "        canvas.attr('width', width * mpl.ratio);\n",
       "        canvas.attr('height', height * mpl.ratio);\n",
       "        canvas.attr('style', 'width: ' + width + 'px; height: ' + height + 'px;');\n",
       "\n",
       "        rubberband.attr('width', width);\n",
       "        rubberband.attr('height', height);\n",
       "    }\n",
       "\n",
       "    // Set the figure to an initial 600x600px, this will subsequently be updated\n",
       "    // upon first draw.\n",
       "    this._resize_canvas(600, 600);\n",
       "\n",
       "    // Disable right mouse context menu.\n",
       "    $(this.rubberband_canvas).bind(\"contextmenu\",function(e){\n",
       "        return false;\n",
       "    });\n",
       "\n",
       "    function set_focus () {\n",
       "        canvas.focus();\n",
       "        canvas_div.focus();\n",
       "    }\n",
       "\n",
       "    window.setTimeout(set_focus, 100);\n",
       "}\n",
       "\n",
       "mpl.figure.prototype._init_toolbar = function() {\n",
       "    var fig = this;\n",
       "\n",
       "    var nav_element = $('<div/>');\n",
       "    nav_element.attr('style', 'width: 100%');\n",
       "    this.root.append(nav_element);\n",
       "\n",
       "    // Define a callback function for later on.\n",
       "    function toolbar_event(event) {\n",
       "        return fig.toolbar_button_onclick(event['data']);\n",
       "    }\n",
       "    function toolbar_mouse_event(event) {\n",
       "        return fig.toolbar_button_onmouseover(event['data']);\n",
       "    }\n",
       "\n",
       "    for(var toolbar_ind in mpl.toolbar_items) {\n",
       "        var name = mpl.toolbar_items[toolbar_ind][0];\n",
       "        var tooltip = mpl.toolbar_items[toolbar_ind][1];\n",
       "        var image = mpl.toolbar_items[toolbar_ind][2];\n",
       "        var method_name = mpl.toolbar_items[toolbar_ind][3];\n",
       "\n",
       "        if (!name) {\n",
       "            // put a spacer in here.\n",
       "            continue;\n",
       "        }\n",
       "        var button = $('<button/>');\n",
       "        button.addClass('ui-button ui-widget ui-state-default ui-corner-all ' +\n",
       "                        'ui-button-icon-only');\n",
       "        button.attr('role', 'button');\n",
       "        button.attr('aria-disabled', 'false');\n",
       "        button.click(method_name, toolbar_event);\n",
       "        button.mouseover(tooltip, toolbar_mouse_event);\n",
       "\n",
       "        var icon_img = $('<span/>');\n",
       "        icon_img.addClass('ui-button-icon-primary ui-icon');\n",
       "        icon_img.addClass(image);\n",
       "        icon_img.addClass('ui-corner-all');\n",
       "\n",
       "        var tooltip_span = $('<span/>');\n",
       "        tooltip_span.addClass('ui-button-text');\n",
       "        tooltip_span.html(tooltip);\n",
       "\n",
       "        button.append(icon_img);\n",
       "        button.append(tooltip_span);\n",
       "\n",
       "        nav_element.append(button);\n",
       "    }\n",
       "\n",
       "    var fmt_picker_span = $('<span/>');\n",
       "\n",
       "    var fmt_picker = $('<select/>');\n",
       "    fmt_picker.addClass('mpl-toolbar-option ui-widget ui-widget-content');\n",
       "    fmt_picker_span.append(fmt_picker);\n",
       "    nav_element.append(fmt_picker_span);\n",
       "    this.format_dropdown = fmt_picker[0];\n",
       "\n",
       "    for (var ind in mpl.extensions) {\n",
       "        var fmt = mpl.extensions[ind];\n",
       "        var option = $(\n",
       "            '<option/>', {selected: fmt === mpl.default_extension}).html(fmt);\n",
       "        fmt_picker.append(option);\n",
       "    }\n",
       "\n",
       "    // Add hover states to the ui-buttons\n",
       "    $( \".ui-button\" ).hover(\n",
       "        function() { $(this).addClass(\"ui-state-hover\");},\n",
       "        function() { $(this).removeClass(\"ui-state-hover\");}\n",
       "    );\n",
       "\n",
       "    var status_bar = $('<span class=\"mpl-message\"/>');\n",
       "    nav_element.append(status_bar);\n",
       "    this.message = status_bar[0];\n",
       "}\n",
       "\n",
       "mpl.figure.prototype.request_resize = function(x_pixels, y_pixels) {\n",
       "    // Request matplotlib to resize the figure. Matplotlib will then trigger a resize in the client,\n",
       "    // which will in turn request a refresh of the image.\n",
       "    this.send_message('resize', {'width': x_pixels, 'height': y_pixels});\n",
       "}\n",
       "\n",
       "mpl.figure.prototype.send_message = function(type, properties) {\n",
       "    properties['type'] = type;\n",
       "    properties['figure_id'] = this.id;\n",
       "    this.ws.send(JSON.stringify(properties));\n",
       "}\n",
       "\n",
       "mpl.figure.prototype.send_draw_message = function() {\n",
       "    if (!this.waiting) {\n",
       "        this.waiting = true;\n",
       "        this.ws.send(JSON.stringify({type: \"draw\", figure_id: this.id}));\n",
       "    }\n",
       "}\n",
       "\n",
       "\n",
       "mpl.figure.prototype.handle_save = function(fig, msg) {\n",
       "    var format_dropdown = fig.format_dropdown;\n",
       "    var format = format_dropdown.options[format_dropdown.selectedIndex].value;\n",
       "    fig.ondownload(fig, format);\n",
       "}\n",
       "\n",
       "\n",
       "mpl.figure.prototype.handle_resize = function(fig, msg) {\n",
       "    var size = msg['size'];\n",
       "    if (size[0] != fig.canvas.width || size[1] != fig.canvas.height) {\n",
       "        fig._resize_canvas(size[0], size[1]);\n",
       "        fig.send_message(\"refresh\", {});\n",
       "    };\n",
       "}\n",
       "\n",
       "mpl.figure.prototype.handle_rubberband = function(fig, msg) {\n",
       "    var x0 = msg['x0'] / mpl.ratio;\n",
       "    var y0 = (fig.canvas.height - msg['y0']) / mpl.ratio;\n",
       "    var x1 = msg['x1'] / mpl.ratio;\n",
       "    var y1 = (fig.canvas.height - msg['y1']) / mpl.ratio;\n",
       "    x0 = Math.floor(x0) + 0.5;\n",
       "    y0 = Math.floor(y0) + 0.5;\n",
       "    x1 = Math.floor(x1) + 0.5;\n",
       "    y1 = Math.floor(y1) + 0.5;\n",
       "    var min_x = Math.min(x0, x1);\n",
       "    var min_y = Math.min(y0, y1);\n",
       "    var width = Math.abs(x1 - x0);\n",
       "    var height = Math.abs(y1 - y0);\n",
       "\n",
       "    fig.rubberband_context.clearRect(\n",
       "        0, 0, fig.canvas.width, fig.canvas.height);\n",
       "\n",
       "    fig.rubberband_context.strokeRect(min_x, min_y, width, height);\n",
       "}\n",
       "\n",
       "mpl.figure.prototype.handle_figure_label = function(fig, msg) {\n",
       "    // Updates the figure title.\n",
       "    fig.header.textContent = msg['label'];\n",
       "}\n",
       "\n",
       "mpl.figure.prototype.handle_cursor = function(fig, msg) {\n",
       "    var cursor = msg['cursor'];\n",
       "    switch(cursor)\n",
       "    {\n",
       "    case 0:\n",
       "        cursor = 'pointer';\n",
       "        break;\n",
       "    case 1:\n",
       "        cursor = 'default';\n",
       "        break;\n",
       "    case 2:\n",
       "        cursor = 'crosshair';\n",
       "        break;\n",
       "    case 3:\n",
       "        cursor = 'move';\n",
       "        break;\n",
       "    }\n",
       "    fig.rubberband_canvas.style.cursor = cursor;\n",
       "}\n",
       "\n",
       "mpl.figure.prototype.handle_message = function(fig, msg) {\n",
       "    fig.message.textContent = msg['message'];\n",
       "}\n",
       "\n",
       "mpl.figure.prototype.handle_draw = function(fig, msg) {\n",
       "    // Request the server to send over a new figure.\n",
       "    fig.send_draw_message();\n",
       "}\n",
       "\n",
       "mpl.figure.prototype.handle_image_mode = function(fig, msg) {\n",
       "    fig.image_mode = msg['mode'];\n",
       "}\n",
       "\n",
       "mpl.figure.prototype.updated_canvas_event = function() {\n",
       "    // Called whenever the canvas gets updated.\n",
       "    this.send_message(\"ack\", {});\n",
       "}\n",
       "\n",
       "// A function to construct a web socket function for onmessage handling.\n",
       "// Called in the figure constructor.\n",
       "mpl.figure.prototype._make_on_message_function = function(fig) {\n",
       "    return function socket_on_message(evt) {\n",
       "        if (evt.data instanceof Blob) {\n",
       "            /* FIXME: We get \"Resource interpreted as Image but\n",
       "             * transferred with MIME type text/plain:\" errors on\n",
       "             * Chrome.  But how to set the MIME type?  It doesn't seem\n",
       "             * to be part of the websocket stream */\n",
       "            evt.data.type = \"image/png\";\n",
       "\n",
       "            /* Free the memory for the previous frames */\n",
       "            if (fig.imageObj.src) {\n",
       "                (window.URL || window.webkitURL).revokeObjectURL(\n",
       "                    fig.imageObj.src);\n",
       "            }\n",
       "\n",
       "            fig.imageObj.src = (window.URL || window.webkitURL).createObjectURL(\n",
       "                evt.data);\n",
       "            fig.updated_canvas_event();\n",
       "            fig.waiting = false;\n",
       "            return;\n",
       "        }\n",
       "        else if (typeof evt.data === 'string' && evt.data.slice(0, 21) == \"data:image/png;base64\") {\n",
       "            fig.imageObj.src = evt.data;\n",
       "            fig.updated_canvas_event();\n",
       "            fig.waiting = false;\n",
       "            return;\n",
       "        }\n",
       "\n",
       "        var msg = JSON.parse(evt.data);\n",
       "        var msg_type = msg['type'];\n",
       "\n",
       "        // Call the  \"handle_{type}\" callback, which takes\n",
       "        // the figure and JSON message as its only arguments.\n",
       "        try {\n",
       "            var callback = fig[\"handle_\" + msg_type];\n",
       "        } catch (e) {\n",
       "            console.log(\"No handler for the '\" + msg_type + \"' message type: \", msg);\n",
       "            return;\n",
       "        }\n",
       "\n",
       "        if (callback) {\n",
       "            try {\n",
       "                // console.log(\"Handling '\" + msg_type + \"' message: \", msg);\n",
       "                callback(fig, msg);\n",
       "            } catch (e) {\n",
       "                console.log(\"Exception inside the 'handler_\" + msg_type + \"' callback:\", e, e.stack, msg);\n",
       "            }\n",
       "        }\n",
       "    };\n",
       "}\n",
       "\n",
       "// from http://stackoverflow.com/questions/1114465/getting-mouse-location-in-canvas\n",
       "mpl.findpos = function(e) {\n",
       "    //this section is from http://www.quirksmode.org/js/events_properties.html\n",
       "    var targ;\n",
       "    if (!e)\n",
       "        e = window.event;\n",
       "    if (e.target)\n",
       "        targ = e.target;\n",
       "    else if (e.srcElement)\n",
       "        targ = e.srcElement;\n",
       "    if (targ.nodeType == 3) // defeat Safari bug\n",
       "        targ = targ.parentNode;\n",
       "\n",
       "    // jQuery normalizes the pageX and pageY\n",
       "    // pageX,Y are the mouse positions relative to the document\n",
       "    // offset() returns the position of the element relative to the document\n",
       "    var x = e.pageX - $(targ).offset().left;\n",
       "    var y = e.pageY - $(targ).offset().top;\n",
       "\n",
       "    return {\"x\": x, \"y\": y};\n",
       "};\n",
       "\n",
       "/*\n",
       " * return a copy of an object with only non-object keys\n",
       " * we need this to avoid circular references\n",
       " * http://stackoverflow.com/a/24161582/3208463\n",
       " */\n",
       "function simpleKeys (original) {\n",
       "  return Object.keys(original).reduce(function (obj, key) {\n",
       "    if (typeof original[key] !== 'object')\n",
       "        obj[key] = original[key]\n",
       "    return obj;\n",
       "  }, {});\n",
       "}\n",
       "\n",
       "mpl.figure.prototype.mouse_event = function(event, name) {\n",
       "    var canvas_pos = mpl.findpos(event)\n",
       "\n",
       "    if (name === 'button_press')\n",
       "    {\n",
       "        this.canvas.focus();\n",
       "        this.canvas_div.focus();\n",
       "    }\n",
       "\n",
       "    var x = canvas_pos.x * mpl.ratio;\n",
       "    var y = canvas_pos.y * mpl.ratio;\n",
       "\n",
       "    this.send_message(name, {x: x, y: y, button: event.button,\n",
       "                             step: event.step,\n",
       "                             guiEvent: simpleKeys(event)});\n",
       "\n",
       "    /* This prevents the web browser from automatically changing to\n",
       "     * the text insertion cursor when the button is pressed.  We want\n",
       "     * to control all of the cursor setting manually through the\n",
       "     * 'cursor' event from matplotlib */\n",
       "    event.preventDefault();\n",
       "    return false;\n",
       "}\n",
       "\n",
       "mpl.figure.prototype._key_event_extra = function(event, name) {\n",
       "    // Handle any extra behaviour associated with a key event\n",
       "}\n",
       "\n",
       "mpl.figure.prototype.key_event = function(event, name) {\n",
       "\n",
       "    // Prevent repeat events\n",
       "    if (name == 'key_press')\n",
       "    {\n",
       "        if (event.which === this._key)\n",
       "            return;\n",
       "        else\n",
       "            this._key = event.which;\n",
       "    }\n",
       "    if (name == 'key_release')\n",
       "        this._key = null;\n",
       "\n",
       "    var value = '';\n",
       "    if (event.ctrlKey && event.which != 17)\n",
       "        value += \"ctrl+\";\n",
       "    if (event.altKey && event.which != 18)\n",
       "        value += \"alt+\";\n",
       "    if (event.shiftKey && event.which != 16)\n",
       "        value += \"shift+\";\n",
       "\n",
       "    value += 'k';\n",
       "    value += event.which.toString();\n",
       "\n",
       "    this._key_event_extra(event, name);\n",
       "\n",
       "    this.send_message(name, {key: value,\n",
       "                             guiEvent: simpleKeys(event)});\n",
       "    return false;\n",
       "}\n",
       "\n",
       "mpl.figure.prototype.toolbar_button_onclick = function(name) {\n",
       "    if (name == 'download') {\n",
       "        this.handle_save(this, null);\n",
       "    } else {\n",
       "        this.send_message(\"toolbar_button\", {name: name});\n",
       "    }\n",
       "};\n",
       "\n",
       "mpl.figure.prototype.toolbar_button_onmouseover = function(tooltip) {\n",
       "    this.message.textContent = tooltip;\n",
       "};\n",
       "mpl.toolbar_items = [[\"Home\", \"Reset original view\", \"fa fa-home icon-home\", \"home\"], [\"Back\", \"Back to previous view\", \"fa fa-arrow-left icon-arrow-left\", \"back\"], [\"Forward\", \"Forward to next view\", \"fa fa-arrow-right icon-arrow-right\", \"forward\"], [\"\", \"\", \"\", \"\"], [\"Pan\", \"Pan axes with left mouse, zoom with right\", \"fa fa-arrows icon-move\", \"pan\"], [\"Zoom\", \"Zoom to rectangle\", \"fa fa-square-o icon-check-empty\", \"zoom\"], [\"\", \"\", \"\", \"\"], [\"Download\", \"Download plot\", \"fa fa-floppy-o icon-save\", \"download\"]];\n",
       "\n",
       "mpl.extensions = [\"eps\", \"jpeg\", \"pdf\", \"png\", \"ps\", \"raw\", \"svg\", \"tif\"];\n",
       "\n",
       "mpl.default_extension = \"png\";var comm_websocket_adapter = function(comm) {\n",
       "    // Create a \"websocket\"-like object which calls the given IPython comm\n",
       "    // object with the appropriate methods. Currently this is a non binary\n",
       "    // socket, so there is still some room for performance tuning.\n",
       "    var ws = {};\n",
       "\n",
       "    ws.close = function() {\n",
       "        comm.close()\n",
       "    };\n",
       "    ws.send = function(m) {\n",
       "        //console.log('sending', m);\n",
       "        comm.send(m);\n",
       "    };\n",
       "    // Register the callback with on_msg.\n",
       "    comm.on_msg(function(msg) {\n",
       "        //console.log('receiving', msg['content']['data'], msg);\n",
       "        // Pass the mpl event to the overridden (by mpl) onmessage function.\n",
       "        ws.onmessage(msg['content']['data'])\n",
       "    });\n",
       "    return ws;\n",
       "}\n",
       "\n",
       "mpl.mpl_figure_comm = function(comm, msg) {\n",
       "    // This is the function which gets called when the mpl process\n",
       "    // starts-up an IPython Comm through the \"matplotlib\" channel.\n",
       "\n",
       "    var id = msg.content.data.id;\n",
       "    // Get hold of the div created by the display call when the Comm\n",
       "    // socket was opened in Python.\n",
       "    var element = $(\"#\" + id);\n",
       "    var ws_proxy = comm_websocket_adapter(comm)\n",
       "\n",
       "    function ondownload(figure, format) {\n",
       "        window.open(figure.imageObj.src);\n",
       "    }\n",
       "\n",
       "    var fig = new mpl.figure(id, ws_proxy,\n",
       "                           ondownload,\n",
       "                           element.get(0));\n",
       "\n",
       "    // Call onopen now - mpl needs it, as it is assuming we've passed it a real\n",
       "    // web socket which is closed, not our websocket->open comm proxy.\n",
       "    ws_proxy.onopen();\n",
       "\n",
       "    fig.parent_element = element.get(0);\n",
       "    fig.cell_info = mpl.find_output_cell(\"<div id='\" + id + \"'></div>\");\n",
       "    if (!fig.cell_info) {\n",
       "        console.error(\"Failed to find cell for figure\", id, fig);\n",
       "        return;\n",
       "    }\n",
       "\n",
       "    var output_index = fig.cell_info[2]\n",
       "    var cell = fig.cell_info[0];\n",
       "\n",
       "};\n",
       "\n",
       "mpl.figure.prototype.handle_close = function(fig, msg) {\n",
       "    var width = fig.canvas.width/mpl.ratio\n",
       "    fig.root.unbind('remove')\n",
       "\n",
       "    // Update the output cell to use the data from the current canvas.\n",
       "    fig.push_to_output();\n",
       "    var dataURL = fig.canvas.toDataURL();\n",
       "    // Re-enable the keyboard manager in IPython - without this line, in FF,\n",
       "    // the notebook keyboard shortcuts fail.\n",
       "    IPython.keyboard_manager.enable()\n",
       "    $(fig.parent_element).html('<img src=\"' + dataURL + '\" width=\"' + width + '\">');\n",
       "    fig.close_ws(fig, msg);\n",
       "}\n",
       "\n",
       "mpl.figure.prototype.close_ws = function(fig, msg){\n",
       "    fig.send_message('closing', msg);\n",
       "    // fig.ws.close()\n",
       "}\n",
       "\n",
       "mpl.figure.prototype.push_to_output = function(remove_interactive) {\n",
       "    // Turn the data on the canvas into data in the output cell.\n",
       "    var width = this.canvas.width/mpl.ratio\n",
       "    var dataURL = this.canvas.toDataURL();\n",
       "    this.cell_info[1]['text/html'] = '<img src=\"' + dataURL + '\" width=\"' + width + '\">';\n",
       "}\n",
       "\n",
       "mpl.figure.prototype.updated_canvas_event = function() {\n",
       "    // Tell IPython that the notebook contents must change.\n",
       "    IPython.notebook.set_dirty(true);\n",
       "    this.send_message(\"ack\", {});\n",
       "    var fig = this;\n",
       "    // Wait a second, then push the new image to the DOM so\n",
       "    // that it is saved nicely (might be nice to debounce this).\n",
       "    setTimeout(function () { fig.push_to_output() }, 1000);\n",
       "}\n",
       "\n",
       "mpl.figure.prototype._init_toolbar = function() {\n",
       "    var fig = this;\n",
       "\n",
       "    var nav_element = $('<div/>');\n",
       "    nav_element.attr('style', 'width: 100%');\n",
       "    this.root.append(nav_element);\n",
       "\n",
       "    // Define a callback function for later on.\n",
       "    function toolbar_event(event) {\n",
       "        return fig.toolbar_button_onclick(event['data']);\n",
       "    }\n",
       "    function toolbar_mouse_event(event) {\n",
       "        return fig.toolbar_button_onmouseover(event['data']);\n",
       "    }\n",
       "\n",
       "    for(var toolbar_ind in mpl.toolbar_items){\n",
       "        var name = mpl.toolbar_items[toolbar_ind][0];\n",
       "        var tooltip = mpl.toolbar_items[toolbar_ind][1];\n",
       "        var image = mpl.toolbar_items[toolbar_ind][2];\n",
       "        var method_name = mpl.toolbar_items[toolbar_ind][3];\n",
       "\n",
       "        if (!name) { continue; };\n",
       "\n",
       "        var button = $('<button class=\"btn btn-default\" href=\"#\" title=\"' + name + '\"><i class=\"fa ' + image + ' fa-lg\"></i></button>');\n",
       "        button.click(method_name, toolbar_event);\n",
       "        button.mouseover(tooltip, toolbar_mouse_event);\n",
       "        nav_element.append(button);\n",
       "    }\n",
       "\n",
       "    // Add the status bar.\n",
       "    var status_bar = $('<span class=\"mpl-message\" style=\"text-align:right; float: right;\"/>');\n",
       "    nav_element.append(status_bar);\n",
       "    this.message = status_bar[0];\n",
       "\n",
       "    // Add the close button to the window.\n",
       "    var buttongrp = $('<div class=\"btn-group inline pull-right\"></div>');\n",
       "    var button = $('<button class=\"btn btn-mini btn-primary\" href=\"#\" title=\"Stop Interaction\"><i class=\"fa fa-power-off icon-remove icon-large\"></i></button>');\n",
       "    button.click(function (evt) { fig.handle_close(fig, {}); } );\n",
       "    button.mouseover('Stop Interaction', toolbar_mouse_event);\n",
       "    buttongrp.append(button);\n",
       "    var titlebar = this.root.find($('.ui-dialog-titlebar'));\n",
       "    titlebar.prepend(buttongrp);\n",
       "}\n",
       "\n",
       "mpl.figure.prototype._root_extra_style = function(el){\n",
       "    var fig = this\n",
       "    el.on(\"remove\", function(){\n",
       "\tfig.close_ws(fig, {});\n",
       "    });\n",
       "}\n",
       "\n",
       "mpl.figure.prototype._canvas_extra_style = function(el){\n",
       "    // this is important to make the div 'focusable\n",
       "    el.attr('tabindex', 0)\n",
       "    // reach out to IPython and tell the keyboard manager to turn it's self\n",
       "    // off when our div gets focus\n",
       "\n",
       "    // location in version 3\n",
       "    if (IPython.notebook.keyboard_manager) {\n",
       "        IPython.notebook.keyboard_manager.register_events(el);\n",
       "    }\n",
       "    else {\n",
       "        // location in version 2\n",
       "        IPython.keyboard_manager.register_events(el);\n",
       "    }\n",
       "\n",
       "}\n",
       "\n",
       "mpl.figure.prototype._key_event_extra = function(event, name) {\n",
       "    var manager = IPython.notebook.keyboard_manager;\n",
       "    if (!manager)\n",
       "        manager = IPython.keyboard_manager;\n",
       "\n",
       "    // Check for shift+enter\n",
       "    if (event.shiftKey && event.which == 13) {\n",
       "        this.canvas_div.blur();\n",
       "        event.shiftKey = false;\n",
       "        // Send a \"J\" for go to next cell\n",
       "        event.which = 74;\n",
       "        event.keyCode = 74;\n",
       "        manager.command_mode();\n",
       "        manager.handle_keydown(event);\n",
       "    }\n",
       "}\n",
       "\n",
       "mpl.figure.prototype.handle_save = function(fig, msg) {\n",
       "    fig.ondownload(fig, null);\n",
       "}\n",
       "\n",
       "\n",
       "mpl.find_output_cell = function(html_output) {\n",
       "    // Return the cell and output element which can be found *uniquely* in the notebook.\n",
       "    // Note - this is a bit hacky, but it is done because the \"notebook_saving.Notebook\"\n",
       "    // IPython event is triggered only after the cells have been serialised, which for\n",
       "    // our purposes (turning an active figure into a static one), is too late.\n",
       "    var cells = IPython.notebook.get_cells();\n",
       "    var ncells = cells.length;\n",
       "    for (var i=0; i<ncells; i++) {\n",
       "        var cell = cells[i];\n",
       "        if (cell.cell_type === 'code'){\n",
       "            for (var j=0; j<cell.output_area.outputs.length; j++) {\n",
       "                var data = cell.output_area.outputs[j];\n",
       "                if (data.data) {\n",
       "                    // IPython >= 3 moved mimebundle to data attribute of output\n",
       "                    data = data.data;\n",
       "                }\n",
       "                if (data['text/html'] == html_output) {\n",
       "                    return [cell, data, j];\n",
       "                }\n",
       "            }\n",
       "        }\n",
       "    }\n",
       "}\n",
       "\n",
       "// Register the function which deals with the matplotlib target/channel.\n",
       "// The kernel may be null if the page has been refreshed.\n",
       "if (IPython.notebook.kernel != null) {\n",
       "    IPython.notebook.kernel.comm_manager.register_target('matplotlib', mpl.mpl_figure_comm);\n",
       "}\n"
      ],
      "text/plain": [
       "<IPython.core.display.Javascript object>"
      ]
     },
     "metadata": {},
     "output_type": "display_data"
    },
    {
     "data": {
      "text/html": [
       "<img src=\"data:image/png;base64,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\" width=\"639.2025602824718\">"
      ],
      "text/plain": [
       "<IPython.core.display.HTML object>"
      ]
     },
     "metadata": {},
     "output_type": "display_data"
    },
    {
     "data": {
      "text/plain": [
       "Text(0, 0.5, 'real')"
      ]
     },
     "execution_count": 92,
     "metadata": {},
     "output_type": "execute_result"
    }
   ],
   "source": [
    "#plotting 하는 방법\n",
    "fig = plt.figure()\n",
    "ax = fig.add_subplot(111)\n",
    "ax.plot(t[0:100], s[0:100], '.')   #[  ]: 다 쓰는 게 아니라 0번째부터 1000번째까지 쓰겠다는 말. s의 대괄호 안에도 corresponding하는\n",
    "#, 따라서 동.일.한. 숫자가 나와야한다.\n",
    "#we can choose which two variables to plot. theta는 그냥 봐도 알 수 있기 때문에 쓸 필요가 없고, time을 x축에 넣는다\n",
    "ax.set_xlabel('time (s)')\n",
    "ax.set_ylabel('real')\n",
    "#test: 여기 있는 점의 개수는? 1000개."
   ]
  },
  {
   "cell_type": "code",
   "execution_count": 18,
   "metadata": {},
   "outputs": [
    {
     "data": {
      "text/plain": [
       "array([0.96858316+2.48689887e-01j, 0.87630668+4.81753674e-01j,\n",
       "       0.72896863+6.84547106e-01j, ..., 0.87630668-4.81753674e-01j,\n",
       "       0.96858316-2.48689887e-01j, 1.        +7.85754689e-15j])"
      ]
     },
     "execution_count": 18,
     "metadata": {},
     "output_type": "execute_result"
    }
   ],
   "source": [
    "#generate signal by complex-phasor   #c for complex\n",
    "c = np.exp(theta*1j)  #1j=i, np.exp=exponential e=the e in the Euler thing.\n",
    "c\n",
    "#밑의 수는 모두 a+bi 형태로 나타난다\n",
    "#e-01 = 10분의 1 * e\n",
    "##아무리 큰 수든 아무리 작은 수든 동일한 형태로 쓰기 때문에 컴퓨터에서 정보량을 줄일 수 있다.\n",
    "#현재 복소수까지 수의 범위 확장 완료"
   ]
  },
  {
   "cell_type": "code",
   "execution_count": 93,
   "metadata": {},
   "outputs": [
    {
     "data": {
      "application/javascript": [
       "/* Put everything inside the global mpl namespace */\n",
       "window.mpl = {};\n",
       "\n",
       "\n",
       "mpl.get_websocket_type = function() {\n",
       "    if (typeof(WebSocket) !== 'undefined') {\n",
       "        return WebSocket;\n",
       "    } else if (typeof(MozWebSocket) !== 'undefined') {\n",
       "        return MozWebSocket;\n",
       "    } else {\n",
       "        alert('Your browser does not have WebSocket support. ' +\n",
       "              'Please try Chrome, Safari or Firefox ≥ 6. ' +\n",
       "              'Firefox 4 and 5 are also supported but you ' +\n",
       "              'have to enable WebSockets in about:config.');\n",
       "    };\n",
       "}\n",
       "\n",
       "mpl.figure = function(figure_id, websocket, ondownload, parent_element) {\n",
       "    this.id = figure_id;\n",
       "\n",
       "    this.ws = websocket;\n",
       "\n",
       "    this.supports_binary = (this.ws.binaryType != undefined);\n",
       "\n",
       "    if (!this.supports_binary) {\n",
       "        var warnings = document.getElementById(\"mpl-warnings\");\n",
       "        if (warnings) {\n",
       "            warnings.style.display = 'block';\n",
       "            warnings.textContent = (\n",
       "                \"This browser does not support binary websocket messages. \" +\n",
       "                    \"Performance may be slow.\");\n",
       "        }\n",
       "    }\n",
       "\n",
       "    this.imageObj = new Image();\n",
       "\n",
       "    this.context = undefined;\n",
       "    this.message = undefined;\n",
       "    this.canvas = undefined;\n",
       "    this.rubberband_canvas = undefined;\n",
       "    this.rubberband_context = undefined;\n",
       "    this.format_dropdown = undefined;\n",
       "\n",
       "    this.image_mode = 'full';\n",
       "\n",
       "    this.root = $('<div/>');\n",
       "    this._root_extra_style(this.root)\n",
       "    this.root.attr('style', 'display: inline-block');\n",
       "\n",
       "    $(parent_element).append(this.root);\n",
       "\n",
       "    this._init_header(this);\n",
       "    this._init_canvas(this);\n",
       "    this._init_toolbar(this);\n",
       "\n",
       "    var fig = this;\n",
       "\n",
       "    this.waiting = false;\n",
       "\n",
       "    this.ws.onopen =  function () {\n",
       "            fig.send_message(\"supports_binary\", {value: fig.supports_binary});\n",
       "            fig.send_message(\"send_image_mode\", {});\n",
       "            if (mpl.ratio != 1) {\n",
       "                fig.send_message(\"set_dpi_ratio\", {'dpi_ratio': mpl.ratio});\n",
       "            }\n",
       "            fig.send_message(\"refresh\", {});\n",
       "        }\n",
       "\n",
       "    this.imageObj.onload = function() {\n",
       "            if (fig.image_mode == 'full') {\n",
       "                // Full images could contain transparency (where diff images\n",
       "                // almost always do), so we need to clear the canvas so that\n",
       "                // there is no ghosting.\n",
       "                fig.context.clearRect(0, 0, fig.canvas.width, fig.canvas.height);\n",
       "            }\n",
       "            fig.context.drawImage(fig.imageObj, 0, 0);\n",
       "        };\n",
       "\n",
       "    this.imageObj.onunload = function() {\n",
       "        fig.ws.close();\n",
       "    }\n",
       "\n",
       "    this.ws.onmessage = this._make_on_message_function(this);\n",
       "\n",
       "    this.ondownload = ondownload;\n",
       "}\n",
       "\n",
       "mpl.figure.prototype._init_header = function() {\n",
       "    var titlebar = $(\n",
       "        '<div class=\"ui-dialog-titlebar ui-widget-header ui-corner-all ' +\n",
       "        'ui-helper-clearfix\"/>');\n",
       "    var titletext = $(\n",
       "        '<div class=\"ui-dialog-title\" style=\"width: 100%; ' +\n",
       "        'text-align: center; padding: 3px;\"/>');\n",
       "    titlebar.append(titletext)\n",
       "    this.root.append(titlebar);\n",
       "    this.header = titletext[0];\n",
       "}\n",
       "\n",
       "\n",
       "\n",
       "mpl.figure.prototype._canvas_extra_style = function(canvas_div) {\n",
       "\n",
       "}\n",
       "\n",
       "\n",
       "mpl.figure.prototype._root_extra_style = function(canvas_div) {\n",
       "\n",
       "}\n",
       "\n",
       "mpl.figure.prototype._init_canvas = function() {\n",
       "    var fig = this;\n",
       "\n",
       "    var canvas_div = $('<div/>');\n",
       "\n",
       "    canvas_div.attr('style', 'position: relative; clear: both; outline: 0');\n",
       "\n",
       "    function canvas_keyboard_event(event) {\n",
       "        return fig.key_event(event, event['data']);\n",
       "    }\n",
       "\n",
       "    canvas_div.keydown('key_press', canvas_keyboard_event);\n",
       "    canvas_div.keyup('key_release', canvas_keyboard_event);\n",
       "    this.canvas_div = canvas_div\n",
       "    this._canvas_extra_style(canvas_div)\n",
       "    this.root.append(canvas_div);\n",
       "\n",
       "    var canvas = $('<canvas/>');\n",
       "    canvas.addClass('mpl-canvas');\n",
       "    canvas.attr('style', \"left: 0; top: 0; z-index: 0; outline: 0\")\n",
       "\n",
       "    this.canvas = canvas[0];\n",
       "    this.context = canvas[0].getContext(\"2d\");\n",
       "\n",
       "    var backingStore = this.context.backingStorePixelRatio ||\n",
       "\tthis.context.webkitBackingStorePixelRatio ||\n",
       "\tthis.context.mozBackingStorePixelRatio ||\n",
       "\tthis.context.msBackingStorePixelRatio ||\n",
       "\tthis.context.oBackingStorePixelRatio ||\n",
       "\tthis.context.backingStorePixelRatio || 1;\n",
       "\n",
       "    mpl.ratio = (window.devicePixelRatio || 1) / backingStore;\n",
       "\n",
       "    var rubberband = $('<canvas/>');\n",
       "    rubberband.attr('style', \"position: absolute; left: 0; top: 0; z-index: 1;\")\n",
       "\n",
       "    var pass_mouse_events = true;\n",
       "\n",
       "    canvas_div.resizable({\n",
       "        start: function(event, ui) {\n",
       "            pass_mouse_events = false;\n",
       "        },\n",
       "        resize: function(event, ui) {\n",
       "            fig.request_resize(ui.size.width, ui.size.height);\n",
       "        },\n",
       "        stop: function(event, ui) {\n",
       "            pass_mouse_events = true;\n",
       "            fig.request_resize(ui.size.width, ui.size.height);\n",
       "        },\n",
       "    });\n",
       "\n",
       "    function mouse_event_fn(event) {\n",
       "        if (pass_mouse_events)\n",
       "            return fig.mouse_event(event, event['data']);\n",
       "    }\n",
       "\n",
       "    rubberband.mousedown('button_press', mouse_event_fn);\n",
       "    rubberband.mouseup('button_release', mouse_event_fn);\n",
       "    // Throttle sequential mouse events to 1 every 20ms.\n",
       "    rubberband.mousemove('motion_notify', mouse_event_fn);\n",
       "\n",
       "    rubberband.mouseenter('figure_enter', mouse_event_fn);\n",
       "    rubberband.mouseleave('figure_leave', mouse_event_fn);\n",
       "\n",
       "    canvas_div.on(\"wheel\", function (event) {\n",
       "        event = event.originalEvent;\n",
       "        event['data'] = 'scroll'\n",
       "        if (event.deltaY < 0) {\n",
       "            event.step = 1;\n",
       "        } else {\n",
       "            event.step = -1;\n",
       "        }\n",
       "        mouse_event_fn(event);\n",
       "    });\n",
       "\n",
       "    canvas_div.append(canvas);\n",
       "    canvas_div.append(rubberband);\n",
       "\n",
       "    this.rubberband = rubberband;\n",
       "    this.rubberband_canvas = rubberband[0];\n",
       "    this.rubberband_context = rubberband[0].getContext(\"2d\");\n",
       "    this.rubberband_context.strokeStyle = \"#000000\";\n",
       "\n",
       "    this._resize_canvas = function(width, height) {\n",
       "        // Keep the size of the canvas, canvas container, and rubber band\n",
       "        // canvas in synch.\n",
       "        canvas_div.css('width', width)\n",
       "        canvas_div.css('height', height)\n",
       "\n",
       "        canvas.attr('width', width * mpl.ratio);\n",
       "        canvas.attr('height', height * mpl.ratio);\n",
       "        canvas.attr('style', 'width: ' + width + 'px; height: ' + height + 'px;');\n",
       "\n",
       "        rubberband.attr('width', width);\n",
       "        rubberband.attr('height', height);\n",
       "    }\n",
       "\n",
       "    // Set the figure to an initial 600x600px, this will subsequently be updated\n",
       "    // upon first draw.\n",
       "    this._resize_canvas(600, 600);\n",
       "\n",
       "    // Disable right mouse context menu.\n",
       "    $(this.rubberband_canvas).bind(\"contextmenu\",function(e){\n",
       "        return false;\n",
       "    });\n",
       "\n",
       "    function set_focus () {\n",
       "        canvas.focus();\n",
       "        canvas_div.focus();\n",
       "    }\n",
       "\n",
       "    window.setTimeout(set_focus, 100);\n",
       "}\n",
       "\n",
       "mpl.figure.prototype._init_toolbar = function() {\n",
       "    var fig = this;\n",
       "\n",
       "    var nav_element = $('<div/>');\n",
       "    nav_element.attr('style', 'width: 100%');\n",
       "    this.root.append(nav_element);\n",
       "\n",
       "    // Define a callback function for later on.\n",
       "    function toolbar_event(event) {\n",
       "        return fig.toolbar_button_onclick(event['data']);\n",
       "    }\n",
       "    function toolbar_mouse_event(event) {\n",
       "        return fig.toolbar_button_onmouseover(event['data']);\n",
       "    }\n",
       "\n",
       "    for(var toolbar_ind in mpl.toolbar_items) {\n",
       "        var name = mpl.toolbar_items[toolbar_ind][0];\n",
       "        var tooltip = mpl.toolbar_items[toolbar_ind][1];\n",
       "        var image = mpl.toolbar_items[toolbar_ind][2];\n",
       "        var method_name = mpl.toolbar_items[toolbar_ind][3];\n",
       "\n",
       "        if (!name) {\n",
       "            // put a spacer in here.\n",
       "            continue;\n",
       "        }\n",
       "        var button = $('<button/>');\n",
       "        button.addClass('ui-button ui-widget ui-state-default ui-corner-all ' +\n",
       "                        'ui-button-icon-only');\n",
       "        button.attr('role', 'button');\n",
       "        button.attr('aria-disabled', 'false');\n",
       "        button.click(method_name, toolbar_event);\n",
       "        button.mouseover(tooltip, toolbar_mouse_event);\n",
       "\n",
       "        var icon_img = $('<span/>');\n",
       "        icon_img.addClass('ui-button-icon-primary ui-icon');\n",
       "        icon_img.addClass(image);\n",
       "        icon_img.addClass('ui-corner-all');\n",
       "\n",
       "        var tooltip_span = $('<span/>');\n",
       "        tooltip_span.addClass('ui-button-text');\n",
       "        tooltip_span.html(tooltip);\n",
       "\n",
       "        button.append(icon_img);\n",
       "        button.append(tooltip_span);\n",
       "\n",
       "        nav_element.append(button);\n",
       "    }\n",
       "\n",
       "    var fmt_picker_span = $('<span/>');\n",
       "\n",
       "    var fmt_picker = $('<select/>');\n",
       "    fmt_picker.addClass('mpl-toolbar-option ui-widget ui-widget-content');\n",
       "    fmt_picker_span.append(fmt_picker);\n",
       "    nav_element.append(fmt_picker_span);\n",
       "    this.format_dropdown = fmt_picker[0];\n",
       "\n",
       "    for (var ind in mpl.extensions) {\n",
       "        var fmt = mpl.extensions[ind];\n",
       "        var option = $(\n",
       "            '<option/>', {selected: fmt === mpl.default_extension}).html(fmt);\n",
       "        fmt_picker.append(option);\n",
       "    }\n",
       "\n",
       "    // Add hover states to the ui-buttons\n",
       "    $( \".ui-button\" ).hover(\n",
       "        function() { $(this).addClass(\"ui-state-hover\");},\n",
       "        function() { $(this).removeClass(\"ui-state-hover\");}\n",
       "    );\n",
       "\n",
       "    var status_bar = $('<span class=\"mpl-message\"/>');\n",
       "    nav_element.append(status_bar);\n",
       "    this.message = status_bar[0];\n",
       "}\n",
       "\n",
       "mpl.figure.prototype.request_resize = function(x_pixels, y_pixels) {\n",
       "    // Request matplotlib to resize the figure. Matplotlib will then trigger a resize in the client,\n",
       "    // which will in turn request a refresh of the image.\n",
       "    this.send_message('resize', {'width': x_pixels, 'height': y_pixels});\n",
       "}\n",
       "\n",
       "mpl.figure.prototype.send_message = function(type, properties) {\n",
       "    properties['type'] = type;\n",
       "    properties['figure_id'] = this.id;\n",
       "    this.ws.send(JSON.stringify(properties));\n",
       "}\n",
       "\n",
       "mpl.figure.prototype.send_draw_message = function() {\n",
       "    if (!this.waiting) {\n",
       "        this.waiting = true;\n",
       "        this.ws.send(JSON.stringify({type: \"draw\", figure_id: this.id}));\n",
       "    }\n",
       "}\n",
       "\n",
       "\n",
       "mpl.figure.prototype.handle_save = function(fig, msg) {\n",
       "    var format_dropdown = fig.format_dropdown;\n",
       "    var format = format_dropdown.options[format_dropdown.selectedIndex].value;\n",
       "    fig.ondownload(fig, format);\n",
       "}\n",
       "\n",
       "\n",
       "mpl.figure.prototype.handle_resize = function(fig, msg) {\n",
       "    var size = msg['size'];\n",
       "    if (size[0] != fig.canvas.width || size[1] != fig.canvas.height) {\n",
       "        fig._resize_canvas(size[0], size[1]);\n",
       "        fig.send_message(\"refresh\", {});\n",
       "    };\n",
       "}\n",
       "\n",
       "mpl.figure.prototype.handle_rubberband = function(fig, msg) {\n",
       "    var x0 = msg['x0'] / mpl.ratio;\n",
       "    var y0 = (fig.canvas.height - msg['y0']) / mpl.ratio;\n",
       "    var x1 = msg['x1'] / mpl.ratio;\n",
       "    var y1 = (fig.canvas.height - msg['y1']) / mpl.ratio;\n",
       "    x0 = Math.floor(x0) + 0.5;\n",
       "    y0 = Math.floor(y0) + 0.5;\n",
       "    x1 = Math.floor(x1) + 0.5;\n",
       "    y1 = Math.floor(y1) + 0.5;\n",
       "    var min_x = Math.min(x0, x1);\n",
       "    var min_y = Math.min(y0, y1);\n",
       "    var width = Math.abs(x1 - x0);\n",
       "    var height = Math.abs(y1 - y0);\n",
       "\n",
       "    fig.rubberband_context.clearRect(\n",
       "        0, 0, fig.canvas.width, fig.canvas.height);\n",
       "\n",
       "    fig.rubberband_context.strokeRect(min_x, min_y, width, height);\n",
       "}\n",
       "\n",
       "mpl.figure.prototype.handle_figure_label = function(fig, msg) {\n",
       "    // Updates the figure title.\n",
       "    fig.header.textContent = msg['label'];\n",
       "}\n",
       "\n",
       "mpl.figure.prototype.handle_cursor = function(fig, msg) {\n",
       "    var cursor = msg['cursor'];\n",
       "    switch(cursor)\n",
       "    {\n",
       "    case 0:\n",
       "        cursor = 'pointer';\n",
       "        break;\n",
       "    case 1:\n",
       "        cursor = 'default';\n",
       "        break;\n",
       "    case 2:\n",
       "        cursor = 'crosshair';\n",
       "        break;\n",
       "    case 3:\n",
       "        cursor = 'move';\n",
       "        break;\n",
       "    }\n",
       "    fig.rubberband_canvas.style.cursor = cursor;\n",
       "}\n",
       "\n",
       "mpl.figure.prototype.handle_message = function(fig, msg) {\n",
       "    fig.message.textContent = msg['message'];\n",
       "}\n",
       "\n",
       "mpl.figure.prototype.handle_draw = function(fig, msg) {\n",
       "    // Request the server to send over a new figure.\n",
       "    fig.send_draw_message();\n",
       "}\n",
       "\n",
       "mpl.figure.prototype.handle_image_mode = function(fig, msg) {\n",
       "    fig.image_mode = msg['mode'];\n",
       "}\n",
       "\n",
       "mpl.figure.prototype.updated_canvas_event = function() {\n",
       "    // Called whenever the canvas gets updated.\n",
       "    this.send_message(\"ack\", {});\n",
       "}\n",
       "\n",
       "// A function to construct a web socket function for onmessage handling.\n",
       "// Called in the figure constructor.\n",
       "mpl.figure.prototype._make_on_message_function = function(fig) {\n",
       "    return function socket_on_message(evt) {\n",
       "        if (evt.data instanceof Blob) {\n",
       "            /* FIXME: We get \"Resource interpreted as Image but\n",
       "             * transferred with MIME type text/plain:\" errors on\n",
       "             * Chrome.  But how to set the MIME type?  It doesn't seem\n",
       "             * to be part of the websocket stream */\n",
       "            evt.data.type = \"image/png\";\n",
       "\n",
       "            /* Free the memory for the previous frames */\n",
       "            if (fig.imageObj.src) {\n",
       "                (window.URL || window.webkitURL).revokeObjectURL(\n",
       "                    fig.imageObj.src);\n",
       "            }\n",
       "\n",
       "            fig.imageObj.src = (window.URL || window.webkitURL).createObjectURL(\n",
       "                evt.data);\n",
       "            fig.updated_canvas_event();\n",
       "            fig.waiting = false;\n",
       "            return;\n",
       "        }\n",
       "        else if (typeof evt.data === 'string' && evt.data.slice(0, 21) == \"data:image/png;base64\") {\n",
       "            fig.imageObj.src = evt.data;\n",
       "            fig.updated_canvas_event();\n",
       "            fig.waiting = false;\n",
       "            return;\n",
       "        }\n",
       "\n",
       "        var msg = JSON.parse(evt.data);\n",
       "        var msg_type = msg['type'];\n",
       "\n",
       "        // Call the  \"handle_{type}\" callback, which takes\n",
       "        // the figure and JSON message as its only arguments.\n",
       "        try {\n",
       "            var callback = fig[\"handle_\" + msg_type];\n",
       "        } catch (e) {\n",
       "            console.log(\"No handler for the '\" + msg_type + \"' message type: \", msg);\n",
       "            return;\n",
       "        }\n",
       "\n",
       "        if (callback) {\n",
       "            try {\n",
       "                // console.log(\"Handling '\" + msg_type + \"' message: \", msg);\n",
       "                callback(fig, msg);\n",
       "            } catch (e) {\n",
       "                console.log(\"Exception inside the 'handler_\" + msg_type + \"' callback:\", e, e.stack, msg);\n",
       "            }\n",
       "        }\n",
       "    };\n",
       "}\n",
       "\n",
       "// from http://stackoverflow.com/questions/1114465/getting-mouse-location-in-canvas\n",
       "mpl.findpos = function(e) {\n",
       "    //this section is from http://www.quirksmode.org/js/events_properties.html\n",
       "    var targ;\n",
       "    if (!e)\n",
       "        e = window.event;\n",
       "    if (e.target)\n",
       "        targ = e.target;\n",
       "    else if (e.srcElement)\n",
       "        targ = e.srcElement;\n",
       "    if (targ.nodeType == 3) // defeat Safari bug\n",
       "        targ = targ.parentNode;\n",
       "\n",
       "    // jQuery normalizes the pageX and pageY\n",
       "    // pageX,Y are the mouse positions relative to the document\n",
       "    // offset() returns the position of the element relative to the document\n",
       "    var x = e.pageX - $(targ).offset().left;\n",
       "    var y = e.pageY - $(targ).offset().top;\n",
       "\n",
       "    return {\"x\": x, \"y\": y};\n",
       "};\n",
       "\n",
       "/*\n",
       " * return a copy of an object with only non-object keys\n",
       " * we need this to avoid circular references\n",
       " * http://stackoverflow.com/a/24161582/3208463\n",
       " */\n",
       "function simpleKeys (original) {\n",
       "  return Object.keys(original).reduce(function (obj, key) {\n",
       "    if (typeof original[key] !== 'object')\n",
       "        obj[key] = original[key]\n",
       "    return obj;\n",
       "  }, {});\n",
       "}\n",
       "\n",
       "mpl.figure.prototype.mouse_event = function(event, name) {\n",
       "    var canvas_pos = mpl.findpos(event)\n",
       "\n",
       "    if (name === 'button_press')\n",
       "    {\n",
       "        this.canvas.focus();\n",
       "        this.canvas_div.focus();\n",
       "    }\n",
       "\n",
       "    var x = canvas_pos.x * mpl.ratio;\n",
       "    var y = canvas_pos.y * mpl.ratio;\n",
       "\n",
       "    this.send_message(name, {x: x, y: y, button: event.button,\n",
       "                             step: event.step,\n",
       "                             guiEvent: simpleKeys(event)});\n",
       "\n",
       "    /* This prevents the web browser from automatically changing to\n",
       "     * the text insertion cursor when the button is pressed.  We want\n",
       "     * to control all of the cursor setting manually through the\n",
       "     * 'cursor' event from matplotlib */\n",
       "    event.preventDefault();\n",
       "    return false;\n",
       "}\n",
       "\n",
       "mpl.figure.prototype._key_event_extra = function(event, name) {\n",
       "    // Handle any extra behaviour associated with a key event\n",
       "}\n",
       "\n",
       "mpl.figure.prototype.key_event = function(event, name) {\n",
       "\n",
       "    // Prevent repeat events\n",
       "    if (name == 'key_press')\n",
       "    {\n",
       "        if (event.which === this._key)\n",
       "            return;\n",
       "        else\n",
       "            this._key = event.which;\n",
       "    }\n",
       "    if (name == 'key_release')\n",
       "        this._key = null;\n",
       "\n",
       "    var value = '';\n",
       "    if (event.ctrlKey && event.which != 17)\n",
       "        value += \"ctrl+\";\n",
       "    if (event.altKey && event.which != 18)\n",
       "        value += \"alt+\";\n",
       "    if (event.shiftKey && event.which != 16)\n",
       "        value += \"shift+\";\n",
       "\n",
       "    value += 'k';\n",
       "    value += event.which.toString();\n",
       "\n",
       "    this._key_event_extra(event, name);\n",
       "\n",
       "    this.send_message(name, {key: value,\n",
       "                             guiEvent: simpleKeys(event)});\n",
       "    return false;\n",
       "}\n",
       "\n",
       "mpl.figure.prototype.toolbar_button_onclick = function(name) {\n",
       "    if (name == 'download') {\n",
       "        this.handle_save(this, null);\n",
       "    } else {\n",
       "        this.send_message(\"toolbar_button\", {name: name});\n",
       "    }\n",
       "};\n",
       "\n",
       "mpl.figure.prototype.toolbar_button_onmouseover = function(tooltip) {\n",
       "    this.message.textContent = tooltip;\n",
       "};\n",
       "mpl.toolbar_items = [[\"Home\", \"Reset original view\", \"fa fa-home icon-home\", \"home\"], [\"Back\", \"Back to previous view\", \"fa fa-arrow-left icon-arrow-left\", \"back\"], [\"Forward\", \"Forward to next view\", \"fa fa-arrow-right icon-arrow-right\", \"forward\"], [\"\", \"\", \"\", \"\"], [\"Pan\", \"Pan axes with left mouse, zoom with right\", \"fa fa-arrows icon-move\", \"pan\"], [\"Zoom\", \"Zoom to rectangle\", \"fa fa-square-o icon-check-empty\", \"zoom\"], [\"\", \"\", \"\", \"\"], [\"Download\", \"Download plot\", \"fa fa-floppy-o icon-save\", \"download\"]];\n",
       "\n",
       "mpl.extensions = [\"eps\", \"jpeg\", \"pdf\", \"png\", \"ps\", \"raw\", \"svg\", \"tif\"];\n",
       "\n",
       "mpl.default_extension = \"png\";var comm_websocket_adapter = function(comm) {\n",
       "    // Create a \"websocket\"-like object which calls the given IPython comm\n",
       "    // object with the appropriate methods. Currently this is a non binary\n",
       "    // socket, so there is still some room for performance tuning.\n",
       "    var ws = {};\n",
       "\n",
       "    ws.close = function() {\n",
       "        comm.close()\n",
       "    };\n",
       "    ws.send = function(m) {\n",
       "        //console.log('sending', m);\n",
       "        comm.send(m);\n",
       "    };\n",
       "    // Register the callback with on_msg.\n",
       "    comm.on_msg(function(msg) {\n",
       "        //console.log('receiving', msg['content']['data'], msg);\n",
       "        // Pass the mpl event to the overridden (by mpl) onmessage function.\n",
       "        ws.onmessage(msg['content']['data'])\n",
       "    });\n",
       "    return ws;\n",
       "}\n",
       "\n",
       "mpl.mpl_figure_comm = function(comm, msg) {\n",
       "    // This is the function which gets called when the mpl process\n",
       "    // starts-up an IPython Comm through the \"matplotlib\" channel.\n",
       "\n",
       "    var id = msg.content.data.id;\n",
       "    // Get hold of the div created by the display call when the Comm\n",
       "    // socket was opened in Python.\n",
       "    var element = $(\"#\" + id);\n",
       "    var ws_proxy = comm_websocket_adapter(comm)\n",
       "\n",
       "    function ondownload(figure, format) {\n",
       "        window.open(figure.imageObj.src);\n",
       "    }\n",
       "\n",
       "    var fig = new mpl.figure(id, ws_proxy,\n",
       "                           ondownload,\n",
       "                           element.get(0));\n",
       "\n",
       "    // Call onopen now - mpl needs it, as it is assuming we've passed it a real\n",
       "    // web socket which is closed, not our websocket->open comm proxy.\n",
       "    ws_proxy.onopen();\n",
       "\n",
       "    fig.parent_element = element.get(0);\n",
       "    fig.cell_info = mpl.find_output_cell(\"<div id='\" + id + \"'></div>\");\n",
       "    if (!fig.cell_info) {\n",
       "        console.error(\"Failed to find cell for figure\", id, fig);\n",
       "        return;\n",
       "    }\n",
       "\n",
       "    var output_index = fig.cell_info[2]\n",
       "    var cell = fig.cell_info[0];\n",
       "\n",
       "};\n",
       "\n",
       "mpl.figure.prototype.handle_close = function(fig, msg) {\n",
       "    var width = fig.canvas.width/mpl.ratio\n",
       "    fig.root.unbind('remove')\n",
       "\n",
       "    // Update the output cell to use the data from the current canvas.\n",
       "    fig.push_to_output();\n",
       "    var dataURL = fig.canvas.toDataURL();\n",
       "    // Re-enable the keyboard manager in IPython - without this line, in FF,\n",
       "    // the notebook keyboard shortcuts fail.\n",
       "    IPython.keyboard_manager.enable()\n",
       "    $(fig.parent_element).html('<img src=\"' + dataURL + '\" width=\"' + width + '\">');\n",
       "    fig.close_ws(fig, msg);\n",
       "}\n",
       "\n",
       "mpl.figure.prototype.close_ws = function(fig, msg){\n",
       "    fig.send_message('closing', msg);\n",
       "    // fig.ws.close()\n",
       "}\n",
       "\n",
       "mpl.figure.prototype.push_to_output = function(remove_interactive) {\n",
       "    // Turn the data on the canvas into data in the output cell.\n",
       "    var width = this.canvas.width/mpl.ratio\n",
       "    var dataURL = this.canvas.toDataURL();\n",
       "    this.cell_info[1]['text/html'] = '<img src=\"' + dataURL + '\" width=\"' + width + '\">';\n",
       "}\n",
       "\n",
       "mpl.figure.prototype.updated_canvas_event = function() {\n",
       "    // Tell IPython that the notebook contents must change.\n",
       "    IPython.notebook.set_dirty(true);\n",
       "    this.send_message(\"ack\", {});\n",
       "    var fig = this;\n",
       "    // Wait a second, then push the new image to the DOM so\n",
       "    // that it is saved nicely (might be nice to debounce this).\n",
       "    setTimeout(function () { fig.push_to_output() }, 1000);\n",
       "}\n",
       "\n",
       "mpl.figure.prototype._init_toolbar = function() {\n",
       "    var fig = this;\n",
       "\n",
       "    var nav_element = $('<div/>');\n",
       "    nav_element.attr('style', 'width: 100%');\n",
       "    this.root.append(nav_element);\n",
       "\n",
       "    // Define a callback function for later on.\n",
       "    function toolbar_event(event) {\n",
       "        return fig.toolbar_button_onclick(event['data']);\n",
       "    }\n",
       "    function toolbar_mouse_event(event) {\n",
       "        return fig.toolbar_button_onmouseover(event['data']);\n",
       "    }\n",
       "\n",
       "    for(var toolbar_ind in mpl.toolbar_items){\n",
       "        var name = mpl.toolbar_items[toolbar_ind][0];\n",
       "        var tooltip = mpl.toolbar_items[toolbar_ind][1];\n",
       "        var image = mpl.toolbar_items[toolbar_ind][2];\n",
       "        var method_name = mpl.toolbar_items[toolbar_ind][3];\n",
       "\n",
       "        if (!name) { continue; };\n",
       "\n",
       "        var button = $('<button class=\"btn btn-default\" href=\"#\" title=\"' + name + '\"><i class=\"fa ' + image + ' fa-lg\"></i></button>');\n",
       "        button.click(method_name, toolbar_event);\n",
       "        button.mouseover(tooltip, toolbar_mouse_event);\n",
       "        nav_element.append(button);\n",
       "    }\n",
       "\n",
       "    // Add the status bar.\n",
       "    var status_bar = $('<span class=\"mpl-message\" style=\"text-align:right; float: right;\"/>');\n",
       "    nav_element.append(status_bar);\n",
       "    this.message = status_bar[0];\n",
       "\n",
       "    // Add the close button to the window.\n",
       "    var buttongrp = $('<div class=\"btn-group inline pull-right\"></div>');\n",
       "    var button = $('<button class=\"btn btn-mini btn-primary\" href=\"#\" title=\"Stop Interaction\"><i class=\"fa fa-power-off icon-remove icon-large\"></i></button>');\n",
       "    button.click(function (evt) { fig.handle_close(fig, {}); } );\n",
       "    button.mouseover('Stop Interaction', toolbar_mouse_event);\n",
       "    buttongrp.append(button);\n",
       "    var titlebar = this.root.find($('.ui-dialog-titlebar'));\n",
       "    titlebar.prepend(buttongrp);\n",
       "}\n",
       "\n",
       "mpl.figure.prototype._root_extra_style = function(el){\n",
       "    var fig = this\n",
       "    el.on(\"remove\", function(){\n",
       "\tfig.close_ws(fig, {});\n",
       "    });\n",
       "}\n",
       "\n",
       "mpl.figure.prototype._canvas_extra_style = function(el){\n",
       "    // this is important to make the div 'focusable\n",
       "    el.attr('tabindex', 0)\n",
       "    // reach out to IPython and tell the keyboard manager to turn it's self\n",
       "    // off when our div gets focus\n",
       "\n",
       "    // location in version 3\n",
       "    if (IPython.notebook.keyboard_manager) {\n",
       "        IPython.notebook.keyboard_manager.register_events(el);\n",
       "    }\n",
       "    else {\n",
       "        // location in version 2\n",
       "        IPython.keyboard_manager.register_events(el);\n",
       "    }\n",
       "\n",
       "}\n",
       "\n",
       "mpl.figure.prototype._key_event_extra = function(event, name) {\n",
       "    var manager = IPython.notebook.keyboard_manager;\n",
       "    if (!manager)\n",
       "        manager = IPython.keyboard_manager;\n",
       "\n",
       "    // Check for shift+enter\n",
       "    if (event.shiftKey && event.which == 13) {\n",
       "        this.canvas_div.blur();\n",
       "        event.shiftKey = false;\n",
       "        // Send a \"J\" for go to next cell\n",
       "        event.which = 74;\n",
       "        event.keyCode = 74;\n",
       "        manager.command_mode();\n",
       "        manager.handle_keydown(event);\n",
       "    }\n",
       "}\n",
       "\n",
       "mpl.figure.prototype.handle_save = function(fig, msg) {\n",
       "    fig.ondownload(fig, null);\n",
       "}\n",
       "\n",
       "\n",
       "mpl.find_output_cell = function(html_output) {\n",
       "    // Return the cell and output element which can be found *uniquely* in the notebook.\n",
       "    // Note - this is a bit hacky, but it is done because the \"notebook_saving.Notebook\"\n",
       "    // IPython event is triggered only after the cells have been serialised, which for\n",
       "    // our purposes (turning an active figure into a static one), is too late.\n",
       "    var cells = IPython.notebook.get_cells();\n",
       "    var ncells = cells.length;\n",
       "    for (var i=0; i<ncells; i++) {\n",
       "        var cell = cells[i];\n",
       "        if (cell.cell_type === 'code'){\n",
       "            for (var j=0; j<cell.output_area.outputs.length; j++) {\n",
       "                var data = cell.output_area.outputs[j];\n",
       "                if (data.data) {\n",
       "                    // IPython >= 3 moved mimebundle to data attribute of output\n",
       "                    data = data.data;\n",
       "                }\n",
       "                if (data['text/html'] == html_output) {\n",
       "                    return [cell, data, j];\n",
       "                }\n",
       "            }\n",
       "        }\n",
       "    }\n",
       "}\n",
       "\n",
       "// Register the function which deals with the matplotlib target/channel.\n",
       "// The kernel may be null if the page has been refreshed.\n",
       "if (IPython.notebook.kernel != null) {\n",
       "    IPython.notebook.kernel.comm_manager.register_target('matplotlib', mpl.mpl_figure_comm);\n",
       "}\n"
      ],
      "text/plain": [
       "<IPython.core.display.Javascript object>"
      ]
     },
     "metadata": {},
     "output_type": "display_data"
    },
    {
     "data": {
      "text/html": [
       "<img src=\"data:image/png;base64,iVBORw0KGgoAAAANSUhEUgAAAx8AAAJXCAYAAADy2OkQAAAAAXNSR0IArs4c6QAAAARnQU1BAACxjwv8YQUAAP+6SURBVHhe7N0JvH1VXf//DQ6RoqWCopGGmAO/wiFScwRFNMUcMDCzMnHCqZxzyilzKnEMnDI1S1DEMZVJNK3M0rLE4S+iZA6AZjmXw5/n/t4P7u/mDHtY59xzzvfzejzO99x7vvfuu/faa6/1eX+GtXb70YVUSZIkSZIkSZIkC2b3rfckSZIkSZIkSZKFkuIjSZIkSZIkSZKlkOIjSZIkSZIkSZKlkOIjSZIkSZIkSZKlkOIjSZIkSZIkSZKlkOIjSZIkSZIkSZKlkOIjSZIkSZIkSZKlkOIjSZIkSZIkSZKlkOIjSZIkSZIkSZKlkOIjSZIkSZIkSZKlkOIjSZIkSZIkSZKlkOIjSZIkSZIkSZKlkOIjSZIkSZIkSZKlkOIjSZIkSZIkSZKlkOIjSZIkSZIkSZKlkOIjSZIkSZIkSZKlkOIjSZIkSZIkSZKlkOIjSZIkSZIkSZKlkOIjSZIkSZIkSZKlkOIjSZIkSZIkSZKlkOIjSZIkSZIkSZKlkOIjSZIkSZIkSZKlkOIjSZIkSZIkSZKlkOIjSZIkSZIkSZKlkOIjSZIkSZIkSZKlkOIjSZIkSZIkSZKlkOIjSZIkSZIkSZKlkOIjSZIkSZIkSZKlkOIjSZIkSZIkSZKlkOIjSZIkSZIkSZKlkOIjSZIkSZIkSZKlkOIjSZIkSZIkSZKlkOIjSZIkSZIkSZKlkOIjSZIkSZIkSZKlkOIjSZIkSZIkSZKlkOIjSZIkSZIkSZKlkOIjSZIkSZIkSZKlkOIjSZIkSZIkSZKlkOIjSZIkSZIkSZKlkOIjSZIkSZIkSZKlkOIjSZIkSZIkSZKlkOIjSZIkSZIkSZKlkOIjSZIkSZIkSZKlkOIjSZIkSZIkSZKlkOIjSZIkSZIkSZKlkOIjSZIkSZIkSZKlkOIjSZIkSZIkSZKlkOIjSZIkSZIkSZKlkOIjSZIkSZIkSZKlkOIjSZIkSZIkSZKlkOIjSZIkSZIkSZKlkOIjSZIkSZIkSZKlkOIjSZIkSZIkSZKlkOIjSZIkSZIkSZKlkOIjSZIkSZIkSZKlkOIjSZIkSZIkSZKlkOIjSZIkSZIkSZKlkOIjSZIkSZIkSZKlkOIjSZIkSZIkSZKlkOIjSZIkSZIkSZKlkOIjSZIkSZIkSZKlkOIjSZIkSZIkSZKlkOIjSZIkSZIkSZKlkOIjSZIkSZIkSZKlkOIjSZIkSZIkSZKlkOIjSZIkSZIkSZKlkOIjSZIkSZIkSZKlkOIjSZIkSZIkSZKlkOIjSZIkSZIkSZKlkOIjSZIkSZIkSZKlkOIjSZIkSZIkSZKlkOIjSZIkSZIkSZKlkOIjSZIkSZIkSZKlkOIjSZIkSZIkSZKlkOIjSZIkSZIkSZKlkOIjSZIkSZIkSZKlkOIjSZIkSZIkSZKlkOIjSZIkSZIkSZKlkOIjSZIkSZIkSZKlkOIjSZIkSZIkSZKlkOIjSZIkSZIkSZKlkOIjSZIkSZIkSZKlkOIjSZIkSZIkSZKlkOIjSZIkSZIkSZKlkOIjSZIkSZIkSZKlkOIjSZIkSZIkSZKlkOIjSZIkSZIkSZKlkOIjSZIkSZIkSZKlkOIjSZIkSZIkSZKlkOIjSZIkSZIkSZKlkOIjSZIkSZIkSZKlkOIjSZIkSZIkSZKlkOIjSZIkSZIkSZKlkOIjSZIkSZIkSZKlkOIjSZIkSZIkSZKlkOIjSZIkSZIkSZKlkOIjSZIkSZIkSZKlkOIjSZIkSZIkSZKlkOIjSZIkSZIkSZKlsNuPLmTr6yRJkmSb+OEPf1j94Ac/qF+XuMQl6tduu+1Wv5IkSZJkU0jxkSRJso0YggmO73//+9X//u//Vv/3f/+3k/C45CUvWe2+++71y+feU5AkSZIk60qKjyRJkm0gREe8QID4mrjw//EKIeLVFCIhRuKVJEmSJKtOio8kSZIlYsiVYkVoeG+KC1EPnzWFhP+f9GoKEq8QIs33+L8kSZIkWRVSfCRJkiwBQ+000eHl+0niYxIxbHuP437ve9+r/v3f/7261rWuVV3hCleoj9kWI969UpAkSZIk20XG6ZMkSRYMcUBYqOmIFKtJQqCrKPBzTXFxqUtdqn59+9vfvkiYxN/8zne+U3/+zW9+s/rGN75Rv3ztc+cTYihJkiRJlkGKjyRJkgXRFB2MfMyLPoR4GIrjEiQK1UOURAqWYzsPURLi41vf+tZFoiQEif+LCMzYc0mSJEmSNik+kiRJCsNoZ8Az7j/wgQ9UF1xwwVzRMZY4blsw+DwiJE1BEqto+XnRGKJDhMQ5e4Ug8dl3v/vd+nr8XAqSJEmSZAwpPpIkSQrBMBdZiCVzRQ/+53/+56IVrFYF5xKiJATJpS996YuiJMi0rSRJkmQRpPhIkiQZSVt0hNgIQ34Z0YIQN2P+VgiSTNtKkiRJFkWKjyRJkoEwrgmNpugAAz5eWBfxMYlpgmRa2lakbmXaVpIkSTKJFB9JkiQ9YUBHWhLh0RYdIQQWJQhmsYy/5bpClLTTtnyGWWlbxEkzbSsFSZIkya5Dio8kSZIeMKojxco72qIjWKb4aP/t7SAEyby0LZGQZtqWuphM20qSJNk1SPGRJEnSAYZwRDrCOJ4mOoL43M8umvhbq2awTxMk89K2/uu//qv66le/mmlbSZIkG0aKjyRJkhkwdiPS0RQd4c2fh59ZpsG8Dsa5NglRMi1t6wtf+EL1j//4jzulbUXqFnFCkGTaVpIkyfqR4iNJkmQCbdHB684w9uoiOgI/38U4DoN8KGN+d1UIQULYRTs307Yi5Y3wiAhJpm0lSZKsFyk+kiRJGjBYCY2m6EAYw32NfD+/DCM4zmtTDO64DtcVgqRP2lautpUkSbKapPhIkiS5kDBi//u//7v6z//8z51ERwiPISxLfGDoOa4brjNEybS0LZEPgiOiJJm2lSRJshqk+EiSZJcn0nkYo+edd1710Y9+9CLjdqxB7/eXadzuyoZ03LNmlMR737QtP5NpW0mSJIshxUeSJLss4R2PFCvGJkO1JMsUH8sWOuvAJEEyL20rIiTeM20rSZKkLCk+kiTZ5WBARqSDUUmEhIHqHT4rwbLFRzIf7RSiJNO2kiRJlkuKjyRJdhmmiQ6vMNzD+CxlUDpeKSHThTSEhxOCJNO2kiRJFkeKjyRJNh5GoJSZEB3NYvLwggfxdSnB4HjLMkKX+bd2FbRpW5CEKIn2zrStJEmS7qT4SJJkY2mKDq+m6Ajh0cbnKGUkLlsQpHG7eNxTr6YgmZS2pc9FlIQYOffcc6sLLrgg07aSJNmlSfGRJMlGwvjjbe4qOoL4v+2IfMw6ry6M/f1kHNpf/wpRQpBE2pY+8LGPfaz66le/mmlbSZLs0qT4SJJko2iKDkYcuoiOwM+hlOHXR3yMZZl/K+lGCJLoVxEpmZS2RXxMStvyf5m2lSTJppDiI0mSjYBRFqLDOxHSR3QE8bPbEfkowSYZp33u26oT98U1xaudtuXrECn6X6RtRYQkREmmbSVJss6k+EiSZK1heDHA2qKDYTfEeA3jr5RB53ilhMw8NslY3zSa4mMa/i/6LiHSTNvyf/qRvp5pW0mSrDMpPpIkWUsYVtJQGGJ2JJdLH8bbGCM8freU4eZ4yzICl/m3Fs2mGc5xPX37pp9vChJRkkzbSpJknUnxkSTJWhHGlkiHl6+/+MUv1obXWOEBx0CpaMUmCYJkOEPFxyQcw6tP2lZESYgSgiTStlKQJEmybFJ8JEmyNjCooq6D0QQGGEoZUGEcrqP4WObfSvpRUnxMw7GbUZJm2hb0aSlZESEhSIiRTNtKkmSZpPhIkmTlaYoOhhEYWc1XSbGAkmKmz7HG/N0UH6vLdt2XtiDJtK0kSbabFB9JkqwsDJ0QHd4JjBAbIRLg61Liw7FRyshyvC7HUrPyD//wD9Xf/u3fVh/+8IerT3ziE9UXvvCF6r//+78vivLMo9kmyWqyCvfIOXhNEiTR/z1PmbaVJMkiSPGRJMnKwZgR4WiLDsbSJOPN/5UWH6WO53xnHYtB98///M+14PC3r3nNa1aXvexlayPv//v//r/6/973vvfVwuTjH/94vUv21772tbpdJpGG4GoS92UVxMckQpDEc0aIdEnb+s///M/qy1/+8kVpWxGd9LPZF5MkmUSKjyRJVoa26OBVDYNoltFWUnzE3yllODnepGNJZSEmPvjBD9aG2/Wvf/3ql3/5l6t99923ut71rlfd+MY3rm5961tXBx10UHXd6163usIVrlAbd5/97Gerf/mXf6kjJH/3d39X75p9zjnnVBdccEH9d0q1Q1KW6AOz+vEqEs/ftLStz3zmM9XnP//5i9K2mhESX2faVpIkbVJ8JEmy7TBIGCZN0QFGzzzhAT9TyqiJv1VSzDTPzbUREO9///urL33pS9W1r33t6pa3vGV11ate9WLX6bouf/nLV1e72tWq61znOrUQIUhucpObVAcccEC1995718f7j//4j1qEMPR4oYmTs88+u/rKV75Sf5YG3/YT92BeX14HXINXRERClHjXZ+H5aQqSTNtKkiRI8ZEkybbB6GCkEBxhiKCr6Aj8bCmxEMZTKYPINTiWlyWBRSykU4lw3OpWt6r222+/i/5mFxxPWtY+++xT/fzP/3x1wxvesBYvv/Irv1Ltscce1WUuc5n6ZwgbkRXpWoSO9K1Pf/rT9eeMwIyQLJfoT1379LqgH7mmeOnLzbQtomRW2hYx4pVpW0my65DiI0mSbSEMkTA2wHDx6mug+flSxnT87ZLHI67+/u//vo5O/NRP/VR1i1vcok6tYpy16Xvt8Ds/+ZM/WR/vcpe7XJ3C5W94+foa17hG9RM/8RN1UbtC9n/8x3+sBYk6k09+8pO9C9uT/myy+Jglnl1vU5BE2pbv/Z928fx3SdtKQZIkm0GKjyRJlgrjISIdYVAMFR2B3y0pFsIoGgvjicHv3THVcYhUiFwsiuZ5EyNXutKVqp/7uZ+rfuEXfqGOjoi2OIf999+/Pg97PDQL2z/0oQ9dVNj+X//1X/U9SpJp6G99n1s/P0mQNNO2COF22lZESTJtK0nWmxQfSZIsBQZCeDgVWatHCAOkr/HSpqT4gPMZczxG0VlnnVV94AMfqL8WdbjpTW9aXfGKV9z6icXQpR0ZeIrXf/Znf7auGyGICBL1JOpKfvqnf7o2+NSlfPSjH72osP3f/u3fLipsdw+Xwdh+sUqEgbxJ14RwHoxFu3jFmECMjE3bSpJkNUnxkSTJQgnR0Yx08Lb7vpQhxmAp6f0cejxeWAa6lCb1HWoyfuZnfqY2+Ltc69j28PtDzptxp7DduUZhO0HSLGx376KwnXgkrKKw/bzzzquNwZL3YNOItinV51eFUuJjGtorBEnftC3vmbaVJKtHio8kSRaCSZ4xHqIj6gkYEl4lPZOlj8eo6XM816qQm0GuqNvqVIx3e3YwkpZp8JT6W9q0Wdh+oxvd6KLCdilcsTqX6/73f//3izZI/MhHPlKncY0tbN80IzGuZ9PEh+vSV5bJNEHSJW0rBEmmbSXJ9pHiI0mSopjIQ3TE5A5GgVcYDtspFubh/LoaJOoiGN7/+q//Whd73/zmN6+jBVFM7tyWZdws2rB1fIXtV77yleuakShsd82+vvrVr14bgVKzJhW225BO1Cv6xK5E9IFF36Nl47lbhWtyDl6eXaJEP5yUtsURkmlbSbK9pPhIkqQYMblPEx1BafFR+njOdd7xGC5qIhRoMyxtECg6sOeee279xA4ca5niY1l/q4malihs/8Vf/MWJhe1W0xIV+qd/+qdakGg3dTFR2M7g22Q2UXy4Ji/P36qivZ1fO0ri+3heJqVtfe1rX6v7pc8ybStJypLiI0mS0TRFRxiRJnyvScaWz0t6vx2vpFEw63iukVdfihWDOoxtxvcklikIVsmwZeg1C9vVj0Rhu40VLTnM+xyF7QRJFLZ/7nOfq42+TTL04lpW6R6NZV2vyfl6xmelbX3qU5+6aOPOaWlbkU66Sf00SZZBio8kSQZj0iU2GOThGTR5e80ySPx/yUhF6eM59/bxfB/F5PbFuNa1rlXXQCjSnnWtk461SFbZEGLsRWH7da973YsK2624Zd+TKGwXDVHEzuNM5Elpi8L2TRMl60z06zDY1xnPqZdr0U/1sRAmvofr1T/1QQKEEMm0rSTpT4qPJEl60xQdXiZak7bXLEM8MJmXnJxLiw/HCwPX+5e//OW6mJo3VKE1g1k6URgls2geqwtd2m8afrfP31oFtI9UNe3aLGxXtM/w8zmisN1mjc3CdveG4bfqxl7clzH3d9WIa3IPN40Y05qCpE/aVlOQZNpWkuxMio8kSTpj4pRmEJEOX8fk7L2rYeXnShqLizre17/+9bo2wZKyDGTF1f/v//2/usahK47Vx+AYY5x0bf9Vx3WEgdcubD/wwAMvKmw///zz67qRKGxXT0IgrmJhe9zXTblHiGduk64p0HemiSrXO0mQRNpWjJNEhwhJpG5l2laS7CDFR5Ikc4nJNCIdYdSZaEN49MGkXVIsOIeSx3O9dia3ipVrVUz+S7/0SxcrJu+CtlmmcbHJhgzRt9dee11U2H6zm92sjpIobLessZW4CEYCpF3Ybo+S7Sxsj/uyieLD87dpuDbjVFfc1xAlIUhita1oH8eclrZFnDTTtjb5OU6SFB9JkswkJswSoiPwuyXFguP1naxPOeu86m7Hf6g68Bln1O++d52WhGUM8Fraz4KBO62YvAvLFB/L/FurAuNOYbtoiKiUwvZb3/rWtViMwnaGnZqRKGyXuiWFS2E7kalvL5pNFB+beE2B8SlEwxi0jeO0oyS+j+eV2BAJaaZtidxl2layqaT4SJJkIiE6vvKVr9QRABOkSdRrrLHhGKXFR5/jERoPO+Fj1VlfulBkfP+H9bvvX/jm99Uech50HvZ999139LWGgbEsoyGNkx2RNaIjCttFrpqF7cQkwfH5z3++LmZX1B6F7Vbfks7F6CvZlnGssf1plYhnzvO3aXC09Il89EEf0GZtQZJpW8muQoqPJEl2wkQWkY54l67C0ChlOJUWH86rz/GOe/85W181+VF1+hcvWafx2Jdi1rVOippMY5nG5jL/1jIoeT36XBS2i4gobCdIbnrTm160Y7u+r17Ecr9R2C5aEoXtDMChht4mGoibLD5c2zKvS1/38jf7pG1F6lambSXrRIqPJElqTFYmrRAdMfma/NDHuJ+H427n8c4+/1tbXzXZrfrit35Y7bHHHrURMO1406Im0wRI03DowhiD2++m0dEd7XWZy1zmoh3bb3CDG+xU2G6PEoZgFLarH3nf+953UWH7F7/4xTo9ps+9HXN/V43oa9HHN4lFRj76oL9o33aUxPf+T9/LtK1k3UjxkSS7OCYjE22IDl/HhBfv6GpgdcExt+t4JuOr7ckAvPgkfM29Llu/O960SXpy1GT652FsLmvS3xTjYruuw/2Kwvb99ttvp8J24iQK20UD1QcRIgSJFbeisF3RO4OwyabclybxzEUf3xTcK9cWY9+qEeNypm0l60qKjyTZRYkJiujw8jVMXl5hUIT3L/6/BI5f+niuZ9YkaqLlrZZKc9jP+LmLG0zH3Gq/+t21TxMzk6MmVfXZCyZ/Hu24jAl+04zAVYJxd8UrXvGiwnbpWlHYbn+Sy13ucrWB95nPfKbeg6RZ2K62hNG3acQz4vnbJNbxujz7Xs55XtrWJz7xibpf6pNekbZFkGTaVrIMUnwkyS6GSSUmoVmiI2hOXKVwzDHHa9dcfODzOwy7SROmv8P4Ywx6581++N1vVb34qAOrA656uWqPS+1ev/v+sAOuXP+O85s2+e6/947oSJuImrRZtvhIo2F5EOYK2y1MoJBdYTtB4j0K23mfraolRcu9+eAHP1h97GMfu6iwncG3rvcszjvGiE0hxqZwvKwzIUiaURKRD/3S/7nWSNuKCAlBkmlbySJJ8ZEkuxAx0YR3CyYmr7boCMKwKBmpMBHGBN+XSTUXTz31P6t//erO0QqT5HnnnVcbezx98voVGPNSm4QJjZMfdJPqX590m/o9hAdiUp5EREfaTPs82nUZk/a0e5gsD8+LKEgUtouM6HfqR/zfVa5ylbpvRWH73/3d311U2C5qMrawfZnEM7Jp/S6uK8a+TcNYbgxsChIvX7tmfc/PZNpWsihSfCTJLoDJISId4cEyyXjNMxzC+zfNGB+Cvzv0eNNqK075zx8f87//+7+rD3/4w3X6iwJyOfty933dhZiAJ0GkzIqatBkiPsZM5mkIrB76AOPOs3Sta13rosJ2/TIK2/2fZa2jsF2k7p//+Z8vKmxn+JV8BksQ5+N52STC0RJj36bh+trXpo96uZchSKalbUWUJNK2jj322OqhD31ojj1JZ1J8JMkGYzKISEdTdJh45omOICapmJBL4ByGGlLTai6+8p0dxeRSWuTau2Ze54MOOqi6/OUvv/VT3dA2s85vVtSkTXPinof7xch0r4bgvNMAWE3cl+Yz52tiOArbiRCrbEVhu13c/X8UthPTUdgukveFL3xhYmH7Mom+1nUsWRfiWY1nd9PQZwiMLri3MWeEKPEec4i2IpL1y03rB8niSPGRJBtIW3QQDiYQr74TRB/juSuOOfR402ourvKTVe0xvuCCC6oDDjig9irvvffegyZE51fKiI+/f9qnLpi5N8jXvva1ejNHqydJFZOOIy2nzy7cOfmvP4w7he3XuMY1Lipsl7bVLGwnUO09EoXt+k0UtutHQ8VrX+IZ3rR+tytGPvrgfhsjQ5CIfvR18CS7Nik+kmSDYDCbWJqiAyE6hhgJ8TtxrBKE+Bhi4E+rrTjsZ35Y72jNULMikb8xFNdcSmw5lnqUx7zl0xP3BpG+IN8/PIc84IqV1agQkOeee+5Fu3BHsfI555xTiyw52e02LCWaVoEh/XVVcV+GXg8Dr1nYbqf2KGy3gzuxEoXt//Iv/1LXkDT7yqIK2x0vxpZNIp79MWPIKjNWfLQhhoniJOlKio8k2QAYASZMBoiccd5PmDzHGgd+10RVyhhHTOpDjCEpTi868hera+/9k9WlLzzMvpf9UfX7B12muv6VflSLjq7pBLNwfqUMNe2nHmUSLzjlE7WhKH2G6LjJTW5Sr5CkKFltwA1veMM6DedXfuVX6l2499lnn/o+SLlhWDIwvYiTs88+u047Y1iUNjKT8bgnJY10fZTBd7WrXW2nwnZ9SMREH9IX9JUobCdgo7BdfQnhO6av6IubJjwQjpZNjHy4Z16lxUdGPpI+pPhIkjXHRMJDTnj4mvfTMoljRUcTxyod+YDz7Ytru+K3z60ecq1vVK/61ctXb37gjat73er/1f835HiT0G4lxcdXvr31TYtz//t/6521CQxGpJ9t3zPf29SuvQt3FNH7PXzpS1+6KBrSx8g87ZMXVEe+6iPVQc/5QP3u+6Q8pcXHJBz/spe97E7itdlXRAYZnfrExz/+8TpdKwrbP/3pT/cubPdz8SxvEnH9m3htMY6XcNJAv87IR9KXFB9JsqaYIKVWRYqVScBkWTpKgdLHDK9bH0EjbSQ8uL6+0Y1uVKedSEcJI6GUYHC8UtfrWFe5zNY3La619561kdjXEGBkKkZW02LH7etf//q1kcm4VDMgPadtZIqwqBFQKxDLuZ76ifOrR5x0VvWJL3+zTgfz7vuuAiSFS3eWIT4m0e4rUdiuv0Rhux3dRUubhe3eo7Dd6nGTntUYczaNTY58LOLaUnwkfUnxkSRrhgm/WUzOSA7RwdDwdR+jvgsljXGEEdblmK6Vwcx4tm+HYnLGk0hAHCcMoFLn6Lglj6UeZQc7i6MHH7z/1lc7iOsZSiyL2Vw9iZFJnEhJ8//y/2M512Pfc9bWb+7Myz947tZX0yE0xgiXXY3tEh/TsIxqFLZL6YvCdqKeIN5zzz1ro9KzJzJCkBCxxKw6pChsX6VrKkU8+5t4bYsQH1lwnvQlxUeSrAnTRIdXc5I0qZQynAPHLCloYuKbdZ6u9z/+4z9q0aFolvE8rZh8EeLD3x+L++Tc1aM84IDdqp/f6yerPS45f2+QMbTPm5GpjoSHW+qNFJxYzvUr3508BZx93jfn7i8xTaB0ES5dKNH+q8aqG7MicD/90z9d7zsyqbD9Cle4Ql1XZHd2he2iItL85i2CsG4Y68KZs2mUFh/utTEixUfShxQfSbLiGNxNGCE6YvII0dGeIEsLBfhbJQXNPLHAO6+QmpeVd5axfJ3rXKf23E8i2qDUOTq/MQaU8+Adlk+vFgO/fZsDq3c87BbVvz55/t4gQ+lqLMVyrtOWLf6Zy12iLoJvp+H43s7c6m4+e8HkQpZzpny+q7OuBrlnIQrbPYP2zSFIFLbrQwSL8YajIBZBUHNEnFgEoURh+7Lx/MYYtWlwYKFUzYeoh3ub4iPpQ4qPJFlRmqLDqyk6vKYZmosSHyWPGRN7WyzwoNnnQpoHA9kqT1KGFFzPYtrxhuJ42n+IwUQ4qUuR2iQ1jPcYXYXBGPyNPuf8gJtffeurnXn4odepjUtGZuwvIQ2H6FCY7B7t/ROT+8N+e00pcNnFcV+W0QeWgetQ2K6WxKu5KlsUtnuG1BZNKmwnyBmtpZ7X0hjrYkzZNGIcLxX5MGYjxUfShxQfSbKCmJRFOfqIjmAR4sMxSxoKMbHHMRWQ2ySN15SXlDHDaFdM3oU43hCxMIlo4z7HY0wxrprCiSHGOEOpc5tHn79z6HX3qo494oDqevvsWaeDefe9z+G+t/eXkPrG+32fG+9T/8yP2fF3D77yd2uDkyfc7tzhad3V2STxEXh+49lzbZwEkwrbORDUlihst2GmQnb72hAkEVGbVdi+bFxXKeN81ViU+MiC86QPu104IC5nRkySZC4mPZODl69N6PHqCuMXPNalsEqS82F0jsGmese9/5zq7PO/VXvOH3TLn6tuuPdudb44I8ZSskM2CHRup5xyykVe17GodZBCcuihh85NTyAQLWnL2CY0pKZY6jTumRz49773vXUhr0jILAzHzXqeeSjuVmMhBeqae12mutu1f7L6mR+dXwuEZRB/X6rVNa7wE9WRv/BTdX0Lg6Tp2b7MZS5TR04YKPGalkIXKHRmqCqE3gREwtRLlHwutxsiU//Wt/tAkOof+kn0FauvhTkiqtLsL76e119Kot6JEIqo5SYhbVL06eCDD+41r0yDeLztbW9bv4+dH5JdhxQfSbICeAxNyCE6wPgcMjnItWbAKhIthU3sGBljJmPCw67eP8bQs1t19HV+UP3aja5RC4+hBob2e8973lNvrqZYdizSRbSjSXXaOblP6jrktfvaCkG8u23R4F6cfvrpdYG3TQJn4Tq6io9YbarN/a77o+r3jrj11nfbh2sQxQoDM4zM8LwSak0x4qU4Ptg08THUUF9lLH3tfurbY3EcAiT6SbzHeBj9pSlK9JcSBnSbTRSKwec///n6VcpBccYZZ1R3vetda0EjPTNJutDPvZgkSVFCdPCeN43OocIDi0i7cj5jjynisTM7ru+DX798vZLOGM+mtvIKQ2UsYfhPOp57ZslfKWLSRUQ5TOSWt50kGOI++r2STFtV6j3/sfXFNqMtGIpXvepVL7YDt+WSpefo8wwh4laRsjaNlZMYf6XbbDtxLYswlLcT1zSpzw/BuKVuQOSyXdge/cVY2Sxs94rCds9kqcL2GIc3EeN4yZQyIhFZ85H0IcVHkmwDJshIPVDvYEJgmJjwwpAeyiLEh2OONezPPv+bW1/tzOe+9p2tr8ah7UqJj2mCwUSr2FoaGk+snHZ7JMhln8a0Y41l2mpTXy7TnAvh9E99tfrdN3yqOvw1n6me+P5vVF+7zI7lk0U3RK0IOX2XgWnZVgKEKCFOLO+qmN/zUrotl8E6nvM8PG9jxqp5OLYULBFDXvV2YbsVuPyMAnY1Y1HYHptpDi1sL22grxKlr80iFEjxkfQhxUeSLBEGiMFfpEMKhpC1FB+GcwiPsThOafExxrB3nVJO9v6Jyb9/zb0mL/faF+dYysCL+xDX7H65Bp5WBrHUGZ5ZqR/ziGOVNj7VeEziKrMXBts2pm1KSJCoCSE8pK6FgSliQtR5h1z12OG+uZQrj/e6RElKPN+rhOfDc7dMtGGzsD12928WtkvHIl4nFbbHUtGzxsjtuK5lwelVOvLhOZ3lgEmSNik+kmRJmNCkmTBkTXwmNxOpz0saJYuKfPQ9pp9nHJr4CazfvfEOI/LH7DAWj7nVfvX7WMYIpDZheLgGKUCugRdVehgjp7m7+jzi57oYx+pijnzVR6obP+/v6vdZu4VPWyb39vuWaYPS9NmUUJsp9PdSCxQGpkiTVZSsvuUe6Vc83n//939fb0b50Y9+tC7+X8W9JZxLyed8FXBNq2KkNzfTFI0UHRFVI2b1IREUReSxVLRn2i7/6jvUblmZzfiMGJ83EddWao8PEB9dnDBJ0iTFR5IsmKbo4HWCic3LJNDXqJ8HoVDKCA+ca9djMkh4FxmDDEGGIk/2vQ/+hXpXb7t773Gp3aufvWxVPfmQfYpttsewK33dsS+B9A6GDMOmr1HSVXwQHg8/8d8uFhmYJkAmLZP7pEOuUh14xdWMAIzdlFA78q7utddedX1NeylXq6R5nkRCRKmae0s0U3Bm3QdtTfQd9JwPzBV/fdlE8eF5W+Vr0h/sym4RCnUj6kc8x6KW6pDs5k6kSukjXI1ZImsK331uwQOR203CfFM68kF8bFrfThZLrnaVJAvCo0VsGOzDKGa4NgfpM888sy6wLLlKiAJeS0UedthhW5+Mh/efkLjd7W639clkTNb+trQGaTQmeB7HSVgBihEpdaIEDE0RCdGJMTh33nTvjBNeVIXTY7ASl/OSEjKNux3/oeqsL+0o3mxCVJx4dLcVkiwRLLXkkEMOWTljgDFPULWZdn0Ew9e+9rXaYOwLsc8oar6kZsEz2FwxyUsfPePTX5u4elhz35MxSBNj9KlV2BREDhj3nvN1xvhMbMQqW5wnxu8wj0RV9JNmv1HztY4Gt3oYIl6NVQl+7/d+rxb4+ncKkKQrGflIksKE6BDpYASZ2Bg8DI/24OyziIaUIiIfJf0KccxpmLRNQPKqXSODUbrDNOGBPtGULjjemGvm4SQ6eD4j/YJgGCs80OXc7H0yia6RAUT/KnnvSzEtTWza52OuwcppV7ziFWux107BIXbVDEizIdT0WcL1Bad8Yuu3d2ZaulibeVET17Npxplr0rfXHdfgOY/Cdv1HJE2/0X+i7igK2yPNb2xh+3ZgvimddqXYPIVH0ocUH0lSCBNxU3SIeBiQTWzTBmZGfem0qzAGSh43jOf25Opa5UwrxDb5Sn+xchFv6Dwcs7T4GHI87STtggGqVsBO3oxUjDGAm7j/8461/96Thdp+UwrL1415u6kvmkjBYVTy+uqnBInFA9QEfPFbk++PVdrm7b5NaEwqpm8KEPd/0ww0z9smGp2uy9hMpIqmtuuOIs2PSLECW7OwXT2J6G+XwvbtwPm4tlIQHyJBSdKHFB9JMhJGhQG9KTrAGPaaNTkvQnzExFLSsG8f0zmHwS7VR9qFiZmHsKsxom1KXntf8eG+KVi2chLvZdSm8JaXbsMu4mNa4f20yMAkou3n/a3tgtA48egbVR9+3C3q92UJj2kQJFLr1ARc68qTI1z7XGa3un+I7OnvUaRsOeCvf/3rtcOhSzH9qt6TMXg+PHebhnFpmoEuZSkK26XQ3exmN6vHjYiqWblNvyBA2oXt+oyIW+lodx9mXdsQUnwkQ0jxkSQDYUyYfAkOwiMM6S6iIzAJlDTAERNLacMejklsSDlgkEUhttqNvhOany9pkGnvrmKBF5unUp6ydAveTBGP2GE7rrfU+XURHwrvX3TkLxaJDGyiobtopom8Rxx2vXqzu1/+5V/eqUjZSm7SbhiXnzlv8h427ZS5LmPCOqGfbeI19RVVIiARVYvCdn0mCtt/6qd+qi5i12cUtuszUrcsHf25z32urpUzhyyD0uJDxDv3+Ej6kuIjSQZgcooUq/Bi9REdwbqIjzgmT57dhU02Ih0m2jDY+6KdSgukeeLDBnXO38RPNDIO7LzdruuIe9hVzMzD8boIAgLkjff7peofHv0rgyIDm2YILhNtPS0tTN/i3W3uvk103/jGN65F689efnIO/T6X3a1eAELhvL6+afenr5G+DsQzP/a6jJnGSX1G7Rjx2uwzVm0zBjV3+G9uqLmI/WscSz8sVfPheFHzkSR9SPGRJD0w2Eakw3tMvl5DDAuTQGnxEZNmqeOGxw6u3+QpT35WMXkXTM6ljHu47mkTtbawWpeIjRxtokm6BANgEtGG047Xl67iYyzRB5fxt1aReUXf8yA0iL4uaWH6CNEq1fBht5282tOdr3mp2rMtwsZDzKDk7bZ6nE3wluXtXhT6WTwrm0KMSeFwKUmzzyhsN44SJOqPorBdm4ouTypslyZqPB76fMecUPLa9OtMu0r6kuIjSTpgsG8Wk4foMIiP8Wb6/dLiIyaWscd1rQopeeNMeJDjbBWhEmi/0uKjfbyYyE3gBJTcfpO99IhZRlNpI37SudnXw/K6Bz7jjPrd92MZ0xfXnS5F34tiWtTkAXe88UXGpVoBBczGEbn/InBtbzdhLDpXqt8tEueoT29an4vndNb4UBLtp04kCttvcIMb7LShpjErCtvVjagfed/73nexwvYuY+kixEdGPpIhpPhIkhmE6OCl5HkyeJuUvEpMuqsoPkxisau3VX7CQ4eSRtEkg3wM7kfzeIo+bTTHyJNzbUKX/mAin0cYHqXOz7k1247QeNgJH6v39WAoe/d9CQGCdTBeu9DnGeuzg/oimBY1CeMyitsVJitQbi7j6n4xIkVFLPVMkIiWEMyLSL8pQZzPsoz0ZbEIA30IzQ01JxW2E7LNwnaCRB1bezGEJqWvjYOKWM7IR9KXFB9JMgETq4E6Ih1WKLHTNUMiXiVYpPjoazi7ZuvVixI0d/U20UVdR8lzLS0+4ngMNZ5kwsP3cq1N2H3SxOL+Lkp8HPf+c7a+2pk/e9/Z9e7cDIioFdD/uhLnvWqG6jIYu4P6onFP4v6c/qmvVr/zV5+o7vjqT1ePP/O/qwv22LcWxwxMhqY6AT/b3ldCsbL0QUtCK3rfzvscf3vTxEc886t4Xc3CdstFR2G7ujVOIhEIUWp9JBZD0Hf0oShsR6maDylXyMhH0pcUH0nSwIQaosMrjO3wlpc0lkEotL1TYwnx0UcoEFeMdUZ7rP6kLoL3DTERl7z+0uIDDDJGmkmWV5kxZ1nMvpQ24tviY9qGgj7nsdT3olbA9fCGMyDmCZI4712Ra07ZD2XV9kmZlh5GkNg1e++9964Ff3NfiUi/8WwTHgSq55VxWaoeoC/x7G5an4txM8bRVcd5iuxaKjwK2wmSKGw3/tlA1dihn8A430z1GxpZk+6FFB9JX1J8JMkWJlNGXVN0MJC9wlO0CKHgb5U0GEIodBEfjHXeVHnEzsHENWn1pz7H7Eop8eG8pawwytw76++L2JiMhxpGfq8tGMbQPtbkDQV/VF39py9d1wfI+3YNPJtEIIO0LUjCozlJkJTsT8ukWTD+mFMvqP75K937W98d1JeNe6If9E0Pa6bfECHECFFCnNiTpl0PQJDYk0T0cpE7b8cxY2zYFDbhupx7FLZb6teYbjyxUhuMJzFuSvVrR9a6CtkQH8RPkvQhxUeyy9MUHSEuDN5eYbyG+ChpfCO8ayWNA+fs3Gedq2tVTG7C4WmX6iEHfVqUYBHnOe8cuyBiY+I0gUZBr8m2RFqB8yt1vW3xMXlDwd2q3zv0uhedu9+RKrbPPvvstDJOCBIGKY9mU5C4p1Crs92bmfWlHRH47Ne/X/3Zx/6vc8H4tKLvWStWLZMQHyXSw6RBTtrojmglUkRQCNJJO29bgEGR8Ni+Hf3Zc7JJxJi0LpGPruh7cU3TCtv9vxqjSYXtk/qN7zGm5kN7P/vZz66uda1r1WO4d9/PmxuMe65p2qtd23ef+9xn4s95GS+T5bLbhQPIerrIkmQkur4BjoEWA2pTcDSxKR0jl4Fe0svDW8/bdJvb3GbwfhmTOP3002sjRPpGE9d57rnn1oWsvvb/DJh5E622eu5fnVL97VcvU5373/9Xe+4Z0PalGMonP/nJeqJjUPdFxIZnl4dOyF96gWP5XspBCU477bR6ktaOYzGRE0YmeQWazv1d//al6vQvXbL68ndEQva8qD31R2K4q/Hj3mgPhgAPuFdTOPm7jAPt5N2rVM53SUQ8CI82RMSJR+9Y8GCd+eAHP1h7ov/gvV9f2nXqSyIf+ka8YuU64xzvuFf0DWK33e+IP1EZoklqm0gSQafPSf1ST6UOYVMwjogoEnNdFqdYJ0Q6CIlDDjlk4jwXGH/0lWbfcb/h9/7sz/6sbhsrdJ188sn1AgkcIkN48IMfXB133HHVkUceWd3udrerxfIrXvGK+vOXvvSlWz91cfRjf7uNYvsnPOEJ1Z3vfOfqbW9729anO8THa17zmvrVFsx3v/vd60UhkuWR4iPZ5QjR4cVA830MRtMGZAMdz7I82lJLzcIqWjxLDGZGYinOPPPMumiVxxyukdBh9JpEpCT5v6jpmEesztTmxUcdOFiAyD82GR588MFbn8yHMSVPmdfL5CfKoTDefXM8HiwTawkIOMKMABmLCZW4ZOA5f/3NuU9KDesrPpqIdhCzoiOQFhHGg1dTkDTFyCoIEqlWIh5tRDGsILXuMNA8k2d/73J1hKfNsqI0xr1JgsQYoS8SIASJPvGR835YPendn9/6zR/jXG+67x51v5bSM8khM020rDpS1USMjMlDnsFVhuPJSoZDHDTNfvPUpz61Hmccy3il35hPCFER2ljRTQRuFiLW0gcJjze84Q1bn1bVox71qOrYY4+t61JE9vrwR3/0R9WTn/zk6qSTTqpFRRDiw9i6is6XXY1Mu0p2GUJ0SDkyAPkaEe1oG4FNYhKK3ynFIo8bx5RWxfMuNYd3R5hdMXZX4YFpqzNN+7wLTe/8PNw7wkL6COEhGmFyi1WB4Hh+rhSljucY+puIhHxqgkO0R5rDrD43hObxGJHNnG8GB1ESRagiMIQQI0K78mIrZGagbEfK1roUjA9FP3B/tjs9zNgQBcr6AoeK/mjXdn2FKCVG9NXj//ZzF/7GxZ+Bl33g8xc9G56TNu0Uuiiq75pCt53EmDTputYdc8JQQdXsN6985SvruqJnPetZtSH/8pe/vDrssMPqMfrpT396/XVE2GZBcOhHD3/4w7c+2YHvfd4UJF157WtfW49vhx9++NYnO+O4XfdFSRZHio9k4zHYGHSJDq8wyk0uXl0MwPCUlDbIFiU+XJd6AIKDUen4jAsvHs2+TFud6bMXzJ9gpuEcu0wAVq6K1Z5MKkQHL1vbe9X1eF3RL8Yej5dQZMu7e034MfgWlc4RfTkMwyb+b5IgiVVxRPS2U5CsesH4WJr3hNA4ccKeINuFvkl0EPPNFZPO/y4T4eLj49nnf7PePwdSHdsLHvQtql8lPPNd54V1wzxQ0utvlSwOrfve977Vi1/84jq6x7AXhZ5WP9jE2KitzUtNLKRwlatcpRY4fTBP+Nu/8Ru/MTWN2XkRUaJ7RxxxRJ2CnCyfFB/JRmMiMSkOFR3BokRCHLekURfXK32AwRhLzipQHsrk1Zl4q7vvndFmnliQHsYI/vCHP1z/rFWghOinpafNO15fHG+SEd8F7a9o02RogmbYxYS3SngGnNMqCJJ2RGC/n75k9eADL7XthnlJ9Kl1wblec8pzf40r7FH3aUidbC4JLZVmmrNiVfZcmYUxPsblTcOzWvLaOFU4s5pzqX6jaLwLitjNS5OEgnRafasP0qrwO7/zO/V7Ewt3PPKRj6yOP/746k1velP1kIc8pHrnO99ZzytWDEyWS4qPZCNpio4wjgyKXkM8Wn7HoF3a81tS1LhmgygDUdSDUSlKMKmuoC+TV2ea/nkX3Avn3Dbw3TfF6IwZhf6KtE0QdoeehWucdLyhxPH64OcZ5c7dxMmgt6LMmHoeqSqx/Kz3WakrcZ/HtIFjtAWJtJymICGoJgmSaTsrd6UZEXjeoVeqfukqm2MEluqXy2Ra1OkhB+9fR0mgXzSXhPb8XmUP13rx6/3Zn750PTatclt4ho1Nm0hpYUV8jHGocDBNS/9VL2Kc6Yp+deKJJ9abL7YjKbCC1p/+6Z9W97rXveqIx/Oe97zq7W9/e113+ZSnPGXrp5JlkeIj2ShMaiE6vMdEMlR0NDFol458RAh8zHFds2JyIW+FksLVQssM3lIhdkXlD7nBpatr/vQlqz0utXt1wFUvN6rYHDHBhyHSNNwZsQq9iacoKJ9H+3hjcbw+x5IeZkU0EQ+rwDDY1aZE3+srZNA3d76E+JiEa2gKEpP7JEEihSF2Vi4lSDYF92TsGLRs2tGoZn1K9GfjYntJ6Efc/noX/s/Fr/WWV/xWveqXV3OTO9G10n12KJsc+Sh9bQrQ25GPPkjZIhomoU/0cdq89a1vrceZSVGPaVhdS3895ZRTtj5JlkWKj2QjMHExbnjKpQAodmMwGWhLTfgM+VWLfLheK87wQBuoo5hcTUFpoXTjq166es5tr1j965NuU538oJuMEh4IscCI4X2SssFwF4YnOoTu+0yUcbxSRkxXwdBMD3O+lmO2QkvTo+dYQ85rlXPnZwkSdQOWX50kSNzjSYKkHeH5h//8brFndxXYLvHRJ3I2iWY0ynukwUV/jueuye2ut/fFRMvz73696pg773g2OBQg7Uaalmef88RzpL9Y7tZzVepZ7oNnftI1bQKet5LiQ+Qj0u+GoB8Y+zkL2+gbEV3rgpQr13bve99765NuqC9xDslySfGRrDUmJ0Z2RDq8G7S8l57oDWylDXrnaKLre1xGHc8hT7vrlhqjSDSKyRdxro45xHs/jZjgGRwKDwkmhrs0q3lLNE4ijlfqHB1vlvFjIlfcyGhiSDtv6SeTlh0dKj76bkgXfX47jDZoM4KEUWE35UmChFHZFCRWYnv1qR+9WITnT/7+v3vtcL7quCfLFh99I2d9iOds2jW1RQtB4rmWmmV/IfVbzU3upIcaYxSwW1yCUBUF1U88Z1133R6LcdN5bCKurWTBedR8DMW8pR8Z/5tIHxbN9/9d0Dfe85731KtscYb0wapusgWS5ZLiI1lLTEAGUiLDKwztKFwrbXhjEZEP9BEK/r5NokzK0nzktyomN6E3KS0UMEQkTYNgimJCoXu77TJQJxnuXSktPhhVk46l7xG4RId17u0FMi89zOddjabmMfouPzvt728n0wQJsUyQqOU56RM23bt4+7zt7P+to3uLeJ6XSdz7Zd+fRUbO4tmI524oIoT/cqEWetwZ/1Xd913/U73wkz9Z/e+VD6jFydWvfvXaKSE1K3bdJlitgmTPIotqGD9KjnWONfaaVhXPUUlhNTbycdRRR9XPxIte9KKtT3bge5/7f5gv1AG635N4/etfX1+bvTwmQbROSu864YQT6sjbne50p61PkmWR4iNZK0ziJoeIcoRRYrLwiiVMt1sk9MFx552va1YPYeLlFVJLwICzV8SkiXIR51pC0Pj9KIqPUDdjVL74WMMsfn/sOQbatS0YGMIMIMuMEko8t1KO5nkTnVtX8dFk6PKzQ/7WMtG2PKYhSL78Hffu4vf/y9/+UW1ovu9976vbPVK21k2QbJf46Bs560M8Z2OvaVJ05jFv/XT10fN/VAt7aVocLAQ+J4XPCBbOFzVu0k6NJ7znHDMcA4zioeOAflXSQF8lSl6bPj028kFgPuABD6hFwD3vec/qVa96Vf3985///PpdRAwcVWrLHv/4x9fft5FyxYlxl7vcZeuTnRE5E22zwtULXvCCeof23/qt36qLz6VdPe1pT9v6yWRZpPhI1gaTCSOd6AhjPURHTIAxsC5CfGxH5MMAL/9ZgSbDS4SD6Ji0z0WTWcccinYeY9jzXrqOKIpnSJTE+aGU+GgKBl4zqSDS3PQBXnu7+CqY7MJQ8TGr4HcS8RwM+VvbybQIz1Uvu/tOEZLY/K4tSGxutgkRkmBsnUawyI0b9TH9LfrcULpGZziWLGzAWFTXJkXTWOg5ZFiqebP0Mw+5+iv9w7vvGa/2n+jSP4wfMZZsGq5/ldKu8JKXvKR65jOfWYvIY445pjrttNPq733eBWm7ohfEy7SVszi3Dj744OrUU0+tnvSkJ1WPeMQj6rHcZoZEa6ZdLZ/dLhxA1muWSnY5dFEGn4EzDMum4GhjgFGsLDpQEgOcEL9JrySKLYWuTahNTJYmTht4mXQZYF1D3NKB5NUfeuihW5+Mx8pFDDxeyD5oM9ch0tG8Dtfn2rXnmHSrgOHBGBWNGLP8YyDXXH+zcpi21N/0q2nRplkwkN1H5zYP/ZzAHuKhVAtkUiXstPW6EN7vNg+5/qWrBx1+063vduCeECEMH33Iuz4WxjBByCDSx7zrC6W8vUNxTxnDlqNlCM1iWlvMEp3TKHmsNiKxxhn7woyBwBLxaENsqxfpi7lCf9Avom9ErYj+YWUu/SJe7f7BGNWH3KtNwvW/973vrSONfQq5p+F40uIe+9jHVk94whO2Pk2SbmTkI1lpDHAMMWlW4ZEyUczyti0qQuG4XTxnfWlHKSwxKK2HYc7jbilA3t8+ubXaqfS5OmaIvy64b4xu0Q5FxjyUzesIA77PMWdR+njOn2CQyiE9SNoHr2v8nT74HX05mcykCM+jb3r5ift8aEtGo3tCyOpTDGDvUuAIWcamVAsRkihqF3HbrghJ3PtZ41ZQsk6jb+SsDzEej6V0dMY4LUrGSUBAqCUTIZHeqX/oOwRJ9I92Sp+5pst9WjdiXCwlxPVp4q7PvJQkQYqPZKWJScC7ia7LpLAo8dEWCaUIUeOcTYhRD2HitBKMPSP6TobO1eRQyhCH9u9y/f7m5z73ufo65F+b8Hn8hbab1xGGS6lzLHU8hiujxApWjukeuBfNXXhPOeu86m7Hf6g68Bln1O++n4XrXob4iPZdR6HDID6xsTrSTX6m+4pn7hOjkkd3miBpGpz6pjSPZQmSPuKjdJ1Gu11LCA+4pr7j0iSG1jX1wXjISNY/1A40+0ek9MUqbKKHCpubO/lzQhAl60z071LiwzhprE3xkQwhxUey8hgsGRddJ7pFRigWIWpcm4GcQRSrJ/HUCWmHQd2XmGBKig/HnHU8xoj6FKtASbOy5KHriI322sRnpc4x+sfQ47m3ztv58+hZFlZKBqO2CaHxsBM+Vp31pW/U6SLefT9LgDi3FB/LRf+aJEjCA85omiVIutYIdKGP+FhknUZJPGdDx6cmi4zOzCL6R3sVNrUlUi2lLYpC2wjR3lFWGBSNln7LuaLgXXR0XYi5q5T4MEYixUcyhBQfycaxqMhHaVHDIFGEbRIjPmJzPYaRvzWGmGBKnq9jTjueiUiutDqJ2OzQMsDNaEGbMFxKneNQMeM+MDYZn9Iu1HW4D3LDJxnxx73/nK2vdmba51iW+Ehmo4+EB3yaINGXCRL9uZQg6SM+lhEJKIFrKiE+sKjoTF/iekTK9Af7TOgf9u8R/bTghwiIFfvss8RRIa1UmizHkYj1tB27t5vot2PnliDER9s5kyRdSPGRbByLEh/h+S/hqWfEMG54XB2XwW5ZQe8lKG3YwzHb1x6rQJmApSuoT2HIdZmQ4hxLtCfieH2MfEXqCrRdA28n0bH//vvX92SaYDj7/G9tfbUzn71g8ufoKz66GKmTiN/r87d2dfSbpiBRI9AUJPryNEESqyh17cNd7ut2RQL64pqH9tNVxpgZzhu4Ro4ICwVYZdAYJ0Jy05vetHawSCf1OxwXRIixkCghTkRNOJhEULb7mYy5oHltY8jIRzKGFB/JytN3gjO4LirygTEGvUlI2F74nrGuCLvvjqxdiAlmEeLDJOrdxMoQsxMto01dR5/6lEWJjy7Hcx8YBwpNwbNpzfnmzuquY9Kx9t/7sltf7cw195r8OaYdaxraeIixEm2/SeKj1LKzfWgKEjUCk4qWGV82uiNIFC3PEiR9+/iqRAJmoY/FM7cpxNg277o8Z1bEIjxESo3jHBdW7rNqoTHdsfSFGO8JEulb6kqkpxr/l/mcLkp8lFipMNn1SPGRbByLjHxgyLH9Ds+pvGETD4MmirCdb0mRgDjXvkbPLOKYijFdh+thnJl01an0NUT8fF+jfBbx92cdTzub/GOH+NgvQH1HG8ebZBwcc6vJSzhP+xzTjpXM5p/P+8HFNqDz/TIESBv9f5og4RGfJkjUERHo2KQ+4DkLsbspxNjRdyyDthC55oARPbXctTHe0uQ2StRv/IzxM/YMMg7Zp8LeNfqIovdF9ZGYt0qnXWXkIxlCio9k5ek7wS1KfAyJfJhI5IqbZEQKFJEzWJpLtjJqFiU+Sh5XtABSCxRiT1oFqi/aYBniw3348pe/XHsfTfSW4SSa9t1336n9y+eTjnXYAVeuXnzUgdUBV71ctceldq/ffe/zaTjWMgzPuJZNMXLfcfbkFYaGLDu7CEKQ6EfTBIkoiGcfvODtje9K9f9l47yHGOmrTNyLGD/H4nkUTVUrYiNE0VWCxNgpzdY4ZF4hPKysZYUt0WS1c5w7xiz1gCWe55gLSl2bvosUH8kQUnwkG8ciIgkI8dFV2Cg+FG7n5eJZZ+xaVcVqKk1CfJQ0GEuKj0gV49GFSVMhZomN/EqKj2mGNw8dg0/Kg9xtE780sfZ9aOPcpt0TQuPkB92k+tcn3aZ+nyU8kOKjP67hi9+afB1Dl51dBpMEicJ2+Mxzw3BrRkiagkR/bT4T25F21oVNFh+Lvi47cVtgxEqAoiLGJKJEtIRjikPH/GHvEamh+oj6QH3G8uVWaes7bpoLXFeMEWPRT51nM1U1SbqS4iPZOCLyUdoA62rQG5QZFV5+R2GiSUWO8CRC1JQywhGT5xjx4XcjRUmqmEkR1sQvhfMsdd0mVa84XnOTQwKKYOKR7iqamscai2N16Y9+Rltrd+kZpbye68rVLjvZUFq1ZWfnEQaflJxmhESfFCHRJ+01wrgkREKQvOb0f1mZtLM2+mVc16YQ42WM9cuEIW95XymskQ7KYaWeRNSEkW+/ESJVOp8IiT5iE9QuUTTXVvK6CKAuC4skySRSfCQrT98JjjFvYixpzGNe5KO58pPcXYJDIfM8Y72rqOlDHHNIG2i7qOuIFCWGUhTGlzzPkuIDjuf8LIXp/E3Kok28ilIf+uBYpQz/EB+zjmcyJ1gVwhMgjAxeT0YGr2ekYczKC49npdR5bzeH7z85OrVqy87OI+5HcyzzjCrWjQiJsaIpSETpTvy4vPqL38uXnvmZi0VIlo2/HU6OTSHac1WuS3RW1Fy6rpW1OLL0EStuqSvRR2yGSoA064wmbZ5p3oo5rATEDvGxaQI0WQ4pPpKNY55IGMo0keB7Rnp75SdLM3YZmOO4Jc83Js++QsFExuBlAEsdcR2RohTHXIRYKIn19k2+vMwm6mmbHM7DvSt1rbP6gftOaMRyxTydilQjDYMnlFfUkp0iOfLCm4WqzZVz4u9sivg46CqXXItlZ7sybzxoChL1VF/5jp+/+O98/r++V3u9m95v6TjLFCTLEh/LTDuLsSjG5FXE/MahxSmkjxCtloYO0RoLH3BWxOaZxnRpXK7PGF9irvE3MvKRDCXFR7JxLMKYh4mW8RDHZeDxrBvcpclEhKDvyk/TRM0YnKfjdj2mtCSF5Axb1ydHnXeNZy2Iayp5no5ZwlAWDWCMOzfHlLIgl1pu9VBKnRui7ZrHi/5DSJx77rn1kp1yvyNCQ/BJw5Du5lpCkCha1dfcX2I3Vs6JvQXAMFjVzc76sg7Lzs5jaD+attv5tfbeszY2m95vAjYECS/4ogWJa5onpsZCaCwz7SzaKZ7XdcFY0IyiSetr7lXj/6Sheilm10eM9YrcjT32O+o7X+pXHFSL7gPJZnKJp17I1tdJspIY3PoYvHagFXK2tGHJYjjn8bnPfa72OpmkGLs2lmIsMtSlJYWQ6IPzdZzS5+tcTToM2CannHVe9eiT/r3643d9+sKvv1J97xtfrb52zlm1ABHlkG88qT7FPZDO5Dqn1a/0hfHNyLbk8BBMmLz/hJN2ZDSYgLXlWKQViCoQBWORUkUoRBTGsRXAm/ij/4jUhODR1vpbe2LXv7S9VAxtJh3jale7Wv09ocW4EAVhGOhT2pdhSpzps7ymQ/rodsBT6566vnXHsyWVUd/sszrcFS5zqeo9nzh/67sf88Q7/Hx1wL5XrJ9v/cdx9QVFzMSIPqSP+ZsEiH6mPfULfQSeuzGGo75lvPI3F8UfvPWT1QXf3HG+Tc79r+9Uv36j8vsjqbHynBL8JVOUtgP31phAILhH+oPvOTJ8ZqyJ69VPjO3SOqVqGUPmjRevf/3r675873vfe+uTJOlORj6StaDPJLmotCs4D0YdD6PBW8h7VjF5F2JwLxlRgOO2j0l4POyEj1VnfekbtSfxrC9/s/rj951f/efue9fFjTzq09ra9aLkeTrmEK8s44pRJWpAZIk2OX8G1VAvc5u43hLHizZl+PE2WgUtIkz6z5id7WPlnFjKE0RObHbmfumzoiKiI/621csYGwpYF/GcJDsTfajPOAZRnq5pZ553YqSdjhP1AcaoWRGSvisouaZ4RhbFZ6esarao1c7i+hd9XduB59z4KFWKoFcLJzIiWi9SImJiHBExNaZyjhhfY7zwGace0Qn9hYgZg7Hp2c9+du3gMY55932XOeY+97lP/TxNejnPNiLEd7zjHetz9vK1z5LtIcVHsnGE+ChpJBuQGY08sQxIRp7iv0mb0/VlmeLjuPefs/XVzrztM/9bT0yziPMcIham4Zh9j8czJ4dZtEMUSiqS1AL3faiYmYRJDKXEDEzkvIwiTNKornSlK239Tzmct3sZm53F7sv6K6OUp1w/DgOjnYLBQB3SF5eZm79uDBUfGJN25vlq1wc0C5aJXik3zRWUugoSnw+5nj5MSztb1Gpn0e83UXy4thjDm7hWq61xVKgZkc6nj8R4YRwhXIwNr33ta2uRwtEhkibq/I53vKPuK0PGyYc97GHV4x//+PpvvvSlL61uc5vb1N8//OEP3/qJ+bzmNa+pXve61+30akf71b+YJ4x3T37yk6tnPOMZ9cpyxkX/lyyf3S7sMOVm1iRZEAz+rl3VIHvqqafW+1GMTdlwLEaaTcJMtAZv3iGh61IY2E877bRa0MSKUiVg6PKEWiUFQum//NwPVv83wZawWZ49K2bB2DjllFNqj7o0jxLIP3ZfTT7zIABNGDxvJkuTYNt4b1/zGIgE0YJDDz10VAoG445Q0v4WIXDevHzT0M76u/42xLg788wza8OSwTkL7S4dSzqGdBzvTWNT+g4vKS+hd20+yXhB5Oa3GVMcbtEAaSG8s+uOCBPDRy3SmCjXojAGuffRD7zrGwjjNPqBlygKwSr1T19bFIvoV7MwthBehxxyyMKF1bLhsOEs46gZgvFCROGMM86ox23vUrakFEJfIGp/67d+q/qN3/iN+rNZiKaY84488sjqDW94w9anVfWoRz2qOvbYY+uxd9Y8K/JBeHCkzBuf73GPe1Rvectb6mfQ/AWCiRPo9re/ffXGN76x/ixZHhn5SNaCPhOBydLPj0knMdBGWg/vDmObN4hBNs0TOJQw6IZ4m2fhuI6pHRjtrmWfKQ7Da+7148LyaUS7lrx+x5x3PP9vBSteWTUYvHHTogYlzy/63NDjEUtEh0k/jmWymyU8gvj5IfjdLkLdz+nPBC+DJFIwpII5TyKO8d9cNYd3nJeckcZAjbaZtuP4quxEvt3E/RhzXxcJ4y0iJO0lXXm5CSYCiiCMCIn+7TMivW/KVlcIjK5pZyVwDTHObRrmgWnOgy5oE/3jd37nd6oXvOAFtTPlMY95TJ2+efLJJ1cPeMAD6p8REekCweG5aEc5fO/zpiCZhZ8lmKf1P33z7W9/ex1VCeEBjskjjjii/j8/kyyXFB/JxmEANMgOFR8mVKsHMRwZYMK1vNWK68YcdxrO14S3iOMaVJt1EY+6w+SIwDG32m/rq9k4z5IiaZ74IDbUKRBPisiFyRXW+r1J+LyL4d2F+Bt9j+d6QixZHpcxRzDF/3Wh1DX0xTVHTjgBQogwQgmTWMZT2hvvcLNu4OzzJk/eY3Pz9eFNIO7n0OvZjpS2ECTtPSZi0zvwejcFSezCHYKkRD8mNIamnfXF2DbGQF9lXNuYCG4bzgfRMP3jrne9a/X0pz+9euc731mnUnXBuGG8aUc2FfuLouhLXeCEMk+LzhETVp5sIsIikizlsI3PiOis/Vg+KT6SjcQg29eYN1kKJ5tIGQmK8Ey0vMOB45aOUCCiFKUgoHiDvITaGe2827/6i1etXnzUgdUBV71cnWrl3feHHXDlrd+cjfPsakB3weQz6XjuhcnJ/bCijkgHA37eSkHTjjeEMBT7GFBf/epX6/06GOchlngLhwqZITjvkn/HPWdkiP4R4e1CZl7xfepH5OJ/c9+futTMTRF3NYaIj0g9WoVdzo1/xpNwADAUm4IkduEOQWLTu0UIkkVh7IhnddMoKaykOol8GBeGIrNACvOkMZ3zIwrbpyGF9ZGPfGR1/PHHV29605uqhzzkIbX4IZJFYwJ/B5NSsOOzeX8rKU+Kj2Qt6Dtp9xEfvCI2b2M0MtbVihjA2kVrMHiXjlCglPiI/S5CQPFUt1dTIjROftBN6hoP712FB0oa93C85nWb1GLDPSk/jBred9fRhZLnF0ZIl+OZiLW7aIBi77ZYGiJkhlJafExCf22m6TziMJGdiz+jt7rSt2duijiLTRIsY65lVVPaXJO+1hQkkyIk8wSJ53xV7nVJA32VMIZp41LXRkRijPgwV01LQdVnjBGzsCrWn/7pn1b3ute96ojH8573vDqFStrXU57ylK2f2vF3MOlv+TuY97eS8qT4SDaSLuLDRKOQXLoA74i0Ep5q3pBpYmdVIx+ulbedkWe1IgIq9o0oSVssjCXEgolRMaPztyysJReluwm/T7sXkygpPuLvzjqethDmb7a7yEB7Uo5jrYqRVZppufkPveuOTREZpvp4e1NEBaCeQelp0h82lbjvffpysOzlZrviuZg2vswTJAxBUUKCRE1UO2VruwTJrGtaZ2LMdl9KwEmHMeLDogXTnnnpfEMWZrjd7W5XR2QtjBLEMviT/lYUy6/iIhCbToqPZC3oO2nPEgkmtSgmV0xLbJgYTYrzPEP+f5UiH66FsW7yFmqWBhMCahFCyXmWMu5hoteejFFGqfxd5+865t2LSegnpYyWWYLBZ1GPwpvPyJolXGcdqzQl26APk3LzRYHcU/VGhJkd3L18LS3NuUp5kJct2qU91VqpmWEslOxr20ncj0l9Yx7LXm62C3Ff+hjqTUGi8NfKXyFI7EszTZAYo21+twxBYrzcRPERc9aQMXUSIT7UWgzFWClKIfOgjfl56EaxUgGbRe/+DiL9qkl8VmJT2qQfKT6SjcREN0kkWPZUGggDh9eGIdSlliBYhEGPIeLDRG1pWfszyJ01kYsYOEeYREufa8lj8jox4GPyETHgJY9Q+BCcXymDNYyQtsHDCFKL4sWrpg8pzo52n8SuID66wshsbooowiVNrb0pomdVUWtschabIkrNWzfGiI8H3PzqW1/tzLTPl8GY62kySZAQ8QQJwaqvMCSlxS5DkBg7Shnoq0SM2aWuzXOJrumwk7C8uvZW29fEcy5C2mX59UlwBomYB5brNb/rP2185v+aq2AlyyHFR7KRtMWHSUrOucHGZKWOQHjWChl9MHg7bmnjro+oCeNXfYHzkdLAk9w22v1fac9xiWO6zkhVkmvLyGd0MELGUlJ8hGEVx3PfpYXwzpt8GUhWaunSh0LIdD23sUbdOuFa9d32pogEinSI9qaI+o1IWXNTxEmOhlVijLE+LaVtkas+zSP6cfTrkoiWGQt4sJuCRO3aNEFiPCwhSFzXIq5pu1mU+BiTdnXUUUfVz8OLXvSirU924Huf+39EHaB0vMA9npRGdcIJJ9SOijvd6U5bn1T1+Hz44YfX+5IYMwJRj5NOOqn+v752QDKeSzz1Qra+TpKVpo9RKSqgKI4nlcFoQGKgiHJYsSfyQPti0OOV4bUtOUmJADi/WeFfg7AJ1rWYTORS87hPy1e1JKp2cK6lMAGYGIZshsgg0HZEoOvl7WRY8maL2JSAUULQOPZYtDfjVtiegcvAca7akyHE69fVmIxjub/z8ou1U/T1Icaq2hkrtE1aMGFdcN36rraIiEgswcngYUTFs8iI4C3Vp6SDMEr8HiN2VQxJxpq+yXgeck+lXv36ja5aPeAWV6/fp6ViLQvjj/5sxaGhY2kf3G/PjUUOiFQLHVh9TR/3952PSJnxSRqfyJln1Rzg2dPm+sO8tteXOIL8jU0inhXjonYYizH8bW97W13YPbReQt9xv2wUSFyYr6xcZafzBz7wgdXRRx9d/5x7qR7T82NJXxCeIuXqxcyJxmaihTnrGl//+tfvJCiM1/5O7C0i2nLMMcfUxeg+4+hIlsvmSfwkuRCTlbQeXjHGGON2Vk5+V8JzVNrT6rjTjskQNdG7lijGdi0MslnX4pjh8SrF0GMyvkRqeK5NClJtCCcToeszIZRAe/QRqbOItpWDbrfd2PPFRBj9oCtxrFLXOQt/axl/Z9m4rlmbIjJMGVmMEak5nherK03aFHG7iH6w7owRx6UwdhAfESGRuteMkEinsZDBtAjJpCWgXdcmRz5mpYb2ISIfYyMGL3nJS6pnPvOZ9XNKDJx22mn19z6fBeFy8MEHV6eeemr1pCc9qXrEIx5RR0NtUEhYNNOucJ3rXKeOmMoQeNrTnlY98YlPrOdRn/m/ZPnsduHDt3mzVLJxmBR4sOahO/PwCK/6eR4yg4xQfQl4YxnRjJ6SHj8TJE8d47aJydMqVjx4vOYM3641EUSXIu7DDjus2ITKCCfqeJ26oJ5DDi7xxHBkJIp2BFFsXOoctZX77/504ZSzzquOe/851dnnf6vaf+/L1pstWnpY3wmjVd9h3DTPuy+iMZYYZTDP87I1+/oQ405Nk79RKpq0XXgmtFvf3G/t53kRBWEkeRElxgZ9jMEkaiWC4l2/XLQRrR/pm3ZZ3gQY7vqZFLkS6ZKLxLMU/SD6RKxyxImgD0R/sNABEWuc2iREGDhRGOwlxtkXvvCF1XOf+9w6IryJYi1ZPNlrkrWgi3Eg7M7DxbseYkOaVSnhgfB4LyLy0YwoMJ54b714+OQ9K5zrU4wd51oy+uGY4fWchZ+RCsOzJJWBd0lhdtuAj4mryzG74Hhdj0V4POyEj1Vnfekb9eZt3n3/13/7ifq8I8dYmt4Y4YHov318PWP8QruyT0kfYEjGpog2CyVGiZjYFNFY0d53YpZHfCyOt51RgtJE+6yD4dmMkBhDmxESn/l/Th4OK/fecy9CwmnCkbGI/rBszAH6X6n7RcD1STtNkjYpPpK1x+RAcBAeBllpGIwMlDS8EWHr0scN8SFSwONr2VECxATJeBqypGGIj1KGPboY93JzrVDEuBP+NtFbSnPSxBefbYf4EPGYxCv//gv18rAEH0pMsEPEx1D8rXU3lkrjWfAMxaaIk/adiBQdHv1I0emzKeI07ET+0Ld/oXrUP+xeHfmqj2zLzuSliWdsXY3PECTSs5qCxOf6iXf3nSCJTTLXWZBwlpVKuQLxkUXayRhSfCRrS6TGmBh4MiPvl+EYA+0iIhQofVxGs+txLVI0pFdJwZLbOnSCj3MtKZRCJE3ChGyClnOr/Rnv7smsyFOIj1Ln2Ed8SLWaxPnf232nJX9LCKO4h6VE1q7CP3/lB7XBftBzPlDccNdHm8u8TvKIMzTbmyJaqa3rpojO9xEnnVWd/bX/rf7vh7tVn/jyN+vv112ARD+O53cTcL9BlIQgMQbHJpmTBEns2r/qgsT4GvNBCTjGMvKRjCHFR7IWNAc5E59lN6MAOzbWk2YRP7co8RHHLWUsm6xMaK7H1yIFPLK8sWMni0WIj0nGvTa2opjJWE517PLdJVoTxkspo9z973qs/feeXLOz/947PHpxbiUMipLHmoc2WFUjqA8f+s/vVS/+6Hdrg11a3DIMdwZm0yPe3BQxxhdphOqU2psiqgcTuWzy8g+eu/XVzkz7fF2I/tUclzeBtpGuaD02yZwkSMwHhMeqC5LS4sM4P2aZ3SRJ8ZGsFXKyTfgiHpHSo7A2REEQA+0qRz6ErkUJRAtik0M56qVqVBYlPuJ4JlVRGhMu8UQwmZj7rCgW51hKfDi/LpO94v5DrnzxnXWh6BxxDSXOLY61DEPE31oFg2csJ3/q21tf7cyyDXfPowJ+qYPNTREZo1be8jxwgliMwdhElBAnnolp0bVzLph8betCPBMhqpcF4bmoSJhnxnXNu6a2ICFOuwqSsSl8QyktPiLykSRDSfGRrAUmBcWh0h5iV2mpEtMKsBcV+TAxNQ3wIfCOmpgYKSYimx3GykSlhQJKHtME5l5Yk93EysiyOozJV6pYWwTOI86xhIEPxzOxT5vcrXLDSNSXfvmql6qec+f9qwOuerlqj0vtXr+/+KgD69WuUFIw9D1W/PyuzBe+Mbnfbrfh7t4YdyxC0NwUUZqhehJOESmUFly48h769cXv+c9dadjeCKvCdoiPSGFbVCRszDXNEiTqjIybzRS+ZQsS82BJ8cFxlpGPZAwpPpK1wIRgcLdUqdc8r8uixAcM4kOOa3KTniFdzIoqlnM0QdnQahHnG5NNKcMejkXMmEC9K+5nfA1ddngR4gPt4/nehlQmfekxhKui47setF918oNuUv3rk25Tv4fwACPTq8S59RUfY/C3lvF3Fs2+l5tsLO23zRvsTUKbW0WL8OBI4FCQPvmQQyx80RSSO+7LzX7qf2rxrsBd1ISYL+kkWDTRv6JfL4NFp7DFc17KSA9BImImba+rIFFTVFqQ6Ft9HUPTcE6x2lWSDCXFR7I28Kx33Yl0keLDsfsYCgZrk4yUDLUR0pIYJrxkYSzHhFfSACl5TBMz4cRTB+lhUdw/hmWID8XB2t5SqvL22/VBs3C8EgZAH/Fh8QR1BPoKkRp7VHRlU8TH3a4zOTrwgJuP371+GbgPh19/3+rYIw6ornmFS1WXurBrXu8qe1bPutN+1VE3v05d7O7eeqaamyJaJU46o7z6Us9FaeK84nlbBp+dEvEqFQlbxjVNEyS+DkEitbi0IDEHlBJVyLSrZCzLGzmSZImYQLxKGvOBQbyrqGFA2JTQBBLpYvYeiRqPYFXFh4nOpBfCSTEubHhYYpKOY5QyssLId7xYfYthJ02GWCKaYlWbLpQ05OcdK1LC9Bdf28CLIdrcnXk788aXzY2v9hPVw264R3W9ffas9rjk7vU7Q/7Q63ZzQKwKzvf5t79y9ZJbX7I68X6/VB1+g5+tHRD2vhE5vPWtb11Hc+3azqDjVfasqQezB4n+YINChe6MvlUQJNshPq45JeJVKhIW42RJI70L5oKoKeoiSIzFsepa17GgtPjItKtkLCk+krUhDMuuiFBsV+TDMpwmC/td+NoGZwyMaWujL0J8RHsNPSZDh+HO6JVSwnhXUIlS5xnGS+njSbEySUtnkebAyBviqXO8UsbetGP5THFyMyXM+cbmeJZ+FSWbtPQrsSIiZW+VWGmppGDabg7a50KD/egbVR9+3C3q93UTHoH7MW380i8YcgR9e1NEKVx2YBcNs8iGyAgh6rkkUBilfSNjJYi/13dMHsO0iFepSNh2CKppTBIkXr4WtXWOoqLTBAnnRbNPmAdLp12l+EjGkOIj2VgWJT4IhWnHZUQzfBkIDEXGhElj3g7ZixIfjtv3mIpledwVxDNs1HREnU1MzKXFQgkD36RIbODcc8+tDXYpVlYkGmok+b1S4sOx2kYio5JAZVgyPp2v9zhffbi5O3PTK+rnHO8LX/hCnabFAHEs94xwdOxF9P+kP+5Tnz7ouY1NEUVKJ22KSKiqGWlHxow7i46MeSZcT59rGgvhKfK1qEhYjGkxFq8azVXXPP/GgWmCxDjQFCTGdP2hRJ8QUdZWKT6SMex2YWdc3AiVJAVhSPUxehnPVmKyAk1JpFA5DwZ54DEy6UuP4HUSIbASTju9ahqu7bTTTqu99IzlUpxxxhm14Ro7vs/CNTBk1Ua4PkYOA745GTNoGTsmvhI73DJiTjnllNrbbwIdCmObYGKQgdd4nuDrwplnnlmnyEiJGcvpp59eGw7aVTQsUmkYmQzM2BfFfWAsaJsuXlg/r89J8fNigDRFB8854chY8HLfuhx3u7EinHZSvL3ueKYs72z/m5LoJ7zQ7nu8x+aHhKv7HffeOwO2hGBQJM/JImVsUzC2GdsJvaELaKwC7n+zT3hFVFT0VD8Y0yeML1IGTzrppOrud7/71qdJ0o+MfCRrQ99Jc1mRD972WAaYYccbJeLRVXggDPw+4qoLjtvlmAwj4XsGH+8aDzzB0vYCloxUwPHc16HHcx9EDQhNHjmTIkyoJXB+pfwzcZ2WYJVipRCeMGbsdNmQcRqOGystWZSBUeEeSt+xohoBLhrCAG7XEQwpaE/6s6j2nbQpYrNeQN9wjy2JzRvuOZmUqtcX/bjveLzqxDjZHvPWjYiQcHJwZkmXhUhpRFWbfSLSN4lJY1I7ZasNRw+MM0kylBQfycayKPHhuCYqg7R0F0Y7D6RICI/7kIiACYGhW/p854kP6RlEE/HkHBjCDJdp+6eE+Cgpkhyzr/gwOYoaMOKlWMmNZ3TF6lulBUMJnBOPsQjNPvvsUwu8MBBLEsfTD5uFzZPqCHblgvZloi1L3+dpNOsFGJ8EiVdsihj9MFL1CJLYFJETwlg2D89EjAWbQjznm3ZdMVZbXS0ESaRs6RMECWLn/nmCREQFY8SHc3r2s59dj0XEknffz5tXjEvHH398dcc73rEeO0WoRI0f+9jH1gt0tLnPfe5TP3eTXqL8yfaRaVfJ2mBg6mOcGzwNmqVTHRhsBuqYgHmbI+d2DNJyeDC7pEh1xURikpDW1ERb8n6aXIgpaUXNWoNpiC4wVBmzY5fZDZrpSF0w+bkHjGfeft59nn/wypk43XOT7VgYZo5jghsK77Iog+VTTbTy9kUjpmFI7pN21YZRCSJyHp6nZsqO1z9+8X+rU/5z9+or39mt+pk9d6/uef0rVLc/4Cp1P+oTzRvLJqVdic5pY8/NKqCPGRub993XYfx5npqpOV7GicC4wXvOgN0UXI9xRSrZukc/mrjP5gGiY9aYrU8Yq6IvRN8IMfqiF72oHv+lFL/3ve+t3vSmN9UOlHlzxiQe/OAHV8cdd1x15JFHVre73e1q59crXvGK+vOXvvSlWz91cTxHsgr83Tvc4Q71HlkWX3jlK19Zz52+booi4uM1r3lN/WqPpVLG1jm9bt1J8ZGsDYyxLl65gPEiJSrCzmPxqJigFHky2kIo9Fm6dRZj6gtOOeu86rj3n1Odff63qv33vmx1zK32qzfM49VmSIQh6hrUphjEGXZxDU3DYhYmMufJIDTwl8BExovF+zULEyPPvEgHzz1B0J5MS4ujaeKtC9qah1m6U0DgEUuz8HtjxYdjMDb6ErtIt7nvtX9QXf9KP6ojYmGQxnvXvtMXz697TqytO4xa6W3NOrGuuCc20rPPheVmre60iFW/9BnPT9Pw9B4RAYZa3HP/V3JsXQU4BzgJDjnkkEEG9aqi35kHjNmznB6T0CeihoQoMB7qy7GwB+ePaKqXvn3YYYdNjZoHoivGJsLjDW94w9anVfWoRz2qOvbYY2unoYjMJNT0iVi0x7Y///M/r44++ujqT//0T6tHPvKRW5/+WHwYTxc1TiXD2Kz4YpI0MNiUSmMS0rUjMcPO4MooZESWEh7oWp/RhvB42Akfq8760jeq733/h/W7733ePCaDIWpTGBBC71Jy+gzK4REMg6QE2nLW8cKIl2LFQNDuPK6TxEUY66XOz/H8/b6YnKXjEapEGk/dsqIGDKch54xpu0V/8OuXq+tTFPEzRkTNFOcSegwb18ko0MdKtf3Qa1hFXMsQgzbE4Ce+/M362fbue5+XxvkR9VICRXMZlFL1onZIBJA4iRW1OCKMJ4zRVd8UsQvO3fO+ScIDMf4PieZoC/Od5/6pT31qvTjIs571rPpzwuH+979/3W5Soe5617t2cg76Pc/Dwx/+8K1PduB7nzcFSRtj/iSnyj3ucY/6ncNiEo677v1z00jxkWwsJcSHHFOeGMLDwMWjLlrg69LG0VDxIeIxCZ87pgnBoMxrxZMcniqGRl/CuB9yntNwzGnHk1oVhfAmQMaQ9o/zaBOfl5pkTLJ9jqV9natz1j+kf/HiER6OVbrPlGbaLtKf/9p3LypobxulWdA+H9c/xKidJganfV4az1Ozdoh3W1qSZ1EKIScGr/iqb4rYBWPQEAN91Yk5sJTn3z11rF//9V+vnvGMZ1Tvete7ajFKgOoP89BP9Kt2FNCqjMYYqVN9Mc5gWjSeaLGoh758xBFH1MsPJ9tLio9kbeg7eZtIhooPv8eYam78JsXAIBYTVEkDHAb0IceUajWJz174OfHEgDc4R8RgzBK0pY17OGbbOOVdF57nVQcjXurYvFWsoo+UMnYnndsk/AzPv/6ireUl/8qv/MpOdSfLEh9j/k7XXaTbRmkWtC+GaWLwnCmfLwP33ljlWWxvikicuvcixVI7RUbc++3eFLELxrQY3zaJmFNKCSvioy0yjDldl4gnSi2IMCkSbDwhYvryzGc+sz6H3/iN39j6ZAeieNKwRGbUqDzkIQ+p3vnOd9YLq1h1MNk+UnwkG4sJ0oTSx1A2KRr8GJFSS3jZTawKysOwDQ9SqZSuwOQwRHyo8ZjElX9yR6jZ+c6LGHRFGzhGSeHVPJ57Fbt9M1LVdbSN+FnE9ZUSR6533rGkWImM2dyLsJNixYvXbmvHWnXxMWYXaf130sZ4fXdo30Tcjxg/+tBVDC4bz0Szf8e9N06695wF7r06AwtJSN3Zzk0Ru2AMKmWgrxKlxYc5hfgY0p8hdW+aE0k/0Rf68KpXvap63eteV9eMtBfZsIKWOpB73etedcTjec97XvX2t7+9Hm+e8pSnbP1Ush2k+EjWhr6DXV+RECk+PO6MXTURir/jOEEM4qsiPhSXT+IuP/8TtTfKQF+y3sB5ljLuwYhxPMaJ1DAeU+fNiLeySp/7Xlp8ON40o0g6G2NKn3HfeIBnRWfGiIJlUXoXac9Oe4d2L+2k+F57NJd9df+JE4sKECOr3l5dcR1DjLUxYnCRdLke915KnmdYvRAngme6KUY5GCJNkcNBHZGUmC77TZSmLag2BfOUe1Xq2qTZNVeU6ouFC0S2J+Gex8qFXXjrW99aPehBD6rufOc710KjC1bXIorVryTbR4qPZGPpKj54YhRhN1N8TJDTluGL4w4RCrNg1A8RNFa1esE9/l+1/xUuVV1q9x9VV9+zqp5+2M9WD/m1m9cDeenzDLFQEvsLyBXXttLbGCtDBJNJ1qvU+U06FoMoomPepbM5Z0b2LPq02zzDbhZ+d4zRRmicePSNqg8/7hb1e+mVlYiz2ATNc8YgZZg2C9ot5Sp1x2tRBe3LZKj4KC0GS+EeDDFmY1PEEKOeG04eRcQiZsZAaYux30Rsiqg/LDo6ZpzcRPHhurTrmDGlCfExJvIhtWravZSSFfuOzIN4OOqoo+rx48QTT6yvsSv6n3NIto8UH8la0WfAmycSGPrykHlcRT1Mhl1SfGKQW4XIRxjCe1zwyer3D/hedfK9fq569yMPqY66+XXqthpyzHmUOqZj8HJqe1EE7U/4jfGqwXWXMlAZI01D3sTLGGYcqf8x8XVNZ3NefUTBUAHR9+9sN86XSG4XtDNSOQA2oaDd+bnOISxaDA7B9ZQy1DkZPEv2+hERa26Ax1D1t4xxkzZFFC3tssJSF4wZfQzYdcE4W/K6jIFDNtINPN/a2rPcRA2GFDz/Pw9pe1bXIlrf9ra3zV3et410P+NNsn2k+Eg2lmmRD5MZL6oBzARm0mNEdtlkD4uMfPQ5Ziz/G2liroHx1pxoGAilz9Mxxxr30i0YESYBBqZ88a7tP4+2YBiD83GtDBzF07yxvlZgbeLrM+k5Vqnz2nTcQ8+ZKMkmFLQ7lxJ9e1XwTCzyetx3UbCIjhEkHEMW/mA0GtMZq6IiIpDNdD39YohjyDWVElSrRGnxoeB8jINItELfsWlhE9/73P/DOCsFN1ayCixicPjhh9fjwLvf/e6pQohTYlJ61wknnFDPmXe60522Pkm2g0s81eLNSbImmCC6GhV+lriw4kUsK8tTJq+Y+LAsn9xPk1nfSUcagN/vsrRgVyLNhBiahbxYaSgML15Dk7PfmbTnCC+V/GkbCZYyFrSdvztkk0ETgoFfxMMEpv0ZiowFxaolcM+JmXlpUF1gyJpsGTruDXHHIztkmWKTqHvQZVUYfXeoMaSPm3S7pi+sKtpeG0R7aQtiz71lmOovUnUIbwJWH5K+p531Ud5y90z/YoARM9vl2XZO/vaQZ2YVkR5jDBizcl4fPDfGN8+d51qfkDpjbDeOuLfSZ3nOtXV40S0GEQao35/1PLkmx9mUexR4jvR/UaQSvOxlL6ujvXe5y122PumHe+Ye2fyPuHCPrEZlE8MHPvCB9WaBUAtmvJUeJcoB95WTzTzy6Ec/ur5nImLxcs/NdTBHiqSbq0VNOScIHCavOqTXv/71oyI4yTgy8pFsLGFoMEpMTESHdA0TkJV4eK77FLcFzeOWxMQ3K0rBEDOQ8vQRFFaVmVdr4FyJtZJeYMd0Ln3QVpHiRhARTNZ5N/i7H32PN4tSx3OeJj7Ga0SWiLxZBswsGFDL8MYv6++sAp6ZZg1Bn4L2oR7yIWza/XA9pZwZQ/H3ic7mpoj2ILHwgyWAPbOeXY4OS/2KjsWmiJPqh3w99NleZUpGPtx34+JYp9tLXvKSenlc9+OYY46pTjvttPp7n8/Cynjx3BIfv/Vbv7XTyzEC/eLggw+uTj311OpJT3pS9YhHPKJe2MBmhlK+Mu1qe9ntws60a8xSyUYgFNvVsNS13/Oe99T5xDyiQvlWr+I1GztxGtBMeDxApWAkWfnl9re//U7n5zqIDV4ikymvjZDzpEhHG+vqK6a/7W1v2+nnuxCF4Te84Q23PpmOc3cO8vMVGDLepVI0J0MeKhMKo7EEjAwTi3SdIZjYpO/wsjlP12oSGwvPm/aYl9PsZ5yD1xCjgcjj8WeErTNEgue9Sz+bhfYULWRsxosBFeMIbzpjigfdKwRxSdx744+i+k2A0SgCNfQZWybuM0953HfvUSdknHW/3XeOBtfEqbNJIkRqmutsL0M7BG1mDn3AAx5QPf3pT9/6dH35i7/4i+p3f/d3L1pWP1keGflI1oquosGEw5gH4SEUy3Mt9DxWeIBBWtprGoZmU1xJ+eGlYbyI0jDQefW6Cok45qyISl8cs4sANNETKiY/k7u87XZNCkz0Jc/P/e1yfm1MrNIBRJZ4xgk83vNShsjQ8xqCa9kESjyrjjGpoH2ZO7SHobsp6MfrYqA7T+LSs+x+T9sUUXqWFCXOC/2AiC91/7eTkpEPlIh8JEmKj2Tj4MGSXsGjbuKRksGQLDkAO1ZJgxlxfo4bBc6KskU71EZEmlIfwkAoea6OOcuIjnN3D3icTfLOf9rSxfOO1xfH62sshMgjlBijhCrBOuRY0yh5rFkwctfZWAoWeQ3uhWeJM6JrQfvL/+Yfq7v82d9Vv/Tsv63u8Yp/qk79xPlbR5uPa9kk8bHs6zntkxdUR77qI9VBz/lA/e77MRhrRTmamyKqYZGqIzJLrHJaNe8/BxCBqq5AGu+6PGOcZJxlJXAs186ZtAlI1TK/shGS5ZLiI9kYGJByexmRIgNWRxlS09GFRUY+eN1NdvKSeeZEDBRBDpns45gljftpwstk7JxFDprnPq8o1fFKnt9Hzvth9aj3nFcd+Iwzqrsd/6HqlLPO2/qfi+Me8nCHyGN8SvOJflNSMCxLFKyrkds2MP/xi8vd8TwM0kk7tH9x9ytXL/7od6vP/tf3q//9wY+qT533reqRb/5E9cp3/1OnHdqXbawvmmVGPvSLR5x0VvWJL3+z+t73f1i/+36sAGnjHnGQxKaI7j8nhPsfmyJKf5Uaa5VB41xsiihisuxNEbtSMvIh6oFNER/axSIWm/RsrgspPpK1YtIgYdKPKIHB0WQhtM6QWIRIwDQDfAzC+1BvwGA38fHCjZnkY9JZdOTDiiUmZHn6sf9F13OfdLyhEBov+ZfvVZ/9+vdrQ+WsL32jetgJH7uYAGEkqEVRhKy2Q5RDSltbKOlvpc7NsZZlnKyiETSLSQbmC/7pW9WHv1RmD4ehGD8UtJ/86e9sfRLsGIfe+v99t1NBu/uR4mMYL//guVtf7cy0z4dijGxfE8HRXNBg2qaI7rl7rw80N0WctNTrsknxMR01H55LKyTiPve5T/29e/qbv/mb9aIF7r9d1NkZoj4PfehD6xRO0dFf//Vfr1P2mhCl97rXver6RsLGhqpHHHFE7eRqY3z4wz/8wzoCx+HF+fU3f/M39Xlseg1Kio9kbTEBMhybnnZGr9B5TPSLEh8lj8vjriicgAKvm+LAvhsnTWJR4iOOZ0A28VpFxGdEX9/9L0qKj+Pef87WVzvT/JzIEyHT5nKXGRPT0vKcWylDvo/4GGOo9vk7q8I0Q/Jtn9l+4w2fveDbW1/tzJcv/NiYM2mHdl5xEUxpO7zi+p1i51J9fTtZppia1vbnTPl8CK7HfelipM/aFDGWt45NETnEvHxdelPErpQUH/ovOPY2GfuI6BN//Md/XB122GH18sJ/8Ad/UN3jHveobY6nPOUptTh505veVD3ykY/c+q0d2G3dEsC/8zu/U734xS+uV/Nio+gnImRNHvzgB1fPeMYz6jnzT/7kT+qFYe55z3vWKX6bToqPZK2ICU/426DOYOeFkB7RXkUJvl/VyIffl0NsYOIljZVjptVGDCE8eWPPtUlcewg/EQRF8POW/Z1GiI8SBvPZ5++IHrX57AXfuqi9eScZgupQeJpmtbf+VspY7CoK/BxRtwpe02UxzcD84jdXw1C/5l6T+8h+F37ufs0raNeHeEgXVdC+bFxPjC2LZlbblyKe8aHX1NwUkSHJ0GxuimjsEQ1rb4poDG1GyEqjX/nbnGUliMhH39rDdcPz+1d/9Ve1cHjDG95QP9MveMELamfV29/+9lo0vPzlL69Fyl/+5V9elLWAZz/72dWZZ55Z7ydy//vfvxYX5hzC7VWvetXWT+1Yze8Vr3hFHT155zvfWT3kIQ+pnvvc51ZvfOMb672wNp0UH8laEYXBPNcGfAavAd7Xk1jFyIcJgdFhEuIhFdLnPY1NoEoLBZQ8JqPYK4Sfc3cNQyfu+L0SBtj+e0/e/O/qP33pegKQn89AYBx02UzMuZUyDLsIGf8vh9y5SmMjsE1EfYyUriJnlZhmYF5tz9WYoh5w86tvfbUz0z7Xb5oF7SKBUisYMdMK2nk7V3WH9jbObejz3pe+bT+EeC7bzquhhCA1xrjf6siMk+pI1BNFhEw0JCJknnf1JNL4CNUSY3Yco9R1mX+x6ZEPoqOJ+6bPS79qIuIlkkVYBp7tQHuJdnHKGQc4HYJ3vOMd9bv9R5pYal8f2XRSfCRrhcFU3qXB3Ao183JPFyU+hkY+eD+skd9cftag5DwXIRTimPOM3i5IHXHeUgoMxAbkWcKvK2HElDjHY241eXf4W1zhW/WkYLLgne46GXcRDF2ZJwpMUsQGAzRW4SHuTG5NI4Wxymh1H3gi2+e3juJjmiH5a9ca17dKceh196qOPeKA6nr77Fntccnd63ff+7wLYaxPK2iPgmYrKUUaY9QPdCloXyauxUs/WwZj274L8QwtUlBpr/amiO6/lbZEjhmoRCfnAyEqQhbP+qRNEbtQWnzsKmlX7dWvRC9hMYIm8bmV0QKORSlX7qdIiZoPYpMTqVkfEnUmkfHQxF4qm06Kj2StiGVQGWVdJj9GfUljPugraqI2Qrjd15bNlfbT9JIsQnyYTLXTmGOa8BhAIjUMZJs0IgbesZQUH4cdcOXq0Te9fHWNy+9e/cQldqv2veyPqgf+wu7VfQ69QT3ZN9u7C3FuJYx5x5p0HB5QOeG8YgxQ0TyTjwmL11Q/aabxmPiJDmk7focgEQmMZUCJlRLnu0wmGZi/f9Blq1++apmNMUvgHE88+kbVhx93i/q9j/E7zVg3jjBSoqCZOPZatR3amyzDUG8zpu27UNpI74o+YUwypnrmzQuedY61eNZ5z9t70NhwVl3BJOdDk9LXtaukXU1rr2mfx3jrXohcSM0S0TjppJPqjY5tSqwmrHmv1m2MLk2Kj2Tt6CI6gu2OfBhseDgYiGojTCiMC96QNq7LhF76fLue6yR4XHnjbbjFG0/4KbZEqcEzjJgxAqnJDfbarXr0L36/et5Nvl8dd9drVA+/2606i9U28TuzJviuOFazzXzNiGRUqmEyOfGCTtrAy+9GGk9slHbrW9+6FibSyESfYhlQXlICJLzm21HkOoS2gXnjq1160D1bRdzrrtfiXhof3FdREc/cvIJ2exoN9Y73JfrwMsXHook2W4Vrcg7GgHjWYw8awkTExDhgdUECJJwPhMmkTRFjLjEPloD48PdLHW/TEN3wev7zn189+clPru5+97vXBeuHHnroTtERWLAAk1bBci83nRQfyUYT4qNp9JWAQT9PJIThbpLg2TKBSK+YNcGNEQrTGHJMqW1C/yY1q7vwxsfO6qXFQhxvrNEU58zYZugRebyJYybKOLcS/acpPhiJcrwZjfLCGZjScfoY2+6r6JNUAOlvsQxorPbmb/GaR5GrVJ7IKWe8lO5nyXTciz73tonfm1fQzuBse8cXVdAez+nQ61lF4lnwTK0izkuaLgeQcZiTIpwPlgnXPyZtiqhWDKWioSE+NunelyT6T7utX/Oa19TPYpM73elO9btC9iYiJeaFTSfFR7JW9B30GJ4GgtLewFnHNdnHZodhuPNa+noeQ4TCPBjQXY/p59Qc8MYzUK3cwshpeuNjgC3VpmPFh9+LIm3nzGuswLdEakD0txLX6liOw0CQPqOtta10my59owuO47rdo/CaR5GriJWccvdX/2SgLNJITX6Mdi1psHlm3Oc+O7SXKmiPZyGe201gHa/JM054clqYX6KGSD0kJ5exwHgIy4pzQDQ3RRzSB4iPSZHZZAecAV6PetSj6tWuLNF73/vet07BEslsYtz3fyeeeGItRF760pdWj3vc46ojjzyy/r9NF3gpPpK1o89DGYbyIlKZ0DyurxlyjGCDdGx22GdDJqKmtPhwrvOMZ5OQegHnbnKKFbhEbNrtPVYstIm2HHI80SXnzKiKczY5ljKi41rHHs/vy91W7yM9RkSGKB2yNHEX4nzduyhyjZxyHtNI4WgbqU0DRRqXFJ9kPfAcLaOgvdm3NoUYc2MsWlfMHzbGMxaKhhKi8LUIqeuT/tvuA103RTSGGV833TAeiva3ipUI9Ite9KLq0Y9+dB1pPuOMM+rnss3xxx9fPfGJT6zFIcHi5yy1a6wWzdpkdrtwICkzSyfJkjBJdu22UnB4dxmlfYuNZ2GgFtlgyPGyK/6Tpym8zcMhn3PIRGZCMLibLEox75gmFManthI1ENaf1Val29TfNwlKJTBxdoHXTjobY4oBz9iKSIf0EytBHXzwwfX3Y2CAixK4z0MnA+lgwuj6jEmbQTjvWISsvjSkD5nsiIc+1+9vEczSweIVxqgaBAI6XvqSSXbRyJ0mSEXf1h2RBwah13bDwGzf63CiGMua93nSvRYhI1Sl/JRadGK7EQlgkBvTiLRNwTjIIXbIIYfsJBiafSDeoy7M8x73PvpBRGZ/+7d/u16x6b3vfW/9fV+IvOc973nVK1/5ynqcYpDf7373qx7zmMd0Guvco8c+9rH1fAFGvr0xJs1tfX521bDgBMefFKxNJSMfyUYTE+eiIh+8xnL3GUoMZ5MXb9MQoxF+bxGRj0nHjEiNuhQGMmOiy4pQcW2lIh99Iil+hpfOhGISNEhLOWmmWJlkS5/bEB+Nc4h0MALL6kWO10XEjPEsDvldBhcRx0OuTdXLiMyYqGO5Xx7yrsv9lmCT/GKuZcw9LcnYgvYYS+PZ2ARifNyka4LrMl63+16zD8SmiPG8i5L6vagX++u//uvaE3/Xu961rivhlIh0rr487GEPqx7/+MfX84w0o9vc5jb19w9/+MO3fmI6nErOU5RAMbfN+zj89F//16TPz24nnGhtCA72hN3ON5mMfCRrB0Ooq7HDSyeVRPpTyRSXiHyAZyjWaR8LL7uJghAohfM0qcYxPfJy/AkPbdk3UsPYJFikdZTwfNo/xI6wJiTGzzREXBhBhJIUAmlDkzzwDCeGconB22RrXxYTWZ8akua5MugVhYYX0uon8zD5m+S73pMmjEQTLG9nSTxzrie85V5EFfSv8JTGixd9jMFteVl9dRMiH/q3PjAp9SI47ZMXVC//4Ln1bu82XbT3SeklZbvSvNfhGXevQ0R5t1CCOiL3WmrfqoirIUyLEKwqXfuKcdC1Gb/64h4zjo1jduYWSRBtjtQsgoTjRwonEcFpMQsGtWdZTYNdwwPpRscee2wtdNQ6TOMe97hH9Za3vKUWFBG9kHGgxsLyttKVgj4/u5386Z/+aZ2mZU5gP2gDbS3q4etN3k8lIx/JRlM68sEoZNwq3oQ0ipK5+9OiFGNoHpMRwZhm2BEOQyI14R0s5e2edzzixCQi1Uv4X3sTe9NSfxyv1LmFIWIi7oKJ2aTRPNfYRDKMtkWzqL+jXaPI2SRO0E9b7rddU0CMRVrHroj7McuoZUw+4qSzqk98+ZvV977/w/rd9z7fDpr3ul3QLoIHY8kiCtq3A+OFa14X4dG1rxj3p42T89AWRCVxcdxxx9X32HNOPFi9iREvsity4ft5EBz6RDvK4XufNwVJG8LX3hlETjNtSv884ogj6v8LR0ifn91uPFfa2dK8D33oQ6uTTz65ute97lU79zZ9I8cUH8lGU0p8GByjIJtXOSZgoqPkhEUELCJFzDF5sJqbHFoVZUgdQ4iFUiJp2vEYBAxXkSsRCF6x9spbk3C8ZQmjQP+wZ4dzFRUz6bXPVT/xc17LhmFy5Ks+Uh30nA/U76WMWn2LiG0v99veJI8I0TZESXO531L3adXRDrPGCV7sSUz7fDtwrxlE0nVg/IiCdk6YUgXt24Gxp48DZjvp01eM+yWvSyaBe632Q0G1+0yEPuUpT9n6ielEBN7c08TxpHaK+k9D1ET/URfYxmecPvod+vzsduP5UWTOacM5IyPh1a9+9UX2xSaT4iNZO/oY+2E8jjHoeUkMnHKg1UPIh+d5xyKEQimjHoweXkgThPA7L+a0TQ67EpPZIg18YoNQkgphIBah8d7l3jteKSM/zm3WsRjRsWeHfGnnaj3+9rn26bdjiL8T59zHU1oCEZ92TcG05X4XvSfFKhDXM+v+S5+ZxDlTPt9OmtfDucMBI7WQc8DY4tUWn6u0Q/skjD3xrK86ffpKaVElBU+aXROis/3ZJKQ9GReieL2JqIT5aRp+F36uTXwWv9/nZ5PtI8VHstHEBDlkkuOJkFYgBMpgioJs6QiO61VSKGCW+DjlrPOqux3/oerAZ5xRv/t+FgqyeaZM8o7LCFTbMXaSjd8vde2Opy0ZALxSDBWpYe4bTzqjtc8KNI6FEkbsrGPpHwSHNtYWvGq8/5MmV3QRMiVon/N2e9Wdz5DlfgkRHszIMd9k5O1PYr8pn28n4SSYNo6MLWgv5dToQ2kjfZH06Sslr8t4Mkl8dEUNkb4xCfVh5thp+F1M+n2/i/j9Pj+bbB8pPpKNp6/4MMjyzJkYTYgMJKkkCizDsPM+VNTMwjEnGfWExsNO+Fh11pe+UXuvvft+kgAxuQs988a7Ft4ex42BdywxmZU0ErSn1AyGpxA0I54xP2SiC6OoxPnF/W4eS5vy0vPkRjSJSJq3TPCkYy2DVfSqu0furQhR7EnBSGWsxn4Ean1icQMvfdqOzavkMe9CiMC4/5NQMDyJaZ9vJ3E908RHG9ctvXPaDu1SuQhN6awizNsRDfNMdr2e7aZPX/GclBIfDHbHGyo+OCCmORI867NSgP0uJv2+30X8fp+fTbaPFB/J2jFrEp9EH5GgMFZqAE8csWGS5MGbNDEZ1Et5/4Npxzzu/edsfbUzzc9NoJ/73OdqA17RJ6OOUcyzXNLg1f5epY7JmHQs52yVj2lpS10pKT7iWGH8MIQYSHLZ1ToQpV2jSXE9izak2n9nXbzq7eV+fU3QEaLbtdxvCeI+zOrPVio69ogDquvts2e1xyV3r999v12rXc0i2nno8wnPS3PxgmXu0D4JY26XZ3gV6NNXXJf5rwSeMcyruZuGez2t9keq1Kw6h0iXipSqJvFZ/H6fn022j/V42pJkBNOiCU1MZowaHjeTkDQBOczTwsQgFEp7YEN8tCfWs8//1tZXO/PZC3Z8HqLJUohhwPMgMxCWKZL6EBEaxoXzJDikZkxLW+pKGBEljNEwsNxnhg8PPAEiBa9vwX4cq6vRNNS4a/+ddfKqN3Ed+hknAINUm7c95gwiHnLPLQNVHQkP+iqtuBTnMO9+Mh5PPPpG1Ycfd4v6fRWFB+K5Km2su9fu6aQd2hdd0O6a/P11oWtfMUaXuq5YIWpo5IOw1M6cN01EM91X/z8Nc7F5wVzRxmf+j5MCfX422T5SfCRrR1+jbFbkw+eMFdECNRIGLpNel2XuuoiavsRE0Tac99978sZ/+13xJy9ahtb5RG5104B3zEmCZgwMj6HGvfOIlaEYic6XyGue8xhKio84Fg+sZSV55Qk7BnFf2qJgHn5uyD1rPx8Mk3Xxqs/D/eiy3O8kA3W7lvuNe9h33FpVXI9rWcb1GNOWUdBurCgtplaBkuJDPQ66zI2TOOqoo+o+Y5WsJr73uf+HZ5QTTcpd4Jk//PDD65WhrJYXiGScdNJJ9f/5GfT52WT7uMRTL2Tr6yRZC0w4fQxLBq5JqBlqdYwvf/nLdbSD10zqDA+bVJquk6rB0c8qpC2FYjnnxdNn4g2ueJlLV+/6+Fe2vvsxd/3Z/62ucInv1Z5CK3BNquvgqedZmpY+NgTeKgO41Yv6QOBpc7U0DEhGI+OCASGKMGuTwa7I65WKw4M6RtA4jvQ77addGbqiSkPb0L3VZxhSzXs7Cf2T4aB/de2PgfPV56N2AlKvfv1GV60ecIur1+/TUrFWCX0WUq5m4X64P4wiotB917ekbBEj7iNBou0ZpY5rhTKRN23Lo963jfvgPvq7rkM60bqj7Rj2+vF24NmR1+/+Gnv1c8+l++//PGfusfttnPIsMJyjBmDS/WaY+t0hToVVhug2Rg8VDE3sEG6380c+8pGDxmn3yj2xJwhxoR8df/zxlZ3OH/jAB1ZHH310/XPmArVB5mW7qgfmZ78b+4WIoBxzzDH1/fZZcwXHPj+bbA+bJ/WTpAUDrOkBM+hZTYlHVAiZJ9sqPPMMwjZ+flGRj/ZxDzvgytWLjzqwOuCql6t+4pK7VVe/XFUdfZ0fVHe+4c/WqQmE1TQDKozlkufqPPsIQCkRPJKK4CG61FwZyjmaJEoQ1zv0eH6P0cKTaslfEG5jvWVxXiUiMrOIflCqPdcRoiNWXJIe5xnX5wh0YldKljS6ZoEz44pxRLwtou0WKXCWyapFCbQrx0WfgnbvzYJ2Y+MqXVMJ9GHXtSqRD7zkJS+pnvnMZ9bzLzFw2mmn1d/7fB4W9hAtF/V62tOeVj3xiU+s0zF95v+a9PnZZHvY7cIOuuvOUMlaosv2ye+VMsOLYjIyAfG6MyRNTGM8IMQLr+qkzYyGwqMoL1VqQbuwj9fGtfDi8mYxpLoYxH5eLvzBBx9cbMUr6Q0mISlTs3CvtDfDztdEHs902xCTIuNapFaMxSTp/KSg9Z0oCVOhesdQg8KYee9731sLJd+PgZAx6TKE53nAGQ36OIOor9Gqr0tDUQxfKpVtO/B8uXYGxCJgRMtjd6/dd/UjnjFwLHj+OCf0Ie9D25LHXa2Q69gEj6tFLXin9eN1wjMV99u99h73G+4v77x77d4bK9dZMLpeQktUvER0/q/+6q+qBz3oQXXbjXXEJMlmSf0kmQDPD5HA6yGlidFuFaixhsAiIh8RfWkeV9SG8e78DfxCyvZI6DoBTIumjIFRPM+Dz6AT6WDMS2dgrEQRfJsux+tKeDD7HK+5ZweR1I7MlPDRxHV3PdZYw6fEOW8y+glDMxY6cM/10etf//q1QPbcSMeJeoJY7rdvPUHch3U2ZJusWuSjK+4nITmpoF0qlv+XrrWIgvbtIMb7GP/HQriZn3KZ2qQEKT6SjYbXn+fdQCwv2GSjnqLE5GlQ72qAdCUmCufLaCGWTIK8jVJIGEe8WH0MmeYxS6H9ph3PJE1wmMAZKiJDIhqzVg5zvFLiI9qmy/G0MQOTsFMnIhomYqL2B47lVeLc4rwWLQqW9Xc2EUaoqKIaMJEK0SP9gRCV1qNvNzfIE8mK5X4ZZ5P6SYqP1YUxLQ3P9XCQrOsO7ZOIcwuH1lg4vkSENqUfJ9tLio9k7egy+MnjlWrkFYMvb1fJNBTHLWnQI4QCQ0YeupWseGcZQVKAhnixwlAoea7Oo21omagJPYa8XOow5OdtvodJxxtKXO+84+kjcr8ZFs6RsFNE2zasfF/CkO8jCsZM8KtoHJz2yQuqI1/1keqg53ygfvf9OqAteXoZpnLGm/UEcscZY4wy9QOESCz329yPIvrhKt6XIei/i7yW7egr7lGMrc16IVER40KsIriqO7RPIsb7IXPGJFxbio+kFCk+krVk2gDI28MQ4KWKFCVGAxYhFEp7vsIw5U2VKsbYsSJU7No6hJh8Sk6KDPJme5qYTMK8giboaYb8NPxcqfOLvznNyHfean/0ETnf2lhR8rR6GH2txLlFny0hZLqwrL8zD8bjI046q/rEl79Z787v3ffrIkDa6F9SHnnGpXASIgSJPsRg5eBopu/YHA+imOp+tmO535J4Fro+133Zrr4y65o8t2ML2rfjWSwtPsynHGFJUoIUH8lGYHDneeKJslLR/vvvf1GKklQKlBYKEfkoMbE4htQNYX3wtIp2lFh6NiafkuLLMU3YUSvhvLWvCVnKwqwUq0ksQnxMOp40PLn7PJcMxS5t7Hgl7nGIj3nX2UxbE5WRcsdo7dp/ly1y5vHyD5679dXOTPt8HTEWiJ6paWruR+Hr6F8iISKZIoNqoVbRW94F57oo8bEdfcVzYmzsY6S7fgI09ptp79DOWSQtixOJU8a8tMgd2icR433JtCvXHONLkowhxUey9hjkGWo8jfK1iQ4TQEwm8V5afJQy6qMwWzGr/GODe+Qhl6DUeTZxjlHETzRJQVHE77yH4FoXKT6cK8NPSowIB8Owaxqbay1xbnFe04wOn2tLbcpzLvXD3yWmnXukeESNAWOgVJstks9e8OMVhZqcM+XzZcKjvqgUHwKc8IhV0kRh1T/Fcr+TvOWx3K+I3KqIxzbOa1EG6Hb0lWjnseOtsWRaQfu8HdptgFm6oD3muy5jXBekAmfkIylFio9kLQnjl2eYQQYTu5Vq2qtxhOdnEZEPDDXqTTYxETkG75mJKiIqpYhJtdQxGb1Wf+G9Y0QRewp0x0zefreUIR2GkeN5iRww6EUPRGW0c5+lIh2vhCEY5zXpWFF/QoAS0CGO9AcGTBitjBvtz0hVE9T2qMbGeVgV43Xahob7ddjoMK5lESwrxadp3Fpi2cIXlpzWD+3ObuU6zhLjlj5KXHJG6LPqCkTpVmm1Jc/UWEN9GmP6ylBiXCxlpDcxlhsj5+3QToSULmgvfV3GHTUfSVKCFB/JWmJCNjmblBUCzipsXpT4iEG973FNOCYX5y8PXNhe1IDRCcctLT4YcWOP6ToZRiZIBgjPLuO4xN4hzrHP+Z1y1nnV3Y7/UHXgM86o330fhGHEU0fY2U1XegSR5L2vQet4JYTRJFHguGeffXadChb1J9q0mbbm98Jo1VeixkAtENHX9KjGcrCwihcDpmRfGsIDbn71ra92Ztrny2JZKT6zRKC+xZvMWz5puV//L8o1abWlr3/969tyb11PPGOl2Y6+Es/2oq6pzbIK2vUN11RKwBMfGflISnGJp17I1tdJsjZITTAQGryJjlkDrMlSaFvBYB+P9zzUO5gQpFV0rXFgDPJUMygYkwxIE1Hz/B2TQV+i3iPg/ddO0wTaLLSf9nbeDB5e2ljlh/FbAh5fEysP4TwIjYed8LHq/G/+b/WDH/6ofn/Xx79SXecqe1b7733Z+r64385VOyoElos/1APIM8krPfZ+MAbcB/edmHDN0sAIB9etL0f/1OZ+Xr+Y1LcZFa7NksD6tesjrERGQHh5uW8MVbUu7pe28bsESymjZB682de+8mWrc//rO9U3v/v96ucv/PqJt79Wdeh1Z++zo12co+tbBM859ey6/7Rxjg+4RTljV4TWfTBOdFltTz9VM+BZVbPm3uoz7i1HCpGqbYhLKXlxb0VGtJefWeS95TBZ1H0Z2lfGoN2MuZ6fdtR8GWhLz6NnnwPKebjn6v5idSnPsnaPey5Na97zbHzxe1K+xmI8evGLX1wvOf2rv/qrW58myXByh/NkLeGF7+r14yk65ZRT6rC3UHcpDOy8kTzR82odGCBSZUwejAgpNLGXRBveepOOgb4UdunmSY2Vv7riGnndTGSMDZ53EzTPHAP/tre97dZPjkPaECP5Nre5zdYn0xHpOOtL39j67scccNXLVS/9tZ+tIx0MCpM3g36sR1M0gSEoj3sMPJrug5QL7cng0Rfc53Y6gz7LsEDbqJgHESeFSzqP3/V9vKR3gYHqb/r7RLxXyWWoSyAVxb3z3C4CNR5Srdpcb589qxOPvtHWd+Mhggl3qXPzdrbviv7hXk66t8SLexv31YtzpG8/mgaPPGO35Pi0nRjjLJMs6hjifRUx3znXuN/ER+zQ3r7nvja+yAwQVRkLM1Gq4P3vf//qGc94xtanSTKcTLtKNh4GjFfptKtI55olghgJjHQpVjyUJmypFdOEB0qnXaHvMbWVpSIZ3oRTLEcbnkHtWfIcnV/XdIKzz99hZLX5zFe+UaenEIKMI4bEWOEBRlvXc+sCMceLGUWpbeERDPULNY1Mx44lYRm/UQAbkaB2So9VtkR6LIJQ8ppXkWWl+MR9LGX8Q7+edG89o6Jo+n+k4rmvnuPmymkhbIfgekpey3YT45jnYZVxfsa0ZorerIJ2zzYnTKmCdsJn2liVJH1J8ZGsJX0nP0KhtPiIyWqaEc7rZNJnxDMSTBRSL+adu+OWPteuYoFhwTAmloT3RUomLUfrHBmnQw3kNtqkq7Erteri/Kja58KPefsj2lHKeHassdfJK82TD+kV2pQAWIQRN+uYnoMogBWBcR7NfHOLCKhBkQ7WXIFJn1j2CkyL/ltSeY494oA60rHHJXev331fOsUnrmMR97qJeytCxxBtL/crbcvzL7o4drlfP1dC1K8Kcd3reE3N57ld0M5RpM+VKGj3c8YwUZUkKUGKj2SXYBEGfYiP9nEZaVITGG5SWUwGvNw8U11w3JJRBXQ5Js+Wc2ac8LAxTO2XMmlSjs9KGYh9xMwxt2rXmfid3apH3eEX6voZOL9S4qOPMGrj95oF5SA6ShTpz6NLW7o2RoqUOqtrEW9Esnff+z9eU0YqY5UB01wedIwHfRUgNKRYffhxt6jfF1FbsGgRNQvpVkSl51hURHFzrJxGqDAoJy33O0ts6tObJD5iXNyUa4qCdnVDxvESBe3mBqT4SEqR4iPZJVhE5MNk5RXHNYmpXWCgyfPmfVIP0jdUvSjxMc2Adv4MjjCQFcHP21Xd8VDqPGPi72Ko3eqal68eeeM9q30v+6Pq0hf+2nWvsmf14qMOrO7wC/ts/cSO45Uy+oYei2eRp1Gf4I0mQrFoYzQ87EP/jutlZIjSMVgYLoTopOVB2x50eehDhdqmE318O9E3YuU0e/O0N8dri033lzOiudyv+x99bBOI/hpj2qZgXHdNbQeDe+2ed9mh3f2PhUawKPEhGnPHO96xPr6Xr33WBVHa3//936/HJ3OtRRrUIp522mlbP/FjpB1qj0mv+93vfls/lSyDLDhP1hITRh+vK+8Ob7MlLEtyxhln1J5sg55CZ/URQuA8jQTPEEz88rIZfKUwQBtgiYrAo29vCMvnMios/Wj1qi6TsN8zKR188MFFvPhWA2LMHnrooVPbzT2XCsaY9zMmThON62pDSJUoEoeJmOHYbLtZaEtirl1Qrr3f85731N/HxnPTcK2OExNjHwhIhiNPtzZYBK7F34niVy/eUZ9rK9fLiHD93ocUPDN69cVFFZwvC0a7egvis+uqeNuNsbV5b72aCyAwZq3K5N661+tsuBt7jIH2XNkkAWLcIjRFubrAkdQuaH/a055Wj6Xut2Pd7na3q+5+97vXorVU2ijR43icXY94xCPqbAEraxHBFgIgmGZxz3veszr99NOrI444oh6jXcOrX/3qWrz82Z/9WXXMMcds/eQO8WGOu8td7lLd4x732Pp0B8S3OppkOaT4SNaSvuJjkvFdAqsXMbbkygt1M4jHLufL4yTtwWRYCoac9jLIg6fLhMswEoo3Qc2KdLQxMdjkjgetz+9NQ6GkNACrXU1adUkUgSgzIZr0TEiz0thKrhhGZBkmeQxn4WcYMkSo/ml1GMWhzQn63e9+dx1N8Pksmv277wS/DPExCcaL+xPGi6J1KR5wT5tixL2ZJ843RXxYaMLeK5wJq7aiWFf0bY4V91X/du/0T/1U/2SYuq/x8n0Jw3QZKMw25h5yyCFrc85d4HDz/BuHhsIJJnrLaXLyySfXY725CeYN88krXvGKWogOhQh4y1veUj/vMV5bFdJcevvb37564xvfWH82DednXm86wczHav88exxlMdaE+HjiE59Y/dEf/VH9WbI9ZNpVsktg8CmZduVYJizGFQ+1wY9xWmIfEedaOu2KQHJML54mqWE8RM7bq6+AiBQSxkcJ4njt69a2PFgmUoaBFKAu9TN+ttS5dTkWg5+nMVbbYmhO8gz6ftH+nviby/YrEQpWcXPdjIgofo2CZ8+MyT9yzXk1GbIMjYiabCKu61+/ulv1m6/9t+qg53ygXuK39C7qi0afitQd95mxyfHA+GTcEpPEpvvpvrZ33idcVvX+eraNP+1ndbvRR/SVoX0m0q7GYCw7/PDDq1/7tV+rhacoCAfL2972tupBD3rQRT8zFM/929/+9trp1HQU6V8iGf7Pz8zCBr3t6Lu+6rw5rZzvJAgUr2R7SPGRrCV9J4pS4sMEyliK1aAMevaT8Co1eZkwSosPxySUiA7521KsFCIOPe9pYmEobTGjnXkktTNPm8gM4cFz3gXHK2XszDqW81VQrl1Fkwg5HrdpqWiOVUoUTWOVjKhmwbO2aeaaTzJYCRPtyWO56HZaFu//7P9Uf/7pS1Sf/Mq3qu99/4f13iKPOOmstRMgQRjrXu7hdiz3WxJj2FgjvTT6hj6irwztM64rPP5jITwgqiXV9c53vnP19Kc/vXrnO985Ku1WRJCDSd9p4zNzVtfajzbmadc/SRy98IUvrB1uXqLoL33pS7f+J1kWKT6SXYIS4kNKCSPJBMrDy7st0lHaSArxUcp45pWXXsXLIx3CeRtwx0y48bulrp0hA8eLdjYxSWVzvgq2+xjVJY18f3fSsdoF5c6TmJuFY5W6r/NY1t/pg+v3zPBstg1Wbahf8VS694pcpfcxPiwNSqiUFuXL4PX/8tUL/734vXj5B8/d+mq90K/ieW1jnJXqM2u5X04bKTbtxQoYuKXH0i74m9OuZ7uY1jf69JmSosqYDOKjJAQCJqVtxWecUH3h0Hjzm99c13aY8wL3WTH6s571rDp6c/zxx9dz+UMf+tDqMY95zNZPJcsgxUeyS2AQHio+eOhMkDx3vDSWIWUs8ZqMOe40YsIYa2j5/Vh9y3nzREoNaw7GQ4nJupQxGNdsCVcGPY+XdrZAwBDPWknx4VhNQ15/iFQw5y0iY+WgLl7GvuJjiIAIkbaK4mMSYbDG3iOMVakU+qnIib4gWqduS3RErZGURyKFsF716zz36zZ3u7hwPueCHUsvrxueq+hjXWhGv4ybxObY5X5LUtJIL8Vnp/SNrn3GPdJupa6L+PA8zhrjtCMR2eXFGQb3F5MWYohxv29qFBErZYuT49hjj936dAdSQq2CRWyI3jzwgQ+sBbA++fznP7+OuibLIcVHspb0mfwwJPJh8LakKIOH94WByTCKvSTguKUM8KCE+JC2QiwZTHkhFdmhb7tNI86xlIEvigAGJSNFFKHZzn1xnaXOLY6lP0TKnfNkPFkdpY830LEWbUyVusfbhfNneCjOltYTS4PG3iOMIP3Fggnt5WBXce+Rq/+0IvOL3/P99hq/UMOy0Xe9xkQK3F/3cMxyvyXxbI+5nkVwzSl9o2ufibmji0OkC8QHY37W2GKutJBGl5cVqhC1hhwMbdQJQX/oCqFCVOgrCuT9rXmYyx796EfX/cCqWclySPGRrC19jCyDsMGlq0Eq5cPE9/GPf7z22qmPYMC3JykD1ypFPgy+8uZ5iRlwxFJ45UuKpGiHscd0vgpTGZJQdMgAGWsM+P2u93oejuU6tamUO95a/aFvKhj8/KLFR7Csv7MM3AMizxLFFhwg+twDkTEGhnblUY29R6x2tt3pPMFvHGjFsYv3kwfc/OpbX60P0af69vt5GPPUc7mXsbdM+/5yAHn+RHJFRyMdz1g9Zhzyu2PHm9JM6xtd+0zMSTGXjEXRN0fALKScMvi7vNSLIFKrIv2qSXympqgLROnd7na3+tm3QhZB2xVjOSIikyyeFB/JLkF4gOZNUjww8s0JDwaL9ACpINNSfwzuYw3wNkPEh3MV5WB4mYxN2jyKsfqWY/qZUgZpnONQo87vSbFiSMjlj/04Si1Fypgoca3O0/lJD4jVwaSODEkFwyLFR6yOc7NjP1Q972OXqAudNxlphFe60pVqp4D+zlglSvQlnzfTeUQviUffK4Imepclzm5+jctW9732D6rr7bNntccld6/fjz3igIXspr5o4nlfhrHevr+ioURJe6duzgv3d+jqaa6plJFeCn1DHxnaZ2LuKHVdIh/ExyzRKYpx17vetdNLWiXUAhnzpbC28Zn/67JcOrF15JFHVqeeemr12te+tl7pqg/Sk2E1t2Q55D4fydrC09G1+/JoMELsnTEpjGsC4kUzCBlgpXeEx20WDH4FlJYKLIWBXsoUQ0oxHE4567zquPefU519/req/fe+bHXMrfarDjtgR3Gza+PlZVDx4IgctMPtJmReQ5tElZiQtLu13xl68mj7IGVGRImB4Hy1tfa3YSPDvsQE4PhEQ0xyQ2iep/a0oWK7XfvCSHJ9olGz0B7Sh7RzF0MvVsf5MZ6L3dbWyIUIHgO0i/ExDUaY+yf6oT94j3QOho1oSvM19v5OQvSF6LGPxLpjzOUwYDQSANuN54TIdF/j5XsY5xjMzfurtqA9phsXPWcEzqagrxPbVpYLB9QY7nOf+9SpcGeeeebWJ+VQn/HWt761jloSljBfWRHPfHXSSSfVn0G6q2uTmmtsgD5w73vfu/rrv/7r6uUvf3l1//vfv/58ElZZa69+Zd6UISCSZj7vkqqVjCcjH8naMk8YNAmjYlKKlEFVGJ/XTB4yD+qkPRomYYJbdNoV4fGwEz5WnfWlb9TLLnr3/Tv+9Qt1LjRRZVJlaBuwJxlQ7WOORds4poG/KwwXUaUo1Ha+6iacbxjYpc7P8fqcWxNGP9ER5ynVxzmWMEy1W1fB3Kd/X3wVnB2/u64rKpXC/Yt0HiJGn+NBF81sr75EGLrnUgCl+PTxns/CMfrcy1Um2mNVrsdzPna5X30gxsdNoXTaFVE3L+1qKH/8x39c1wARGn/yJ39SvehFL6qdhPqY/2vy+Mc/vr7PzRWw1GsQHuFY/Mu//MudXu5/cL/73a+6wx3uUD31qU+tXvnKV9bpX8YFjg5fp/BYHik+kl2CSeKDB5TRYfUc/x8h/T6pP36PkTvU0J1ETBhhiIt4TOIF7/lEPYEypHi4Zk0OpY17dDXwGSy8v1LCTASRs88TGcT5lWpHE1ffYzlPnjXnyfMWBeUmtJLnVcKgbTN2dZxdCc+3xQzaqy8R7oSKyKPVtNqb5VnEYVJh7Dw2SXzEcxDP6ypiTO6z3G9ExFahPqgUMc6XcJiAEF+U+BAFdh/MY0972tPq3cdF7302L0IMzyeslPZbv/VbF3tFPSHudKc71Sm0xx13XHXMMcfUq2ERqSIvf/AHf7D1U8kySPGRrC19JvQw6IkPk4tcYYMb492kxPjouoFdkxjcSxr1zXOFVKtJfOW7u9dRGkV789qiLWhK4JjzjseQ403meYzC/UlRpdLio6swCkxI0hSE/tsF5V6lBEPJYzUZuzrOrox7wvPqOSJACPm299yyr6J2POdevu5T7Nzu7+vKOoiPScxa7jfGse1c7rc00Sdj3B+Dayc+ms6i0hAe7373u+v5wutd73pX/Vmbv/iLv6jPx3MZSAXz2bSXdNng6KOPrh0KnGCiXlJrrXBlB/dkuaT4SHYJQiQQG3KWTTTSaRiZQvZDjYNFGfWIY6rxmMS1rrznRXmv84hjlvTqzTLwCSfeY6kOBnnF7yaTSeu5B86xpPgw8czD3yNE9QkT7KSCcn2j1Hl1FR99++PFV8HZ8TfWcUWlVaDtPZeqJWVLioaaHSmE7WLn2HtEzUHzHne53+tCXMu6iynnH8v9GkPt2k2QbNdyv6Uxd7jGUiKRIFhU5CPZNUnxkewSxGRhhSWGZdQbdDXepxGippnONZaYNEwgjN4jrjtZfCg678oiRFKcYxteJca81AYTuZQHq9bMY5aY6UuXY/F6EUc8nKIx03Yod6xSBqR7uwhjtL06zr4XdpknH7LP2habryLGDf1Dn469R4jqa1/72nVRb+w9ItLXNFajAHoTiGfKM7EpGMNcjzFyu5b7LY35qFTKFYiPRUY+kl2PFB/J2mIymIcJQZRDqgSkVjAYSnlxFmHUw3F54k1we333C9Vjb36FHYblpXavDrjq5aoXH3XgRatddWER5+mYTQM/UpcU7zHGGPPSHLoaKl0EQ1dmHatZUO7nZhXqQz9bxnmNhdA48egbVR9+3C2qxxz4g+oWPzd+lZtkOu6lcUTktLn3yA1ucIOdjFWpO4xB+w/odzZjW9faghDOrn1TcB9ifGzDObWM5X5LY5yfdk19cQ0pPpLSpPhINhIDpkmfB9LkYPJQaGot8i6ipSuLiHyY0EyICiBNICa7ow/7peotx9y0+tcn3aY6+UE36SU8sAjxwQBxPOeqjXkDGVWML57h2L22KyUN80mCQZ+QFuM8o6Bc286bVMPQKmFIOK9lGSSL+juxn8hBz/lA/e77RVHyWV0GjFVLeTaNVeLEOMGItayn4vVJtQXL3HtkKPFMDbkvy+w3fXBNXcWU65aSJfXOEuHtCBgxqoCdAGkvWHDeeefVi5ws4x6XFB/OmcMm066SkqT4SDYOHieTurQHAyZvpImCYVBSJKCkUW8SlKpEMDkeI4Y3dUghfJuYXEuKD9duYhKdEV2SuqSt5U8PMU5Kig/HMsnHRN8sKLd3ivOMgvJ5xM+UODfHWobxsai/E/uJfOLL36yXffbu+1UxJFcN94Hw8GKcHnTQQfWSoJNqC0RGCGN9VHqo+rTS49VY4hnoaqwHq9pvPCNjDXVtEREwDo2+y/0u4h47ZinxIeqBjHwkJUnxkawtbcPRgMvjZHDnRTTBNz3wDIDSA32pyId8ccaHnHFFkCazklGamIhKGfdqaIg85+3YIgizUpe6UFp8gGERURnnyyBoF5TPI45VwpjvIwq0xdD2KNVv2kzbN2QR+4ksQ6QtA9fRvB/6U7u2QITEggwMWPdcahbnCc+5gmfiRAoXQ7DUMzKE+NvxTHRlmf2mD9HH+l7PPIyDXZf7bd7jUsv9Ov6YsbiJcRMpPpKSpPhI1h4TiInZIG7S5lE0mbd34GUklxYfMWkNPS4jPjbeY6BEPnHpKI1jO9exkQ9trY1FZ6SHEUjtPTuGUuL8grgvJnVpLQw9fWLI7ulhOJYw+hxrnlHt//0tL+2hj0h70B983/U85v2dIeR+IsNoio9JxN4j17zmNWtxLDIXS8EyYhmA+rE9iYxzonjNVJ5lEX1q3vW0WdV+E+NNqSjBLGYt9+seW5gglvt1j8cs9+u6Sl0TMYQSEfgkCVJ8JGuLCVB+LcOdAS9NiYE5rch5EZEP52CQ72s0m0iskmKSYUAoWCU8YoAfcsx5jD2mSUhbK5o1iTLkiaS+hsg03LMSBj5DPXbAdW7a1QQ/1BMYfamEMe98ph3H5yE4vPxd9yx+J/5PHw5B4vtJbTbr74wh9xPpz5D74P7FUrA2Wou9RywFTaAQK+1UHmMgb7po5JjnfBbR1yaNr7NY1X4z9HpK0L7H6kbcY9F6c9iY5X7d/1LiI9KusuYjKUmKj2RtsbyhVCXGmIFbobMBexqMz0VMyn2PSzA5b5OK+ghezvbGe4sQHybYIcfUvtLZoq0ZQlJEGECTDN+hOL8xx2Pk8RJKsZJLDcbaWI9d3JcS1+pYk47TFBfe/Zx+xVuqnb18r19oJ//vd/x8U4z4unS/aTJt35DcT2Q67lPz2R6Ke69eyVjRTuXhCHD/1RFYbY5To7nyUnvvkaFE3+17Pavab+JZ2Q7xMQn3uJ2SZ37ou9yv91LiIyMfySJI8ZGsLQZDg7KlUrvsI8F4Y5yVxiDf5bgMRBMFI54hIORu0zKGZRvHLG1EOmYfA9o5xophJjdF+9pahAljxUKbMceTlmBVGZ5B/UK7liIMkxLGW4iGwNeu2b327nt/zysMPF+7d6JM+kpTkPg8fjaOFasm6ZOzoiNDaO8n4t33uZ/IdNyLvsZ6VyKVR6opoc1Q5Rxor7wkYkmQECZnn3324I3yXAv6Xs+q9pt4LjxHq4rnvu9yv8YA6XjS9eKeDSULzpNFsNuFHXP8jJok24SBtyvyZy21arWZkvA+MXhNBpPwiCkk9Pd9zYhvRzraKDwXcjfRlEJqhtxiKV7zYMw7h/PPP7+e4KQttZfOdT28qgcffPDWJ+MgHBjLolhdYTxINZH/bpJ2nrzAIh8mYcaY1IYxxLHcC/uXjIHHkmFAeOoLhIF3L/0hhE5fQrjwijIuHYtHvH3PfN58Df17y4Axxbie9lx1xYpKCpvVHUj/4W1fptHL+GfA9enXJSFCea/jRZB4zmDhBUal8cu7/j3LEFfvpX+Veua3G+2htsK9Wee0Is+/6FbcY/Nc4H66Nvc3Xp4rz38XXvGKV1SPfexj67l2lUVasl5k5CPZZdiOyIeJXr5u1Ekwhrss8eqYi4h8zDumSYxxIaTPYFIYyaPaNmLheOE5LAFDuMvxTjnrvOpux3+oOvDpp1d3eP57qxP/7tPVvvvuu1NBeRjVJc4vjsW4H4v77jjOqxmR8DfGCAFeTuLtU5/6VN3PRKgIzUjXcuz239Zn59WOrDursMRrCMvtwv0XrbTsq3TJtudc3/HMK2LnOVfUPq3QebuvpTQxHq67Ue35JjBiuV/fR2H72OV+zQOOvUn3Pdl+Unwka02fATHER3MyLYHjto16Bl2s3e//ok6Cx6kL2yE+RFpMSqIIBFIY89Pa2ARX8hwdb54BTHg87ISPVWd96RvV937wo+rz3/hR9eefvkT1Hz+6Un0fgjjnEgZ16WPpG7yIjueavfr04yaOwYDQzxiKhGKk8jmue87wiFQt79rJ5/F3PQ/uY4gRL1/7rMQ1byersMTrqhnszqW5UZ69RxQ6e/c9R0Oz0Lm594g0nlW6lrFE//YsbAquyctzP2a534iO+XqR4oMguuMd73hRVMbXPuuCsc95TXrd73732/qpH+Oan/3sZ9dpisZC774vOY8l3UjxkewyMLgYAqUNKscNz5HjG7zVSUiBsfdFs06iK/OEwhBMsJOOyRDmBePxNGE5X6uvNI35STjHkm3p/GYdT9u++PRPb323M8e9/5ytr3YQxkSJ84tj+ftDiX6nfaVH2N1aKpfUtqEFwTySjmF5TpEf3uxZtU+uw8s5hBDx3o6OwLnqKyFIGCK+9nmJNl0WuTRwN9x7hp9+1C505k3XN6VciYboB21DdZ36RJMYD41lm0Jc06Tx2zMv2jVvuV/REQXullGXlmbM4JQaMwZOwt/i5CKAnvzkJ1fPeMYz6qibvuf/unKXu9ylet3rXrfTa5L4eNjDHlY9/vGPr1cUe+lLX1rd5ja3qb9/+MMfvvUTybJI8ZGsNWEsdSEG4xAKpXBcA75JWGEnrw0j0AAq5B3Gax9CfJQc7NtiwbEVkhNKajt4zE1EXXOfXZdjlDI8HC8mzjbqJNQAnPPV72x9sjOfveBbW1/tINq8RPtFHxtyrGgf16Xf6Q8mdHU38uytUCMlz2R/5pln1teoeJTneVo/dSwTs77m+KJqXcTiJLSTfsG4YJioAZgWHXEdzslrXaIjq7DEq7brM06tCvqEcczSvlYSNJ5d7WpXqz+ftC+FtC3fx94jQ56XZRN9N8aLTSDG0C6CSr+ctNyvKD2DnBhVs2RMsoiBvWh+9Vd/tXrKU55S3/OxMPxF00455ZTqMY95TPV7v/d79XFdwxOe8IStn5qPueve9773Ti/jbBNLUR9//PHVUUcdVZ1wwgm1OHn5y19ePfKRj6yOO+64+v+T5ZHiI9llCOMsBudSGMBNxAxIBpkBnMewzy7abWLiKHmujhnHI5TCeyn9gmFhouljJMU5lhQf7WP5XrqH1A/nvN+VJi+lfM29di4qD2OixLkNPVZTeHjXttoscrMJEFEmxbvSpSxCAKkQRMh73/vei5ZkFkUzScvPdt/8DKOQWCRiSuJ6VyU60qc/TmIVlnhdV/HRJvqvvtHel0Jf1Fc4MSbVFdh7RN9YNWI8jGd8E4hrivG5L36PyGT8v+lNb6qdGxZpede73lWLA231Z3/2Z9WrX/3qrd8YhvHs7W9/ex19aK5O6G8fccQR9f/5ma5wUHlN4w1veEP9LLajHL73uf9PlkeKj2SXIcRHqUnQgCVlxssxTciMyS7L/s4jJo6YSErgmM5Tqg/jwLEZr3KAGZd9GWqUT8PxmseKfVwUURNGBNLDbnvtrf/dmWNutd/WVzsoeW5NY7sLbdHhe+fjNckIDQ+zVAgihBjRjyI6YtECAkRb8C4z9IkX/1eyf0zDeYfR2YyO+N7ncV1x3fqY1ypER1ZhiVftsgniA+5jPFtw//VDwpkBqd9OqiuIvUdE6yLVkGGpbbaTuJ5NuT+IMWFIJHQS0juNT3e4wx2qP/zDP6ze+c531tEtaUtjEGkwRpiD2vhMOnDX2o8XvvCFda2Sl7qlSecmQudeq21qoiaGA87YmiyPFB/JWtNn0igpPiLfnmdP8aZJ2DrszYl5DKWjNCZ5XiERGnnaIZSkTwwlrrXUOWrDMF4Z2zz87q/889ih/LADrly9+KgDqwOuerlqj0vtXr/73udNol+UMHrjWF0MJT+jPbzib/c1bvysVIiIjiiKJA4dhxHA2JN7LzoiVYuQlLoV0ZFlGHTOxf1YZHSk1HUQGicefaPqw4+7Rf0+VnhYKevIV32kOug5H6jf562c5Tr63P9Vpsu16A/tugLec/Vv6kpEMKXyGD8JEv3YaluiJn2WTi+BvmncWSZ9+09fYn4rdV3mOvetiT4waQXEPhCgEOloE58Z02ZhrLntbW9bPetZz6re9ra31WlVNuJ86EMfWqdxNfH3pI1NcrT5e/P+VlKWFB/JLkMJ8eF3TZwMPsYULwqvH0OqpNEXE0cJw94qSLw6JneThgK/EkKp5DkGjtUs1pe3204rIjROftBNqn990m3q97bwQFzbPAO3C3GsWffX/4WhHX/T73kNNTxjIQDFmFK1iEWRkWZ0RHGwyZZBF9GRqB1h0NlMLlatWSSuU38YEh1xfs12W2UYin2X7u1isK8L7lE8D11x7fYPYeBxIvBqEySECa+zcdm+FDzhUrW8eLzbu3YvgiHXM4Yh/acv0V4lxIe+G0vtzsLf5NTq8jImwbwE40SbSFmelUYFc+9pp51Wi4073/nO1QMf+MDaaaV/Pf/5z6/HwMDfm/S34O/N+1tJWZb31CXJNhOD8RDxYRA2QTKMrfoitCu9gCfFccOoKkWc65iJ1/lYoUS9BI+4yd9xRWpKEOdY4roN/DxT2pGXjUAaWqyP+D3HG0sca9p1+hvuk1cYM15DDU7H0xaEhBoP6SwMteZ9c2zREfdUdER06JBDDqmFSewjo59Kd2lGR0z+qxAd0XeifaL9mmIkntFlnGcfhi7dO7QvrBr6d4lr0QdEXWPvEWMpMa2vX/nKV66Fd3PXbivxSb80Brf3HhmDfhfj2DJYxtLPMWeUuq4u4sNYY3WsLq973vOe9e9E5GRStMuCBRgyV7nuRz/60XVfPf3007c+3fH3pkXW/L1S82LSjRQfyVrTZyKMwbiv+GCsmfysdc/LzDBWYBlGaURUYtAvQZzr0GNaLYno4PmJPTtK1wjMM8q74HejoDw8T1bWGTsRRL8Yc25B00hu4nvH15/i74wRHdAGBAOhIMWKQSZ3vssx9UO/o28SK4pEIzrC0BMdkW8f0RHRsO2KjhAhER3xtc+j7bQrAzNWTFql6MiQpXud85g+sUq4H/Hcl0T76A+EB8eOInbea0Xtvie0Fa3rvzzbnEAigrEy3ND+694s4nqmsYyln41H2rPUdZn/2mlXbdy3k08+udPr6U9/ev07kVoV6VdN4jOpp0Mw5yGiLPD3fG88aePvDf1byTCW99QlyTZjQGagdRUffo63TRoAQ8iE2PZAY6iomcVQ8cGzQyQRSww7xmcsw+qYJtu2ET2UmNyGCprY/V0bG/ilWaHE+cXkW8JYDcMxjuX8fO26vcIg84qf7YtjKMwVoVCXQ4ANXQggcC4RHZHuEtER/TiiStOiI7ydpfrJLJyDfuk69VfCRDErjzf0C9fhXLS1Z6wZHfFZiXvclVVYunc70dbu2TLwd3jcLTYhuicF06ITVhLkQdcvpGca74gRojr6L6HdpV/oP8u6Hiyj/7gmz9TQsaiJY3URH6IKd73rXTu9zEmI8c0iBG185v+aq2D1QcQfCskD454+ofC8iXHX7u/+P1keKT6StabvAMsIN6DOgqGjoJc33sCk4FdagCLKSSwy8tFV0ITxahLm3TGwK/Jshstjki11nnGOfY0/1xQeeOcd+14wPFHKmNQ3Shwr+phz9XJMbRjH1q5jJvqIrNlci7FNJEzra2PRV214qeZnUnSE6AjvsqV+RUdM5OqFFh0dEe0ghLQDweS8okDUS3+Ltm7eh6Ygad6XRTBk6V7nOqZ/rBLadjuvxRghuqf/EiEiujF++FzksLn3iHffMy79n3vRxPXEOLYMlrH0s2eg1DUZmzBPfAxBHdDhhx9enXHGGbVoDEQhTjrppPr//Ewg5U69ZXMckpbaxn3+oz/6o7qvHHbYYVufVvX+Hvrui170oq1PduB7n/v/ZHlc4qkXsvV1kqwdYYR0hVdMeH+accfrzJMmFYiRJoee92SWd8xgyIPMYCqVN2owlBLD+GoXXLcRQeAp5gV0Ds6ZIdk2Ehh3RBWvd4nJSbtrJ+3TnCRmwQhg0CoktWkVz1a0mUnDBBNFqGOxv4A0uTEreiHuhf5AzEV/0yfGCA/HkTaiuNb9EO3g5Z3V10rj3Bn2rssz4e9rf4ac+yKSRngwCLSn/sOrzNiP3x16/YFn2PPjufO1GgCFpNEOju9rbaRf+Nq7z+Nve/e7MR6ECInP4mfGwnN97Stftjr3v75TffO7369+/sKvn3j7a81cQUvbMYQWJSiXiefTtUizWQXcU+dj/NFnjX/6jnFT1E8/kK7lvI39xkjjpbFG//B/+tM+++yzdcTFMqT/9IXzSaTeszwWz749Pe5zn/vUEfTSGPNe85rXXLQHB7F4zDHH1HOVz9zHwO7k97///av73ve+9biO3/zN36z3G+Eg8XrHO95RF51zoDzzmc+s7nSnO9U/B/dYP/D3iBj9wOpYluX1O0cfffTWTybLYLcLb/jiY+tJsiBMIH08sjy6JiWRgSYmKQYmY5o4kabSdYI1kb3vfe+rV75qDpZjOfXUU+t8Z2KhySlnnVcd9/5zqrPP/1b1M5fbvTp47+9Vt/i5PWvv3yxD26RkcOftLiGStJlzZCya9GehjUwIUmoYYc61fQ5yt0UApFa4R2PhuZeeIXI1BkOkFVUYNyITxGAYv0MhvqxOZZJ1f5s1RKuG63f/TNbO2zuPqM8JAu3RfBEkXXH9vJ6Oy1jS34cIzxAa3tuio4l75qWtl9Xenjn92Ziy7qzrtRDLRLO+693L+AV92FjPu+/l+lb1WeyCcZYTrb2fxRA8myKxxlIr7C0CK/o99rGPrdObIZr1nOc8p55XmhBAhIM5OubEV73qVfVnUndFQYhQzjebIf7ar/1a/TNNREmf+9znVq985StrMWrMsdO5v1/C4ZV0J8VHstbovpMKyKZh8jTZSDmB32cQG7AdRzifIehnuuL3hI55cUp60ByTF9p6+QHh8bATPrb1HTy+u1UvPPIXqjv8v9l/m5dPLq3BvWukYhba7j3veU8dvZjmZWMIWjJT6oPBndEiUjLJcI/zk+I2b3WVLhCEirVFWIbg+rxcg0lYP2GwOHftx/vG2PZOsHYRIyY/HjqefoYOEVbiWpeNdmDIxYt4CCeA/O8QItpGW7XbRrtqA/1CrYd2EFkqhXsG5xn3MV5tGJrOz2sRRidB7R5HTdM6synXoh8QvgxfGO8jxcjXrjHEiH6sj64LIqmexZjjxmA8vt3tbldHqxn1SVKKTLtK1p7wYHVB2g8DkAfb5GNteREPRpLBlXjoa4AwWhyDR99kVQpGOy8cj3vwyDd+rLrgW81Izw6j7tyvfae650Gzw+yRHubaGctjcd3ShhiNEQZvwiiVwy/VQQTCZGgibxuiAREX3qgS56f9GMJDolGME/0qvOgEE2HKQ8ow8Tmx5Nr8HeftemOJSKkg7X4k8qQ9GOo8/AzuEkbNqZ84v3rcyWdVz3rPZ6rTLvz6Cpe5dLX/3uMjR7NwbSJXIm2eGSKZ0HN//R/PcqS6qEUS1fK8aVP9kIGk7dxrufslIl1NQkwwJL0IX+fl63b/C1HinjbvefzftP7aFdepP5eMim4X7qdnqjkmrSPuqQidPqoP64PStYxl+rU5gifd/xszpc55vqUh6hOTnu9VwTk7t2ax9VCkJ51wwgl1ZKCkcyBJMvKRrDW6b5/IB7GhqJZQEL41AUWK1RgjQwSANzCW+CuBgneTvPNjFDH07/ZXn6v+74cXP0+7fdt0bxY8e46pEL3URCIdSWSGYR6YuHm0GZ0M9dgIbx5xfjYhG1unAcdynYz8ruhPXgxQL30iXpPQ98Lz790rfi+8pjz/cqe94nxKpL2B8Pi9N/771nc/5oW//gvV7a63vTUG+iwR0mybeFa1j7bwHEYbbYcxF4Ij7nu82ji36Ad9z9NO3vr/0AjcKmGRCPdsbCrjqiAN1xjLGTAJzoRI04pXPN8Es74bERKizOfbjfo/Tg3j7lje/OY31+lOkS6bJKVYTemeJB3pO9gzfogPhry8USlI09KA+sCzyogpCS+tY/KYy4d1zlf/qcn59Nfca77n2PFQ8jzjHAORJUY/D6kCRfnCXYQHwqgzuZfA8SYZktPws67Fyzn4/TA6p0G8mpQZL3KsLWVLPLl2AoMXUm0H4aGP8JiayEOkjOVlf/u5ra92ZtrnxMo9Xv7h6oZ//L763feLQt8gIglT7RPRrKidEQGRqy21w1K/UiKJVu3Tx6EwBvfXPXEfGWzevSJSEvc+RAph7dycu699Pu8+9umDq45rWQUDuxTuqfs8DX2WY4rYEhmPvUcISY4V0U8pu/qwlQZFNo3Txuxl9eE2+qX+WwJzJUpG9JMEKT6StafLZCjlg0eIEejniQ4TSKlBmqFl0C+J84wicZOgWojfP2xyoecxt/px5GEaIT5KGL2BidvxFCRrX5OvSdm5MjpnText4mdLnV+c2zxCdIQxCb87xMjyeyZqKTaOx0j1tWgHg1vahpoP3nBFnLHELoPb//Xl7Cmbk03azCyiJGd9+ZvV977/w/rd94sUINrWKlk8zNqD4caIE80j0og1ok2dFREgvcWqV+p1iFjpWdJewuO8aNw/z4lzIUY8d9597/PoF67L+bgmL4am9xCuTTbJYHdt2mBTcD0xLnbBtRvfPMv6sGV+CRL1frFCmzQ7tST6b+ydow+XcjjMQx/sc02zID5EdPT/JClJ1nwka4/BdhoGe54oBg1DUJTDSiClCyZ5+hkqJULTjBUpSyYx12ZlLufLCJLLf52r7Fl9/mvfrr7xve9X177w6z+803Wrww7otjKXtoi6hRKod9CuPNbenSsvN+9xX9wrqXBqCEoUxDNkTcLTFgHQzmFEhlHAeAgDcwiOx9BgfDBGFePzmhIk4fEXcdNPpG34GfUQ7rV7LlLCSCFEnINJf9a5qPE4/5sX97BazvPIX9p5x151IZN+9twL+1L7Z0sgjc5z5z4wzKxew5Bpoq1FiETHonbEymlRO8L48ftROyIP3/PruQhBsGi0v3PxtyIi4uv2fWn2pxAhvndvN6FOArF8dddo5qrjeqT/6W9DafdhfV39k2deP9FfLVGtH0f9k2fDeOl39amh480k/A3XUyJ19fTTT6/F02Me85ii55gkWfORrD28jpO6sSiHkDivPINPbQLjzmB6+9vfvuhgKheawdxewrcvDE/nx9NrQiM4eNdKoI3UpsgFVgA+Fucq3YCRZcIlOsZ4yBjiaki6LN3bBVEFE/ukVV+0RYgOX+sL8RoKg0KKlXZRSE10dG0PueV+L+oj3H/nxThhSHgxbrw3hV2fmg+pViIebfa45O7VR55w663vxqNNGUCELkHeteZnGgx5IiTaxnuktHhGmu2znbUjzf4UL4YnIao/E1b6l/OL93VDROqLl7hydfKnvlNH1+xbYYO8kvtULAv3R/RRiiSnwCLRL4wP8Wx7mZdgjCBUmq8x46h7JOpsTB7LE5/4xOpv/uZvaufSmLExSdqk+EjWHh4kg3tgULdKh/qDKPANTzrxwRt76KGHFku5AkPXhCH8PgTXIP2G1zyKtHl7GV3qJkpxyimn1OlmsU76EIiEKChnQGnjEmvKu4fOb9bSvX2wPCR+6Zd+qX5HGIVhKCKMwaE4Dg8qY5sxrL+N9TrOMrh50Zti5O//4zvVyz9wobG/ZQw+8JY/N7HYXI2HVKs2B+yzZ/WmB/zy1nfjYGCFeI5loktHJ9y/EGvxaoo1xlu0jRcBv2zcvxBg0ScIsTb6XfO16oLkBW96b/WqT138fh57xAFrJ0A8t2qNpE+JVCwbz3MIkXgZW+EZ14/1X+9d9x7xDBBUIuUlHDgPf/jDq3/5l3+p02mTpCQpPpK1J8RHGIGWvSUseLRMKk3DUm692gQbJk0yBobimP5+XyPc40cQEUsMFtGDyB0WtRGiV59SCmF0XjE59kPQfrz7Jk7nKrrEEz9UdDXRFiIzDLUSXjsTpjaNe+L4vvfuNVZ0gOGrPXi4Gdt994jpivNlcDfFCEPf5/5eGNphdE/ynPaJkvRF32dse/YYTsSz81gWbbHmFTU0nvOmGCHuF2nkNzdObAowbdTug15tQoSsmhhxrnd84furL3zr4s/M9S4UsCcevV77QJg3FIlzdkhF3W60r77TFCPxjOsH+q3+G9GRSfMX8fL+97+/fv5KLLX7u7/7u/UYL5qSJCVJ8ZGsPSYRA2TsGG3Cl/IyKbIhZ1yxb6mN9gKpFSIuimi7Emk6zkmuMG9Vc0IRCSFM7EheCp4+KQaEQx8YvsSQaFIUUDMyJ0UXxlAiMhOIcDFAFTkb5kKgMuriNRQGpMJxNS8RqSpVR9MV5xCGdggSzwJiGdAwun3vegkQK2HNi5L0gdHP2Pbuvi1KgPWlKda8GHNhyIVXOdqnRHTEsUUrRQUJcn1iVgQsxEjzHb5u0uyvXtslSJzfQc/+2+r/fnTx50bq3ocfV85JsgyMDVYRlOa5qnuwhKgOMaIfh6jWx5pixPjj50te0xFHHFE/G29/+9u3PkmSMqT4SNYeRqaIh4meUTzLCDSAW4FEHQXDoxSMLxPDzW52s61PpmOCkI4RKRnC/pMK1XmReZNvc5vZ+3f0gafP3+pacG94cA4MKmLOuTaXJhaSZ/Ay8EswNjLTxJ4uIhIiH67DKzzKYxCNiugPr3ZEqrYb10cAh8HtncCFe8dQaRrcY9MOGaORbrYd0Y6+hCEXYkT7NKMjzbYxhvS5p4SOPqFvEPdDV9ILIeJco896tQkRskwxwqt+55d8cGMiHxxVVmETtZU6ui7osyFEvOvT+gs8h67LmMShFU6HoRx22GG1Q+Gv//qvtz5JkjKk+EjWHqvJGJDluM4baA3MwtKM5ZKrz9ivQFTAsouziAgNY4WBPctLzLBj9N/udrfb+mQ8hBfjiqE4DxObpU69K1BnULXTeYZEfGYhX9nfGruJmWGNIJQmZvJkVIp0jfHIE1nus2hUCF2T/SrDYAxjOwzuyCvXHk2D27V0NVQi2kHcRLRjFQRYXzyH0S5hzOk7riWiI/GalObiZ61kJG3S73iuSnrRIxoSYmQ7oyP6/0ve8oHqzz+9GTUf+q4ouKit+7uu6AucLPov8Wt59sB4F5GR6M9dVyJ0XBkCag5f9rKXbX2aJGVI8ZGsPYyp8PzMg7f6jDPOqFdAKpETG0jBUSxu34JJNNOWiB4RhHlpX47HwCu5MhdPHyNTWH4a2tP1ED/OcVb6SIiTLhGfLsgtVqdD6AzBcObFSDMJ88ozlH1mIg5DMgzuLqvK+F33jfBwXOfWReiuIq6FAG9GRxgu0BbNtvFqizXXbzlkL15VfYNRsym4Pv1Z28TLs4uIjkQbSUfRJwjcSJvs0p/G4hyjj8fXXm2aQqSEGIk0pa/v+XPVG/7t69U5F3y72m+NV7tyn+2hxBG17JTJRWHTQ7Vuor3GcdcYr1iwQj9uipFpThl96vrXv351j3vco3re85639WmSlCHFR7L2EB7hzZ2HyVpdgSVxSy6vOC1K4e+pC/B/BngGSrsIfhrWhRdZKLky17xVuZoF5aIPvNqzDJfSRfF908KaGMqaBlkYX74nQBjaYXTHRNysjfBqe/8ZnrzaIlaKUp3XdqyetEh4tMPQ1j4MFc+TdmCYhBjRf4lS4mWdox19iehItI++pE9BG3EmEKPaaFJ0ZNHEubRTtbzauF/xXPS9dyKclhRftzSlaYShLgV31SOYXeFwMWfY5LU5TukL+nFTjEQ/juc8xIhUYGLM555xK1794R/+4daRysFx9djHPrbejBHmkOc+97n1AgDzuM997lO95jWv2fru4vzRH/1RvUwwzM1SeSdx9NFHV6985Su3vkuWSYqPZO3pIz5AfFgJS2F6KSZFKRgqPjPIy8Htuw9GrMwlmlLK4HU8j3y7QLwZmWkWlM+D51faSamieJ7VSGnqwilnnVcd9/5zqrPP/1a1/16Xqe5/i6tXh15nr4uMrEm4/mm1EeH992KUS+kL0VgyUrbKaB/RkGb7EBzQpsSIPqKNGCyTvKabij5BjOrzhKtnxPM9KToS7bMdAi0EuPf42quN++kV5zjrXPUBkVNR41mF9OsCp4l6QVHb7RCNi0C/5DyS/jvPYaVfGPeagsQ9PvXUU6vXvva19RhsMRTzz7Oe9ayigpMzTsTJ8/OIRzyiTgV78YtfXN8TqXDzFkQhgtVEtnnhC19YR7MshHKjG+2oQQrxcZe73KWO4jThYCu1j1bSjxQfydpjEGUUdEVRM8+tYuFSNPcPcT5WqrLyDeNjaCGugVikwkRSyjMXK0Dd+MY3rr/3+IvMOF9GpHQwKSTTDPc289LN+mJS4XXr4v0iPB52wse2vvsxQ5aOJV7D0Dbheg94BRlbEQFgqHRtn3WHQRK1HfqFa9dOPif6tYP7FW3jfVMMuTaeR4adsYbzopl614yORPsYB/x/eJSb/Wc7cD7xCjEyafoP4e7VFCObUiMRcO7wvt/ylrdcSrrcMuAs4RAyHkff7IO+7R6/7W1vqw34mC8g3VRtnxcjfowzxu+/5S1vqRcsibFepJ+ThwPvjW98Y/1ZHwgnY5S5XfQnCPEhEiIikqwGKT6Stcdk2kd8qCswSDEgShFRCoOnOgPnFHt2DJkEwADmaRRCL5WTbAUoRoQiwjAsGUvTCsrnEat2EV0lsGM640yu8SwMW3d/2Yeqs75UbtM89yw2huOJk3Lg77gPXqIlEIVqGtvuzXZ4txeJttAOzbqfZh/0//pRGNvt9mka29vl/Y9lhc++4Nt1VGzossJEFk8tkU2EagupKbPQPiIizfaJ6Ei7fbTrdkSPnKP+7T2+nmQOhBARDWOQbkqNREQJRG03JXrHkaQeq0QkWqopB51ogqiHucj4TDAQKCJgQzBuSFV0jrIQmvzu7/5uvbKW9DHjTh9e//rXV/e+972rP/mTP6ke9ahHbX26s/iIVKx5z2+yeFJ8JGuPibOP+Oib2tMFHieGPaL4dKyHk/HiXEsuC2yy5dmXNsPQjqLhoWkUjsHTZknGEoj0SBeYNbEZshiEN3rW+6vvfX9HvnsTew585An9Jl9CTNto82k7c6sTYUSGMRnebYY1A7spSLquKLOKuD6ilCeRAJtX9xPwkDaN7Wb7MFab7VMqjXAa0zZUvO+v/Gz1D+f8V2dB4jq0BeHAmUCkD3UmRPtEH5oUHYmXsWPo3xmD84lXiJEwERijnnXPpvsZomRdhffYKMEqQni4rhI1eJwP6nve/e5319GIwLPASTVUsIluS3V70pOeVD3jGc/Y+nQHxx9/fHXMMcfUP9M3HcocZLVEGQfNqEyID2KG8IF0q9///d+vHvKQh9TfJ8tns9x1yS5J34mDcdunRmQWjGApS8L3kLZkwC6RWhGDu79RCgYQDyYPGWPKJDAmf5vhEYZKCeJ4k/A3/J97590meZOY9vkk4v7x6Dm+lAIRoEkTK0Gh6Fy78f4yWqSvmcgY05F6J7JGNOoTJkITXqn2WSTh4efVdB+0RZ+icm0wqX1873lQTyQdwlLXFhYg1vVDhvi0ez4UEY9J/Pnf/0d11pe/WYtW7wQKodLG+WiLEMMMoTFRTET76F/N9vE9TyzjXpsowNU++hLDiVgpOQbMwr12vfq68/Xue1EfhjqR5Fy1j3PyLBLlnD/xXJa+l4vCebreTREecA/crxIQxyCGm3iWx0SKpFdB2mKb+IyA6oOfl05NJLXTwdzj2972tnXdinQyAocD5KEPfWj1mMc8ZuunkmWTkY9k7dGFY/WiLkgdMOFEQdpQpFop0mbQ77vvvrUhxZgoVZjnuDw5zpPRMgbeqigod+3ynEvUkcSKXFb5GjMhBZM2LXR/vZqGjQnltE9eMNG73bXmQwRItEM7M7JFPLoa2pNwjpH7z2D0CuHBIAivdkQAShkJJXDOEe0Q9RnbFtNotk94/7WPv1UyenTDP37fxKjYJNppeqJfhCOR3ifyU4KIjkQbNaMjzeiR1zKiI9pAW2iTaAvEsxjPplcb56bd4n3VIOyM2fP2ZlonLIbgXjXHz6FwEhx++OH1/RcdnwQByunSBf1VxP11r3td9du//dvVq171quq+973v1v/uQBoWAeFnpFB15dnPfnb1+Mc/vq4VaReVT8J527yX0Od8Kln/mXRj9UaEJFkwjL4xkQ+57ZZoVOPBgFeTYWLGmOO2CWN+zDEZBVKjeFItLWmZX4ZAqQL2MCpKeWYdLwQGnL/vHT+MsDBoCAxCg/Eo1cp7F+FB3DC0iVDeXV5tYfmxBpJz4hWOtDvH5d1WoMto8/+MHf2GqJRaQBCavBn9kwy4RaNdTb6iHfpbqbaYBgOEZ1K9FaHOAGAomfyJjWb0iGHA8OF1Z1D1aR8pVV357AU7VvLSv6StiIKhb+SnBJOiR85De3lmm9ERxmFERzzbpZ5BaGtRO3n+xh/nEm3hZQxtRkciQqIP6edxDOfk95vRkXiWtxvnMNZhwgFy5Ks+Uh30nA/U777fTrRtCScQPHPgFJiGZ1MqYpfXPe95z/p3Yu4htNtwTqBvTcZrX/vaOoJ/5zvfeeuT2WijRz/60XUfEDFJlk9GPpKNYNJANo0ospZy1AcDFUPeCk8mWgYmQ9Nka1I97bTT6kJpBn4JPJrvec97aq+TwbsvvKZxrX5feodIBe9YM4d3DIwhRvzBBx9cG5ZjCS8rI9j1a3PvXoyeMGyGIvLj+h2XgWevl7HH7IPrIDQiMuLe8C6DAdf0/C+6ENnfj3oGxr+0omUa2pPQPu3oSAgPbRFe/2ijaQskTKv5mATR+prfPOCiZ4VQ1B7b3RbTaNYexUt/1o/1mWb7DImOOL6IoGfb80H49O2H8dwyhr3Hq41zi+d62e1tHHeNFt8YAqHxiJPO2vrux2znbu+i0Np53oIdXTjhhBOq+9///nX/miZAjGXtovFpENXm3NI1H1IjOTIe/OAHVy996Uu3Pp2PttJOz3zmM6snPOEJW58myyLFR7IRmDC7dmXGp5SpPuF2nkXGiTQaKSny/JuGj79NKFg2UApWKay5zkiOdIcuEEKve++/VX/50Quqr3xnt+qae/1k9dBDfr467IAr195MBr7ivBKTfenlgKMgPsSHF8MkXkMhTuO+xyaGJcRSCXiEw5iM9zAm26lIPM1jYRAyvERhHNfCC31XllkmzpeQbhrcnnfEJpHRPr6PfhKrXYlsqAO66X5XqGs+2jzpkKtUV/nfL9Vt6/l1nHVCXzEuRdtop1h5jKCNtvGuP80SEoxxz6DnTr8Ym+4ZOEeEGInvfd2k+ax7LVKQqGHRXgzXIYh0fOLLF19t73oXitkTjx6X0jsUUVX9eFqaVB9svic6YOwsmSKqr85a7eqv/uqv6nml65ikdoPoELHscy/f/OY3V0cccUR9nTYbTJZLio9kI+gjPsLwkvIxD8eVlsJoD0PN+ySGCIV5nHHGGRetvtQFxsPrzvy36mX/fvG0hhcfdWD1i1f4QZ2qUWrXdKLMoF9iOWD3j0AQnRGl0c4ETRiTQ3BMx3MPGTK8uNJ+xhxz0YQx2RQkzXSEMCbD2O5joLlfjMuIduhbq9wWk3BPGdfRNt4jRUSf1j7RRoztppOgKUh+7kp7VIf9zI+q/X/iG7XDYNpCA+uIcavZPsQbw9+9ZtSFGPFOhOtzsZwww5DxWkLozsLfdC+3Kzoi5VHU8aCDDtr6pB9Sraattvfhx41fbWoIHEHGYc6VsTz/+c+vjj322NoZVFoEMvrf+ta31nNRCCXjtPNWP3jSSSfVn0Eqpj5svGpHOvVzRepEsnFtEs6/XYdp/DBnccTZrHBIZkEyjhQfyUbQR3zIkTbRGuSm4VixFKOvGSYGqFmGWl+h0AW579K4/P1ZMCYZ7tauP/bjl64+9z8XnxQPuOrlqpfdfb/aOyaXvIRxwaj5u7/7uzp1gTEzFG3MCLG+u+sIY5th1DS2GU5dJ0IpASYkBne0IU/wusFgtos7g3nfy1+iuuM1LlFd+zLfrtusmYoUBuWkVCRt24x2mPAJl01BtK8dHRFRgj7TbB8CznPi2dZ+2oLBvckw9BnazfbxfEB/8f9exjjjV0lPd1f8fSwrOsLw1EeG7lexipEPNTr6MifYWJ72tKfVqVfGjFnz3hA8e6IUxqBHPvKR9bhsh3ORafVnzT247nOf+1Svec1r6nqstmMvohcKzh/3uMdtfbozd7/73eu+LprOyUDkOJ6lhK2A9Qd/8AdbP5kskxQfyUZgEonJah7zUo94UZtGK29MF0NdAWgU05ZCYanJxBK+k/D48laGZ9+53uFVn5zskbvU7tUZx1y/aJoUD71zNJEMWeXL+XuFwREGBTEZhpJ3hqX/D2M7DEmvtrGtH5gwebRMaqJV62pcTqtdkFd+46td+qL28Qpj24Qe7eNd2oT+7F264NglY9cBfYXBEe3jXV+Fa/f/RAlDW7/dDmN7u9EfOGF4lj1X2sSzo32a0REvgm07+ozzifOKr73aODevGM+7CJKx9RGrWPNhiW9zViyAMgYpVxYqkW68iHuv/R/72MfW5wx7kzznOc+pDjzwwPr7YJb4uMtd7lK94x3vqOfASUv3wqpafp/gEQXRt60g+Xu/93vVr/3ar239VLJsUnwkG0Ef8cHraUlXa383DVfeUwaryIjJtq9HdBGbFyq8E0aXi96GSCKiGFY8OkSP67nb8Xb+3pGG0kTk48+PunadJmWgNwiPRfhadEbqgmUUuxJGRNOgYDBMm+SIk6Znu2lsh6HkxYjk4WdoMrIZ2+ucSnOPl3+43o+iTXt5WO3nXoQQaRrb0C4mZ/UujMl1bpOhxGIL2orwFl3zzCMKtcPg3i5je1noK4xKDpYosHe9+kxTsEV0JGpHmq/t6EMxxoezovlqE+OJ1yQxYsVC4+WksbUrBMjLP3hudc4F36722+sy1QNufvVtEx4wFlutztg3lgc+8IH1fBirvyVJSVJ8JBsBI8KE1AWpPf/0T/9UF7wxMiDcyzvM424iHrLcqEHa8dqemzEIQZv4bVwYNEUSLzeR1Nwo8JSzzqsedsLHtr77MWo+brrvHkXSpALeU8vGSl1ob+40DUNO05MZBoJXV/wewyiMba8wlByHEcnQ9s6w7HsvV4Vp+1XM28Wdh49x6f7w7GsvxqRnRPs0jW2vVSm+XwREaqQkyg0XRfRMaZN2KlJz5bEwsrXPvELtdUKkQ3sQpMaOWRFL42G0TbyiDxH9zTZat+gI8eGcSzqLthPXbCzmhLJK2Vh+8zd/sxapahmTpDQpPpKNoI/4YGzIjVVwZgJWeEh88NybiIamIxE0DJShOcSTsIwt7BWBWI2GUTlLJBEgO+oEvlVdc6/LVsfcar96tSvGlVD60DSpNtq96xLDYRSEkQDnPtZgiSJq4sPSx1LkGEkiJf6OvxGrRnkxlhiX60DXyEfgfkilkVroWhmX0Z+1Pc92GNveGRfQZs32WWfB1oSjQd8wNjDK9NFZ/Y1QaYqRprHdjo4MWcZ2O2mKsNiLpp2yOI/oQ9E22ipEv2M128czt13pbDHGeMW449WE+HCOasGaomRd0U9FPsxh7u9YpCRxaqmrSJLSpPhINoI+4kO6khQpxZVSMUyQvKFjV0GatDv3WByT91E0JQwHqWAmmCEFw1JNzjzzzFrMiAyMxeRuucR5SwwbZuL++B3tHK+haGspVs2VyJqpZP6Oe81Aipe2BIM8jG0v3485l0UxreZj0maKlqf8y/f9e/XOc35Qnffd3atr7X3Z6oG3/LmZmy4SsWFEet8EwYamCCOyibAh0R1t0YyOeG8KtraxvaoGbETCtAvRMc9R0AfPYbsP+TsIwRav7XrO3EdjkHfnq9hYBEhtRLNWIMakuI/rJEiMbervfvEXf7HI2G5REuP6X/zFX2x9kiTlSPGRbAQM25jw5hG7KMPqVFYGKeGhs/Mwr+DQTasm4ZiMStdmIgzDYegEboKyKpc0rhLeMdjfhHiblGdseIlJ3wuuY6wBIlJFjGkXdR3zViKD8yC+GEnxirqIptfWiyG5Kmk27f0q2oJCG1hw4G8+9sXqzz998XPusut74B4xHsOY9GoLtmgn4nfsfVwEImGRcsarTRSXPE/toV2ijUKw+Rv6TbSP9+1OZ3NekaLpnBiTkWq6KDxn09LZ4jmLNtJey4yOeN4VOhOQxn1jaYxR8WoT45XXKosRESgRfZH3ZhruELQDJ5pFWaxClSSlSfGRbARdxAejwYoXltAFw6TEqiCB9C1CQTF3CXjtrUzlvGMfgrHeZ+0kh1ckZdrqIH2Ztr+JocXf8+5VQnQwKN1DO5XHKmBjjCl9pmlo+9o5tw1JrxJLE5dGf5NWxJv7gk/8RPWZr+4QCk2mpWh1wX0LwRbtpF+C0dg0tL22K80G7htD+/Of/3x9LqIdQ6KDfWHga5MwtLXRpKWivS8znY2hbUEK71I0PZ/6dYjZsy8Us/tPELOLIKIjzVeM11E7Em20iOiIfiwKRqRHXV57wQ330c+139s4t+ZrVQRJzBcW/zB2jcF1c3RZaeqP//iPtz5NknKk+Eg2glniQxePicfXjHgG27xUob44vjSugw8+eOuTYbgW6US8lYw5E1yXDRG74PpFKhhmpTZWOv300y9aMQf+hpfJ26s5UQ/F8USsCA/Hkb8vcjPmmJNwvuG1jVcYkoyWMJC8M15K//2uMOakFRHS0oqknN3s2H8cVJzeF88Zb7+2CWM7nr1JhezLaCPnw9Dm/W0a2tuFPhNGtvZxfvowQ5Vh2OxHpdPZ/J2moW2cC2O0TxrfInGOnrNoH++ToiPxGiNqPSvGe9HScOJ0jWrGGOblnOPVRl8L58p2iRHtaA+nm9zkJqNFt2vUVk94whNyH4xkIaT4SDYCk4NJpg1vkBQMAzNPP6OVB3sRu5FHeoMlfIfSLij3eHbdjb0rpa9dDYnVVRzT+ZaOdkiRiKgSweEeLrP+IAxJfchLn3Jt4fn3CmNyGZ7/KKJm8DOktL027lucXgptMc2QdJ+ahjYjuKRx5rn3zMnhZ3AxtAmgVcN5NtPZvHvG0RS1XkTt0DZyTOOdZ4VzwTPZNLS3q490wfjdFLVeY6MjUvCIUsfhcLHa2RhChLTf2zi35msZgsQ9l05sIZWxUVrtJbL8kpe8pHrwgx+89WmSlCPFR7IRmASa4sPgKXogBcNExTPc3LPDkoQmZ/UCpfC3eOblyfaF0cDAbheUM6x4MIcccxqld2K3uaJJnaETk3Fz4h2K4xBe7iMjVopVn71EFgVx1TQivYeRxPBtGttjUsLa6N8RXYtoR/P4q+LVhlTBMCCjnfQN/SE8/9FOQw0l6UQMbQarVd+kUG6X13kIk9LZ9HlioRkd8eoitmO5cG2sb0wqOh66dPN2oC1C1EYbhagN4d9so6bw97sEqZefWWStS4x5TaeLVxv3JZwxi+inUlE9DzaQHesE0d7mx9e97nXVve99761Pk6QcKT6SjSDEh+5sEmbIM4AY2JOWo7XcrMlZXmsppDrM2jl9Es43dig3KTGwmwXl/s+Ecvvb3/6iz8YiUiEKxGs+Fudv5TCeSW3pumOCHQNDjCHFsAyRuIyowhC0AaOIcRTGZCw/yrBuGtpDc/5FxPRpBo775v5NauN5xenbheeTWGi20dB0Nu0dolRaF8PS76477m07OmIMQ7PY36vZRn4vatmIcx7+aWJllSMfXegSHdFWnDjGEIJ0yJ5NY9DXEWIkvvd1E/ev+Rp7jrGJplWqom8MxVxGwL71rW/NXcCThZDiI9kIdGMTEgONoUZYMORNRJOw0R7vIsOlFCa8STunT6OZEjatoNyEYnWWQw89tJjxTXgxUrTPGGJitV6+VCCTpza10koYkl3aoYnj8VaK+ETEynHWDUaj+xovBpP20kbRNmFMzmojxhbDUr1LRMS2ewWlUkxLZ+P5jzby3mwjKXieGek0m7CD/Sy0hesNI1sbEXA+NxZ41vQF6Tb6G/EfKXjTWKXoWAm0BaGvbbSRtghRq19EH/KuvfqOR6UwrjlX7/G1V5sQIUPECEeV1N+xNYfg+LnpTW9aR8mJmSQpTYqPZCNg3NlgKdJzpAHNmoQn7Rw+FqLHpoDNndMnwSMWBeUMbJ7KaRv+ieIoIjQBlFptifAyIfu7Q4iJMyZSr2bOv1d4bJu52l7aZdp98XsmPcYEb+WyPZaLxD1nXEf7eEWaoPS6aJ9mG0X9j/btskHeuhOef20TfanZRgxHn3vnNGimUe4q8PJHGxGkEWFD9KN43owtk/rLqkbHxqDviB7z2HOsiAw2U7aa/Sjax7vvt+OZ8kyjZHTknHPOqa//lre85dYnwzE/cnjZODc2uE2SkqT4SDYC3ZhBb9LpEiFg0PudkgMrb+yHPvSheqldRvckmgXlUgLm5anz5Fk+UR7vtChOX5wjA9dyk33RZjFheoWXronPeWzDyPaKXG2CL4xsL2lIJl73jueOd5IomtZ+fQlDa5nLinZBGzEcm4It2ohxrV31EQYSQ7vUvV8noo1E1aRZhUcb2qgpavWbTY2AtPFsSe/UZywaQZQ2RZvoCIyD2kY7xWtVUxfH4Hrth6SviB6LIjfHpPaz1m6jZvt4rUN0pClE4t0Yan4psc+UFQzvdre71SvqlayLTJIgxUeyMcTqMV2IjaYsS1gKnm31D8LVJv0mzk0+Lm9l7LjM6zYPk6WNo6xgUmoVH2LGpGszqq7ERBgTY0yAzUl+FiIhTUObseQ4MXH6OlbMKjX5r1uKCe+sRQu8Ylj2ro0Y1wyjMLan5fRvGlIZ//oDn6jefW5VfeU7u9UC8l43uFJ1g712PBv6FDGsH7aL/TclPS3QF4wfxhHPiJ2s2+MMREeahrZXsy6i2UazIpGrjvZQ5yItMZwpXZ0W0UbNVzs6Em20KtGR5quNMYL4MK7e+MY33vp0OCeffHL1O7/zO3UR+9gVwpJkEik+ko2Bgdu1O4s+iFQw6kvBu2blJzvDRkqI8xEKj/0p5GVPKxaexCxBM5RZUZ9TzjqvOu7951Rnn/+tav+9L1sdc6v9akN9XrSjL7zYcve/9rWv1YaU47YNpHgN3StinYpr9V19hLEd9TgEhvvPMArRFgJbJETbbLeBtCi0ByNbf5y1a7t+E4Xs0U6cCtBvon28Dy32XwUYxurZGIMiHcaRrlEMbdRMi/TejLI1+9G6RJC0hzFcWiqnhbTEMeetjSI6Eu3UjI5ol2gnr1WLjhg7RcP0byLMWOAV/b1vv3/ta19bPfShD62fpU0T8clqkOIj2Rj6iA/5wbyI6jNK4e8r0BNRuMpVrlIbjlFQHhNkX491CBq71pZaZtZa8IzYtoeMofewEz629d2POfYeB1SHXmeviya0MUau+8PAZmj7OmoZ4Fq1Vbx8j+aKUV7ESZfJdDuWFR2S5sWgZGgzJhiV0zZP1F5Em7YJA0kfAwMp2icMpHVNQ2rWurzgrJ+o/r+vXjyiOUtA6tvRPl68wdpOn4m2iXZahwiS1EvjCAcAUap/jIXxHm0UBndEkNrRkaHif1E09+6wAIOxdhE4vr7TbKdJ0REvbbZdbeTcpJ05X/3DPZs0D+r/ztFr3vj50pe+tHra055Wi9S+wiVJupDiI9kYTAwMli5YUUmB3pgNAduYvG3gJ0ef4ez4PNQmyKHFsQwpe5KEoCmBiZvR2s4NvtvxH6rO+tIOY7bJ9Rh69z9o9OTKi8Z7y5hyLYTHrCJ6Yi4MSK8wIhnVYRiFkTTJC7zsyEffNK/w7hMfsTpb30UFGBxN48h7GJGRhhRttOoeTNfCKSCVJlb2+pXnf2i0gDQm6DvNNtL2WOUIkvOWSiMNL1I1F3UPPVfNCJJXiP+o04o20q+2Q9g6R2OqFZ2ch3FWutWy8PeNYc02CvEfY1K8nN+ioyPOJ5Zpd09EPLSHfuP/vMfXXm3aQqQpMp7znOdUL3/5y2tHUYqPZBGk+Eg2hj7iw4TO8LN/Rik8Su95z3vqSYchZY+RsRufOc5pp51WTyzStUoQAkBhfJMDn3HGQiIF2sUkyZAiEnj3h+QRM6rDiAwDIDyRTUPbi5G27JqPPmKH4HAfoD2IsRJGr7YOIzLaqJmG1Gyj7fTWtpF+x7vvfi5613ZtFBGkaKNmBCmMRy/pNpOE7aJxD3mzeZ7VQVlWeNn3ikDTNtFGXsZX59GsQfK+aGHrfnGaiHpsx94d0zA+T4uOELbNNir5vPkbkXamb+gjs9ojhEhTjHi1cQzn+Id/+IfVO9/5znrMXna/S3YNUnwkG0Mf8cG7anLvsyHgLJoF5SadG93oRvVkMxaPJ0HD62mzvRJEbUEz5czfufvLRD7KGnqMKJOkSdkqNFZOKeURdM6MszAivdqG9r9//ZLViR//n+rzX/vuwpcV7ZLmxaAjOhgNBBjhUWoJ5Wnom802Ymhru64RpEVCUDJwrGblHPRzz0+wLAEZEaSmEekzhLCNttK3FmWQuS+EulWGeLEVlfv7q4CxtRkd8R4rkGmTpqHtnEuJA8+KMcTxRDumLUu+Crh/xqBmP9Jmzeet+RqS9kfsWDDFfOd5GeLICRHSfo//+9Vf/dV6KXgpkCk+kkWQ4iPZGBgLjJku8DzbHO82t7nNqLxvj0+zoNz3PFEldg8PpHLxbFlWswSMPQZObB7lnLXbKZ84r3rEm86qP2syxNAzgUmR8GJESaGx+eCiaRraJv5I1QqPtldsglg6dWSWl/6N9z/ootoOlIx29GVWBCny/eO1SEPb3xXtYKyJEl7jGteY+LeijmbovhRD6nD0mRC2YUi205DC0BYFKGFoNxdhWJcNFJv1NfG8efa1Rzs60ldk66dEmLFKWqIxZB1qdNq4Dm3TfDXT/rRNtNOs6EhzrvFzouFNoT4W982y1g960INqh5dFTuwJtR1jVLL5pPhINoY+4qPE/hk8WowFqQBRUG4PDRMl47IUitgZZgy0EkTetHoXj79Jx8skc9onL6he/oHPj9qAzOTKU8l4c97SJLbLiGpO/GFs6yeu1QROiIRxNDZ1ZJqX/k/uep3qZ350fu3BJTj0jVUyovSBacX+TUPbq4RHuylM3QPebO+LoGTkZFoaUglDO9Lw9Evtsa4bKGoPkbVoI+8ECjghmm3knk/rS5F2ph9O2rujBENEaQk8bxEdiTZqRkf0pWgjL8+gMcuYqp+IgGuTEoI38LdtKPjbv/3b9bm8+tWvrg4//PCifyNJmqT4SDaGPuLDoP/3f//31c1udrN6sO+Dv8F4D6++0HcYCzxFjseAKIWd260IVSqaIsWFoRPiw8skM3Zy1y6RQsNI1S6rkjISuNZZqVoRFTH5M476tknbS3/kL/xUdeX//WL9fwrKSy0asGiahrZX26OtfeLVJ42OYSN33/sydrFf5KIDYWhHO3mPNCTjQhiQs/qSMYsn+4tf/GKdPhNLLG8SUV+jfbwiGum+h4EdbaUvNffuWFTaWUlRWgJjp3Zp9qWIjhCy+ok244ASFSv5zOjHL3vZy6onPOEJdTTlhBNOqB1GSbJIUnwkG4MB3CDdBQbo3/7t39bLzfbJIRaW5oFisBqg2179f/zHf6wni+tf//pbn4znAx/4QH2O0g7G4nEXuhexEa0x6TO4TfRjEEnSLibMRUyQi2RaTUS7+NjXXSM4jkngyZlexWhHXxgokaoVBlIYR1aIivbxLpLYNrS1p0UeiFP/T5z3Ff1DWPZyy01Du9mX9JtmX3LtxiBCTDuKmvbZ/2edMU63oyPRl7ST/9dGnC3aaRFtsuyV8Pqiz5hjOLgIU2Opz6IvaRf9KfrU0LHFM/2QhzykevOb31wdc8wx1fOf//zREeAk6UKKj2Rj6CM+GAlnnnlmXRjepWCPMRkF5Yx1Xv1JqSL//M//XL9P2sBvKCI0/hYv4FBi4mJEunZLDZv0I73GhBOGkVdXr79aAV7KaBcCqWQe8nagH4VRFAaSfqU9eGGb7dROr9HG2kKbMBh4socUhK46rpNx1Gwj0QzwXkf7MI58T4j5uUgf7CrixrLdRqa+FKIt2inqa8Bo1CZSNSeJtl0BfUlKoj7iOTMWGaN8HqItjOzoT2PZjj2A+qAdmmlWav4Q0ZEYn0K0NSNtXsbvec4faW33vve9678h8nHPe95zl+x/yfaQ4iPZGPqIDz/XZQlbj4dIgbXUwUMZy4BOYtoGfmMQTWGk3OAGN9j6pB+ugejw8rVzj5fJKwwjL5Obnwmvf9RE8LQ1DUY/Y9JiZDsuL+Wmem5dK8O62U6MI8Sk7+Vr3n1RIBvB6SublkIzC0Z1GEVhIHkmwRBiYGsX/apvTcRQVi29RrTDSkX6EyHr2fEZQrRpn0nP3Cbi2eLd5wxx3SJinqNwADT7U4i22OAv2mrI3iyrHPkQFdJHzCOcOdM2ldR2xqFmG0WkzfOmbeJFjIRTyP+/7nWvqx75yEfWjoATTzyxdpIkyTJJ8ZFsDCbypldxFrq9FT0M7lKEJsFAiIJyhnWX1BlpFAx4tSSl+MhHPlKfb99oit/xCtHhZVKaNVHP8vozhkz4JntL9VqVZ9JysdtVyNmHsedo0o828jLpB4xKqVa7igE5Ce0TKzcxfvQPz8Uk0RZ9alHCtV2Hsx390bMnfYZYN4Ywsl03pok27dGMtGnHTUqJ0Rdi7w61P1JYp3nrtZ8obbSPtopIWzM9MozteUtGr5oohWuMehfPg0i39z7oN5NS2o477rha0Dim8dwiJqIexx9/fO+/kSQlSPGRbAx9xAdEPnh+THxNDOA8cV6MpGZB+TykZsnzv+Utb7n1yXiGRFM81q7DuxdDJl598Lvh9Wck8OpHdIlBuddee11kHGkrq2Wt2qTepqThwYCSHqFd1OUQG/9/e/cBJ1td3///GDVqQGOMNaLG8tf8TBTkIohBQOmgdLHRVS4dQaqCNAURUUC6KJGLIE0QMYqAWABBEBU1EoMdjD2JRo11//v83v1cDnNndmd2+uzn9XicO3fPnpmd+c73nPN5f9o3UiPCgAzRFtskR0PMF8LUecCQdO6YI0GjaDO3PKeb+ppRh/EnpUhqESeGiNhsxnFEQ2KMzKV6U4T6OLWTXjOK9GLtDtehuhjxGNcm4xLj5LFZStsoiNLA+zZHnDs6e4kk92L+O7ecc1dffXX10Y9+tKQFi87a73r9/Oc/v7TUXXPNNavNNtusJyltSdIOKT6SicFUjhzYdlDzIYUq8mnBiOSxbVVQPhf60kvTijU0egHvIG+WG8RcGAMbA8aGuaId7cAYYiy4yfPqMxbCwxYeSEb1O778gOo7/7N8x7FRKeREL1IujDFPtnQ880PagrSiwNiHaIuNgARDKIxH2yBz/buN+MxG3ciWKiIiNpcxw+gi1mKMwoA0HgzI+jiNo9dfgwrXE/Olm25n/3rnD6uzb/xe9b3/+r/qCSs8oFr/CX+snvuo+9JrjE88jrIBSZD3a+0OY+w6VRcj9ZS2+jjZRkXcuo62k2Y1X4yLgnKF5V77/PPPL9cntYS33HJLeeRYMl5zRYySpFek+EgmBlO5E/Ghi5SIBqPA83hrGZSzFZTPhfxlbXjXX3/9mT3dw6AjitZaa62ZPc3x+evRjl6IDjcpnjJRIJEON8dGL6VoUxiP2158T/WHJovMP+RBD6huO3itkbi5dVtsWo928GTzUrZj8EWBtpu8m32INs8NA9smUtIPb3Y/U02iYNi868bI9vy61982jl7/upHtGuO8ma94avW9HbfpU6tVHr20bbhximufNJq6od3PlLZOMN/7vXZHI5HSFmPkMSKSIW5jrHw/gxwncz3SrDgg1B/2OgWKoNFCV3rVNttsU5177rnlszYiWl93niRJv0nxkUwMpnIn4oPXx0WfMe0GgLkKyufCGhcM04022qhnNzLedaJo3XXXndlzf3xuWwgPfze2buCR5rVlNLTbpahVVGGlFaaqg1f+85zdoprRa2/9XJGPVn/P2DIWfB9EFIOynlLUKZE2EkZ2GEYM6kjVCsOoF97hfhTZMu5ifhqL/3zg46r333JvTyMrDKj6OJmXvgtz0fjUDe1R8PrzZDOyiSZRVd2KujkX2/nejIe/Vx+nELfman0ueRyk1997Mz84d6T69GvtjnbwXoxLjJPHxgU1Y071s17LuR/dE2OB2l7/LU4jiwZK2z3xxBOrffbZZ2TFerLwSPGRTBSR2tIOws1uPAyodgvK58JNVgh9gw026NnNRCTlu9/9blkUsI5T1yY6Ef/vRbSDAexvunnxDooCuRG3Qysv7Qkve3r1vMf8xTLDKLzZjJHoqGVrTEHqh7d+ttdEs9+duMUzq8f/cWmRfaTq9drQnS1Vq+7NbjZO7dDr9qLGgjh1/jCevv4/D67ecNnXZ357H72u9zE/o64mxsl7gPlaHyfzq9vzoV2cf84Za5n4vhjZ84meNjLf760ubj3aGlPaYqz65fX3vYiI6YzXLyO7WzisYnxirJyLxiOcJfVx6hbnuHuECKoooQVke4l5+PGPf7zabbfdyvu/6KKLSsruoM6DJGmHFB/JRNGO+GC8SCNiYDPWdZFqt6B8Ltxkv/SlL5Waj3a8+u1AePAub7jhhjN7lt5g3CBDeLixxNYNDEqRG+Oo3kXEo1NvWUQOZivkbCw85i1GYwrSay/5j+obPfbWo9V7bOVlftIKU9Xhqz+4GAvdRDs6wffarEAbRHLdyG4nVatXkQ/nT6QURYoiI78fkZV2ME6cCMYnDMjI9a97s9sdp/nge4rOTc6ZZzzjGT37O70aV+NUT2kzVuH1d62qzydGa7fv398QASJ4RAnnm4o3aMIJUBcj4SwxTvX51Mk4Gf+IAPUrzYrYO+aYY8pigRtvvHFpqTuo61WSdEKKj2Si4MWabUrXC8p5/xjrvWyL6/Vvu+22au211y43mF6ggJ1hI5ULPl8ID7j5dSs63LQifcZNlbHQ6xvjbDSmINl8vgNvfWD1hz8v/9n6tRhYKy/zXz6wqm4/5EVDr1nxPdXHyf+NkzkQqVqxNUZmehFF8jedP4ztxpSiUVq4LbzZMUbNxikMyG6jnToU8e7z6M+3c9Ns9CP6F9THySai1O04uT5xmHDueA0RIOJ0nKmn/nmsj1NjdKSZ04lgN0f6mWbltXfeeefq5ptvro4++ujqsMMOG7koU5IEKT6SiaKV+LC/saCc57adQu5OcHNSS0LQuPH2AjcVebvSrsLQc+Pz/9i6QbTG2HhNBmU3NS+9wnsRDdlhydequ3+xfB3P0x75oOrc7f6/crPvRSpEMCzv/XyJcQrj0Waug3g0PrExALVCnisq1Qx/J9L/zGtGdqM4HeWxm22cOAnq49RuShshqFbM+cmrLyrWr5qTdqKJvSDGqS5IIpps/sQYMbTDeVOnHgGaa+2OcaZxnDz67HA9ijHyCGPC4cWp0480q8985jPVrrvuWr6PCy64oHrJS14y9Gt4ksxGio9komAQuDEEpnd0FEG9oFzqiN+1KuSeD8L1umitscYaReT0gkjlsnZIGDdu6N3eXBgVRIdORTqdqHnppSHfC1p5ffd4zoOqf1jx/jf72JoZRe1y9ZfvqQ6+6j+m/+eyeN9r9LpuoV+Y74ycMBxtjSlIsbWbMsLIYjx5Hcbk3//93zd9Xj899L3GOLVKaXOOheFoI7YaPciMa2PieuO8YVBOqrFXHydGtvlg/EQBjVOMlbFwPTE3+hEBGnWMU12MRGMEGBNtbl1njVW30bZAREUx+dve9rZyf7jwwgtL/WKSjDopPpKJoi4+GBNSRBgKsbhXPSTej7a4DD9eKHUkvWhd6PQUnbn99tuXGY9RoM3Ibsd4bMRrEl3El+cbF57bUTWeWnl9ea7d6H2/9Zt9dPeJrZnx2IjniYQZk6/9z4OqG378kOr7//W7vnqZB4VzIoxHWz1lpG5k+3/dc+8YBdTOEVEOBiXBMhuD8tD3g8bUP/9n3Dkv6qk1fmeu+NmYjHtKUacYE2NTHytjB+fZYx/72CI8jI+xmVRRNhv1NCvXH/cd4xXRtogixfk3H4eJNWRe//rXV5/85CerQw89tDr22GOHnhaaJO2S4iOZKBhatvoK5a1aojIgiJNetsX1t6+//vpqlVVW6WqxKKeljQHoRsbAjht9GI9u9G5csbmRzWVkKzBVUB6CTJpVr7xwwyaMohgnWxiPDIAQbcap/pmNiXngeDUMioUn+SZu7phD9XEyb8EIMkbOG7UMvNwiHdosz0fojjPOPw6MGCPnTKQgmR+uKXHudRNtG2dEw6SEenS9M0ecg/VoWxjYNiJurmvUuGPO6GbFESUVLyIR5lNEkUK8RRTJmBinGCuPrVL4HP+FL3yh2mmnnco4f+ADHyirky/E+ZeMLyk+komCwRQ99uUcz7Y2RbTFFfnolbHJsOOJ4hG1iNZ8cEoymj3a3NDrNxa/azQeo4UmI9vNKwztuIF5X9Yg4cVmEBBkverwNaoYO4ZAXbiF8Rj1EMZSWhvPpDqghZYqAuMU3aJsPKrhoTV/wottm2+0bZwxPpo+aMjg3HFeR9StVQqSx0kWsD5zdG4iVBvX7iBmwxEQhnbdEVAfp1FL9ewGYyLiYUx0s3K+zEb9Wh7jFY4A1yjj4xjz7XnPe14ZvzPOOKM6/PDDy88XX3xxcQ4kybiR4iOZKL785S+Xiznjeq4UEbUOd9xxR6n56OUNkPiQyqTlZic4FYkEm/+70cQ2G44ND20Y2nUj22ZMeN2e/OQnF8/+pHsfm2GcwvNoRV+bsQajMgTbQjWyjY0IkHbLvLXEKeM6DCPjFx7aGKdJN7IZfcaEICM6rMxdP3cYhmFcGydbpCDVU7U8usbMdS6PA4zjTtfucJ65RtXHyXxD1GzFOI3juWceREMT9T8iHvO5xjrHomYrxuqSSy6pzjnnnHIdN95E8Oabb169973vLSluSTKOpPhIJgpGtyndzk2ekSV8rdvVXB6qTpB2Fakq7eD92kJ4oDHa0Qley41drYjUMjf9oF6czdh2Q5sEg6hdjE3UMYh2MJwQBlEzI9s4+f98jIlxwOeVm64pg88oAtQYFWNchRCJLTy0jUY2r+8kQJxKUTQ+xqSdGi7HSoWJueSxvpZGnHvGyriNm5Ht88TaHQzsblJLXaNijDxykMS5FxHcmFOtUpBGAd+3CLrvuZ5m1SuMjwiHYnIROOehv+m6LcJuAcH999+/ND5IknEhxUcyUTCSwvM4F252eqK7eLvJ9QoF57xfvKRz4fQL0eH/biixdYMICMOJF02HIjfECO/7XT1dxM09vP5u+pPq8XfD5sVm6LSKAIWRXU/VipS2MLJjqzcvaCQKr7/1s99UTx/Bwuv6+3vCCg+oXvK431cb/9Pjixhrx9Azd+qpWrYwsgncMBptxq3b+TxIzAHeZYaeug5R1Nm+67mIFC2buWczfs6zGKdRN7K9336v3dEocI1TpP9FClLMqfms8N8PiHZRIHO+nTSrTjHuajre+MY3lvq8Sy+9tDyan5///OfL/cujxQSlYSXJuJDiI5koOhEfjKXPfvaz1fOf//ye1j9otStPntHSCqedrVfRjoA3OloIu1l7D81uiMbJzT2MbP+3r24QxTbuaTXGOaIdjARebJ+rHTw3PNk24xXpIq3Whxj1lrP9en91I9tW92TX55T/j+qc8p559n3HnAdSrXpt5DrfwxEQWz3Pvz5Oo2BkG4tIxxvk2h3mTmMKUkRxibSYUx5tg4xMulaKFLrOcjSJOvR6TrvuiGh88IMfLIsHnnbaaWV+JMkkkOIjmSjc2ONGPheMpU996lPFY6TVbK+wyKCbBO9gM5xybl4ebb0QHVDDIu+Y+OId68RwMm51ryMjuzGtJqIj3XiBBw1jheHE2FODM1sDgnZhjMU42YwbGETG6PDP/W/1rSYLI47KQoXbnP2F6hs/XtqNqE6v35853mhkRxSJIA4j20YUDhPnYXj2vTfpLL32YrfC3w4jOzaGJ8yp+jgNOjIp9cz54ztzPRt2Q4ZPfO1H1Vmf+0713V/8rvq7FR5QbfDEP1f/9Mjl5xQxYk714rraiO8m0qyIDlHlXv8d1/Edd9yxtIN/z3veU+2yyy59+SxJMixSfCQTRSfiw7GKw91UFfL1ittuu614wRrD4E41m79rczOJrRvUufDCKQCVJuKG2G1KhPfp5lpPP2IgwWuHELGNSgpEHeMb0Q7vTwTIe+0HDOp6FOm1n/hl9Yc/Lz8eD33QX1R3vGmdmZ+Ggzqgl5x55/T7m9lRo9/vz5yqR5Hqc4qhGPPJxpAc1Jz62FfurU674e7qh7/6U/WkR/5ltc96/1+10bN754yYD65h4e23+X9cM6IeIrZ62+he4W+JoOqQ55oiWtiPv9MJrSJ2b3/p06tVH/sXy82pqLGJCEkvamwizcprS7Pymr3EOSK1ap999in3JLUeK6+88sxvk2RySPGRTBRumu2KD1xzzTXFWO+0M9VsWI2c13e11Vab2bP0ptLraIfXiUJhryVfXwFov4y2usefoR0pEIwSN/cQJAzHQXpnG6lHOxT+SxMZZErGNufcVn3jR/cV+S9lqlpphao65p/vn6rVjse/F/UjBBJjUh3Du7/+l9V3f7m8+hhGZIZwjjllq9cihdFo61dazSU3f7M66rp7Z366j25S0HrxfTXiumZs6oIkOtpxBtTnVLdNJAhEqWfOI6ln1r7p1zWlE7adPq/+bbnzavl5G+l/MVauA8bPNamxkL1dQVVPs3KNVVje6zQr11eLBepitd1225VH7zdJJpEUH8lEYTpHkWI7dNqZqh0iJP+CF7xgmdgI4eEmHls38O4pKJeH7WZIeAzaM1n3zhIjcZOPHP8QI/0yHBvxt6XOWFxStIO31t8eNK08tG9Z7wnVcx75pzJe9eLsehSp0XDsRX2G74YYY6wyJr/xq4dUb7js6zO/vY9mr9kPQ3o2nCeNHv9I1eqk4H8uzF2pLW/85E+re369/Lk4XyHWi++rXSJVK8Yr0v8YxcYnDOx2zz/Xp1i7w7zsh2e/G5533Geq3/1xedE8V8QuhFt9ToVwc52IcbI1E271NCvXWRGJbq/fjUivkmb1ta99rXrnO99Z7bXXXkN14CRJv0nxkUwUpnMn4kNnqjDee0WsIK6LlhufDb2KdkiFuPvuu4vY4IFrtnr7MPA5CZBIP7KF4djvVBHGBQObt1YUa9DRjkbCaP/2tNH+tCZG+2we//o4ve7Su5tEUdozjhny0s6knzGw1DEwtjDX+8MgDelWGBPfqTFiNJpbPMSYr8efYDdXzM39b35A9fs/LX8LnG8KWrve+X4Q6X8xVrZG4RaGdmPELcSYRVrVMIgGD/P8aUavxtaciihujJc5FuefMYpxcpyIRz/TrD72sY9VixcvLtr+OTEAAGSrSURBVH/zQx/6ULXGGmv0XNwkyaiR4iOZKEznTsTHTTfdVDzPs3Wm6hQ3K+lQL3zhC8vPbiSxdQMDlbBh4EuF0Cq216H/XuK7CMMxBEl4HBmKbu7h9Z9vjUo92uE1fY9u4uNGo8ffZt+Btz5wXvUj5ggvKm+tqJ7oXqfzb5iG9GwwCI1VzKm64WguxUbw1g1oc4VoJ8bMO5GxHZZ8raefcb7e+X5QP/9ibjWrsTFGRCqh0u3aHf2kn2I4zr/6OWg8YF5ZzE+xvWuLa1UvxAHBd9RRR1Unn3xytdlmm5WWur3sutgu5ohoyxe/+MXq9ttvLwJ0p512qv7lX/5l5oi5ca05+OCDS6dHWDvrHe94R3F4NNLJscnkkuIjmTjCwG2HW2+9tdxMeLW6xalkYwzrwx7GUBjYjKH5hNIZTYxrr9vv4ul+YmwYjvXISHT1qRtDxqsdL3Y92hG1HZOSquA797m2P/+r1d1NOmc99ZEPqs59+TPKeBm7GKu6GFN7w8Cer7d2lAzp2WAkRsQtjEfGpDFxzjEYjZF8fWKMaBcd8/teG7SjKtiCxoibcQvMJQa2R+M2imuOtBOx6xZz5Ctf+Uq5NkUNnXkV16qocYvoiPOr0yiRucjAt8jtscceWx1yyCFDu3a5XmihrGXwokWLqquvvroj8aGWTLt69yatgY2PDl2aW/h8Oi8GnRybTDYpPpKJQ+Sj3WnN2+Pmsuqqq87smR/+HoPHIwPQjb3uRbPPzcXNqr7NddPyXNEON0Q3CNukGNiI4lAb47Ex/aiZcDOWcqRtRAoD2+8nkVbG8R7PfVD1DyssTT+Krj5u6NotM5J6sR7DqBvSrTB/wuNvTjFswottrHiXw3A0f66762c9M2hHIVWtHYgQHuioGTMO4fmPhh311rW2usidVHQM5NBgFOsyVRfuxsWciuu6R9eiusiNsWpVj2Ru3nDDDdWuu+5arnHW8Fh33XWHOq7mws9+9rNSy+I8ITo7ER/bbrttdeWVV1Zf/vKXl0Uv1A5J3dtoo41K966gk2OTySbFRzJxdCI+eLhcfFdfffWZPZ3h79jchOJGFFtgP6M6PP4eXeTjpuVmFUZ2eBv9XorID37wg3IMA5sxMOlE+kOMlf/bx4g2DgxsBpMICuN60sRYM1p5e83zGCtGkzGB8Yj5ZGMUzSd/f1wM6VY4rxmSxAevLq8+T7955XyE861uNJpj8xmrOoPwzndDfe0OBmA91ce1jKPDGMXmZ4THPzaG+aSce67RotWut9Z8El0mDmbDcxrT2uIcjEiun52nvP3mlfSi4447rlp77bWrCy+8sMzLUaJT8eHzmz/rrLNOaVtfZ5dddqkuuuiiImzcuzo5Npl8UnwkE0cn4oP3j0ES9Rmd4G9EtMPmRlwXHa1wLO80ozGMbIYSXHjduNzM3AiEoZ/85Ce39bqTSF24RdpMwPhxgw9Du5vuR+OKHH6GpPFRB/SYxzxmmYFtC5HbOFYMyXYYdUO6FSJAIoY+O+He2JTBuITBaAuR6/hwCMTW7liNOs6l+azdESI3xsr88lrhEIhxIuLGcaxcU3SzYhxrPNLNqvbERoyVx/e9733VBRdcUK7phIZo7Ste8YqSauRcHTU6FR+f//zny73z8MMPL+ljdc4666xqjz32KMfo/NjJscnkk+IjmTiEx90c20GHF4YKT1S7hNgI4eFGFdt88BpuWjySDIMoCkV09Amjked/vn9nXHETZ0gSbGo7eCYZQCHcYryMVd3jP8ljZc5IV9DcgLHAkGxcfdoxIXLDcAzPrLGJcZqksWI88WATqow7Hux2DOK6Fzu2cAhMwliZB71auyMcAvWxIlAgfaseSRr1sRIxdG1xDqn7I6Z6iXGSWiXKYU66VrmewdxkjL/xjW8saUejQKfi4/LLLy+pVGeccUYRD3Wuuuqqaosttqguu+yyaptttuno2GTySfGRTBydiI9IbXrxi188s6c1ThWb147XbzfaMRteU4cRhiQYBwxJN6kwHCNNhCHlps7ItomUTILR2AxjHK1ifU4Gdj0HO2BQ1w2hxrGK8fIak5AmwihmMElR0BaVt3auFJGgPlbmFmMU9bGyjWNKjfOFgW18ul2PwTnZOK9irBhn9bFisI7qWPkcOu9xsogMPuc5z+m5ge1vhFHdbKx6ndbWC1xbIs1KJytCwHvtJf6GCMdb3vKWsuCsNrqi2K5pN99887JNZKQXDU96QafiY8mSJWV9EhEedSx1pFap43DM9ttv39GxyeST4iOZODoRHzp9SEXYYIMNZvY0x2niNW3+z6iJrRvctL/xjW+UvHQefUZTs/Qhn6kuRvzf+2B0urmHGBllQ6gTfD7pRFIi1HaIeLT7uWKsjJPxijQRRk+MFUPI/0fBEOoEIpUhad4xmLpN3aiPVcwrY2Wsw2g0Xv7frsAZNN5vdPgimtQx8MD3mtnGynkXBrat14bsfGBIurbE2h2diNRuibGK8fJYT2uLuWUbdLqka640K06Kfq3g7jPvvvvu1Uc/+tFqv/32K7Ue45CSlpGPZFCk+EgmDhdQN7p2uOeee0rdx4YbbtjUuHV62BgZNjiu25uV1+R1E3lhEAi788C1i89XTz2y2TdORmMzfIZoKxyGZLcFiL63xrEyR8IQCiPINqoGgrQWokOaCJFqvvTjvRorRll9rBiSiLqR2OSxDxvi1PnLuJ1Ph6+oaZnPCu4xVjFOtnr6UX2serU2RLsYD1Eg78faHcMubDZW9bQ27y9SACO1NK5b/YzmSrHl1GBgiwL5m71GJyfee40x3vve9xaDe5DffTd0Kj6y5iOZLyk+komjE/HBK+hmsd566y3nrXRqeB2PNjeQ2LrBTVjajBuw4kbrDnTrKW00hBiPjEbvNYzG8PiPqoHtfRsXBqWF8azF0Ikh2S6+yzCEwsiO/P4wGmOsGEbDRi2QcfEdEx2x9sAgMFa+j/q8qtfYGKPYjF2z99WNgd8K7yvSicxnItV76IRed/PynhjUMaec35F+5D3Wx6pfaW3egzRFTg1/g4Gt7mIUaZbW5v1HNNc4eeyFA8W5E8X2/UyzOu+886qDDjqonKeXXHJJiayME52KD9/ZbB2s1LqI6hOUnRybTD4pPpKJg2BwEW0HefNWdXVBDEPTKWFzM7GhF9EOrxXrU/hbboCM3H7g/SsyDYPRY3gaR83A9n1FbYdIxKDbChurMIRirIwdomVmbP30yjZiDkfxtJu2+TIK0QZCzRjFRvQaQ0YLQzHmle/y+n//ec/b9fLmSyfixebRZ+jNxzgdxDomHADGiBCJR9eBeoQyHrs1hn0vsXaHNEUCvh8Cp1+4DsQ4xVg5B5xvzrs4B22dnAeDSLNiWEuvUtfx2te+tjr11FNHVvTNxmziw1x2nTZf65E0aVIf+chHStt6127E2h3SmaVbBZ0cm0w2KT6SiaMT8cHYtMr5P//zPxdPodOhHu3oheiAGynvdXRskiIy6HoDN2E39WYGdhiMtlYe7H7gfUiDYPwzlhRkjoLBxMANI8gmbct8YOTGOBkzBnY/3i8D0ri44TOYuime7jfOtUaj0TlkXN751QdV3/vl8vVX8zXweUaNi9cnxqSgzZdhrOBOeLRK1WJghxAxt5yX7X7nnCiEh+Mb1+4YV5xv4UCJLaJu6kTiPLQZu2bnYaRZOW8VdRvfXuO6rpCa80Q9g/+P6rnaitNOO62Mr/l55JFHVs973vOqrbfeuvxu8803L2MXK6E3ChONUqyT5b5xwAEHlCifQntjb9VytUZBJ8cmk02Kj2Ti6ER8MARuuummao011ig3phAebh6xdYPXkwIh3E/ctOrYNAzCwA4xwsAGz1eIEY+tbuzdUB8X425c3JBGFe+XUR1jVTewCZC6eOsmRaQ+Ll7LuIybB5UBwxNsnF52/reqPzTp/fCQBz6guvmANdo2sI3Lkk9/tbrwy7+ofvzbB1RPf8wK1R5rP7Wr9K1RWMHdtSacArGFU6CdVC1jHelEBAfh4XmTiuhOXeiGU8C4hHCLsWIsGxdNGZxH3UaWGvF3L7744mrfffct0RT/H5WuVZ3CIUY8NUMq2c4779xSfEBk6eCDDy73Uqy11lrVCSec0HQ8Ojk2mVxSfCQThxsyj3E7yGf/7Gc/Wzw92tvGjawXniteWl4xRv4oefVbER5sBrbNjd1YitDETT28/d1Ebbw2byRDQr3LOC6iaFya1diA4RNj5bHdbj7G3rgwRsd1XBppZeCvtMJUddBz/7TMgx1j1SytzTh/4PqvVGfcufw53U36Vq9rPnqF60WjgW2+NRrYjGnpZ4TeqC5G2o96nzpEaWMkqX7tN16ihuaX9NJejY9ILQNa29hXvvKV1dlnn12ui4PG5z/xxBOrc889tzQwIYJe97rXlbqT2a7RISRawYFSH0fi4wMf+MDMT/fH31W7mCSdkOIjmTjaFR+mvhv9DTfcsMzbH1szI6hdvKZcfQWxBI1uM+OY/2scGT4hRhhEBIpxCSPIWPl/O15FN0peWjcrz5U2M8rRjk4wl2YrzDZOYTQ2LrxmnKMWyLzrRYevUaGVgX/SVv9QLXrcA5eNV3iwGT0xtzzaL89c+tb3f7X8rarbKEUYx52s4N5vg7qROA9jrGxxfTOPePYVURuzTlK1+s0wxJ30nUg/c845JxsjSTG/5psyaT5KrSL83vWud5WWusNyKu25557VmWeeWW233XalZkLqkg5b9p9++ukzRy2PMbniiitmfroP1+Y3velN1cte9rLS/jYI8WFr/KzSs8bx/pYMlxQfycQxl/gw5W2Os4VxbasbQWEwemyW8tCI52mFKq/V68rV119/VIyBbvH5eFljrBhBhBbm8varYRAFGudoR6fwjkYkyVjx0KKeTmOciA7GAE+kbViGTL9ox8AnTOsGtjGzD8Zrvxv/XP2+SQO7ftZnNGMYBnUd4j/W7mBEM/rMMUY22q2FGASDTGtzvZWuKHWoMc3KvcCcimiSR8cbFwLEOIUgmS1lzfXPuh3EBqeS4nL1C8NCK+WVV165CA/vJbBi+rvf/e5S1K3bWSe89a1vrY444ohS+B01HwjxYSy7SStNkiDFRzJxmNJhFDfid2HUuAExgGOD39UNRpvj5ko9YmgyChR+8kLq3tFuus24YizD2x/jFd5+RlGMk/2iQMZuHGsYeoUbdxhAxsv/4/JrnB796EeXMWMIdZPWNu4Q8ISqc1JbYeN20LU/q77/v8bq/oL1Hx77V9Xli1cfmJAdZp2I+dJq7Q77zKvYwoliHoVhbfP/QRmPgyrod+1VR+Azt5N+5noeqVpxPnKKwLUpxslxUraMofG1UrniaFEBNQ8EyDB585vfXB133HGldsL6GQEBpoZDBONtb3vbzN724DDjKNKBqi7EQnwYB9f4YYraZDJI8ZFMHKZ0o/iwz+aGYoOL51xGi2Pd1OpihPcxvGaMRT9rh+qmzijoZLHASYMhYIyMFyHmZxgbBbHGyzbIjlqjBsGmtsM46dbkRh5GUKS1hUc2ttk8spOCzy5qyPBxDjmX4nO3ijjs+sw/Vc9/woPvN1btRCnnyzA6ZLluMSg7WbujMZJkfkU0OKKUsXXStrYTBiHUrIHjXCIQjIvP0ynGN65bMVbEySGHHFLmovRQ5yxBfNRRRxWjfhQM74022qi67rrrihhovD4Q7ausskr1iU98YmbP3Nx8882l6+Pee+9dRFadEB/mjrGRSrrJJpuUldvVMyZJp6T4SCYOU7ouPvzsZuzR1o7oaIXnu/iGce3RPrgw84Yxrt0Ee91dZVxgRKrtsHo8DyIPrRukG3t4ZI1NGD/Gq58G46jgcxsTY8NYEAXy2QO/jy5RNnMrPLLEWoyVx1HK7e8FPq9cfeetqKE50/j5GtO3XvvClarnP/7By8bK3OIsMI9ibtl66e0fdOTD98+41ryim7U7zK1oW8u4Nl4RpTSX6uNFDPdibvUzRc33rPZC4bSIoTqpXl5vXcP+9V//taxJYR0oqZHuIebRqquuWiINDPUtt9xyYJGkRogtNS4ihY14j8SmSFm7LF68uDrnnHOq2267rVpttdVm9i7l0EMPLa+3aNGiEtG/5ZZbikBx3TY+FoRNkk5I8ZFMJG7aprbNjcrmhhpbN3gtnshvf/vbxYh82tOeVvY1Goxu4ozFMBgnPQ0L0eHLjUoKhC4o9fF2AzdOMVYMIWNXNxiNF4NxklKPeFaNi/GRyiG9YS6jxdytR5I8RvGsuRTzqpcG46Dx3TuPGHe+c0bkfNPyvFbd229r9PZ3ey4OsuaDc4PwQD/W7nCdCiHiMRwD5qXvIuZWN+dio2DsRXG+c4JR7T2rH2P49nruEx9vf/vby7beeuuVNCvfh+iANCeb8RJ5GZbThBA1v7UTboQ4IkxEy9rBXBAtcW3iBGiHa6+9ttpwww3bXg09Seqk+EgmEjeoXkU76rjhMSIZgW56hEf9xuxvhZffTd0WHsaogwgjaNgri/cSN+tYjdtn49Vv5/PVDcYwsL2W7yrS2sIIGsdIkvmgOPiuu+4qc9C48NTOF5GBMKxtdYMxxsmYGbthGUXt4hxi6Igk9qPY3rhIl4l5ZYtz0dyM8bJ1kgbYD4O6jnMiiqcHuXZHY6qWLc7FEG82YqRfqVpzQQCYM+aJdSG8n17DaN91112rT3/609Xhhx9eaj2aOQqMTz/+frv0MvJxySWXVK94xStKGpU2ve0iEqKeT3paknRCio9k4tBq8KKLLloWGn/+859fjI1uxIcbszA/g8CNWB4wA68d6t5rW3iv3cDrYoQ46YVAGjRzRTs6weUoUo9ivCKFLiJJMV6jHknyvjUhYCDwKkon6rWAMi/De23M/N8+xlmjeBtWekgjvmMilVhlVDOiGLSDgIfXOMX8InxQTwO0DUu8uTYwGEdh7Q7fk/cT42VrFG8RIel35I0gq6dZEfG9FmQ+r8iG+gbn7pIlS0pdxahek3tZ87HZZptV11xzTWm1W29kMBc6Yl199dXLrtFJ0i4pPpKJ48orr6zOOuus6vOf/3zx5DFS5bASIrYXvOAFHXk6621iRTpEPLoxTMJ7HcZ1GEBuIHXjetRTaYgNBiSvl1oXgqzX0RyXp1aRJH+rPl7dCsxeQnAQHt6/wmmF5YOAkRbtkMNgDMOg7r02XsMQb96Lc0m6SrvpZ/2EZ59gi7FqFG8xXrZ+R96cRyJkrgO8+u06NwZJXbzZXLvM8V6majUyiDQr582pp55aohxrrLFGcV4RfqOMwvfjjz++625XIrMcRlKo1Ll0gnnqWkO0JEknpPhIJhLTmmHx5S9/ufrMZz5Tfe5zn6tuvPHGIiTcKK1o7oK91lprVWuuuWa5YTbe0BhxLuSMAr/v16J43qcbeRiMbrJxQ/d3GYo2xuMwvLHNkP7AiPTeGZAMyUEZ/mEAhRjxPWEUxFtdkPHQmjPDjNCYR9EOOcas0XsdY9bvyFvUMHhPxmUUu8KFeKufjyHezCfjFFuvhLZziOiQvsLrLEI2KlGquYjIW8wv//d5zKO62LXN5zyop1mJkJmrvcb3rNj6Yx/7WHXAAQcUg77XUZV+YB0P97FW63y49xEHrkmiRgRhs6jGSSedVB144IHVxRdfXF6rEdEv87Hx+3O81d2NHWdfknRCio9kweCmyPgJMWKTLxs3NlERYoQocSPiBdPlY/PNNx+ocd2YSmNjFPEkuoG4Adt4RgddlF03ruWj8+r3OtrRKd5TjJMxG1YdBGFrfnk/z3rWs0Z2gcm6ePNYj7zVjcVeiV3zOVa2N2ekzAxTkHWCeRSRt9jqaZP18ZqP2HWe8+oTOI1rdwyaqGXpZuV24xXiLTaRC4TYjW226LPrXTQi6Gfdyxe/+MVqhx12KN/D+973vmqrrbYayXO2FRY8PPvss0u9hhXOb7311pJ2XBcEUtXUU7UqDCdQnJsiIM3OSyJGWpbOXlIBfQ+yCi688MLqSU96Uvmbg4rsJpNDio9kweIGZ12Bz372s2UTGdE5xMWVMeCivMsuu1QvfelLm7b+HBTeZ6ui7LoY8f9+ekylykglYkyO8urtdW+s8fJ/+xjSMV5hAPVCvNWNa6/dbrH9qGAuhaEY4q0udo1TzK9Ox4uwYVwz4BkujJVxMu6a4doQ42Wri92YXx6bjVfdwF/pEQ+q1n3Mb6u1/r69tTv6ST+7eEXNW2whduvOAVs4Uxwv2uFYHZ2kEPV6zpjf5557blnLw/mq4FpK17jh3FUk7rNo4y196nWve1118MEHL7sXzCY+vvSlL5XidCLmzDPPnNl7f4gS0RQteDmdOFecxxZbtNBhNw00koVLio8kmcZp4ALuIutGJ/rBoBSuhptg1Iy86EUvGnohaOT1x+aG4P3wVodx7bEXeepem0iTFsILKWVmWN1u5gNDg8HDmDFWHpuNl61T76rXEu1gME2KcT2b2G2sg2g1XuaolEVdm3i4GdciA5NIXeza/L/ZeH3xx3+q3njFXTPPglvvA6p3b/vsaqNnD9dzPMj1S4xN43gZQ+NFgBGqHAVEQT9S81wL9tlnn+rSSy+tdtttt+rkk08eirPAZz7xxBPLfYfjwrWDcNBtai6RH4v+NcNrESF1iDmChIMNIvxEi4hSkgyDFB9JMs2rX/3qUmTooi4HVgG1U0NXnkjTEh3h+QfxETUjBAmvWT9TembD+4yuNCFGpNaAwVcXI52mu0ThNINUKtEwI0C9IsYrDOv6eDGU6+PVSmQZj0gLYWC6ifejHmgUmGu8wriO8fI7xo7jFAcP89wYBsarnnoU43XinQ+s7vn18udOvxYo7IRhrNweGC+CgFDVOc9ccX6BGIn5Zeu2Lkmd2vbbb1+iBDz9/j+s69mee+5Z3oM6CylTX/jCF0rKlP2nn376zFHNCfFhazy3dKCqR9E40XR8tG///fcvDgMLBBprf5PTJEkGTYqPJJlGlw9RAjeBVjhVGOMhRDzeeeed5UaptWGIEZv87WGKEZ54Rk9sUWQcN3OGoq2Vx09qiWiHkLuwus8zTtGOTqiPVxiLirThM9fFiPFjWDKuGeS6n0kLWUjGNaIOIsYs6iCcQzzbPLeMmkHWSo0y5tOa77q1+sPy9n31lw+sqqt2eHqZY5wF7c6lXtRoBINeub0OYSY1z1wSYZYiFKlaESGJVK35tkR2jqtReMMb3lAEsTSrYXr9fd6VV165ZbG4YnLRwlaE+BDBnSvVdtttty0dINVuxGeWPqWxgXa9IkBJMmhSfCTJPHHquGEKZYcgueOOO4rxJT1JF61I03IjYZANyxCLm3kYiwxoNDOuo7aDqHKDIqwWmgFJfMVYeQzjx3coXYL3UCRIoWUa10uNa+lnxisEiPOjntdvfrVrLE4SxoaxecSNv24a+XjKI/6iOvA5fyznm/kVdTY2/29mXPa6RqOfNR+zwftOyMM1UsS5Ga1Stcylemqb8WpMBSSUdXNS7/Ca17ymRBukWw4TtRLHHXfcvNvkhvhwnfL5WolW13n3onXWWaf65Cc/ObN3KbvsskuJ9usoNqkpkcnokuIjSXqEU8nF3g0lIiOK9Hj23BStLxJ1I4r8GGnDMlyjaDYMbDn+cANjBLkZKSpnDKRxvbQrESOJISl1jcfRODEMfbch4Px/oRnX5pCxYSCGWDU2YSz6faOxWB8v58Gkok6KkGcQ//xhK1WHfew7M7+5Dwb+es/62/vV2RivqEuqp07azL9+RCoiktKvldvruFZKW7S5xvDId5ISan7VU9tskQooYmuxQM4f17AjjzyydOhT26HGYxTOz24XCAzxQURxjIhgb7LJJqWOQ/Qo0JWKuLFS+7HHHjuzdym6Ye2xxx7lGPemJBkkKT6SpE84tdxcbrnllmVixP8ZsCIMq6+++rKaETm5ohDDMvSF4d203dS9D+/b+w/PNePH1qv2q+OCMVDAKW+accRIMh4M6cai7GbGtW2utIhxxVyJVad9TmPTKo0vjMUYKxsBDHMqxsq4dVqXNIoQYs3W7mjXwDfvoo4rNuckjPFen/5D0xSuQdRodEvUBGlNHWlW3V73jFdEdy+//PJiWJuX9osmiT7rWhiOn0aDf9CI8kjh1eq9Ee+P8BQta4UW8I5ZtGhROV/cV9RxOJduv/32kloGYyHt6owzzihCo85VV11VbbHFFtVll11WbbPNNjN7k2QwpPhIkgHhVGNwuTlEETsPHSPWDaSbVdjni/fDSHIT1FmGkeS9MKTrnmuPDEjGdRiJHnmu3dwnEcaMVCJGkk40ahhafda6J9Z42RgHYBDEeHkctuHTCxjGjCOfeT7tUJ0LRLjxijGrG9d1MUKoD0uUzwfns7FhZDuftKTuBeajc9JY7f/xH1Xf+xX1cf9xedZjHlZdvnj1kXUQOJfCqJ4tzaobXNOOOOKI6v3vf3+5jlqIz3oe1qMwxzhXzjvvvLJA3rBwzrg+aO3eiEgFYaIAvxOuvfbaskp5vaXukiVLqh133LGsYbLrrruWfYE0LBEYxyi8T5JBkuIjSYaEU4+HVCGgyIit01XYu4HgiO5djKTZ6hcY18L7YVgzGL13x9fTjmzj7un3vfBYiwQRG1p+ypvuhDCuY6w8Mh4RHaJizFpFC0YRn0unIGksjDjRDt9/L2Csx1h5rBcZ1+fXqEbfjA1jUpRMqhTjul8d0FrVaOz6zD9Vz3vM0ha/MWajkNpmbHSGEymbT5pVuxh/xrfau7e//e2lu1PMFca+dS2kxW666aalZmtYdBv5aIVIiGuXSDYy8pGMKik+kmSEYNDztocYER1pXIXdRpQ85jGPmZcYYeSJdrj5iXboZNWpN95lI9JowliMNJooAA3jZ5w8/T6DdpyK7qXLMFB6ZbgRH3UxEh2iGPH18RpExGs+mDfGRoGqdQTk0/cz6uVcMFax8foTwf4mgzrGbBSib8bGeauAelDthRtTuF6/1pOrFzzxofcbszgniSHjFWNmzg0K74EhzamiO5yt1/Pb9Ygn3zoZImUKqV0nR/E8Qrc1H63QZvfqq69e9r1nzUcyqqT4SJIRhrHFAx9CxBaheqIhxIjoyFxrcDjVCRnCA54v2tELvHZ4+mNjkCEMH0aPbVRz+uuRIAsp9mOBszoMhDASjRdPv3EkdmK8PI6Cp58YY1xDJIjwHTTOhcY6m4i+1VPbbIMUvPWOTcZmVFZ8NpcYt/Xxco4iBG9sztF+GOr1NCvRjk4jiO1gDugMZcG+9ddfv6QR9eq61i90szr++OPn3e2qFc997nPLd61ODRxEs3W70n7Y/PX9J8kgSfGRJGOE01X6QtSMSNOS5gF5xJGmZeOBDYOCYLGWiWPcmKVZ9dNA8z7D099o+EgzCiFiYwgN00MpxYHAk64w30hQL2BERU6/8Wr09IdxPUhPv9ofKVZSrRjVRNmoiEdzTPQoxsvWmNpm69cc891EwT0Dj/AYVWEd1AWvjZgzjtFYIjbRy27mWFynjI/xF7Xtx9hYh0gtg2vhW97yluLhH3YUrB2s4yGtttU6H1JxCQnXJmPonOdcgjnv+2ocz4svvrjUsSxevLhENQIpVR/5yEfK3zRHEet8WNdKalaSDJoUH0kyxjh9rcJeT9OSGgOrsKsV4RV2g+PdIlqkzAwDkZAwFD3yysFNNIQIw2eQaUe8fjz6jOxRW8E9PP114zo8/Y0dtfqR0x+F0wx6KVbmzaiMTSsaPf2R2maOGacYs249/YS0sRGtkmJVF/rjRL2xRGz2xRyL+WVrV5ATOCJBzq1+pllxvGg56zwR7WBIj9N3sPvuu1dnn3129YpXvKK8dwXxVjiviwfCVjewehE5YbLZZptVW265ZWmC4XuROiWKoTGG16lHfjhWdFZ0XT3ggAPK8TpjSbu1wvkwa1+ShUuKjySZIJzObipEiEgHrxYj0g2G8a+YUZqW1pM8X8P0EvLq1cVIPe0oxIitHykhjHgRIx59BbA8goPMg58PxibqbGLMIrebwKwb1914mf0dRg+Pq7HvZ+F0vzE+9WhSM0+/MWNot5vaVl+7w9jwSk8KMcdifnmM9Ml6NMkmgtl4XnoOUUYQGJt+pFkRR6IDxxxzTHGuqO8YlkOlG1yDrMtx7rnnluuQz6Bm5eCDD17WtKOZ+BDtESGxhpQIhuso0fGyl72sLF7YLO3vzjvvLK8rzQsi4yeccEKJriTJMEjxkSQThlOaJ3C//fYrRqhcaAYSQSI6EquwM7qlaYUYYSwQI8PyHtbTjmz+XzcUw7DuxFBsBoOKZ5ZRNS4e/WYYG57+MBI9+hmKbutj1sxQbIbnGxuvJ/dcmt6w6016SStPv88Ynn5j5nxpjCaZn7F2h6Jg6XlhJE4q5pjIV328ImJJfMX8Ml4iHRYN9H/Xkn6IeTUku+22W/Xxj3+8rFpulfB+RP3mwpxxXSUc1Fcw/gmHgw46aFaHjvPL4oA6TRFpxsx5Zg0SdR7Gsk4sJtgMf3ccRVeSIMVHkkwY0rAY1TqfnHLKKffrpe90ZzxYX0QKltQFoXeGOONL1xNeMYJk2Kuwu8FH2lGIkTAU3aTrhmI7ERzPZRzxJnqOAlhG+iRRNxSNWT21LcbLY2M0ybzgUWVcM6iNjWMnHR76Rk9/RJOMUYyXMZG+4jzp5dod4whPe8wxWzgJQHBIXYzzslfizOtbq2OHHXYoEVJreGgTO6xr05577lmdeeaZpWZDypRrqJQp+08//fSZo5bH+UW0cvZsvPHGpcbM5yJiiBD/dx0OQnzYGp0Aru+Tdv1KFg4pPpJkAlFgruZjLpz+vHHyhKOI3f/lyruxjdIq7AxFhkeIEYYPb7T3w9CpG9eNRg8Rw6MvV3+cc/Q7pW4oGrPGtCPjJWVL2od0vV63Fx43jI05Uh+ziCaZL1JabMbN+bEQ5tBsGB8pPYS9OoMoaI/zMtIBY5tPOqDz/pxzzqkOO+ywElFRWC0iNyxELFZeeeWWxeIKu73PZoh0ONc8vw4x9drXvrY66aSTSl1GEOLDedwrIZcko0CKjyRJluFywICwCnsUsStm5N1kOFiFPTpqDWoV9lZ4r7zWIUQ81msgQogwuLWw5MlW2+F3CxVGou8yxszGuIPvkgEZXutx6BrUT8wlzQisa0JwEN7GjgBG1CaFYW1eTVKK2mw496IuyFypp1n5HedFzC9bCLjodBdjNpeAc+7uvffepXbNmhSM82EvyqmuQrpXL9vk+pzGUecuq5EHIT7MRWPoGrZQ5lgy2aT4SJJkVnjd5lqFXWTEI4NimGKE1zoMa17GECMMRSkOUtC8x37ko48TBMfdd99dDCZGM+M60o98377Deg2Ex4UUDTF3RMrMKSlo9SJeXv26YU2QGE9irR6Bm1QBVxdl7dYFNdaN1AWc8bIRIuZcnJvGf/vtty81NrpCvepVrxrataVOPxYIlNInne/QQw8t638EIT6co8aM8Npkk01Kofowoz9J0i0pPpIk6Qjec8ZHpGnZ1AswQBhqkaZFjMx3FfZucEmTdsa4ZhzIz5erT5Q0W2uE4dNuQfYkQGRIHeGdbkxBM3b216NJ0e2I1zUMa4+TKOCIiFi7g1A1n+dKFfIcnusYL4+NaUcxZo3G6rjhs0mz8pkbRVknGJ96BM7/OTZOPfXUUhNhTjLgtekV9bC+zKggyiNF0aKkjaiTI96dX52w4447VhdccMGy9T0CYsTrLVq0qMzDW265pbTJNa9Ep41TkowjKT6SJOkKhoiF6OqRER51MCQIERtR0u91NHgjCSNGjZoXxnXd+8yQDiPRVi/IDgPR4zDTyfqFS70OOVoME1uMKEbMbHgOr3WMl7GrC7i6YT3uNRA+F6ORh7mbuqBGAWczhqi3qzVuBNw4jJnP5Jwm6BvTrHqBa4hIx2WXXVaiCuao78PYMMZdO2zrrrtuiS4MExEHgoCDoxEOF8LEOLWLNCudsnTv0kFrLq699tpqww03vF/73SQZN1J8JEnSU1xSeI5FRkKMtLMKezf4m3reS1+QyqG2o97lqxWMiLoYYXh6rcjnD8OakT7OhjXRRZRJJ9IW1OJk800Jqgs4j5FCU2+96rGxo9Yo0++1O4jiECLGjTgB0Rvj5XEUx8w5Qhh0kmY1HzgwRABcK3TpW2eddUpdheuHR79Xa6HwfJj0MvJh5fFtt922pFJdccUVbZ+TIiHmrGtekowjKT6SJOkrLjGtVmFnCNcjIzzOnRo2jGGvxziSYqVb03w7w9TTQWzSaXhloztUGIpy08el8JOhZHwYtUTZfFNlWsHYakyh8Z2Pw5j5vglWRtwg1+6oi16P5lnjmNmIoGGOmffGkJZqae5Io+w1PjfDW5taDQ90s2LEN8LYZ5z3ev52Sq9qPj75yU9Wm2++eXHGWBC2k0iSNrtXX331spq2JBk3UnwkSTJQXHJ++tOfLhMiHiOP3M3bzZgYaWcV9libgmEtL7zXxhGji2EYRqLNPgZh3bAexeJihjVvMeFnXIzPIGoOZhsz41Qfs0EY+q3wHhnWxKt51u+UwNkwPkRbjFd9zOqF/8ZsEIX/ztFIs/L3pT71o8bH2OseZc0MBrUUJJ91lNHNSlF4N92uXPOs8yGKcv3115eIVyf4Ppxf0iiTZBxJ8ZEkyVBxCXIjdTMPQWKxLcZzfRV2kRE3XUY+b76++ltttVVJIWI8DsKwJpCkGYVh7dH7ZLQy0hiIgzQSW8GQDcNaJOiJT3zi0AxrY9bYEpnn3/sZRkG2+cZoI8wYfQxAtRijRIxZjJfH8HJ7zzFetl6LAt+NFD0OAmmR84lGtgNjXd2CIusTTjih2m+//YYa5WkX63jo8tdqnY8oGjeO0YqYsA0sSLj++usXoSI11XfZDKl5xHljwwORoVe+8pXV4sWLq7POOmtmb5KMFyk+kiQZKVySGF6tVmHnwRftYPRrwTnMlY7jvYaRaAsjkWEdYmRQhjWj9Tvf+U7Z/H0diUbNsDZmDCtjFuPWWJAd49Zrw7reJlZDAsJ1HAxeY6YAO8bM1lj4H+PWTeE/0SoK6dwyd/qVZiUt6fWvf30RUhdddFFxMAzrHJ4Pu+++e7n2vOIVrygrnFuY1QrndUGg7u2pT33q/QrDCS7ChQPj7W9/e0kzq+NnrwciZrPNNqu23HLLMk9dP6y5dOGFF5Z0VX+z8flJMi6k+EhGBmkGun2ce+65xTPpAqsLyEEHHdRWSouiyIMPPrgYq+Ap1w/dTbSRfh2b9B6XKMbpDTfcUB1xxBHVHXfcUdKz5FzzLlqFPSIjw16FPYzE8FY3GtYhRPphWPu75ioDUotShs84GNaIguwYtyjINkb1MevGsK6v3dGv+oVBQoyHEDFuUfgfzRJCkBChc80DY6J7k2JvAl80iKjpNc7XY489tiwWqHZiyZIlY/k9EGfuAe5VVixfaaWVyr3KfSJSCZuJj09/+tPVi1/84vL/ZiiydwyklIqm3HbbbaUmydi5J77sZS8rqWrDrn1Jkm5I8ZGMDAoO5f4KZ/P+8HbzJtl/+umnzxzVHDdNhifjZP/99y9eIv3QGRxeh+co6NexSf8QAbHgllQQhosbutSsSNMSJWF0S1EYpVXYUTesbXWPdd2w9vN83qdLeHT6Mj+JYq85zohQ1MVIYxeyGDOe87kMa9GgTtfuGEcYxM6BGDP/99k5bqLWJra6M6eeZtXPaJDuTM5h5+rRRx9dulaNWp1UkiSDIcVHMhLIT1955ZVb5tHKs+WNa4V2hVdeeWUJVUdEgkGmFoCH7dJLLy370K9jk/5x5JFHlsgHDyKvfiMMKHMkFj4UpSIQeSF1n4mOWkQJ42uYYiQ81iFG6muNhFFta0c0MdK1iFUD022nr1FmNsM6DGpjxmtfN2gJP9cWxeVaxMqzH+Z3P0iMj89dF3HG0eePWhtzTsRD1Fk06LGPfezMs3sHE4OTYJdddik/f/CDH6xe8pKXDO17GNUIe5IsJFJ8JCOBMLIe7vPpIMJ4+9u//dsSsta+sI4bnpxiOd68pP06NukvYTS16ylleLnxM3oiOiKNwWsQsZGmZa5J+ximQUo41Q1EBqPLcqOXn8FYf5+RRuSzqoNZSPnfYViHgCNGYo6Elx+MS9Eg37n9Cxlzqr74oWuXMYOom6hQzLVepS4y9N/5zndWb33rW8v5pl5B84NhMooR9iRZaKT4SEaCbnqnK8JjRB5++OEln7iO4r899tijHCMFp1/HJqMNY3W2Vdh9z4wj2zBbrmIuLz8jmhFp3QMGI491r+tHxg23Mc4CY/aLX/yiGHjGDJwDdcO68fqy0CB2rfsS0TJjYo6Za82icB6NYafnBHGjqJzjhvefABlmBziMaoQ9SRYa41GNmEw8LsoK6JoZBm6Q1ipohefCcY3Evnh+v45NRhs57G76u+22W3XBBReUblDf/va3q/POO69ac801l6WF8EYyTnSzWbJkSakTGLR/RtqUiJsWp+pXFKh6VLxKmHjfhAdj0HszBxncvMwLFWMR3cUIM+Ni/AhL+9Uz6OIkLU90lfHt/ObsWEj+N9EiXZLMF/OccHUtM07Og3XXXbc4eghwjRLUEd1yyy2lCFqjB+cNgTfbXDOePPuE/O23315dddVVpbPTsIUHCA7vb999953ZsxQ/218XJI0QZh/96EdLylg9bcr4bbPNNuV3Id46OTZJFiIpPpKRQBFuqyJQXl1GQiuigLfZ88MjHM/v17HJeMFYZcwrgLWwGSNL1xr56HrwM7QIEMYZw+y1r31t9f73v79ET8KjPigIJ95nj4xHtSAMGkKJUJFapPheTQyjT7oHY5uHe6HAcFS7wLAWIWJI+351ITJWDGGLVvJqi4Lw9CuyFgGTkscjbhwZhJMoRmJ8zA8iQLS2WX2H30lDNLd0kSN8Fy1aVNb7APFBUBAjujCZa8bOfINz44wzzqg23HDDErF2rO5Mw4wk1vF+nEfEfB2fT9qi86gVPqcaqzXWWGNmz33Yp5ZLGiQ6OTZJFiIpPpKRQF6sC3IzeOBma/vouWj2/GhzGs/v17HJeMM4kov+6le/uqTUMR5EFy677LKykCFxYhE0PfoZZjvssEM5jgHR74iDuUYMET6KYxkvPNMMJl5qNUmMbcXmRDGPvlQPBiKvtffuszCGJhGfy+f1OY0Po5lAa8TYMIgbvfzRttnzpVGKjng9Ua9IeRtniFBRH5+PGFOH0O51i5Aj1jR5WHXVVcuYmX/OAVFqc009HqFH2JmLUqxe85rXlGii/aOE9ztqEfYkWYik+EhGAhdkOcLNDCQX8tmKFONiHhf8OrEvnt+vY5PJghjhGZYiccoppxSPKO+uFJLtt9++GA6HHHJIMcQ0RLDY2KmnnlpEgtSoXnnPiQYGsVQixh+B0Vh0773KyWd4W1l57bXXLjUsitDtl9sfKUfanEo50vY0BPQ4I33I+BAJhITxabdNbHj5n/nMZy7z8htj40hQas8rUkDE+f79PG7pbfU0K3ND6mG749MMz9VRTEteaVvmmu5NBx54YJlrBA50pTP/tMRWzG0ejwKjGGFPkoVIio9kJBDa52EUFq+jKNiNy+9bwePGk+Um24h9fhd5t/06NplsGPg8wFJItOlk8DLoNEGQnsX4Peqoo0pqD+N16623Ll1+RB4I6k7FCAEjqkI0+LvSZNSBtIP3yvNPGJuf3pO0I/+XvqWw2GtHS2L/J6YYTOOScuRacffddxdRwOg1Pt0uVkfUGWMteV1viBFRAl5/Rre0pXFJb/M9SiPzPqXmEcn96obmWqiLk7/p+k3YKqbefPPNy9xyfoQoGTajGGFPkoVIio9kJOA5ZjTxHtfxs/1+Dzf6u+66q9zgAsbHS1/60upTn/pUyeMORCcuv/zy8jvHoF/HJgsLc1Ihs641WkCLKijEZZgecMABxTvOI7zeeusVEWCuaCUtFYXHczYjnzggWkQs1JzwWBO63cDQkarFGy0qIj3G60pBUecgGqIQ2/sjeEa5/sH4MXKlRSkqF60Ib3IvITiINZEt6XZSjoicSG9zDYr0NmLUdUk751bG7aAgXKUNej/SrER1whjuJaJxixcvrvbaa6/qla98ZRkDkRVpbDo9nXzyyUWsOS+kuY0CoxhhT5KFSLbaTUYGHrKzzz67CA3913nUhOzd4OTXg8Ehj1g4X2g/4FmLXG/GH2ONN44Bx/vHYAj6dWySBC6rDBzGVyx8GKuwm0MKXmPhQ4aZ+eV4qVxqOewXqeiH0dgMop7osTEW62uNRMtVG7HdTdpOtzDuLarImy8y6b0NC+NDCMWYeYx0G2Iv2tR69DPB2m+sBK9drLlEuPYr2uG6qO5J5zXXw1133XUgn69b1Kccf/zxfVlPyhomWjw7Rzo5NkkWIik+kpGBx4632MqzOg/x2ll5VgFjrNrcSnyAx9axbiyQanLCCScUD28j/To2SVrBwGcYii7YpDwxQMxtHmOeZEaQNQeOOOKI5Wo7BonITV2MROG191QXI/L/ByFGvB8Gr/QwBrWi8VFo3dqIqEeMmY0RCoIzxsz4MTp7aay7jRsbY0TIujb1Q7j6O5ow7L333sW7rzWtqNC44Pzzflut8yGSZeycq2p8rKkjYhioAfvIRz5SXoe4g0iG85fDTEQ86OTYJFlopPhIkj7AWFIbQEhJYVEHQEgddNBBbRmVcqUJHgYqCB7CrFmNSTvH8tB+4AMfKAXTUjIYvTx90oF4+4bpQV6oMOZ9F9ZAkCOvOJW3lPDm1R+lVdi91/qK4gxsc5zwYKCFUW3rtWjizTdO5jDDjdE7Dl52tIooEZwh4jx2I+I4bUSDRIU4bBTQ90O4qlU47LDDqnPOOaekVbm2jeOq8aMYYU+ShUaKjyTpA3vuuWd15plnFg+bG5ybjRuc/aeffvrMUc1RyKrQledy//33X3bTIhi8jjaXQbvHyv/mLVZ8vPHGG5dOTlKCGBBEiP8zgJLBoViZICUIrQStQF0dQaRp2RpXYSdIfIfDXoWdGOHVr4sRhrb3ZB7Vxch8IxRuTYS7FsPhzfc4zhBsokghRvy/GxFHmInMirio51Fv0Q8Y49KsODo4VUQ+hpl+1w2jGmFPkoVEio8k6TG8tNpQtgrtC8PzbLeCV/HKK68sKQARvYhwvQJnXvKg3WOJETda76uOhfMsoHfSSScV71wyOBTo6orF27rFFlvM7L0Pl2ZGUKRpESPEJnRgipoRYkSdyDDFiPcqbSzEiC2KehXmM6YZ1jYCeS48V5MHxcHauios74c3f9gQcQREiJG6iIsV22Ps6iLOeEeaFcdDv4SZv/Ov//qv1W677VbEkeuZzlnjEnlKkmQ0SfGRJD3mzW9+c+lsxNvV66LGiy66qBhk7RQ11o9thTQQRoWCUSt9J4NFKlG7LTddqglLQkR0RJpddGGT1meu8awSJCJew/RMe68+WwgRRrWfwUiui5HGTlVaGPOwM8zlynfbQnecMG5EXF2MRGtW42a8RJZEzWw6Jknf6YcwI4KOPvro4jDZdNNNq/PPP79cb0aVTlJVGxH5XbJkSelsaBV3Y23uSTNbf/31Z45aSkRFmsGRI6IyLHbeeefSfc17TJJRJsVHkvQYEYfrrruuGFuNXl5pERZDsz5EM3jDGZGHH354deyxx87sXQoP+R577FGO0fKzk2NbwXMqSnLooYeWLjDJ+ODSzQCNFC2iRFSN0a4oO8SITdrWsCMHjOi6GGFkg/gID78ogAidnxmN/WihO26EiDNmIpghRkRCtEoOIScC0quIBJEr5Ug9xDHHHFO6sI1y5KmTVNVmaBV8/fXXlyJxrZs5ds4777wiaM4444xyLQ1CfIhWijzXEaGb7Xrbb1J8JONCio8k6TFSqhQVNlvV142NR1FqVjN0QHFDa7zhQW2AG55uM26SnRzbih133LG64IILlnV5ScYXl3IGKs9vdNPi0TXfLFRIjNikafmuGZPDTJ+RWlU3qkOMeF+Maga1jRd6oaf5+G4JArVbBJlIV4gSgg0M7hAiHqVtdTpu/o61akRCfQ8f/OAHy2KLoz7+naSqNkMb7Mb1YowvRxGB73reWA8iwv3Wt7617BsVUnwk48J4VowlyQij17/ORc1wc4v0k2bEOgHNnh83xnh+J8c2Q5rVkiVLSi1KCo/xh4HI8IxV2BlUUpiuueaa0uFHih0vNvFRX4VddIwQGLQfirEsQsNQVjBtHvNQe2+8+6Jy3psUM0altMVo+buQUCAtvc5CkBoN8Kyrg5Fu5f/EgfaxUrB8j6IAIhaM0DvuuKOkEREpc42bwned1zgtpBx57kte8pKRFx6iFB/96EfLe62nWOmKxvHid46ZDaK8LjwgHVI3QGNXX9S2juvrbNfYZviObEmykEnxkSQ9Rui/1SrHjKrZcvw9F82eH+kW8fxOjm1E/3kGKUOVwZFMHoxG9T4bbrhhqTFijBIjPNsEJ2NTTrycdobrZptt1vYq7L3A32dQ6wiklsBii2qiCBAtShnVixYtKmKEAX733XeXFJpOjepxhtHsM/O8M6x1tGpMf+KRFymS8iP1yErsFrE0ljBOVoT3vd92221lHHnzjV3gZ2LUPJFide21195vfYtRRhSZMa8QvhH7XB+lT80H0RPjK3LYyCmnnFKuwTZztlkXQ52ynIeK9kVKzGXXZPMe2p9HO16RKp0RCe46zlnfCYGpPs/znRci1kkyrqT4SJIew+Om0LuZd8vNjKHXCs+F4xqJffH8To6tozhdj3se8EsuuWSkc7mT3sEIYrgwTt/ylrcUA1O6k8YIFjVkRJ122mnVJptsUuYW0XLUUUeV46T29FKMeD3eeR5lBrVUxcaWvOYlo+/pT396MaaJEcZ1FPvWjWqPjGqfh6iZBJzDxsj3xohuVwwYNxEw4ySVyLh5PgNZtElNjWiA6Im0ole/+tUlgmIM7SdAIsVoHIhrXVwP68Q+ncE6RYrbhz/84RIJIg4CjRzWW2+9UiMnvVV9neid9sPWcWoG8fDxj3+8esMb3lCikub1gQceWBqDEImcAM5J343zM4rmYRV5K6JrLOJvchA4V7U+1q0wScaRrPlIkh6jm5WbRD+6XbkJMbDa6XZVPzbg1bbOB2NPgeVsnbCShYf6EJGIWGuEEURIM0YZquazAnZRCgZupyk5bjcMLGt3MKDMw/nOQREP5wAPvroRj9GmVkeoev3DKK6G3griyaKBhBnjWd1CLx0E8R2og2AQM7J51+FvcUrY1l577dLCeZD47K1SnBqRJiXiI3VU7Zo0UrUqdVwX1Xw4Zvvtt5/ZOzdSFM1xCzdK+ROxmA3vW9qX88XcJpgh8uFaTGCrv4rULhEoEY/GFufmswgXoRkREJEb5199DvgORSx9j9ITg6z5SMaFjHwkSY8RVWAAnXrqqTN7luJn+/0eDCU3/vrNliEmz1jLx2ijCt49BeZ+F8ZaJ8dC+oZ90jN025qv0ZdMLox0KR0MoiuuuKI0TSBGtFu1tgiD1fo1vOaECO+t46QFzeXHEgnUjcucF5FjfHUzB3mgiQwGsvVriHAGo1oIEZ4wHBljDDl/1+dplRI5CjA+RTu8T3UXtl5HJl2DpPgwgNUFMcpFjRSX87pzmjDmbYPGopIM/XY2HapAxGI+6afNkHIoHVXEwdz2t+bCd+RcIIg5dRqxiGi9pkQbdOfay1/+8iLuY/N+iQpzIBoJqIWKOeAcIhQ5lRxH6BBKSTJuZOQjSfqAeoqzzz67CA15vG4mVjhfvHhxCdMjuqY0rqLLkxV5wIzAaBvJwCMgGFdBu8eKusgZdkNT46HQt46fvc8kmQ3GFUNVZCQ6aoWXldc8Fj4UHeG1j8jIxz72seKlNR8HtXaHWxtDsh4ZieJgBquoSERGOjFO+wWngYiH96IBRL+cAwSZlB3GrjUpdIqK7ykIY9h3Okg00WiM4rbisY99bBHAhKXHblqOB4z7zTffvDh0pFxx1rQLkU4Ei2qLbiMiH9KzCJrAuimiTrNB/Lg/mMfqS3wWYqPRZHNt5wxARj6ScSHFR5L0AQWy8njd3BldK620UvW6172uLIIV+dStxAfcyBzLCwnG3AknnNC0K1U7x7ohyf1uBa+xY5KkE9w+GD8hRhpXYWfwMSg1OCBueXwbuwoNEp7luhhpttaIR+Kk0SDvF1J2RGWIj36kWQWEo+sMD72/cckll1TPfOYzZ347vswn/bQZrtmEmLoXUaCIrLQLsaK7lmu+xQYR4kPdVH2xQqmvzhXnRSuIeEJUjYjr+2te85qSQka4u4coYheRVPsUzQVSfCTjQoqPJEnagpHkRujmGukRBJUiy3aMpU5WIJ7vasUMEEawG3V2gxk8bifSCIkR0Q4GGYNfzrv0EB5q3+UorMIOnu4QIrb6mhn1yAjDtR9ihOHMeSAiYyHIZkXTvcDf2W+//aoPfehDpS5CdDTSlSYBRj9DXlqfyBqIOSKL6JWGGpifWjary4haIMJM+hlxfM4555Q0qVZIe2rsfuX7M6ddt771rW8tS9VqJT722Wef0tzBe7Hw7GxEl6tG55DV10WxU3wk40iKjyRJ2mLPPfeszjzzzJLz74YurUsqmf3N2kzW6WQF4vmuVnz++eeX98KbneJjuDD2CFNGk7khHz8iI9J+GHuxCjujTYHzKKzCrg6LYRpihGByi+RprkdG1Ex0K5wYntKsRF36mWblb0izEqHyXYi0DiqqMyg6SVVloGtxWzfaPUcUgfPCvG3E9S5SVbUkFs0T1RPRJnK8njQpjUYOPfTQchxaiY9IFfM7hfKN34f3La0MOr35XAR9oDUykeUxxUcyjqT4SJJkTvTSl89MePCeBtaLcNPmcdS5qBWdrEA8n9WKea8ZGMQKj2CKj+HB8CEQt9pqq+JFZrAHbje+KymCjCmRrVFehV20L8SI920jnLwvnyvEiML3doVTPc1KV6N+iS5jffHFF1f77rtv8cQ7b53Dk0q7qarNxIdC+7px34h2zo4BseD5BI8oCNGopbHIknqROq3EB7TfFc3VBlk7X527RJSJB98doQ6rqGuF/apXvaqkzpo36gnNnVjvJsVHMm6k+EiSZE4skKW/vBs74zDoRftgqQ6KW93EOzm2zl577VVu8NIedIdJ8TFcGILE6FzCwe1HpErXpYiM8FRL1WLQM8wiTUsXLmkywxQjhIdoSF2MqBWIzluRqiXiE7VddXxWY8NzTkzXi/J7ifFjiDOUNb0gAr2/ZLDMJj7AkSIa9aUvfamkABIUor5EhPV2YH4ppCd4dHBTJ+h65xrotVN8JONIio8kSeZExOG6664ruc1SGurIWbYGhPa9zeikG818OtfwnEu5uPrqq8sNmzGX4mM8cTtiOOsOR4zYbrnllmK0S8NjmBEjNv+XsjRMMeL9qhMhQiJVK9YakZoVYkSEhGgeRJqV9B9pVlbRto6EVMRh19bMxnzru8DIZow3Q9G3+rQ63datJUnSG3KdjyRJ5kSoX1pAo/AA7+1sKwh7LpoV08a+eH4nx4InmiDREjM8hcn4wmjX4ae+CrvUFpERqSdy33mK66uwH3nkkeU4ImDQvjTvV0RBq9P6WiOiGsRSfa2RiMrxUvdj0UOfXacmxjsxRLhZdXuUhYf6Lu/XGPl+ORy0k5V2F13T2kHa0pIlS+63NavdUOgtLVMUzTyyMKCfpaYlSTI4UnwkSTIn0kQYTs3gyY31E5rhuWj2fM9FPL+TYyGdRD3KySefPLMnmSQY9wQvg14hrw5ainFvv/32UtyrKFdqy5ZbblmKf4kWxqQoGNEyDDEiouG9SDtTC0CE2C/64f1YEJQwkMIoOkFwz3b+tIOUHamP2sMy3I2PlLVRx3cl1VKKpeiDugljI0IRa2W0gyiJblX1rXFdD9cJ0VNpaGphiBPXD8XmGmn4fZIkgyHFR5Ikc8KAarUytDSZ2RZp81y0swJxJ8fq9MJAYbS0Sr1IJo9Wq7AToLEKOwNTNIJo6WQV9l4i6qF+BYRApIwRB4SJAnsRCmJEypF6F9ER6wJJM2v3vTreonU8+VqvajmrbmrUITpEakQf6ilWIlpa5/qdY9qFgJtNxCm4N6aNUQ4/219vpJEkSX9J8ZEkyZwwCOSs87A2wnP7xCc+cean5Yl0qUipqhP74vmdHHvMMccUj/LLX/7ysup2bGC0+D/jLplspBUx5hXh8mgzxnUi0hFILZKVpHnCCVRtSxmbjpO+1w8xwmuvtoMn3YJwhIf6j0AET52ULlfqm6RqSdkSxTFvPTcK8Imq73//+01TyvysDksxvsYP119/famdGOU0qzrGx/WkWYTGPg4IYqwdrADOcWHTaY0Qa0Q0yNiYA3We8pSnlDa6aseSJBkMKT6SJJkTnmb1FW7gdRg9PM9+3wqGodQZRcSN2Od34fns5FgFo1JrFO8yOGID76//NxacJpMPA9PK3RaKs/aLAmwdgaRnMdRFGCy05xhzZ/HixaVGwDHdihFpg7fddlsRysSFudqs61Udc5rw0CpaqpB2qhaWI8QZ4GogFN0TGptttlmpcSE01EdINyNcGM5EDDE+LoQzIRwOdWLfbLVk8F2vt956JQXvqquuKmlV0tvUuoiI1vH35lu3liRJb8luV0mSzIl1PBhErdb5UDDKkNPpxwq/Wo1qGxl0sgJxu8fqetXMYBAJkdrCw+09MTKTJHDLs8CfyEKsNRIedt2PRCOIFClSBGy7kQRpVmo41CuZd/VoRzfEWiMKsEU2RAyIEkJD8br2qmpddHyLuqhB4z0a03bwHokAgm/HHXcs7YCJwTpqQHTYc4yoVSd4L1K5fK+Em5XM4dH1SSSpEd+5tLyInCZJ0l9SfCRJ0ha77757SWWRT08EiERY4ZznmMcR0frSKso8zUEnKxB3cmwzGGXZajdpF7dAKYUiIgSJR2K63VXY1WdYNFAUzvHPfvaz54x2zAfvUzoWQz3WQHFOMLKJE+eJ6Mc111wz8AjIbC1vGxGpEMXhRLCg6BlnnFE61tURxdDB6rLLLivOiE5RL2LBP9er3XbbrewTVTVeIrWNaAxAmGTReZIMhhQfSZK0hcWu9N+XyiSvXkcfHWN4Y8PYaiU+0O4KxOjk2EZSfCTd4JaoVsjcCzESq7Bbs6MeGWHwW1ND2g5D1znRD8OfECLAtR9WuC76qKAePP2MZu9VE4bG9XEGgXSzxkVBWyHFzBjOZ02fdnH9kI5m4dPomtXNWkVJkvQY4iNJkmQhMi2opo4//vippz/96VPTBkl59LP97TBt9E1tsskmUw9/+MPL5v/2NaOTY/HBD35was0115xaYYUVyvGrrrrq1JIlS2Z+mwyKacN/6le/+tXUNddcM/XmN795au2115566EMfymlX5sy0MT213377TU0btlO/+MUvpv73f/936te//nXPtmmhP/XSl760/L03vOENU7/73e9m3tl4Y0yN3wYbbDCz5z523nnn8jvHzIfLL7+8jNe55547s2dq6rDDDiv7pkXlzJ6lfPe73y37p0XKzJ4kSfpNRj6SJFmwWP1Zj3+1LFLJpHVJJbO/WcecOnLweaF12Nl///2XpYf9/Oc/L68Txe/o5FhY78Dfl+I2bewW77Z0NF7jaQN45qhkGGj5HGtDqElS26QgXKcq36/vOdK0/F+Nw3yjIXfccUeJrFg5XW3E1ltvPfCUqn7SSS2YmhLpZWo3YpFGqW5aFtcR2TD+6njUn6njQbt1a0mSDIAiQZIkSRYYd95559S0ITc1beDP7FnKtGFZ9vv9bEwbTlMPfOAD7xe9uPfee0uUYtttt53Zs5ROjp02xoon9uKLL57Zk4wK02JxarXVVite+WlxWKIiNtGIm2++uUTNNt1006lHPvKR5Tt03Atf+MKpAw88cOrKK6+c+tGPftRWZITH/+STT556yEMeMrXKKqtMffOb35x5B5PFXXfdNfWIRzxialrATZ144olTp5xyytQznvGMss/v6uy0005lTL/zne/M7Jma2mqrraY22mijqSOPPHLqve9979TRRx899bSnPa0c57toZPHixeV3znlRkde//vXlZ/uTJBkcKT6SJFmQSLNgeMwnDWOulBFGY6SMdHIs1lprrWLggmH7y1/+svw/GT5/+tOfpnbfffep22+/fWZPc/7whz+UY971rndNbbnlllOPfvSjy5wiQBctWjS17777FnH5gx/8YDkxQqBst9125XjGsX2TzFe+8pUiIFZcccWybbzxxmVfI83EBwHxohe9qKS+PehBDyqi7yUveUkR8M3wvbztbW+beupTnzr14Ac/uDz62f4kSQZHpl0lSbIg6aYAtZNi2U6OlbqjTbF91is47bTTSqqJxeqkgik4HpdF5JL7UDCuDa/WvgrYbdKLpFBZC0TxulQh37MW0Ro66AIl5WqS0qySJEmQd7EkSbpCF6xxpJtFxzwX7SyQ1smx1hlgqFqBW03B0UcfXV166aWlfsD/DzzwwHJcMl4QjESGVdjVG1gg0xoUjauwE8QEKDFqDYxRFR7qKTbddNPS8tfm/+2uRm5dEp+r1aZDVaB7XrNjbDrtJUkynqT4SJJk3iiYPuecc4qBHCIkgqmKQT/84Q8XA2IU0R7UgnDNUCQsItIKz0Wz58dCb/H8To5leMK6E1deeWUpPLcWgsJbC6eJhFirIBlviBFNBhpXYbeGxw033FDWpBhVNE8QqVGgfcQRR5RoHiFFIPvdXMSK8o3baqutVn6/ySablMc61vxoPD7FR5KMLyk+kiSZNwQGj7zFz6yDQHjw3IP3luFsfQ7E/lFBZyIrRTdDR6OHPexhMz8tj+ei2fM9F/H8To6NRytXM+bqSMExxhZ3TCYLnnzfuY5WjZ3PRo3DDjusiGTrehx00EFFIFtjREe2WFNjNtZcc80S5alvunjp5kZ0WfCvEVGjxufMZ/2PJElGgxQfSZLMCx5aXlvRjxe/+MXFcGZExQrQz3jGM8qq6K961avKz6NWXiblSYTh97///cye+5Aq9cQnPnHmp+WJdKlIqaoT++L58znWStmNqEOBtqtJMgyIDquHi8IRBIF5q22u30X0rhOuuOKK6le/+lVZnLQVooOzRSOTJBkfUnwkSdIxhARvZ+Rny2WXMiLNincez3rWs0rRrHUqQJSMUvRj0aJF5f3cfvvtM3uW8r3vfa/68Y9/XH7fCh5atSLNohD2+V0YZ50ca80IQqRZvYkiZChKTpJh8NWvfrWI9TXWWGNmz33YJ7rXbu1HnQ984APVgx70oBLRaMYpp5xSIog2kaG51uBJkmS0SfGRJEnHiHBYAI/BYREvBacWRJMDbjGvX/7yl9U73/nO6tOf/vTMM5ZS79TE8JeqMayIiPfvc5x66qkze5bi5/h8IKbuuuuusshZsOKKK1YvfelLq0996lPV17/+9Zm9SyMZ6jP8zjHo5FiIFBEaipAD4yQlx3G6IiXJMIhIXUTo6sS+2Ro1NMPx119/fSm2b4z4uV6st9561fHHH19dddVVpTucLnB77713SflKkmRMmb7xJ0mSdMy0IT315Cc/uaxF8N///d9lfYJ///d/L7+78cYbp1ZYYYWp173udeVn+N2ll15a1jUYFdpZdMy6AvZZZ6BOJwukdXLsz372s6mnPOUpU3/1V381ddhhh0295z3vmVp77bXLe7DwXJL0gj/+8Y9lnZF2tp/+9KflOeeff36Zh9NCuPxc55prrim/W7Jkycye9rAYoOe5NrSD9+18mBYmU3fffffM3iRJxokUH0mSzIsPf/jDZdG08847b2bPfZx99tll4a+PfvSjM3umpg455JCycvgJJ5wwdfXVVxdj/v3vf38xtmEBtzqMjD//+c8zP/UHi4vNtehYK/GBdhdIQyfH3nPPPVOvec1rpv72b/+2LFBolesLLrhg5rdJ0j0xr9vZ1ltvvfKcyy67rPx8xhlnlJ/rxMr8jumE//f//t/U3/zN30z93//938yeubnqqqvK33KdSZJk/EjxkSRJx/z+97+fOuaYY8rq3LHac10o7LPPPlOPe9zjpn7yk5/M7Jma2mKLLYqRYbXnzTbbbGrDDTcsYmTTTTctURNYXfzb3/52+X8yfwg3HuWnP/3pRbx49LP97fDVr351apNNNpl6+MMfXjb/t68ZnRxLQK2xxhplHvz1X//11Kqrrjp15plnLic8k/5j5fQrrriire2mm24qz7n55puL0X/44YeXn+v4Hv3u85///MyeufnCF75QnrPnnnvO7GkPot3zOAqSJBk/UnwkSdIx0jCIiX/8x3+c+vGPf1z2hfjwu/XXX78YmcHvfve7qZVWWqlESkRDHPPDH/6wGA8EyCWXXDJ10EEHFUHyqEc9qggXqUn1CEQjDFa/T8N1efbYY49inG233XZT733ve5elk7Vj5H3zm98swkCK2Dve8Y6S6kW8PPKRjyy/q9PJsW9961vLe/Adn3766VOnnXba1Itf/OKyb//99585KhllfvWrXxUxu8EGG8zsuY+dd965/M4x7bLXXnuV7//WW2+d2dMel19+eXmeVMkkScaPFB9JknTMv/3bvxUjk8Hx29/+tuwLocDzqZ5h7733Lj/jlltuKTnaL3/5y2f2LEWtCPHxd3/3d1NbbbVV8YxL21httdVK2pa/k3TGnXfeWcZUHUudAw44oOz3+9nYZpttikisRy/uvffeEtXYdtttZ/YspZNjH/OYx0wtWrTofhEywnHllVcuAiYZD7beeuvynX/ta1+b2XPfd+53dTgYvvGNb5RIaSMcEtIKpV214uc///nM/+7jN7/5zdTznve8kib5/e9/f2ZvkiTjRHa7SpKkY6aNj2r6xl9NC5Blq3RrlYlpwVAWH1x33XXLz9CW1+9j9eJYXG/aEC6P1gTRpvc1r3lNWS/g3e9+d/XTn/60+sQnPlF+H1iXw+rGOlFtsMEG1Vve8pbS/rNdpo3d8mhBM12mdNGZND70oQ9xKlX77rvvzJ6l+Nl+v29FJ+s4dLrmg3UcdDOaFkAze5Z2M5oWmcsWYkxGn+OOO65aYYUVyvmno53ucOuss075Xv2ujgUJp8VF0w5YV199dVkjaLa1PaxivvHGG1dHHXVUde6551bHHHNMmWtf+tKXyv912kuSZPxI8ZEkScc84hGPqB71qEcVA+Jzn/tcMS7++Mc/lt/p80+cWMk4uOmmm0qLzNVWW6387PdgRDBaiA785je/KY/WEiBWfvSjH5WfQTAQHYwVwuRv/uZvqgsuuKDafPPNyyJl7eDvEiCvfe1ri2EcAolRPilYt4RRH2MdPOUpTynG/xe/+MWZPctDyLW7jkMnx0LLVGLypJNOqr797W9X3/rWt6q3v/3tpc2qFs3JeGD9Huf8c5/73Oroo4+u3vzmNxfngX1+1y7W9jBPrdzfis0226xcE84888xqjz32KE4JK8F/5CMfqQ499NCZo5IkGTuEP5IkSTpBipVOM1JppPKss846pVBcGpVi8tVXX33myKXFz7pIqQGRaoGo05g2PEpLWW17Ealb6hS87rSBUn7+xS9+UWpMpg2PqWkjp+xTpK5gdVrklNdvbFnbioMPPrjkpk9qStc//dM/lZS1ZkhX8ftWdNLNqNPOR//5n/9ZaoHsj+2hD31ox61ZkyRJkvEmIx9JknSMqMRuu+1WIhPXXntt9cpXvrJ6+MMfXv3gBz+oPv/5zxfvZCC1SrrUKqusUlbztrggj+evf/3r4hlfaaWVqmc/+9nl2EjdinSsWFDPYoW33HJL8baKuoAX//nPf37xnluVXGoXvH4reNmnRVNZpEw6SOOxfo7UrGZYafk973nPslXcRxGe4oc85CEzP90fKXK//e1vZ35anog8NXt+pNfF8zs5Fo6bFoklcnXxxReXqJXV73fZZZdqWqTMHJUkSZJMOik+kiSZFyEipNPsvvvu1aMf/eiSj00oyNEOPvnJT5YUp3/8x38sP0d61je+8Y0iVlZdddXyc+z/n//5n7JKutdTU+LvECkEDGHzvOc9r6RcyTk/4YQTSsqXmoEQBN5TnamZlKr//u//rk4++eQidqRdNcNzIyUMjeJEPcMhhxxSUopGFWPR6v2ptXnYwx4289PyRO1Fs+dHnU48v5NjCbr111+/fAf/8i//Um233XYl1U4a1uqrr17mz2yiKOke5yGHwaJFi4oTQLrjd7/73ZnftofvkdiXZkVMevRzM8HeybFJkiwsUnwkSTIvwshnoIeBj+c85zklqhAwMs8666xlxeaBHHEFp7zfCEP/7rvvru66665lNSM87D/+8Y9LYbIoy4033liKTQkQueA86aIozTzwdT7zmc+UyAdPe/39gbBRiH344YcXj/x//ud/lv3xGePz8dwrthWFGVUIJJ9HPUYjP/zhD6snPvGJMz8tj+fCcY3Evnh+J8eKSt1xxx3VtttuW34OGMBbb711mQdf//rXZ/Ym/eDCCy8sdRbGvJPajDr77LNPKSInYE4//fTSbMDPjc0N0MmxSZIsLFJ8JEnSFQx0Bk1QFyIQaeBx5fkEr2s8Mk5f8IIXlJ/jNRihCspDrKy44oolHUv0RDoPUaL4lCElEsKwvfTSS0vHnWZ4Xe+J8OCR14kp/pb3rgvThhtuWDrr6NB00EEHFXGiy85tt91WjovjefL/+q//uvrCF75Qfm6MjIwCjD3vS+F5HalpRJzft4Jw9L3ceuutM3vuwz6/i85WnRwbjQOaeb0j4hWPSX9429veVv3yl78s82KLLbaY2ds+GgxwImj6IG3O+XLOOedUBxxwQHEC1LvOdXJskiQLjxQfSZL0lLoQAcO/mZG+1157lbQraVR48IMfXB7DmI2ICF784hcX8fGxj32s/EyMEAJPeMITinjZaqutlombOiGERDIIiWc+85mlHiXej98TLmpMRD54h3Xwkh4ieuA5YTA71t8QZWmV4jUKMPh8B1qg1vGz/X4Pn0GEKaI8IPS0IP7Upz51v0iESMbll19efucYdHLsP/zDP5TH888/vzwGBMdFF11URGUIlaQ/EPpzRQdno5MWzp0cmyTJAmT6QpAkSTJwpg3Pmf/dn2mj/35dkvCb3/xmaqeddpqaFhxTb3rTm8pChrpV3XPPPVM/+clPZo5anmmRUR6/+MUvloUMd9lll/LztKAoj7Aq97RRttzie177W9/61sxPS/F6Vu+2MnOr9z8KLF68mOoqCw1aBTpWOLc/+M53vlP2Gdc6uoY94hGPKKuWn3jiiWWl+WnRVfY1dhTr5Fhd0Pw9ndEcd9JJJ5XuW/YdeeSRM0clg+DNb35zGXdzoF2sTD8ttpd1rKvzuMc9bmqjjTaa+amzY5MkWXik+EiSZCQJ4RAQJbvttltZDZsAWLRoUWnfS5A0M3Lq3HrrrWUFZkZvIzfeeOPU4x//+GJAn3rqqVPf/e53Z35zH/Fe7r777mI8hYhpfI+jgpbFb3vb20oLYitBe/Sz/UEr8YGvfOUrxUBcccUVy7bxxhuXfc1o99j/+7//m3rXu941tcoqqxRx8tCHPnRq1VVXLW2Vk8EyH/GhRXO7LZw7OTZJkoXHA/wzfRFKkiQZCeKS1Ji+FeiYdMMNN5TF8qaN/1LDoI7D/1ulQenq87SnPa10Wtpxxx1n9i79W/6OzluK2NWQ6Mrl//XaiHjt6667rqR46c504oknzvo3k6QfSAOsp8rNhnQ2XeMa0VhBDci0+LhfW+zZ0HlOqt73v//9mT338cIXvrD6yU9+UppFoJNjkyRZeORdM0mSkYIYaCY8CAWbldIJgLe+9a3VcccdV4QHmomAEDLauGoNq7i8TvwdBeZWT7bSttW311prrSJEGlEjoeajsUg+GRyM725auGrbvOmmm5b1Ymz+X1+JPei0NW27r9st6qSe9KQntbVZf6dXdNLCuZt2z0mSTD4pPpIkGQvqokTEoR1jM463doeCW92egv/6r/8qxdIiKXj84x9f1v8QVfHa9aLYEDYEideMzlrx+sng6KaF63/8x38UYfnlL3+5CM1jjz22+uY3v1m96EUvKr+r00lr2k5et1u0nL7iiiva2kTwekUnLZy7afecJMkCYCpJkmSCmRYS5fE5z3nO1LSRWv4P9RvThmvJQZ82NKe++tWvTv3oRz8q/58WG6VIG9MGVHlUfP6kJz1pat111y0/Twug8pgMDk0BpsVAKaSvc8ABB5T9jU0DGtlmm22mpoVo+a6De++9t9QDbbvttjN7lqLhgDoVzFUj0cnrjgLzqflw7njOTTfdNLNnKWqk7NcIIujk2CRJFh4Z+UiSZKKJqAUvtMiFRQvB+zotMErbXusQWOxOe1j/t4ZF1IZEdOOyyy4r3tztt9++/Dx9/SyPyeDopoWrVs3WcREpqbf15aWXuud3jgnabU3b6euOA2pKpBiq2wjabeGMTo5NkmThkeIjSZIFwQ477FDWlVCEC49y4i0YePPNN5ci8jXWWKM65ZRTqk984hMljQbECUPsjDPOqF72spcVgYIsNB88Fsgz7qutttrMnqU85SlPqR73uMeVJgStsLCdNCDfcSP2qVGYT41Gv16311jLRp2U7cYbbyz7TjvttPKzxzrS2NRB3XvvvTN7qmrllVcuNTAWDXTevO997ys/v+td7yqPz33uc2eO7OzYJEkWIMIfSZIkC5FIyZqLnXfeeerRj370cmtXJIOlmxau1o5xy5sWkTN77uMjH/lI+V3j+jLBbGlK3bzuIDnvvPPKe2m2TYu3maOWov2y/Y2ft50WzkEnxyZJsrBI112SJAuWiF5MXwtLkblCdsSjtJMlS5ZUl1xySXX88ceXwmPHJsNBylyrVCiRLF3NWhHpds2eH9Gw2Z7fin69bq+ZFtBl7jbbGrt4aUltf2MbXlHAN73pTaUjnGiPRz/b30gnxyZJsrBI8ZEkyYJHHrqOWCFG4lEaz3ve855qzz33LLUgcGwyHLpp4eq5aPZ8z8V8WsD263WTJEkmlRQfSZIkLbCeh5oQC7KBNzgZHt20cPVcOK6R2DefFrD9et0kSZJJJcVHkiTJHFhkDhn1GC7W9pASp/C8zve+972yhkt9VfpGdDDzPd56660ze+7DPr+rd6tql369bpIkyaSS4iNJkiQZC9pt4apWR4cyLWODFVdcsXQqs7Dk17/+9Zm9S6MTl19+efmdYzqlX6+bJEkyqTxgKvMIkiRJkjFBS+Szzz67CI0NNtigRBfe+973VosXL67OOuuscowC6qc+9anVTjvtVIqng3//93+vVl999WqFFVaoDjjggBKVUNPzk5/8pKTXaSgQaE171VVXlf9fd9111Wc+85nqjW98Y/XIRz6ybHvvvXf5HTp53SRJkoVOio8kSZJkbLBWyzve8Y7q3HPPre65555qpZVWKs0ADj744GWdlFqJDxAVjr3pppvKz9ZzOeGEE5Zbe8Lzdtlll5mf7o91RRo7RLX7ukmSJAudFB9JkiRJkiRJkgyErPlIkiRJkiRJkmQgpPhIkiRJkiRJkmQgpPhIkiRJkiRJkmQgpPhIkiRJkiRJkmQgpPhIkiRJkiRJkmQgpPhIkiRJkiRJkmQgpPhIkiRJkiRJkmQgpPhIkiRJkiRJkmQgpPhIkiRJkiRJkmQgpPhIkiRJkiRJkmQgpPhIkiRJkiRJkmQgpPhIkiRJkiRJkmQgpPhIkiRJkiRJkmQgpPhIkiRJkiRJkmQgpPhIkiRJkiRJkmQgpPhIkiRJkiRJkmQgpPhIkiRJkiRJkmQgpPhIkiRJkiRJkmQgpPhIkiRJkiRJkmQgpPhIkiRJkiRJkmQgpPhIkiRJkiRJkmQgpPhIkiRJkiRJkmQgpPhIkiRJkiRJkmQgpPhIkiRJkiRJkmQgpPhIkiRJkiRJkmQgpPhIkiRJkiRJkmQgpPhIkiRJkiRJkmQgpPhIkiRJkiRJkmQgpPhIkiRJkiRJkmQgpPhIkiRJkiRJkmQgpPhIkiRJkiRJkmQgpPhIkiRJkiRJkmQgpPhIkiRJkiRJkmQgpPhIkiRJkiRJkmQgpPhIkiRJkiRJkmQgpPhIkiRJkiRJkmQgpPhIkiRJkiRJkmQgpPhIkiRJkiRJkmQgpPhIkiRJkiRJkmQgpPhIkiRJkiRJkmQgpPhIkiRJkiRJkmQgpPhIkiRJkiRJkmQgpPhIkiRJkiRJkmQgpPhIkiRJkiRJkmQgpPhIkiRJkiRJkmQgpPhIkiRJkiRJkmQgpPhIkiRJkiRJkmQgpPhIkiRJkiRJkmQgpPhIkiRJkiRJkmQgpPhIkiRJkiRJkmQgpPhIkiRJkiRJkmQgpPhIkiRJkiRJkmQgpPhIkiRJkiRJkmQgpPhIkiRJkiRJkmQgpPhIkiRJkiRJkmQgpPhIkiRJkiRJkmQgpPhIkiRJkiRJkmQgpPhIkiRJkiRJkmQgpPhIkiRJkiRJkmQAVNX/D/F6rAnl9223AAAAAElFTkSuQmCC\" width=\"639.2025602824718\">"
      ],
      "text/plain": [
       "<IPython.core.display.HTML object>"
      ]
     },
     "metadata": {},
     "output_type": "display_data"
    },
    {
     "data": {
      "text/plain": [
       "Text(0.5, 0, 'imag')"
      ]
     },
     "execution_count": 93,
     "metadata": {},
     "output_type": "execute_result"
    }
   ],
   "source": [
    "fig = plt.figure()\n",
    "ax = fig.add_subplot(111, projection='3d')\n",
    "ax.plot(t[0:100], c.real[0:100], c.imag[0:100], '.')\n",
    "#각각 a랑 b를 쏙빼오는 것이다. complex vector를 분해하여 각각 다른 축으로 나타내는 것이다\n",
    "ax.set_xlabel('time (s)')\n",
    "ax.set_ylabel('real')   #이건 실수\n",
    "ax.set_zlabel('imag')   #이건 허수\n",
    "#3차원 함수. 1000개의 점이 찍힌다."
   ]
  },
  {
   "cell_type": "code",
   "execution_count": 97,
   "metadata": {},
   "outputs": [
    {
     "data": {
      "text/html": [
       "\n",
       "                <audio  controls=\"controls\" >\n",
       "                    <source src=\"data:audio/wav;base64,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\" type=\"audio/wav\" />\n",
       "                    Your browser does not support the audio element.\n",
       "                </audio>\n",
       "              "
      ],
      "text/plain": [
       "<IPython.lib.display.Audio object>"
      ]
     },
     "execution_count": 97,
     "metadata": {},
     "output_type": "execute_result"
    }
   ],
   "source": [
    "ipd.Audio(c.imag, rate=sr)"
   ]
  },
  {
   "cell_type": "code",
   "execution_count": null,
   "metadata": {},
   "outputs": [],
   "source": [
    "c.imag"
   ]
  },
  {
   "cell_type": "code",
   "execution_count": null,
   "metadata": {},
   "outputs": [],
   "source": []
  },
  {
   "cell_type": "code",
   "execution_count": null,
   "metadata": {},
   "outputs": [],
   "source": []
  }
 ],
 "metadata": {
  "kernelspec": {
   "display_name": "Python 3",
   "language": "python",
   "name": "python3"
  },
  "language_info": {
   "codemirror_mode": {
    "name": "ipython",
    "version": 3
   },
   "file_extension": ".py",
   "mimetype": "text/x-python",
   "name": "python",
   "nbconvert_exporter": "python",
   "pygments_lexer": "ipython3",
   "version": "3.7.3"
  }
 },
 "nbformat": 4,
 "nbformat_minor": 2
}
